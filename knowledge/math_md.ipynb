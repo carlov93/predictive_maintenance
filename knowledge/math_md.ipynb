{
 "cells": [
  {
   "cell_type": "markdown",
   "metadata": {},
   "source": [
    "## Markdown cell - Latex Script:\n",
    "For Latex documentation please check the wiki:\n",
    "http://en.wikibooks.org/wiki/LaTeX/Mathematics"
   ]
  },
  {
   "cell_type": "markdown",
   "metadata": {},
   "source": [
    "### Inline and Block Latex\n",
    "\n",
    "Inline Formula: $x=y$\n",
    "\n",
    "Block Formula: $$x=y$$"
   ]
  },
  {
   "cell_type": "markdown",
   "metadata": {},
   "source": [
    "```markdown\n",
    "$x=y$\n",
    "$$x=y$$\n",
    "```"
   ]
  },
  {
   "cell_type": "markdown",
   "metadata": {},
   "source": [
    "### Greek Letters\n",
    " - Alpha: $\\alpha A$\n",
    " - Beta: $\\beta B$\n",
    " - Gamma: $\\gamma \\Gamma$\n",
    " - Pi: $\\pi \\Pi \\varpi$\n",
    " - Phi: $\\phi \\varphi \\Phi$\n",
    " - Epsilon: $\\epsilon \\varepsilon$\n",
    " - Theta: $\\theta \\Theta \\vartheta$\n",
    " - Rho: $\\rho \\varrho$\n",
    " - sigma: $\\sigma \\Sigma \\varsigma$"
   ]
  },
  {
   "cell_type": "markdown",
   "metadata": {},
   "source": [
    "```markdown\n",
    "Alpha: $\\alpha A$\n",
    "Beta: $\\beta B$\n",
    "Gamma: $\\gamma \\Gamma$\n",
    "Pi: $\\pi \\Pi \\varpi$\n",
    "Phi: $\\phi \\varphi \\Phi$\n",
    "Epsilon: $\\epsilon \\varepsilon$\n",
    "Theta: $\\theta \\Theta \\vartheta$\n",
    "Rho: $\\rho \\varrho$\n",
    "sigma: $\\sigma \\Sigma \\varsigma$\n",
    "```"
   ]
  },
  {
   "cell_type": "markdown",
   "metadata": {},
   "source": [
    "### Basic operations\n",
    "\n",
    " - $y = x + 5$\n",
    " - $y = x - 5$\n",
    " - $y = 5x$\n",
    " - $y = x \\times 5$\n",
    " - $y = \\frac{x}{5}$\n",
    " - $y = x \\div 5$"
   ]
  },
  {
   "cell_type": "markdown",
   "metadata": {},
   "source": [
    "```markdown\n",
    "$y = x + 5$\n",
    "$y = x - 5$\n",
    "$y = 5x$\n",
    "$y = x \\times 5$\n",
    "$y = \\frac{x}{5}$\n",
    "$y = x \\div 5$\n",
    "```"
   ]
  },
  {
   "cell_type": "markdown",
   "metadata": {},
   "source": [
    "### Power and Index\n",
    "\n",
    " - $y_n = x_n - x_{n-1}$\n",
    " - $y = x^2 - 2x^{x-1}$"
   ]
  },
  {
   "cell_type": "markdown",
   "metadata": {},
   "source": [
    "```markdown\n",
    "$y_n = x_n - x_{n-1}$\n",
    "$y = x^2 - 2x^{x-1}$\n",
    "```"
   ]
  },
  {
   "cell_type": "markdown",
   "metadata": {},
   "source": [
    "### Fraction Type\n",
    "\n",
    " - $\\frac {1}{2}$"
   ]
  },
  {
   "cell_type": "markdown",
   "metadata": {},
   "source": [
    "```markdown\n",
    "$\\frac {1}{2}$\n",
    "```"
   ]
  },
  {
   "cell_type": "markdown",
   "metadata": {},
   "source": [
    "### Roots\n",
    "\n",
    " - $\\sqrt{\\frac{1}{3}}$\n",
    " - $\\sqrt[3]{2x}$"
   ]
  },
  {
   "cell_type": "markdown",
   "metadata": {},
   "source": [
    "```markdown\n",
    "$\\sqrt{\\frac{1}{3}}$\n",
    "$\\sqrt[3]{2x}$\n",
    "```"
   ]
  },
  {
   "cell_type": "markdown",
   "metadata": {},
   "source": [
    "### Sums and Integrals\n",
    "\n",
    " - Sum : $\\sum\\limits_{i=1}^{10} t_i$\n",
    " - Int : $\\int\\limits_a^b$\n",
    " - $\\int_0^\\infty \\sin(x^2)$"
   ]
  },
  {
   "cell_type": "markdown",
   "metadata": {},
   "source": [
    "```markdown\n",
    "$\\sum\\limits_{i=1}^{10} t_i$\n",
    "$\\int\\limits_a^b$\n",
    "$\\int_0^\\infty \\sin(x^2)$\n",
    "```"
   ]
  },
  {
   "cell_type": "code",
   "execution_count": null,
   "metadata": {},
   "outputs": [],
   "source": []
  }
 ],
 "metadata": {
  "kernelspec": {
   "display_name": "masterarbeit",
   "language": "python",
   "name": "masterarbeit"
  },
  "language_info": {
   "codemirror_mode": {
    "name": "ipython",
    "version": 3
   },
   "file_extension": ".py",
   "mimetype": "text/x-python",
   "name": "python",
   "nbconvert_exporter": "python",
   "pygments_lexer": "ipython3",
   "version": "3.6.8"
  }
 },
 "nbformat": 4,
 "nbformat_minor": 2
}
