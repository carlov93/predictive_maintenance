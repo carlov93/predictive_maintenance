{
 "metadata": {
  "name": "",
  "signature": "sha256:78f353cca5546806477ec3c905d6a8fbc320b0728d52aba857a8d6ef575084fe"
 },
 "nbformat": 3,
 "nbformat_minor": 0,
 "worksheets": [
  {
   "cells": [
    {
     "cell_type": "heading",
     "level": 1,
     "metadata": {
      "slideshow": {
       "slide_type": "-"
      }
     },
     "source": [
      "Tutorial Brief"
     ]
    },
    {
     "cell_type": "markdown",
     "metadata": {
      "slideshow": {
       "slide_type": "-"
      }
     },
     "source": [
      "This covers the basics of using markdown cells. You can think of markdown cells as documention for your code with extended features.\n",
      "####Finding Help:\n",
      "\n",
      "- http://ipython.org/ipython-doc/2/interactive/tutorial.html\n",
      "- http://nbviewer.ipython.org/"
     ]
    },
    {
     "cell_type": "markdown",
     "metadata": {
      "slideshow": {
       "slide_type": "-"
      }
     },
     "source": [
      "#Markdown Cells\n",
      "\n",
      "This cell can contain markdown language and render it.\n",
      "\n",
      "A good reference for markdown is in this link:\n",
      "https://github.com/adam-p/markdown-here/wiki/Markdown-Cheatsheet"
     ]
    },
    {
     "cell_type": "markdown",
     "metadata": {
      "slideshow": {
       "slide_type": "-"
      }
     },
     "source": [
      "###Most common markdown codes:\n",
      "\n",
      "#Head 1\n",
      "##Head 2\n",
      "###Head 3\n",
      "####Head 4\n",
      "\n",
      "Alt Heading 1\n",
      "============\n",
      "\n",
      "Alt Heading 2\n",
      "------------"
     ]
    },
    {
     "cell_type": "markdown",
     "metadata": {},
     "source": [
      "```markdown\n",
      "#Head 1\n",
      "##Head 2\n",
      "###Head 3\n",
      "####Head 4\n",
      "\n",
      "Alt Heading 1\n",
      "============\n",
      "\n",
      "Alt Heading 2\n",
      "------------\n",
      "```"
     ]
    },
    {
     "cell_type": "markdown",
     "metadata": {},
     "source": [
      "###Font Styles:\n",
      " - *Italic*\n",
      " - _Italic_\n",
      " - **Bold**\n",
      " - __Bold__\n",
      " - ~~Throught~~"
     ]
    },
    {
     "cell_type": "markdown",
     "metadata": {},
     "source": [
      "```markdown\n",
      "- *Italic*\n",
      "- _Italic_\n",
      "- **Bold**\n",
      "- __Bold__\n",
      "- ~~Throught~~\n",
      "```"
     ]
    },
    {
     "cell_type": "markdown",
     "metadata": {},
     "source": [
      "####Lists:\n",
      "\n",
      "- Item 1\n",
      "- Item 2\n",
      "\n",
      "####Numbered List:\n",
      "\n",
      "1. Item 1\n",
      "2. Item 2\n",
      " 1. Sub Item 1\n",
      " 2. Sub Item 2\n",
      "3. Item 3"
     ]
    },
    {
     "cell_type": "markdown",
     "metadata": {},
     "source": [
      "```markdown\n",
      "- Item 1\n",
      "- Item 2\n",
      "\n",
      "1. Item 1\n",
      "2. Item 2\n",
      " 1. Sub Item 1\n",
      " 2. Sub Item 2\n",
      "3. Item 3\n",
      "```"
     ]
    },
    {
     "cell_type": "markdown",
     "metadata": {},
     "source": [
      "####Links:\n",
      "\n",
      "https://www.google.com\n",
      "\n",
      "[Google](https://www.google.com)\n",
      "\n",
      "[Google with tooltip](https://www.google.com \"Google's Homepage\")"
     ]
    },
    {
     "cell_type": "markdown",
     "metadata": {},
     "source": [
      "```markdown\n",
      "https://www.google.com\n",
      "\n",
      "[Google](https://www.google.com)\n",
      "\n",
      "[Google with tooltip](https://www.google.com \"Google's Homepage\")\n",
      "```"
     ]
    },
    {
     "cell_type": "markdown",
     "metadata": {},
     "source": [
      "####Images:\n",
      "\n",
      "![Alt Text](http://www.google.com/logos/2012/turing-doodle-static.jpg \"Alan Turing's 100th Birthday\")"
     ]
    },
    {
     "cell_type": "markdown",
     "metadata": {},
     "source": [
      "```markdown\n",
      "![Alt Text](http://www.google.com/logos/2012/turing-doodle-static.jpg \"Alan Turing's 100th Birthday\")\n",
      "```"
     ]
    },
    {
     "cell_type": "markdown",
     "metadata": {},
     "source": [
      "####Code:\n",
      "\n",
      "```python\n",
      "s = \"Python syntax highlighting\"\n",
      "print s\n",
      "```\n",
      "\n",
      "```javascript\n",
      "var s = \"JavaScript syntax highlighting\";\n",
      "alert(s);\n",
      "```"
     ]
    },
    {
     "cell_type": "markdown",
     "metadata": {},
     "source": [
      "<pre>\n",
      "```python\n",
      "s = \"Python syntax highlighting\"\n",
      "print s\n",
      "```\n",
      "\n",
      "```javascript\n",
      "var s = \"JavaScript syntax highlighting\";\n",
      "alert(s);\n",
      "```\n",
      "</pre>"
     ]
    },
    {
     "cell_type": "markdown",
     "metadata": {},
     "source": [
      "####Tables:\n",
      "\n",
      "| Website   | URL           | Rank |\n",
      "| ---------:|:-------------:| ----:|\n",
      "| Google    | google.com    | 1    |\n",
      "| Facebook  | facebook.com  | 2    |\n",
      "| Youtube   | youtube.com   | 3    |"
     ]
    },
    {
     "cell_type": "markdown",
     "metadata": {},
     "source": [
      "```markdown\n",
      "| Website   | URL           | Rank |\n",
      "| ---------:|:-------------:| ----:|\n",
      "| Google    | google.com    | 1    |\n",
      "| Facebook  | facebook.com  | 2    |\n",
      "| Youtube   | youtube.com   | 3    |\n",
      "```"
     ]
    },
    {
     "cell_type": "markdown",
     "metadata": {},
     "source": [
      "####Quotes\n",
      "> ##Quote from some one else\n",
      "> *with multiple lines*"
     ]
    },
    {
     "cell_type": "markdown",
     "metadata": {},
     "source": [
      "```markdown\n",
      "> ##Quote from some one else\n",
      "> *with multiple lines*\n",
      "```"
     ]
    },
    {
     "cell_type": "markdown",
     "metadata": {},
     "source": [
      "####HTML\n",
      "<hr>\n",
      "<p>Almost any <strong>HTML</strong> code will render<br />Just <i>fine</i>.</p>"
     ]
    },
    {
     "cell_type": "markdown",
     "metadata": {},
     "source": [
      "```html\n",
      "<hr>\n",
      "<p>Almost any <strong>HTML</strong> code will render<br />Just <i>fine</i>.</p>\n",
      "```"
     ]
    },
    {
     "cell_type": "markdown",
     "metadata": {},
     "source": [
      "####Horizontal Lines\n",
      "---\n",
      "***\n",
      "___"
     ]
    },
    {
     "cell_type": "markdown",
     "metadata": {},
     "source": [
      "```markdown\n",
      "---\n",
      "***\n",
      "___\n",
      "```"
     ]
    },
    {
     "cell_type": "markdown",
     "metadata": {},
     "source": [
      "###Unicode\n",
      "\n",
      "If you can think of any symbol, it is available in unicode.\n",
      "\n",
      "- \u00a9\n",
      "- \u00ae\n",
      "- \u2122"
     ]
    },
    {
     "cell_type": "markdown",
     "metadata": {},
     "source": [
      "```markdown\n",
      "\u00a9\n",
      "\u00ae\n",
      "\u2122\n",
      "```"
     ]
    },
    {
     "cell_type": "markdown",
     "metadata": {},
     "source": [
      "##Markdown cell - Latex Script:\n",
      "\n",
      "Latex is a languange to represent mathematical formula using text.\n",
      "\n",
      "For Latex documentation please check the wiki:\n",
      "\n",
      "http://en.wikibooks.org/wiki/LaTeX/Mathematics"
     ]
    },
    {
     "cell_type": "markdown",
     "metadata": {},
     "source": [
      "###Inline and Block Latex\n",
      "\n",
      "Inline Formula: $x=y$\n",
      "\n",
      "Block Formula: $$x=y$$"
     ]
    },
    {
     "cell_type": "markdown",
     "metadata": {},
     "source": [
      "```markdown\n",
      "$x=y$\n",
      "$$x=y$$\n",
      "```"
     ]
    },
    {
     "cell_type": "markdown",
     "metadata": {},
     "source": [
      "###Greek Letters\n",
      " - Alpha: $\\alpha A$\n",
      " - Beta: $\\beta B$\n",
      " - Gamma: $\\gamma \\Gamma$\n",
      " - Pi: $\\pi \\Pi \\varpi$\n",
      " - Phi: $\\phi \\varphi \\Phi$\n",
      " - Epsilon: $\\epsilon \\varepsilon$\n",
      " - Theta: $\\theta \\Theta \\vartheta$\n",
      " - Rho: $\\rho \\varrho$\n",
      " - sigma: $\\sigma \\Sigma \\varsigma$"
     ]
    },
    {
     "cell_type": "markdown",
     "metadata": {},
     "source": [
      "```markdown\n",
      "Alpha: $\\alpha A$\n",
      "Beta: $\\beta B$\n",
      "Gamma: $\\gamma \\Gamma$\n",
      "Pi: $\\pi \\Pi \\varpi$\n",
      "Phi: $\\phi \\varphi \\Phi$\n",
      "Epsilon: $\\epsilon \\varepsilon$\n",
      "Theta: $\\theta \\Theta \\vartheta$\n",
      "Rho: $\\rho \\varrho$\n",
      "sigma: $\\sigma \\Sigma \\varsigma$\n",
      "```"
     ]
    },
    {
     "cell_type": "markdown",
     "metadata": {},
     "source": [
      "###Basic operations\n",
      "\n",
      " - $y = x + 5$\n",
      " - $y = x - 5$\n",
      " - $y = 5x$\n",
      " - $y = x \\times 5$\n",
      " - $y = \\frac{x}{5}$\n",
      " - $y = x \\div 5$"
     ]
    },
    {
     "cell_type": "markdown",
     "metadata": {},
     "source": [
      "```markdown\n",
      "$y = x + 5$\n",
      "$y = x - 5$\n",
      "$y = 5x$\n",
      "$y = x \\times 5$\n",
      "$y = \\frac{x}{5}$\n",
      "$y = x \\div 5$\n",
      "```"
     ]
    },
    {
     "cell_type": "markdown",
     "metadata": {},
     "source": [
      "###Power and Index\n",
      "\n",
      " - $y_n = x_n - x_{n-1}$\n",
      " - $y = x^2 - 2x^{x-1}$"
     ]
    },
    {
     "cell_type": "markdown",
     "metadata": {},
     "source": [
      "```markdown\n",
      "$y_n = x_n - x_{n-1}$\n",
      "$y = x^2 - 2x^{x-1}$\n",
      "```"
     ]
    },
    {
     "cell_type": "markdown",
     "metadata": {},
     "source": [
      "###Fraction Type\n",
      "\n",
      " - $^1/_2$\n",
      " - $\\frac {1}{2}$"
     ]
    },
    {
     "cell_type": "markdown",
     "metadata": {},
     "source": [
      "```markdown\n",
      "$^1/_2$\n",
      "$\\frac {1}{2}$\n",
      "```"
     ]
    },
    {
     "cell_type": "markdown",
     "metadata": {},
     "source": [
      "###Roots\n",
      "\n",
      " - $\\sqrt{\\frac{1}{3}}$\n",
      " - $\\sqrt[3]{2x}$"
     ]
    },
    {
     "cell_type": "markdown",
     "metadata": {},
     "source": [
      "```markdown\n",
      "$\\sqrt{\\frac{1}{3}}$\n",
      "$\\sqrt[3]{2x}$\n",
      "```"
     ]
    },
    {
     "cell_type": "markdown",
     "metadata": {},
     "source": [
      "###Sums and Integrals\n",
      "\n",
      " - Sum : $\\sum\\limits_{i=1}^{10} t_i$\n",
      " - Int : $\\int\\limits_a^b$\n",
      " - $\\int_0^\\infty \\sin(x^2)$"
     ]
    },
    {
     "cell_type": "markdown",
     "metadata": {},
     "source": [
      "```markdown\n",
      "$\\sum\\limits_{i=1}^{10} t_i$\n",
      "$\\int\\limits_a^b$\n",
      "$\\int_0^\\infty \\sin(x^2)$\n",
      "```"
     ]
    }
   ],
   "metadata": {}
  }
 ]
}