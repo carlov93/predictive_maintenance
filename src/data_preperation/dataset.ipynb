{
 "cells": [
  {
   "cell_type": "markdown",
   "metadata": {},
   "source": [
    "# CSVDataset Class\n",
    "Transformation according to Uber paper"
   ]
  },
  {
   "cell_type": "code",
   "execution_count": 1,
   "metadata": {},
   "outputs": [],
   "source": [
    "from torch.utils.data import Dataset\n",
    "\n",
    "class DataPreperator(Dataset):\n",
    "    def __init__(self, data, timesteps):\n",
    "        self.timesteps = timesteps\n",
    "        # All data are loaded from csv file and converted to an numpy array\n",
    "        self.data = data.values\n",
    "        # Data generator is initialized and constructes sliding windows with batch size 1\n",
    "        self.generator = TimeseriesGenerator(self.data, self.data, length=self.timesteps, batch_size=1)\n",
    "        \n",
    "    def construct_sliding_window(self, index):\n",
    "        \"\"\"\n",
    "        Method selectes next sliding window. \n",
    "        \"\"\"\n",
    "        input_data, target_data = self.generator[index]\n",
    "        return (input_data, target_data)\n",
    "        \n",
    "    \n",
    "    def log_transformation(self, input_data, target_data):\n",
    "        \"\"\"\n",
    "        Method rerforms log-transformation on the current sliding window.\n",
    "        \"\"\"\n",
    "        \n",
    "\n",
    "    def remove_trend(self, input_data):\n",
    "        \"\"\"\n",
    "        Method removes the trend of the current sliding_window. \n",
    "        \"\"\"\n",
    "       \n",
    "    \n",
    "    def create_torch_tensors(self):\n",
    "        \"\"\"\n",
    "        Method creates torch tensors out of numpy arrapys and provides correct dimensions \n",
    "        \"\"\"\n",
    "        x_torch = torch.from_numpy(x)\n",
    "        # Dimension 0 with size 1 (created by TimeseriesGenerator because of batch_size=1) gets removed \n",
    "        # because DataLoader will add a dimension 0 with size=batch_size as well\n",
    "        x_torch = torch.squeeze(x_torch) # torch.Size([1, timesteps, 7]) --> torch.Size([timesteps, 7])\n",
    "        y_torch = torch.from_numpy(y)\n",
    "        return (x_torch, y_torch) \n",
    "    \n",
    "    def __getitem__(self, index):\n",
    "        input_data, target_data = self.construct_sliding_window(index)\n",
    "        log_input_data, log_target_data = self.log_transformation(input_data, target_data)\n",
    "        log_removed_trend_input_data = self.remove_trend(log_input_data)\n",
    "        torch_input_data, torch_target_data = self.create_torch_tensors()\n",
    "        return (torch_input_data, torch_target_data)\n",
    "        \n",
    "    def __len__(self):\n",
    "        return len(self.generator)"
   ]
  },
  {
   "cell_type": "code",
   "execution_count": null,
   "metadata": {},
   "outputs": [],
   "source": []
  }
 ],
 "metadata": {
  "kernelspec": {
   "display_name": "masterarbeit",
   "language": "python",
   "name": "masterarbeit"
  },
  "language_info": {
   "codemirror_mode": {
    "name": "ipython",
    "version": 3
   },
   "file_extension": ".py",
   "mimetype": "text/x-python",
   "name": "python",
   "nbconvert_exporter": "python",
   "pygments_lexer": "ipython3",
   "version": "3.6.8"
  }
 },
 "nbformat": 4,
 "nbformat_minor": 2
}
