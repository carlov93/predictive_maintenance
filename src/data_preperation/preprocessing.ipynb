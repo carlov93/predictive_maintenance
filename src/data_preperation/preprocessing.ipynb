{
 "cells": [
  {
   "cell_type": "markdown",
   "metadata": {},
   "source": [
    "# Preprocessing train and validation data\n",
    "1. Remove time stemp \n",
    "2. Standardize features by removing the mean and scaling to unit variance"
   ]
  },
  {
   "cell_type": "markdown",
   "metadata": {},
   "source": [
    "Standardization assumes that your observations fit a Gaussian distribution (bell curve) with a well behaved mean and standard deviation. You can still standardize your time series data if this expectation is not met, but you may not get reliable results."
   ]
  },
  {
   "cell_type": "code",
   "execution_count": 37,
   "metadata": {},
   "outputs": [
    {
     "name": "stdout",
     "output_type": "stream",
     "text": [
      "[[-0.09399494 -0.05719355 -1.13262064 ... -1.39660712 -2.47808054\n",
      "  -4.48151619]\n",
      " [-0.03172814 -0.09314791 -1.13262064 ... -1.39660712 -2.48714601\n",
      "  -4.49317891]\n",
      " [-0.10207149  0.05066953 -1.13262064 ... -1.39660712 -2.4690148\n",
      "  -4.50484094]\n",
      " ...\n",
      " [ 1.120862    0.32147345  1.57537484 ...  1.72202408  1.12551744\n",
      "   0.12713231]\n",
      " [ 1.11930078  0.40376976  1.57424745 ...  1.72424849  1.10285325\n",
      "  -0.04224956]\n",
      " [ 1.18106615 -0.05864951  1.57274426 ...  1.72647291  1.17537875\n",
      "  -0.5225551 ]]\n",
      "[[ 0.06537673  0.07179244 -1.15944566 ... -1.43795374 -1.76788377\n",
      "  -2.27085767]\n",
      " [ 0.15561143 -0.10048015 -1.15944566 ... -1.43795374 -1.77163975\n",
      "  -2.27085767]\n",
      " [ 0.14197692 -0.13493467 -1.15944566 ... -1.43795374 -1.77915217\n",
      "  -2.25585691]\n",
      " ...\n",
      " [-0.21079766 -0.09801568  1.7261     ...  1.43420748 -1.67398243\n",
      "  -0.60088681]\n",
      " [-0.23643322 -0.09969055  1.7261     ...  1.43420748 -1.67773853\n",
      "  -0.63460171]\n",
      " [-0.25506495 -0.03245641  1.72650088 ...  1.43420748 -1.68900671\n",
      "  -0.63797905]]\n",
      "[[ 3.27657785e-01 -3.67273901e-02 -1.20092435e+00 ... -1.43686160e+00\n",
      "  -1.45531883e+00 -4.26324258e+00]\n",
      " [ 3.13873441e-01 -1.08341025e-03 -1.20092435e+00 ... -1.43686160e+00\n",
      "  -1.45220571e+00 -4.27598648e+00]\n",
      " [ 2.88403090e-01  7.02045494e-02 -1.20092435e+00 ... -1.43686160e+00\n",
      "  -1.46465824e+00 -4.24412678e+00]\n",
      " ...\n",
      " [-6.52201280e-01 -9.67260931e-03  1.40954120e+00 ...  1.30563608e+00\n",
      "  -1.45220571e+00 -1.52248938e+00]\n",
      " [-6.56355584e-01 -9.67260931e-03  1.40954120e+00 ...  1.30563608e+00\n",
      "  -1.44286630e+00 -1.52886119e+00]\n",
      " [-6.60962199e-01 -9.67260931e-03  1.40954120e+00 ...  1.30563608e+00\n",
      "  -1.44597938e+00 -1.52248938e+00]]\n"
     ]
    }
   ],
   "source": [
    "import pandas as pd\n",
    "from sklearn.preprocessing import StandardScaler\n",
    "\n",
    "new = [pd.read_csv(\"../../data/vega_shrinkwrapper_original/NewBlade00{}.csv\".format(str(i)), header=0) for i in range(1,4)]\n",
    "columns = [\"cut torque\", \"cut lag error\", \"cut position\",\n",
    "           \"cut speed\", \"film position\", \"film speed\", \n",
    "           \"film lag error\"]\n",
    "\n",
    "for i in range(3):\n",
    "    df = new[i]\n",
    "    df = df.drop(labels=\"Timestamp\", axis=1).values\n",
    "\n",
    "    scaler = StandardScaler()\n",
    "    scaler.fit(df)\n",
    "    np_array = scaler.transform(df)\n",
    "    df = pd.DataFrame(np_array, columns=columns)\n",
    "    df.to_csv(\"../../data/vega_shrinkwrapper_standardized/NewBlade00{}.csv\".format(str(i)), index=False)"
   ]
  },
  {
   "cell_type": "markdown",
   "metadata": {},
   "source": [
    "# New column name for orignal data"
   ]
  },
  {
   "cell_type": "code",
   "execution_count": 4,
   "metadata": {},
   "outputs": [],
   "source": [
    "import pandas as pd\n",
    "from sklearn.preprocessing import StandardScaler\n",
    "\n",
    "new = [pd.read_csv(\"../../data/vega_shrinkwrapper_original/WornBlade00{}.csv\".format(str(i)), header=0) for i in range(1,4)]\n",
    "columns = [\"time\", \"cut torque\", \"cut lag error\", \"cut position\",\n",
    "           \"cut speed\", \"film position\", \"film speed\", \n",
    "           \"film lag error\"]\n",
    "\n",
    "for i in range(3):\n",
    "    np_array = new[i].values\n",
    "    df = pd.DataFrame(np_array, columns=columns)\n",
    "    df.to_csv(\"../../data/vega_shrinkwrapper_original/WornBlade00{}_new_column_name.csv\".format(str(i)), index=False)"
   ]
  },
  {
   "cell_type": "code",
   "execution_count": null,
   "metadata": {},
   "outputs": [],
   "source": []
  }
 ],
 "metadata": {
  "kernelspec": {
   "display_name": "masterarbeit",
   "language": "python",
   "name": "masterarbeit"
  },
  "language_info": {
   "codemirror_mode": {
    "name": "ipython",
    "version": 3
   },
   "file_extension": ".py",
   "mimetype": "text/x-python",
   "name": "python",
   "nbconvert_exporter": "python",
   "pygments_lexer": "ipython3",
   "version": "3.6.8"
  }
 },
 "nbformat": 4,
 "nbformat_minor": 2
}
