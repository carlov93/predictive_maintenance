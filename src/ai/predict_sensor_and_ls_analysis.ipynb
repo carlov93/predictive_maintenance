{
 "cells": [
  {
   "cell_type": "code",
   "execution_count": 1,
   "metadata": {},
   "outputs": [],
   "source": [
    "import torch\n",
    "import torch.nn as nn\n",
    "from torch.utils.data import DataLoader\n",
    "import torch.optim as optim\n",
    "import pandas as pd\n",
    "import numpy as np\n",
    "\n",
    "# own Modules \n",
    "from models_sub_net_ls import LstmMse_LatentSpace, LstmMle_LatentSpace, AnalysisLayer\n",
    "from data_preperator import DataPreperatorPrediction\n",
    "from data_set import DataSet\n",
    "from predictor import PredictorMse, PredictorMle, PredictorMseLatentSpaceAnalyser, PredictorMleLatentSpaceAnalyser"
   ]
  },
  {
   "cell_type": "markdown",
   "metadata": {},
   "source": [
    "## Take care of these things before training:\n",
    "- Select correct path and define droped_features\n",
    "- Change parameter of model\n",
    "- Change filed_location"
   ]
  },
  {
   "cell_type": "markdown",
   "metadata": {},
   "source": [
    "## Parameters phm data"
   ]
  },
  {
   "cell_type": "code",
   "execution_count": 11,
   "metadata": {},
   "outputs": [],
   "source": [
    "param = {\n",
    "    \"data\" : {\n",
    "        \"path\" : '../../data/phm_data_challenge/01_M01_DC_prediction_1.csv',\n",
    "        \"droped_feature\" : [\"stage\", \"Lot\", \"runnum\", \"recipe\", \"recipe_step\",\n",
    "                            \"up time\", \"ongoing time\", \n",
    "                            \"ETCHSOURCEUSAGE\", \"ETCHAUXSOURCETIMER\", \n",
    "                            \"ETCHAUX2SOURCETIMER\", \"FIXTURESHUTTERPOSITION\"\n",
    "                           ],\n",
    "        \"features_not_to_scale\": []\n",
    "    },\n",
    "    \"model\" : {\n",
    "        \"path\" : \"../../models/MLE_model/phm_dataFold xx_InputSize13_LayerLstm1_HiddenLstm15_HiddenFc75_Seq25.pt\",\n",
    "        \"input_size\" : 13,\n",
    "        \"n_hidden_lstm\" : 15,\n",
    "        \"sequence_size\" : 100,\n",
    "        \"batch_size\" : 50,\n",
    "        \"lstm_layer\" : 1,\n",
    "        \"n_hidden_fc_pred\": 75,\n",
    "        \"n_hidden_fc_ls\": 15,\n",
    "        \"dropout_rate_lstm\": 0.0,\n",
    "        \"dropout_rate_fc\": 0.2,\n",
    "        \"K\":1\n",
    "    },\n",
    "        \"anomaly_detection\" : {\n",
    "        \"threshold_anomaly\" : 0.3,\n",
    "        \"smooth_rate\" : 0.05,\n",
    "        \"no_standard_deviation\" : 2\n",
    "    },\n",
    "    \"results\": {\n",
    "        \"path\" : \"../visualisation/files/prediction/MLE/phm_mle_1.csv\",\n",
    "    }\n",
    "}"
   ]
  },
  {
   "cell_type": "markdown",
   "metadata": {},
   "source": [
    "## Parameters artifical data"
   ]
  },
  {
   "cell_type": "code",
   "execution_count": 56,
   "metadata": {},
   "outputs": [],
   "source": [
    "param = {\n",
    "    \"data\" : {\n",
    "        \"path\" : '../../data/artifical_signals/MLE_analysis/artifical_2_signals_errors.csv',\n",
    "        \"droped_feature\" : [\"anomaly\"\n",
    "                           ],\n",
    "        \"features_not_to_scale\": []\n",
    "    },\n",
    "    \"model\" : {\n",
    "        \"path\" : \"../../models/MLE_latent_space/artifical_2_signals_InputSize2_LayerLstm1_HiddenLstm15_HiddenFc_pred75_HiddenFc_ls75_Seq25.pt\",\n",
    "        \"input_size\" : 2,\n",
    "        \"n_hidden_lstm\" : 15,\n",
    "        \"sequence_size\" : 100,\n",
    "        \"batch_size\" : 50,\n",
    "        \"lstm_layer\" : 1,\n",
    "        \"n_hidden_fc_pred\": 75,\n",
    "        \"n_hidden_fc_ls\": 75,\n",
    "        \"dropout_rate_lstm\": 0.0,\n",
    "        \"dropout_rate_fc\": 0.2,\n",
    "        \"K\":1\n",
    "    },\n",
    "        \"anomaly_detection\" : {\n",
    "        \"threshold_anomaly\" : 0.3,\n",
    "        \"smooth_rate\" : 0.05,\n",
    "        \"no_standard_deviation\" : 2\n",
    "    },\n",
    "    \"results\": {\n",
    "        \"path\" : \"../visualisation/files/prediction/MLE_LS/artifical_2_signals_ls_75.csv\",\n",
    "    }\n",
    "}"
   ]
  },
  {
   "cell_type": "markdown",
   "metadata": {},
   "source": [
    "## Parameters cpps data"
   ]
  },
  {
   "cell_type": "code",
   "execution_count": 2,
   "metadata": {},
   "outputs": [],
   "source": [
    "param = {\n",
    "    \"data\" : {\n",
    "        \"path\" : '../../data/cpps_data/cpps_data_predictive_maintenance.csv',\n",
    "        \"droped_feature\" : [\"status\"\n",
    "                           ],\n",
    "        \"features_not_to_scale\": []\n",
    "    },\n",
    "    \"model\" : {\n",
    "        \"path\" : \"../../models/MLE_latent_space/artifical_2_signals_InputSize2_LayerLstm1_HiddenLstm15_HiddenFc_pred75_HiddenFc_ls7_Seq25.pt\",\n",
    "        \"input_size\" : 10,\n",
    "        \"n_hidden_lstm\" : 15,\n",
    "        \"sequence_size\" : 100,\n",
    "        \"batch_size\" : 50,\n",
    "        \"lstm_layer\" : 1,\n",
    "        \"n_hidden_fc_pred\": 75,\n",
    "        \"n_hidden_fc_ls\": 7,\n",
    "        \"dropout_rate_lstm\": 0.0,\n",
    "        \"dropout_rate_fc\": 0.2,\n",
    "        \"K\":1\n",
    "    },\n",
    "        \"anomaly_detection\" : {\n",
    "        \"threshold_anomaly\" : 0.3,\n",
    "        \"smooth_rate\" : 0.05,\n",
    "        \"no_standard_deviation\" : 2\n",
    "    },\n",
    "    \"results\": {\n",
    "        \"path\" : \"../visualisation/files/prediction/MLE_LS/cpps_data.csv\",\n",
    "    }\n",
    "}"
   ]
  },
  {
   "cell_type": "markdown",
   "metadata": {},
   "source": [
    "## Standarize Data\n",
    "First we have to apply normalisation to data. That is because the model works on the representation given by its input vectors. The scale of those numbers is part of the representation.\n",
    "We should apply the exact same scaling as for training data. That means storing the scale and offset used with your training data, and using that again. <br>\n",
    "__The mean and variance for each feature of the training data with which the model was trained (stake: 0.75):__"
   ]
  },
  {
   "cell_type": "markdown",
   "metadata": {},
   "source": [
    "### Mean and Variance from phm Dataset\n",
    "droped features=\"stage\", \"Lot\", \"runnum\", \"recipe\", \"recipe_step\",\n",
    "                            \"up time\", \"ongoing time\", \n",
    "                            \"ETCHSOURCEUSAGE\", \"ETCHAUXSOURCETIMER\", \n",
    "                            \"ETCHAUX2SOURCETIMER\", \"FIXTURESHUTTERPOSITION\""
   ]
  },
  {
   "cell_type": "code",
   "execution_count": 55,
   "metadata": {},
   "outputs": [],
   "source": [
    "mean_training_data =[ 0.21683119,  0.32121513,  0.31925213,  0.20097501,  0.45164471,  0.22914814,\n",
    "  0.11604865,  0.27421592,  0.24393222, -0.13974937, -0.09739598, -0.07313758,\n",
    "  0.18198089]\n",
    "var_training_data =[0.75261122, 0.90482986, 0.91105327, 0.75504036, 1.07026701, 0.76708319,\n",
    " 0.35172769, 0.83004988, 0.76964675, 0.57386915, 0.45912309, 0.2955709,\n",
    " 1.61493449]"
   ]
  },
  {
   "cell_type": "markdown",
   "metadata": {},
   "source": [
    "### Mean and Variance from artifical Dataset"
   ]
  },
  {
   "cell_type": "code",
   "execution_count": 57,
   "metadata": {},
   "outputs": [],
   "source": [
    "mean_training_data= [-0.00393712, -0.01294209]\n",
    "var_training_data = [49.18936568,  0.34270256]"
   ]
  },
  {
   "cell_type": "markdown",
   "metadata": {},
   "source": [
    "### Mean and Variance form cpps Dataset"
   ]
  },
  {
   "cell_type": "code",
   "execution_count": 19,
   "metadata": {},
   "outputs": [],
   "source": [
    "mean_training_data = [0.05330162, 0.03075699, -0.05636937, 0.0274802, 0.06536314, -0.04620979,-0.0745559, \n",
    "                      -0.08149049, -0.05318843, 0.11105582]\n",
    "var_training_data = [0.02905961, 0.04473883, 0.05254194, 0.05198144, 0.07337494, 0.0666981, 0.07593811, \n",
    "                     0.0393896, 0.08028017, 0.0594492]"
   ]
  },
  {
   "cell_type": "markdown",
   "metadata": {},
   "source": [
    "## Create DataLoader"
   ]
  },
  {
   "cell_type": "code",
   "execution_count": 58,
   "metadata": {},
   "outputs": [
    {
     "name": "stdout",
     "output_type": "stream",
     "text": [
      "(12000, 3)\n"
     ]
    }
   ],
   "source": [
    "data_preperator = DataPreperatorPrediction(path=param['data']['path'], \n",
    "                                           ignored_features = param[\"data\"][\"droped_feature\"],\n",
    "                                           mean_training_data=mean_training_data, \n",
    "                                           var_training_data=var_training_data, \n",
    "                                           first_order_difference=False \n",
    "                                          )                                  \n",
    "preprocessed_data = data_preperator.prepare_data()\n",
    "print(preprocessed_data.shape)\n",
    "\n",
    "dataset = DataSet(preprocessed_data, \n",
    "                  timesteps=param[\"model\"][\"sequence_size\"])\n",
    "data_loader = DataLoader(dataset, \n",
    "                         batch_size=param['model']['batch_size'], \n",
    "                         num_workers=0, \n",
    "                         shuffle=False, \n",
    "                         drop_last=True)"
   ]
  },
  {
   "cell_type": "code",
   "execution_count": 59,
   "metadata": {},
   "outputs": [
    {
     "name": "stdout",
     "output_type": "stream",
     "text": [
      "Data of batch: 0\n",
      "Size of input data: torch.Size([50, 100, 3])\n",
      "Size of target data: torch.Size([50, 3])\n",
      "Data of batch: 1\n",
      "Size of input data: torch.Size([50, 100, 3])\n",
      "Size of target data: torch.Size([50, 3])\n"
     ]
    }
   ],
   "source": [
    "for batch_idx, data in enumerate(data_loader):\n",
    "    x,y = data\n",
    "    print('Data of batch: {}'.format(batch_idx))\n",
    "    print(\"Size of input data: {}\".format(x.size()))\n",
    "    print(\"Size of target data: {}\".format(y.size()))\n",
    "    if batch_idx >=1: break"
   ]
  },
  {
   "cell_type": "markdown",
   "metadata": {},
   "source": [
    "## Define Model and load Parameters of trained model\n",
    "### Model for MSE and Latent Space Analysis"
   ]
  },
  {
   "cell_type": "code",
   "execution_count": null,
   "metadata": {},
   "outputs": [],
   "source": [
    "model = LstmMse_LatentSpace(batch_size=param['model']['batch_size'], \n",
    "                            input_dim=param['model']['input_size'], \n",
    "                            n_hidden_lstm=param['model']['n_hidden_lstm'], \n",
    "                            n_layers=param['model']['lstm_layer'],\n",
    "                            dropout_rate_lstm= param['model']['dropout_rate_lstm'],\n",
    "                            dropout_rate_fc= param['model']['dropout_rate_fc'],\n",
    "                            n_hidden_fc_prediction=param['model']['n_hidden_fc_pred'], \n",
    "                            n_hidden_fc_ls_analysis=param['model']['n_hidden_fc_ls']      \n",
    "                            )\n",
    "\n",
    "checkpoint = torch.load(param[\"model\"][\"path\"])\n",
    "model.load_state_dict(checkpoint['model_state_dict'])"
   ]
  },
  {
   "cell_type": "markdown",
   "metadata": {},
   "source": [
    "### Model for MLE and Latent Space Analysis"
   ]
  },
  {
   "cell_type": "code",
   "execution_count": 60,
   "metadata": {},
   "outputs": [
    {
     "data": {
      "text/plain": [
       "IncompatibleKeys(missing_keys=[], unexpected_keys=[])"
      ]
     },
     "execution_count": 60,
     "metadata": {},
     "output_type": "execute_result"
    }
   ],
   "source": [
    "model = LstmMle_LatentSpace(batch_size=param['model']['batch_size'], \n",
    "                            input_dim=param['model']['input_size'], \n",
    "                            n_hidden_lstm=param['model']['n_hidden_lstm'], \n",
    "                            n_layers=param['model']['lstm_layer'],\n",
    "                            dropout_rate_lstm= param['model']['dropout_rate_lstm'],\n",
    "                            dropout_rate_fc= param['model']['dropout_rate_fc'],\n",
    "                            n_hidden_fc_prediction=param['model']['n_hidden_fc_pred'], \n",
    "                            n_hidden_fc_ls_analysis=param['model']['n_hidden_fc_ls'],\n",
    "                            K = param['model']['K']\n",
    "                            )\n",
    "\n",
    "checkpoint = torch.load(param[\"model\"][\"path\"])\n",
    "model.load_state_dict(checkpoint['model_state_dict'])"
   ]
  },
  {
   "cell_type": "markdown",
   "metadata": {},
   "source": [
    "## Initialize Predictor\n",
    "### Predictor for MSE Model and Latent Space Analysis"
   ]
  },
  {
   "cell_type": "code",
   "execution_count": null,
   "metadata": {},
   "outputs": [],
   "source": [
    "predictor = PredictorMseLatentSpaceAnalyser(model=model,\n",
    "                                            path_data=param[\"data\"][\"path\"],\n",
    "                                            columns_to_ignore=param[\"data\"][\"droped_feature\"],\n",
    "                                            threshold_anomaly=param[\"anomaly_detection\"][\"threshold_anomaly\"]\n",
    "                                            )"
   ]
  },
  {
   "cell_type": "markdown",
   "metadata": {},
   "source": [
    "### Predictor for MLE Model and Latent Space Analysis"
   ]
  },
  {
   "cell_type": "code",
   "execution_count": 61,
   "metadata": {},
   "outputs": [],
   "source": [
    "predictor = PredictorMleLatentSpaceAnalyser(model=model,\n",
    "                                            path_data=param[\"data\"][\"path\"],\n",
    "                                            columns_to_ignore=param[\"data\"][\"droped_feature\"],\n",
    "                                            threshold_anomaly=param[\"anomaly_detection\"][\"threshold_anomaly\"],\n",
    "                                            no_standard_deviation=param[\"anomaly_detection\"][\"no_standard_deviation\"]\n",
    "                                            )"
   ]
  },
  {
   "cell_type": "markdown",
   "metadata": {},
   "source": [
    "## Predict"
   ]
  },
  {
   "cell_type": "code",
   "execution_count": 62,
   "metadata": {},
   "outputs": [
    {
     "name": "stdout",
     "output_type": "stream",
     "text": [
      "Start predicting.\n",
      "Current status: 0 samples are predicted.\n",
      "Current status: 5000 samples are predicted.\n",
      "Current status: 10000 samples are predicted.\n",
      "End of prediction.\n"
     ]
    }
   ],
   "source": [
    "print(\"Start predicting.\")\n",
    "# Write header\n",
    "with open(param[\"results\"][\"path\"], \"a+\") as file:\n",
    "            [file.write(column+\";\") for column in predictor.create_column_names_result()]\n",
    "            file.write(\"\\n\")\n",
    "\n",
    "for batch_number, (input_data, target_data) in enumerate(data_loader):\n",
    "    # Predict sensor values in mini-batches\n",
    "    batch_results = predictor.predict(input_data, target_data)\n",
    "    \n",
    "    # Write results to csv file\n",
    "    with open(param[\"results\"][\"path\"], \"a\") as file:\n",
    "        for batch in batch_results:\n",
    "            # Each result component of a singe prediction (ID, target, prediction, loss, latent space ...) is stored in lists\n",
    "            # thus we have to unpack the list and seperate values with ;\n",
    "            for value in batch:\n",
    "                file.write(str(value)+\";\")\n",
    "            file.write(\"\\n\")\n",
    "\n",
    "    # Print status \n",
    "    if (batch_number*param['model']['batch_size'])%5000 == 0:\n",
    "        print(\"Current status: \" + str(param['model']['batch_size']*batch_number) + \" samples are predicted.\")\n",
    "\n",
    "print(\"End of prediction.\")"
   ]
  },
  {
   "cell_type": "markdown",
   "metadata": {},
   "source": [
    "## Tag anomalous samples"
   ]
  },
  {
   "cell_type": "code",
   "execution_count": 63,
   "metadata": {},
   "outputs": [],
   "source": [
    "results_prediction = pd.read_csv(param[\"results\"][\"path\"], sep=\";\")\n",
    "# Values of column \"loss\" are exponentially smoothed and stored in a new column \"smoothed loss\"\n",
    "# New column \"anomaly\" is created and sample is taged with 1 if anomalous behaviour (if smoothed loss is over threshold)\n",
    "results = predictor.detect_anomaly(results_prediction, param[\"anomaly_detection\"][\"smooth_rate\"])"
   ]
  },
  {
   "cell_type": "code",
   "execution_count": 64,
   "metadata": {},
   "outputs": [
    {
     "data": {
      "text/html": [
       "<div>\n",
       "<style scoped>\n",
       "    .dataframe tbody tr th:only-of-type {\n",
       "        vertical-align: middle;\n",
       "    }\n",
       "\n",
       "    .dataframe tbody tr th {\n",
       "        vertical-align: top;\n",
       "    }\n",
       "\n",
       "    .dataframe thead th {\n",
       "        text-align: right;\n",
       "    }\n",
       "</style>\n",
       "<table border=\"1\" class=\"dataframe\">\n",
       "  <thead>\n",
       "    <tr style=\"text-align: right;\">\n",
       "      <th></th>\n",
       "      <th>ID</th>\n",
       "      <th>sine_signal target</th>\n",
       "      <th>sawtooth_signal target</th>\n",
       "      <th>sine_signal mu predicted</th>\n",
       "      <th>sawtooth_signal mu predicted</th>\n",
       "      <th>sine_signal sigma predicted</th>\n",
       "      <th>sawtooth_signal sigma predicted</th>\n",
       "      <th>mean normalised residual</th>\n",
       "      <th>sine_signal normalised residual</th>\n",
       "      <th>sawtooth_signal normalised residual</th>\n",
       "      <th>...</th>\n",
       "      <th>latent_space_67</th>\n",
       "      <th>latent_space_68</th>\n",
       "      <th>latent_space_69</th>\n",
       "      <th>latent_space_70</th>\n",
       "      <th>latent_space_71</th>\n",
       "      <th>latent_space_72</th>\n",
       "      <th>latent_space_73</th>\n",
       "      <th>latent_space_74</th>\n",
       "      <th>Anomaly Sensor_1</th>\n",
       "      <th>Anomaly Sensor_2</th>\n",
       "    </tr>\n",
       "  </thead>\n",
       "  <tbody>\n",
       "    <tr>\n",
       "      <th>0</th>\n",
       "      <td>100.0</td>\n",
       "      <td>0.129967</td>\n",
       "      <td>-1.543861</td>\n",
       "      <td>0.083884</td>\n",
       "      <td>1.622111</td>\n",
       "      <td>0.086175</td>\n",
       "      <td>0.267492</td>\n",
       "      <td>-5.650500</td>\n",
       "      <td>0.534762</td>\n",
       "      <td>-11.835762</td>\n",
       "      <td>...</td>\n",
       "      <td>0.081441</td>\n",
       "      <td>-0.358196</td>\n",
       "      <td>-0.039313</td>\n",
       "      <td>-0.014239</td>\n",
       "      <td>-0.030035</td>\n",
       "      <td>-0.161342</td>\n",
       "      <td>0.031424</td>\n",
       "      <td>0.038475</td>\n",
       "      <td>0</td>\n",
       "      <td>1</td>\n",
       "    </tr>\n",
       "    <tr>\n",
       "      <th>1</th>\n",
       "      <td>101.0</td>\n",
       "      <td>0.132623</td>\n",
       "      <td>-1.655911</td>\n",
       "      <td>0.180402</td>\n",
       "      <td>0.075493</td>\n",
       "      <td>0.101276</td>\n",
       "      <td>0.202130</td>\n",
       "      <td>-4.518785</td>\n",
       "      <td>-0.471771</td>\n",
       "      <td>-8.565799</td>\n",
       "      <td>...</td>\n",
       "      <td>0.121560</td>\n",
       "      <td>-0.013288</td>\n",
       "      <td>-0.018055</td>\n",
       "      <td>-0.053272</td>\n",
       "      <td>-0.009274</td>\n",
       "      <td>0.061989</td>\n",
       "      <td>0.067992</td>\n",
       "      <td>-0.010285</td>\n",
       "      <td>0</td>\n",
       "      <td>1</td>\n",
       "    </tr>\n",
       "    <tr>\n",
       "      <th>2</th>\n",
       "      <td>102.0</td>\n",
       "      <td>0.378911</td>\n",
       "      <td>-1.290781</td>\n",
       "      <td>0.373664</td>\n",
       "      <td>-0.860275</td>\n",
       "      <td>0.099484</td>\n",
       "      <td>0.178910</td>\n",
       "      <td>-1.176765</td>\n",
       "      <td>0.052745</td>\n",
       "      <td>-2.406275</td>\n",
       "      <td>...</td>\n",
       "      <td>0.144673</td>\n",
       "      <td>0.181315</td>\n",
       "      <td>-0.036865</td>\n",
       "      <td>-0.088247</td>\n",
       "      <td>0.047893</td>\n",
       "      <td>0.139528</td>\n",
       "      <td>0.092529</td>\n",
       "      <td>-0.034149</td>\n",
       "      <td>0</td>\n",
       "      <td>1</td>\n",
       "    </tr>\n",
       "    <tr>\n",
       "      <th>3</th>\n",
       "      <td>103.0</td>\n",
       "      <td>0.383205</td>\n",
       "      <td>-1.221328</td>\n",
       "      <td>0.609203</td>\n",
       "      <td>-1.005600</td>\n",
       "      <td>0.095276</td>\n",
       "      <td>0.188020</td>\n",
       "      <td>-1.759698</td>\n",
       "      <td>-2.372028</td>\n",
       "      <td>-1.147367</td>\n",
       "      <td>...</td>\n",
       "      <td>0.145679</td>\n",
       "      <td>0.202631</td>\n",
       "      <td>-0.082377</td>\n",
       "      <td>-0.126975</td>\n",
       "      <td>0.115468</td>\n",
       "      <td>0.146374</td>\n",
       "      <td>0.131391</td>\n",
       "      <td>-0.075028</td>\n",
       "      <td>1</td>\n",
       "      <td>0</td>\n",
       "    </tr>\n",
       "    <tr>\n",
       "      <th>4</th>\n",
       "      <td>104.0</td>\n",
       "      <td>0.658533</td>\n",
       "      <td>-0.668286</td>\n",
       "      <td>0.769703</td>\n",
       "      <td>-0.929770</td>\n",
       "      <td>0.092253</td>\n",
       "      <td>0.190028</td>\n",
       "      <td>0.085482</td>\n",
       "      <td>-1.205063</td>\n",
       "      <td>1.376027</td>\n",
       "      <td>...</td>\n",
       "      <td>0.154258</td>\n",
       "      <td>0.184740</td>\n",
       "      <td>-0.114693</td>\n",
       "      <td>-0.161856</td>\n",
       "      <td>0.150108</td>\n",
       "      <td>0.141158</td>\n",
       "      <td>0.158579</td>\n",
       "      <td>-0.097105</td>\n",
       "      <td>0</td>\n",
       "      <td>0</td>\n",
       "    </tr>\n",
       "  </tbody>\n",
       "</table>\n",
       "<p>5 rows × 87 columns</p>\n",
       "</div>"
      ],
      "text/plain": [
       "      ID  sine_signal target  sawtooth_signal target  \\\n",
       "0  100.0            0.129967               -1.543861   \n",
       "1  101.0            0.132623               -1.655911   \n",
       "2  102.0            0.378911               -1.290781   \n",
       "3  103.0            0.383205               -1.221328   \n",
       "4  104.0            0.658533               -0.668286   \n",
       "\n",
       "   sine_signal mu predicted  sawtooth_signal mu predicted  \\\n",
       "0                  0.083884                      1.622111   \n",
       "1                  0.180402                      0.075493   \n",
       "2                  0.373664                     -0.860275   \n",
       "3                  0.609203                     -1.005600   \n",
       "4                  0.769703                     -0.929770   \n",
       "\n",
       "   sine_signal sigma predicted  sawtooth_signal sigma predicted  \\\n",
       "0                     0.086175                         0.267492   \n",
       "1                     0.101276                         0.202130   \n",
       "2                     0.099484                         0.178910   \n",
       "3                     0.095276                         0.188020   \n",
       "4                     0.092253                         0.190028   \n",
       "\n",
       "   mean normalised residual  sine_signal normalised residual  \\\n",
       "0                 -5.650500                         0.534762   \n",
       "1                 -4.518785                        -0.471771   \n",
       "2                 -1.176765                         0.052745   \n",
       "3                 -1.759698                        -2.372028   \n",
       "4                  0.085482                        -1.205063   \n",
       "\n",
       "   sawtooth_signal normalised residual  ...  latent_space_67  latent_space_68  \\\n",
       "0                           -11.835762  ...         0.081441        -0.358196   \n",
       "1                            -8.565799  ...         0.121560        -0.013288   \n",
       "2                            -2.406275  ...         0.144673         0.181315   \n",
       "3                            -1.147367  ...         0.145679         0.202631   \n",
       "4                             1.376027  ...         0.154258         0.184740   \n",
       "\n",
       "   latent_space_69  latent_space_70  latent_space_71  latent_space_72  \\\n",
       "0        -0.039313        -0.014239        -0.030035        -0.161342   \n",
       "1        -0.018055        -0.053272        -0.009274         0.061989   \n",
       "2        -0.036865        -0.088247         0.047893         0.139528   \n",
       "3        -0.082377        -0.126975         0.115468         0.146374   \n",
       "4        -0.114693        -0.161856         0.150108         0.141158   \n",
       "\n",
       "   latent_space_73  latent_space_74  Anomaly Sensor_1  Anomaly Sensor_2  \n",
       "0         0.031424         0.038475                 0                 1  \n",
       "1         0.067992        -0.010285                 0                 1  \n",
       "2         0.092529        -0.034149                 0                 1  \n",
       "3         0.131391        -0.075028                 1                 0  \n",
       "4         0.158579        -0.097105                 0                 0  \n",
       "\n",
       "[5 rows x 87 columns]"
      ]
     },
     "execution_count": 64,
     "metadata": {},
     "output_type": "execute_result"
    }
   ],
   "source": [
    "results.head()"
   ]
  },
  {
   "cell_type": "markdown",
   "metadata": {},
   "source": [
    "## Combine prediction data with data which was not consider for inference"
   ]
  },
  {
   "cell_type": "code",
   "execution_count": 65,
   "metadata": {},
   "outputs": [],
   "source": [
    "original_sensor_data = pd.read_csv(param[\"data\"][\"path\"])\n",
    "data_of_droped_feature = original_sensor_data.loc[:, param[\"data\"][\"droped_feature\"]+[\"ID\"]]\n",
    "complete_data = results.merge(right=data_of_droped_feature, how=\"inner\", on=\"ID\")"
   ]
  },
  {
   "cell_type": "markdown",
   "metadata": {},
   "source": [
    "## Save data to csv file"
   ]
  },
  {
   "cell_type": "code",
   "execution_count": 66,
   "metadata": {},
   "outputs": [],
   "source": [
    "complete_data.to_csv(param[\"results\"][\"path\"], sep=\";\", index=False)"
   ]
  },
  {
   "cell_type": "code",
   "execution_count": null,
   "metadata": {},
   "outputs": [],
   "source": []
  }
 ],
 "metadata": {
  "kernelspec": {
   "display_name": "masterarbeit",
   "language": "python",
   "name": "masterarbeit"
  },
  "language_info": {
   "codemirror_mode": {
    "name": "ipython",
    "version": 3
   },
   "file_extension": ".py",
   "mimetype": "text/x-python",
   "name": "python",
   "nbconvert_exporter": "python",
   "pygments_lexer": "ipython3",
   "version": "3.6.8"
  }
 },
 "nbformat": 4,
 "nbformat_minor": 2
}
