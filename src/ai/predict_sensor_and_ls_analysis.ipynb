{
 "cells": [
  {
   "cell_type": "code",
   "execution_count": 1,
   "metadata": {},
   "outputs": [],
   "source": [
    "import torch\n",
    "import torch.nn as nn\n",
    "from torch.utils.data import DataLoader\n",
    "import torch.optim as optim\n",
    "import pandas as pd\n",
    "import numpy as np\n",
    "\n",
    "# own Modules \n",
    "from models_sub_net_ls import LstmMse_LatentSpace, LstmMle_LatentSpace, AnalysisLayer\n",
    "from data_preperator import DataPreperatorPrediction\n",
    "from data_set import DataSet\n",
    "from predictor import PredictorMse, PredictorMle, PredictorMseLatentSpaceAnalyser, PredictorMleLatentSpaceAnalyser"
   ]
  },
  {
   "cell_type": "markdown",
   "metadata": {},
   "source": [
    "## Take care of these things before training:\n",
    "- Select correct path and define droped_features\n",
    "- Change parameter of model\n",
    "- Change filed_location"
   ]
  },
  {
   "cell_type": "markdown",
   "metadata": {},
   "source": [
    "## Parameters phm data"
   ]
  },
  {
   "cell_type": "code",
   "execution_count": 2,
   "metadata": {},
   "outputs": [],
   "source": [
    "param = {\n",
    "    \"data\" : {\n",
    "        \"path\" : '../../data/phm_data_challenge/01_M01_DC_prediction_1.csv',\n",
    "        \"droped_feature\" : [\"stage\", \"Lot\", \"runnum\", \"recipe\", \"recipe_step\",\n",
    "                            \"up time\", \"ongoing time\", \n",
    "                            \"ETCHSOURCEUSAGE\", \"ETCHAUXSOURCETIMER\", \n",
    "                            \"ETCHAUX2SOURCETIMER\", \"FIXTURESHUTTERPOSITION\"\n",
    "                           ],\n",
    "        \"features_not_to_scale\": []\n",
    "    },\n",
    "    \"model\" : {\n",
    "        \"path\" : \"../../models/MLE_model/phm_dataFold xx_InputSize13_LayerLstm1_HiddenLstm15_HiddenFc75_Seq25.pt\",\n",
    "        \"input_size\" : 13,\n",
    "        \"n_hidden_lstm\" : 15,\n",
    "        \"sequence_size\" : 100,\n",
    "        \"batch_size\" : 50,\n",
    "        \"lstm_layer\" : 1,\n",
    "        \"n_hidden_fc_pred\": 75,\n",
    "        \"n_hidden_fc_ls\": 7,\n",
    "        \"dropout_rate_lstm\": 0.0,\n",
    "        \"dropout_rate_fc\": 0.2,\n",
    "        \"K\":1\n",
    "    },\n",
    "        \"anomaly_detection\" : {\n",
    "        \"threshold_anomaly\" : 0.3,\n",
    "        \"smooth_rate\" : 0.05,\n",
    "        \"no_standard_deviation\" : 2\n",
    "    },\n",
    "    \"results\": {\n",
    "        \"path\" : \"../visualisation/files/prediction/MLE/phm_mle_1.csv\",\n",
    "    }\n",
    "}"
   ]
  },
  {
   "cell_type": "markdown",
   "metadata": {},
   "source": [
    "## Parameters artifical data"
   ]
  },
  {
   "cell_type": "code",
   "execution_count": 13,
   "metadata": {},
   "outputs": [],
   "source": [
    "param = {\n",
    "    \"data\" : {\n",
    "        \"path\" : '../../data/artifical_signals/MLE_analysis/artifical_2_signals_errors.csv',\n",
    "        \"droped_feature\" : [\"anomaly\"\n",
    "                           ],\n",
    "        \"features_not_to_scale\": []\n",
    "    },\n",
    "    \"model\" : {\n",
    "        \"path\" : \"../../models/MLE/artifical_2_signalsFold xx_InputSize2_LayerLstm1_HiddenLstm15_HiddenFc75_Seq25.pt\",\n",
    "        \"input_size\" : 2,\n",
    "        \"n_hidden_lstm\" : 15,\n",
    "        \"sequence_size\" : 100,\n",
    "        \"batch_size\" : 50,\n",
    "        \"lstm_layer\" : 1,\n",
    "        \"n_hidden_fc_pred\": 75,\n",
    "        \"n_hidden_fc_ls\": 7,\n",
    "        \"dropout_rate_lstm\": 0.0,\n",
    "        \"dropout_rate_fc\": 0.2,\n",
    "        \"K\":1\n",
    "    },\n",
    "        \"anomaly_detection\" : {\n",
    "        \"threshold_anomaly\" : 0.3,\n",
    "        \"smooth_rate\" : 0.05,\n",
    "        \"no_standard_deviation\" : 2\n",
    "    },\n",
    "    \"results\": {\n",
    "        \"path\" : \"../visualisation/files/prediction/MLE/MLE_1_ls_artifical_2_signals.csv\",\n",
    "    }\n",
    "}"
   ]
  },
  {
   "cell_type": "markdown",
   "metadata": {},
   "source": [
    "## Parameters cpps data"
   ]
  },
  {
   "cell_type": "code",
   "execution_count": 2,
   "metadata": {},
   "outputs": [],
   "source": [
    "param = {\n",
    "    \"data\" : {\n",
    "        \"path\" : '../../data/cpps_data/cpps_data_predictive_maintenance.csv',\n",
    "        \"droped_feature\" : [\"status\"\n",
    "                           ],\n",
    "        \"features_not_to_scale\": []\n",
    "    },\n",
    "    \"model\" : {\n",
    "        \"path\" : \"../../models/MLE_latent_space/artifical_2_signals_InputSize2_LayerLstm1_HiddenLstm15_HiddenFc_pred75_HiddenFc_ls7_Seq25.pt\",\n",
    "        \"input_size\" : 10,\n",
    "        \"n_hidden_lstm\" : 15,\n",
    "        \"sequence_size\" : 100,\n",
    "        \"batch_size\" : 50,\n",
    "        \"lstm_layer\" : 1,\n",
    "        \"n_hidden_fc_pred\": 75,\n",
    "        \"n_hidden_fc_ls\": 7,\n",
    "        \"dropout_rate_lstm\": 0.0,\n",
    "        \"dropout_rate_fc\": 0.2,\n",
    "        \"K\":1\n",
    "    },\n",
    "        \"anomaly_detection\" : {\n",
    "        \"threshold_anomaly\" : 0.3,\n",
    "        \"smooth_rate\" : 0.05,\n",
    "        \"no_standard_deviation\" : 2\n",
    "    },\n",
    "    \"results\": {\n",
    "        \"path\" : \"../visualisation/files/prediction/MLE_LS/cpps_data.csv\",\n",
    "    }\n",
    "}"
   ]
  },
  {
   "cell_type": "markdown",
   "metadata": {},
   "source": [
    "## Standarize Data\n",
    "First we have to apply normalisation to data. That is because the model works on the representation given by its input vectors. The scale of those numbers is part of the representation.\n",
    "We should apply the exact same scaling as for training data. That means storing the scale and offset used with your training data, and using that again. <br>\n",
    "__The mean and variance for each feature of the training data with which the model was trained (stake: 0.75):__"
   ]
  },
  {
   "cell_type": "markdown",
   "metadata": {},
   "source": [
    "### Mean and Variance from phm Dataset\n",
    "droped features=\"stage\", \"Lot\", \"runnum\", \"recipe\", \"recipe_step\",\n",
    "                            \"up time\", \"ongoing time\", \n",
    "                            \"ETCHSOURCEUSAGE\", \"ETCHAUXSOURCETIMER\", \n",
    "                            \"ETCHAUX2SOURCETIMER\", \"FIXTURESHUTTERPOSITION\""
   ]
  },
  {
   "cell_type": "code",
   "execution_count": 55,
   "metadata": {},
   "outputs": [],
   "source": [
    "mean_training_data =[ 0.21683119,  0.32121513,  0.31925213,  0.20097501,  0.45164471,  0.22914814,\n",
    "  0.11604865,  0.27421592,  0.24393222, -0.13974937, -0.09739598, -0.07313758,\n",
    "  0.18198089]\n",
    "var_training_data =[0.75261122, 0.90482986, 0.91105327, 0.75504036, 1.07026701, 0.76708319,\n",
    " 0.35172769, 0.83004988, 0.76964675, 0.57386915, 0.45912309, 0.2955709,\n",
    " 1.61493449]"
   ]
  },
  {
   "cell_type": "markdown",
   "metadata": {},
   "source": [
    "### Mean and Variance from artifical Dataset"
   ]
  },
  {
   "cell_type": "code",
   "execution_count": 14,
   "metadata": {},
   "outputs": [],
   "source": [
    "mean_training_data= [-0.00393712, -0.01294209]\n",
    "var_training_data = [49.18936568,  0.34270256]"
   ]
  },
  {
   "cell_type": "markdown",
   "metadata": {},
   "source": [
    "### Mean and Variance form cpps Dataset"
   ]
  },
  {
   "cell_type": "code",
   "execution_count": 19,
   "metadata": {},
   "outputs": [],
   "source": [
    "mean_training_data = [0.05330162, 0.03075699, -0.05636937, 0.0274802, 0.06536314, -0.04620979,-0.0745559, \n",
    "                      -0.08149049, -0.05318843, 0.11105582]\n",
    "var_training_data = [0.02905961, 0.04473883, 0.05254194, 0.05198144, 0.07337494, 0.0666981, 0.07593811, \n",
    "                     0.0393896, 0.08028017, 0.0594492]"
   ]
  },
  {
   "cell_type": "markdown",
   "metadata": {},
   "source": [
    "## Create DataLoader"
   ]
  },
  {
   "cell_type": "code",
   "execution_count": 15,
   "metadata": {},
   "outputs": [
    {
     "name": "stdout",
     "output_type": "stream",
     "text": [
      "(12000, 3)\n"
     ]
    }
   ],
   "source": [
    "data_preperator = DataPreperatorPrediction(path=param['data']['path'], \n",
    "                                           ignored_features = param[\"data\"][\"droped_feature\"],\n",
    "                                           mean_training_data=mean_training_data, \n",
    "                                           var_training_data=var_training_data, \n",
    "                                           first_order_difference=False \n",
    "                                          )                                  \n",
    "preprocessed_data = data_preperator.prepare_data()\n",
    "print(preprocessed_data.shape)\n",
    "\n",
    "dataset = DataSet(preprocessed_data, \n",
    "                  timesteps=param[\"model\"][\"sequence_size\"])\n",
    "data_loader = DataLoader(dataset, \n",
    "                         batch_size=param['model']['batch_size'], \n",
    "                         num_workers=0, \n",
    "                         shuffle=False, \n",
    "                         drop_last=True)"
   ]
  },
  {
   "cell_type": "code",
   "execution_count": 16,
   "metadata": {},
   "outputs": [
    {
     "name": "stdout",
     "output_type": "stream",
     "text": [
      "Data of batch: 0\n",
      "Size of input data: torch.Size([50, 100, 3])\n",
      "Size of target data: torch.Size([50, 3])\n",
      "Data of batch: 1\n",
      "Size of input data: torch.Size([50, 100, 3])\n",
      "Size of target data: torch.Size([50, 3])\n"
     ]
    }
   ],
   "source": [
    "for batch_idx, data in enumerate(data_loader):\n",
    "    x,y = data\n",
    "    print('Data of batch: {}'.format(batch_idx))\n",
    "    print(\"Size of input data: {}\".format(x.size()))\n",
    "    print(\"Size of target data: {}\".format(y.size()))\n",
    "    if batch_idx >=1: break"
   ]
  },
  {
   "cell_type": "markdown",
   "metadata": {},
   "source": [
    "## Define Model and load Parameters of trained model\n",
    "### Model for MSE and Latent Space Analysis"
   ]
  },
  {
   "cell_type": "code",
   "execution_count": null,
   "metadata": {},
   "outputs": [],
   "source": [
    "model = LstmMse_LatentSpace(batch_size=param['model']['batch_size'], \n",
    "                            input_dim=param['model']['input_size'], \n",
    "                            n_hidden_lstm=param['model']['n_hidden_lstm'], \n",
    "                            n_layers=param['model']['lstm_layer'],\n",
    "                            dropout_rate_lstm= param['model']['dropout_rate_lstm'],\n",
    "                            dropout_rate_fc= param['model']['dropout_rate_fc'],\n",
    "                            n_hidden_fc_prediction=param['model']['n_hidden_fc_pred'], \n",
    "                            n_hidden_fc_ls_analysis=param['model']['n_hidden_fc_ls']      \n",
    "                            )\n",
    "\n",
    "checkpoint = torch.load(param[\"model\"][\"path\"])\n",
    "model.load_state_dict(checkpoint['model_state_dict'])"
   ]
  },
  {
   "cell_type": "markdown",
   "metadata": {},
   "source": [
    "### Model for MLE and Latent Space Analysis"
   ]
  },
  {
   "cell_type": "code",
   "execution_count": 6,
   "metadata": {},
   "outputs": [
    {
     "data": {
      "text/plain": [
       "IncompatibleKeys(missing_keys=[], unexpected_keys=[])"
      ]
     },
     "execution_count": 6,
     "metadata": {},
     "output_type": "execute_result"
    }
   ],
   "source": [
    "model = LstmMle_LatentSpace(batch_size=param['model']['batch_size'], \n",
    "                            input_dim=param['model']['input_size'], \n",
    "                            n_hidden_lstm=param['model']['n_hidden_lstm'], \n",
    "                            n_layers=param['model']['lstm_layer'],\n",
    "                            dropout_rate_lstm= param['model']['dropout_rate_lstm'],\n",
    "                            dropout_rate_fc= param['model']['dropout_rate_fc'],\n",
    "                            n_hidden_fc_prediction=param['model']['n_hidden_fc_pred'], \n",
    "                            n_hidden_fc_ls_analysis=param['model']['n_hidden_fc_ls'],\n",
    "                            K = param['model']['K']\n",
    "                            )\n",
    "\n",
    "checkpoint = torch.load(param[\"model\"][\"path\"])\n",
    "model.load_state_dict(checkpoint['model_state_dict'])"
   ]
  },
  {
   "cell_type": "markdown",
   "metadata": {},
   "source": [
    "## Initialize Predictor\n",
    "### Predictor for MSE Model and Latent Space Analysis"
   ]
  },
  {
   "cell_type": "code",
   "execution_count": null,
   "metadata": {},
   "outputs": [],
   "source": [
    "predictor = PredictorMseLatentSpaceAnalyser(model=model,\n",
    "                                            path_data=param[\"data\"][\"path\"],\n",
    "                                            columns_to_ignore=param[\"data\"][\"droped_feature\"],\n",
    "                                            threshold_anomaly=param[\"anomaly_detection\"][\"threshold_anomaly\"]\n",
    "                                            )"
   ]
  },
  {
   "cell_type": "markdown",
   "metadata": {},
   "source": [
    "### Predictor for MLE Model and Latent Space Analysis"
   ]
  },
  {
   "cell_type": "code",
   "execution_count": 21,
   "metadata": {},
   "outputs": [],
   "source": [
    "predictor = PredictorMleLatentSpaceAnalyser(model=model,\n",
    "                                            path_data=param[\"data\"][\"path\"],\n",
    "                                            columns_to_ignore=param[\"data\"][\"droped_feature\"],\n",
    "                                            threshold_anomaly=param[\"anomaly_detection\"][\"threshold_anomaly\"],\n",
    "                                            no_standard_deviation=param[\"anomaly_detection\"][\"no_standard_deviation\"]\n",
    "                                            )"
   ]
  },
  {
   "cell_type": "markdown",
   "metadata": {},
   "source": [
    "## Predict"
   ]
  },
  {
   "cell_type": "code",
   "execution_count": 22,
   "metadata": {},
   "outputs": [
    {
     "name": "stdout",
     "output_type": "stream",
     "text": [
      "Start predicting.\n"
     ]
    },
    {
     "ename": "AttributeError",
     "evalue": "'LstmMle_1' object has no attribute 'n_hidden_fc_ls_analysis'",
     "output_type": "error",
     "traceback": [
      "\u001b[0;31m---------------------------------------------------------------------------\u001b[0m",
      "\u001b[0;31mAttributeError\u001b[0m                            Traceback (most recent call last)",
      "\u001b[0;32m<ipython-input-22-d62c80e8cd91>\u001b[0m in \u001b[0;36m<module>\u001b[0;34m\u001b[0m\n\u001b[1;32m      2\u001b[0m \u001b[0;31m# Write header\u001b[0m\u001b[0;34m\u001b[0m\u001b[0;34m\u001b[0m\u001b[0;34m\u001b[0m\u001b[0m\n\u001b[1;32m      3\u001b[0m \u001b[0;32mwith\u001b[0m \u001b[0mopen\u001b[0m\u001b[0;34m(\u001b[0m\u001b[0mparam\u001b[0m\u001b[0;34m[\u001b[0m\u001b[0;34m\"results\"\u001b[0m\u001b[0;34m]\u001b[0m\u001b[0;34m[\u001b[0m\u001b[0;34m\"path\"\u001b[0m\u001b[0;34m]\u001b[0m\u001b[0;34m,\u001b[0m \u001b[0;34m\"a+\"\u001b[0m\u001b[0;34m)\u001b[0m \u001b[0;32mas\u001b[0m \u001b[0mfile\u001b[0m\u001b[0;34m:\u001b[0m\u001b[0;34m\u001b[0m\u001b[0;34m\u001b[0m\u001b[0m\n\u001b[0;32m----> 4\u001b[0;31m             \u001b[0;34m[\u001b[0m\u001b[0mfile\u001b[0m\u001b[0;34m.\u001b[0m\u001b[0mwrite\u001b[0m\u001b[0;34m(\u001b[0m\u001b[0mcolumn\u001b[0m\u001b[0;34m+\u001b[0m\u001b[0;34m\";\"\u001b[0m\u001b[0;34m)\u001b[0m \u001b[0;32mfor\u001b[0m \u001b[0mcolumn\u001b[0m \u001b[0;32min\u001b[0m \u001b[0mpredictor\u001b[0m\u001b[0;34m.\u001b[0m\u001b[0mcreate_column_names_result\u001b[0m\u001b[0;34m(\u001b[0m\u001b[0;34m)\u001b[0m\u001b[0;34m]\u001b[0m\u001b[0;34m\u001b[0m\u001b[0;34m\u001b[0m\u001b[0m\n\u001b[0m\u001b[1;32m      5\u001b[0m             \u001b[0mfile\u001b[0m\u001b[0;34m.\u001b[0m\u001b[0mwrite\u001b[0m\u001b[0;34m(\u001b[0m\u001b[0;34m\"\\n\"\u001b[0m\u001b[0;34m)\u001b[0m\u001b[0;34m\u001b[0m\u001b[0;34m\u001b[0m\u001b[0m\n\u001b[1;32m      6\u001b[0m \u001b[0;34m\u001b[0m\u001b[0m\n",
      "\u001b[0;32m~/jupyter_notebooks/masterarbeit/src/ai/utils/predictor.py\u001b[0m in \u001b[0;36mcreate_column_names_result\u001b[0;34m(self)\u001b[0m\n\u001b[1;32m    273\u001b[0m         column_names_normalised_residuals= [column_name+\" normalised residual\" for column_name in self.column_names_data \n\u001b[1;32m    274\u001b[0m                                             if column_name not in self.columns_to_ignore+[\"ID\"]]\n\u001b[0;32m--> 275\u001b[0;31m         \u001b[0mcolumn_names_latent_space\u001b[0m\u001b[0;34m=\u001b[0m \u001b[0;34m[\u001b[0m\u001b[0;34m\"latent_space_\"\u001b[0m\u001b[0;34m+\u001b[0m\u001b[0mstr\u001b[0m\u001b[0;34m(\u001b[0m\u001b[0mi\u001b[0m\u001b[0;34m)\u001b[0m \u001b[0;32mfor\u001b[0m \u001b[0mi\u001b[0m \u001b[0;32min\u001b[0m \u001b[0mrange\u001b[0m\u001b[0;34m(\u001b[0m\u001b[0mself\u001b[0m\u001b[0;34m.\u001b[0m\u001b[0mmodel\u001b[0m\u001b[0;34m.\u001b[0m\u001b[0mn_hidden_fc_ls_analysis\u001b[0m\u001b[0;34m)\u001b[0m\u001b[0;34m]\u001b[0m\u001b[0;34m\u001b[0m\u001b[0;34m\u001b[0m\u001b[0m\n\u001b[0m\u001b[1;32m    276\u001b[0m \u001b[0;34m\u001b[0m\u001b[0m\n\u001b[1;32m    277\u001b[0m         \u001b[0mcolumn_names\u001b[0m \u001b[0;34m=\u001b[0m \u001b[0;34m[\u001b[0m\u001b[0;34m\"ID\"\u001b[0m\u001b[0;34m]\u001b[0m \u001b[0;34m+\u001b[0m \u001b[0mcolumn_names_target\u001b[0m \u001b[0;34m+\u001b[0m \u001b[0mcolumn_names_mu_predicted\u001b[0m \u001b[0;34m+\u001b[0m \u001b[0mcolumn_names_sigma_predicted\u001b[0m \u001b[0;34m+\u001b[0m\u001b[0;31m \u001b[0m\u001b[0;31m\\\u001b[0m\u001b[0;34m\u001b[0m\u001b[0;34m\u001b[0m\u001b[0m\n",
      "\u001b[0;32m~/jupyter_notebooks/masterarbeit/venv_pm/lib/python3.6/site-packages/torch/nn/modules/module.py\u001b[0m in \u001b[0;36m__getattr__\u001b[0;34m(self, name)\u001b[0m\n\u001b[1;32m    537\u001b[0m                 \u001b[0;32mreturn\u001b[0m \u001b[0mmodules\u001b[0m\u001b[0;34m[\u001b[0m\u001b[0mname\u001b[0m\u001b[0;34m]\u001b[0m\u001b[0;34m\u001b[0m\u001b[0;34m\u001b[0m\u001b[0m\n\u001b[1;32m    538\u001b[0m         raise AttributeError(\"'{}' object has no attribute '{}'\".format(\n\u001b[0;32m--> 539\u001b[0;31m             type(self).__name__, name))\n\u001b[0m\u001b[1;32m    540\u001b[0m \u001b[0;34m\u001b[0m\u001b[0m\n\u001b[1;32m    541\u001b[0m     \u001b[0;32mdef\u001b[0m \u001b[0m__setattr__\u001b[0m\u001b[0;34m(\u001b[0m\u001b[0mself\u001b[0m\u001b[0;34m,\u001b[0m \u001b[0mname\u001b[0m\u001b[0;34m,\u001b[0m \u001b[0mvalue\u001b[0m\u001b[0;34m)\u001b[0m\u001b[0;34m:\u001b[0m\u001b[0;34m\u001b[0m\u001b[0;34m\u001b[0m\u001b[0m\n",
      "\u001b[0;31mAttributeError\u001b[0m: 'LstmMle_1' object has no attribute 'n_hidden_fc_ls_analysis'"
     ]
    }
   ],
   "source": [
    "print(\"Start predicting.\")\n",
    "# Write header\n",
    "with open(param[\"results\"][\"path\"], \"a+\") as file:\n",
    "            [file.write(column+\";\") for column in predictor.create_column_names_result()]\n",
    "            file.write(\"\\n\")\n",
    "\n",
    "for batch_number, (input_data, target_data) in enumerate(data_loader):\n",
    "    # Predict sensor values in mini-batches\n",
    "    batch_results = predictor.predict(input_data, target_data)\n",
    "    \n",
    "    # Write results to csv file\n",
    "    with open(param[\"results\"][\"path\"], \"a\") as file:\n",
    "        for batch in batch_results:\n",
    "            # Each result component of a singe prediction (ID, target, prediction, loss, latent space ...) is stored in lists\n",
    "            # thus we have to unpack the list and seperate values with ;\n",
    "            for value in batch:\n",
    "                file.write(str(value)+\";\")\n",
    "            file.write(\"\\n\")\n",
    "\n",
    "    # Print status \n",
    "    if (batch_number*param['model']['batch_size'])%5000 == 0:\n",
    "        print(\"Current status: \" + str(param['model']['batch_size']*batch_number) + \" samples are predicted.\")\n",
    "\n",
    "print(\"End of prediction.\")"
   ]
  },
  {
   "cell_type": "markdown",
   "metadata": {},
   "source": [
    "## Tag anomalous samples"
   ]
  },
  {
   "cell_type": "code",
   "execution_count": 9,
   "metadata": {},
   "outputs": [],
   "source": [
    "results_prediction = pd.read_csv(param[\"results\"][\"path\"], sep=\";\")\n",
    "# Values of column \"loss\" are exponentially smoothed and stored in a new column \"smoothed loss\"\n",
    "# New column \"anomaly\" is created and sample is taged with 1 if anomalous behaviour (if smoothed loss is over threshold)\n",
    "results = predictor.detect_anomaly(results_prediction, param[\"anomaly_detection\"][\"smooth_rate\"])"
   ]
  },
  {
   "cell_type": "code",
   "execution_count": 10,
   "metadata": {},
   "outputs": [
    {
     "data": {
      "text/html": [
       "<div>\n",
       "<style scoped>\n",
       "    .dataframe tbody tr th:only-of-type {\n",
       "        vertical-align: middle;\n",
       "    }\n",
       "\n",
       "    .dataframe tbody tr th {\n",
       "        vertical-align: top;\n",
       "    }\n",
       "\n",
       "    .dataframe thead th {\n",
       "        text-align: right;\n",
       "    }\n",
       "</style>\n",
       "<table border=\"1\" class=\"dataframe\">\n",
       "  <thead>\n",
       "    <tr style=\"text-align: right;\">\n",
       "      <th></th>\n",
       "      <th>ID</th>\n",
       "      <th>sine_signal target</th>\n",
       "      <th>sawtooth_signal target</th>\n",
       "      <th>sine_signal mu predicted</th>\n",
       "      <th>sawtooth_signal mu predicted</th>\n",
       "      <th>sine_signal sigma predicted</th>\n",
       "      <th>sawtooth_signal sigma predicted</th>\n",
       "      <th>mean normalised residual</th>\n",
       "      <th>sine_signal normalised residual</th>\n",
       "      <th>sawtooth_signal normalised residual</th>\n",
       "      <th>latent_space_0</th>\n",
       "      <th>latent_space_1</th>\n",
       "      <th>latent_space_2</th>\n",
       "      <th>latent_space_3</th>\n",
       "      <th>latent_space_4</th>\n",
       "      <th>latent_space_5</th>\n",
       "      <th>latent_space_6</th>\n",
       "      <th>Anomaly Sensor_1</th>\n",
       "      <th>Anomaly Sensor_2</th>\n",
       "    </tr>\n",
       "  </thead>\n",
       "  <tbody>\n",
       "    <tr>\n",
       "      <th>0</th>\n",
       "      <td>100.0</td>\n",
       "      <td>0.129967</td>\n",
       "      <td>-1.543861</td>\n",
       "      <td>-0.062869</td>\n",
       "      <td>-0.888886</td>\n",
       "      <td>0.095342</td>\n",
       "      <td>1.233198</td>\n",
       "      <td>0.745722</td>\n",
       "      <td>2.022563</td>\n",
       "      <td>-0.531119</td>\n",
       "      <td>0.444841</td>\n",
       "      <td>-0.556853</td>\n",
       "      <td>0.240179</td>\n",
       "      <td>-0.281422</td>\n",
       "      <td>-0.414726</td>\n",
       "      <td>-0.235273</td>\n",
       "      <td>0.220986</td>\n",
       "      <td>1</td>\n",
       "      <td>0</td>\n",
       "    </tr>\n",
       "    <tr>\n",
       "      <th>1</th>\n",
       "      <td>101.0</td>\n",
       "      <td>0.132623</td>\n",
       "      <td>-1.655911</td>\n",
       "      <td>0.158563</td>\n",
       "      <td>-1.478936</td>\n",
       "      <td>0.087534</td>\n",
       "      <td>0.229338</td>\n",
       "      <td>-0.534012</td>\n",
       "      <td>-0.296344</td>\n",
       "      <td>-0.771681</td>\n",
       "      <td>0.126500</td>\n",
       "      <td>-0.446662</td>\n",
       "      <td>0.316357</td>\n",
       "      <td>-0.080894</td>\n",
       "      <td>-0.858233</td>\n",
       "      <td>-0.312968</td>\n",
       "      <td>0.147232</td>\n",
       "      <td>0</td>\n",
       "      <td>0</td>\n",
       "    </tr>\n",
       "    <tr>\n",
       "      <th>2</th>\n",
       "      <td>102.0</td>\n",
       "      <td>0.378911</td>\n",
       "      <td>-1.290781</td>\n",
       "      <td>0.342904</td>\n",
       "      <td>-1.339003</td>\n",
       "      <td>0.085570</td>\n",
       "      <td>0.204115</td>\n",
       "      <td>0.328521</td>\n",
       "      <td>0.420794</td>\n",
       "      <td>0.236248</td>\n",
       "      <td>0.094590</td>\n",
       "      <td>-0.372622</td>\n",
       "      <td>0.281857</td>\n",
       "      <td>-0.011506</td>\n",
       "      <td>-0.808945</td>\n",
       "      <td>-0.373254</td>\n",
       "      <td>0.097531</td>\n",
       "      <td>0</td>\n",
       "      <td>0</td>\n",
       "    </tr>\n",
       "    <tr>\n",
       "      <th>3</th>\n",
       "      <td>103.0</td>\n",
       "      <td>0.383205</td>\n",
       "      <td>-1.221328</td>\n",
       "      <td>0.527406</td>\n",
       "      <td>-1.159326</td>\n",
       "      <td>0.085201</td>\n",
       "      <td>0.195283</td>\n",
       "      <td>-1.004999</td>\n",
       "      <td>-1.692496</td>\n",
       "      <td>-0.317503</td>\n",
       "      <td>0.057978</td>\n",
       "      <td>-0.276071</td>\n",
       "      <td>0.253816</td>\n",
       "      <td>-0.000141</td>\n",
       "      <td>-0.745135</td>\n",
       "      <td>-0.427654</td>\n",
       "      <td>0.068529</td>\n",
       "      <td>0</td>\n",
       "      <td>0</td>\n",
       "    </tr>\n",
       "    <tr>\n",
       "      <th>4</th>\n",
       "      <td>104.0</td>\n",
       "      <td>0.658533</td>\n",
       "      <td>-0.668286</td>\n",
       "      <td>0.645150</td>\n",
       "      <td>-0.966852</td>\n",
       "      <td>0.085493</td>\n",
       "      <td>0.197475</td>\n",
       "      <td>0.834228</td>\n",
       "      <td>0.156541</td>\n",
       "      <td>1.511915</td>\n",
       "      <td>0.025026</td>\n",
       "      <td>-0.192565</td>\n",
       "      <td>0.209690</td>\n",
       "      <td>0.015146</td>\n",
       "      <td>-0.667188</td>\n",
       "      <td>-0.476022</td>\n",
       "      <td>0.048455</td>\n",
       "      <td>0</td>\n",
       "      <td>0</td>\n",
       "    </tr>\n",
       "  </tbody>\n",
       "</table>\n",
       "</div>"
      ],
      "text/plain": [
       "      ID  sine_signal target  sawtooth_signal target  \\\n",
       "0  100.0            0.129967               -1.543861   \n",
       "1  101.0            0.132623               -1.655911   \n",
       "2  102.0            0.378911               -1.290781   \n",
       "3  103.0            0.383205               -1.221328   \n",
       "4  104.0            0.658533               -0.668286   \n",
       "\n",
       "   sine_signal mu predicted  sawtooth_signal mu predicted  \\\n",
       "0                 -0.062869                     -0.888886   \n",
       "1                  0.158563                     -1.478936   \n",
       "2                  0.342904                     -1.339003   \n",
       "3                  0.527406                     -1.159326   \n",
       "4                  0.645150                     -0.966852   \n",
       "\n",
       "   sine_signal sigma predicted  sawtooth_signal sigma predicted  \\\n",
       "0                     0.095342                         1.233198   \n",
       "1                     0.087534                         0.229338   \n",
       "2                     0.085570                         0.204115   \n",
       "3                     0.085201                         0.195283   \n",
       "4                     0.085493                         0.197475   \n",
       "\n",
       "   mean normalised residual  sine_signal normalised residual  \\\n",
       "0                  0.745722                         2.022563   \n",
       "1                 -0.534012                        -0.296344   \n",
       "2                  0.328521                         0.420794   \n",
       "3                 -1.004999                        -1.692496   \n",
       "4                  0.834228                         0.156541   \n",
       "\n",
       "   sawtooth_signal normalised residual  latent_space_0  latent_space_1  \\\n",
       "0                            -0.531119        0.444841       -0.556853   \n",
       "1                            -0.771681        0.126500       -0.446662   \n",
       "2                             0.236248        0.094590       -0.372622   \n",
       "3                            -0.317503        0.057978       -0.276071   \n",
       "4                             1.511915        0.025026       -0.192565   \n",
       "\n",
       "   latent_space_2  latent_space_3  latent_space_4  latent_space_5  \\\n",
       "0        0.240179       -0.281422       -0.414726       -0.235273   \n",
       "1        0.316357       -0.080894       -0.858233       -0.312968   \n",
       "2        0.281857       -0.011506       -0.808945       -0.373254   \n",
       "3        0.253816       -0.000141       -0.745135       -0.427654   \n",
       "4        0.209690        0.015146       -0.667188       -0.476022   \n",
       "\n",
       "   latent_space_6  Anomaly Sensor_1  Anomaly Sensor_2  \n",
       "0        0.220986                 1                 0  \n",
       "1        0.147232                 0                 0  \n",
       "2        0.097531                 0                 0  \n",
       "3        0.068529                 0                 0  \n",
       "4        0.048455                 0                 0  "
      ]
     },
     "execution_count": 10,
     "metadata": {},
     "output_type": "execute_result"
    }
   ],
   "source": [
    "results.head()"
   ]
  },
  {
   "cell_type": "markdown",
   "metadata": {},
   "source": [
    "## Combine prediction data with data which was not consider for inference"
   ]
  },
  {
   "cell_type": "code",
   "execution_count": 11,
   "metadata": {},
   "outputs": [],
   "source": [
    "original_sensor_data = pd.read_csv(param[\"data\"][\"path\"])\n",
    "data_of_droped_feature = original_sensor_data.loc[:, param[\"data\"][\"droped_feature\"]+[\"ID\"]]\n",
    "complete_data = results.merge(right=data_of_droped_feature, how=\"inner\", on=\"ID\")"
   ]
  },
  {
   "cell_type": "markdown",
   "metadata": {},
   "source": [
    "## Save data to csv file"
   ]
  },
  {
   "cell_type": "code",
   "execution_count": 12,
   "metadata": {},
   "outputs": [],
   "source": [
    "complete_data.to_csv(param[\"results\"][\"path\"], sep=\";\", index=False)"
   ]
  },
  {
   "cell_type": "code",
   "execution_count": null,
   "metadata": {},
   "outputs": [],
   "source": []
  }
 ],
 "metadata": {
  "kernelspec": {
   "display_name": "masterarbeit",
   "language": "python",
   "name": "masterarbeit"
  },
  "language_info": {
   "codemirror_mode": {
    "name": "ipython",
    "version": 3
   },
   "file_extension": ".py",
   "mimetype": "text/x-python",
   "name": "python",
   "nbconvert_exporter": "python",
   "pygments_lexer": "ipython3",
   "version": "3.6.8"
  }
 },
 "nbformat": 4,
 "nbformat_minor": 2
}
