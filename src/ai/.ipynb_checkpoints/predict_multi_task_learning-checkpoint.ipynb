{
 "cells": [
  {
   "cell_type": "code",
   "execution_count": 1,
   "metadata": {},
   "outputs": [],
   "source": [
    "import torch\n",
    "import torch.nn as nn\n",
    "from torch.utils.data import DataLoader\n",
    "import torch.optim as optim\n",
    "import pandas as pd\n",
    "import numpy as np\n",
    "\n",
    "# own Modules \n",
    "from models.models import LstmMse\n",
    "from utils.data_loader import DataPreperatorPrediction, DataSet\n",
    "from loss_module import LossModuleMse, LossModuleMle\n",
    "from utils.predictor import Predictor"
   ]
  },
  {
   "cell_type": "markdown",
   "metadata": {},
   "source": [
    "## Take care of these things before training:\n",
    "- Select correct path and define droped_features\n",
    "- Change parameter of model\n",
    "- Change filed_location"
   ]
  },
  {
   "cell_type": "markdown",
   "metadata": {},
   "source": [
    "## Parameters"
   ]
  },
  {
   "cell_type": "code",
   "execution_count": 2,
   "metadata": {},
   "outputs": [],
   "source": [
    "param = {\n",
    "    \"data\" : {\n",
    "        \"stake_training_data\" : 0.75, \n",
    "        \"path\" : '../../data/phm_data_challenge/01_M01_DC_preprocessed.csv',\n",
    "        \"droped_feature\" : [\"ongoing time\", \"up time\", \"RLU\", \"runnum\"]\n",
    "    },\n",
    "    \"model\" : {\n",
    "        \"path\" : \"../../models/MSE_model/phm_data_InputSize21_LayerLstm2_HiddenLstm100_HiddenFc50_Seq150.pt\",\n",
    "        \"input_size\" : 21,\n",
    "        \"n_hidden_lstm\" : 100,\n",
    "        \"sequence_size\" : 20,\n",
    "        \"batch_size\" : 1,  # Has to be 1 in prediction mode!!!\n",
    "        \"lstm_layer\" : 2,\n",
    "        \"n_hidden_fc\": 50,\n",
    "        \"dropout_rate\": 0.2\n",
    "    },\n",
    "    \"results\": {\n",
    "        \"path_prediction\" : \"../visualisation/files/prediction/phm_data.csv\",\n",
    "    }\n",
    "}"
   ]
  },
  {
   "cell_type": "markdown",
   "metadata": {},
   "source": [
    "## Standarize Data\n",
    "First we have to apply normalisation to data. That is because the model works on the representation given by its input vectors. The scale of those numbers is part of the representation.\n",
    "We should apply the exact same scaling as for training data. That means storing the scale and offset used with your training data, and using that again. <br>\n",
    "__The mean and variance for each feature of the training data with which the model was trained (stake: 0.75):__"
   ]
  },
  {
   "cell_type": "markdown",
   "metadata": {},
   "source": [
    "### Mean and Variance from NewBlade Training Data"
   ]
  },
  {
   "cell_type": "code",
   "execution_count": 5,
   "metadata": {},
   "outputs": [],
   "source": [
    "mean_training_data = [-5.37536613e-02, -2.53111489e-04, -8.82854465e+05, 7.79034183e+02, 1.45531178e+04, 1.37766733e+03, 6.50149764e-01] \n",
    "var_training_data = [1.25303578e-01, 1.16898690e-03, 2.86060835e+06, 1.64515717e+06, 6.85728371e+06, 3.63196175e+05, 8.21463343e-03]"
   ]
  },
  {
   "cell_type": "markdown",
   "metadata": {},
   "source": [
    "### Mean and Variance from Artifical Training Data"
   ]
  },
  {
   "cell_type": "code",
   "execution_count": 4,
   "metadata": {},
   "outputs": [],
   "source": [
    "mean_training_data= [-5.31764899e-02, -3.98576146e-04, -8.82773455e+05,  8.25672897e+02, 1.47034247e+04,  1.42685595e+03,  6.62155736e-01,  1.23172374e-02]\n",
    "var_training_data = [1.28792583e-01, 1.21258617e-03, 2.90245238e+06, 1.72279458e+06, 6.83095901e+06, 3.12357562e+05, 3.89033076e-03, 5.01164766e+01]"
   ]
  },
  {
   "cell_type": "markdown",
   "metadata": {},
   "source": [
    "### Mean and Variance from Random Walk Data"
   ]
  },
  {
   "cell_type": "code",
   "execution_count": 5,
   "metadata": {},
   "outputs": [],
   "source": [
    "mean_training_data =[-5.31764899e-02, -3.98576146e-04,  1.55255733e+03,  8.25672897e+02, 1.47034247e+04,  1.42685595e+03,  6.62155736e-01]\n",
    "var_training_data =[1.28792583e-01, 1.21258617e-03, 2.04108811e+06, 1.72279458e+06, 6.83095901e+06, 3.12357562e+05, 3.89033076e-03]"
   ]
  },
  {
   "cell_type": "markdown",
   "metadata": {},
   "source": [
    "### Mean and Variance from Random Walk Data with first order difference"
   ]
  },
  {
   "cell_type": "code",
   "execution_count": 35,
   "metadata": {},
   "outputs": [],
   "source": [
    "mean_training_data =[-5.30145478e-02, -3.98852220e-04,  1.57238159e+00,  8.26196229e+02, 1.47058099e+04,  1.42778443e+03,  6.62286323e-01]\n",
    "var_training_data =[1.28839165e-01, 1.21339499e-03, 1.10982448e+03, 1.72353307e+06, 6.82698220e+06, 3.11272820e+05, 3.86734667e-03]"
   ]
  },
  {
   "cell_type": "markdown",
   "metadata": {},
   "source": [
    "### Mean and Variance from phm Dataset (droped features=[\"ongoing time\", \"up time\", \"RLU\", \"runnum\"])"
   ]
  },
  {
   "cell_type": "code",
   "execution_count": 3,
   "metadata": {},
   "outputs": [],
   "source": [
    "mean_training_data =[0.06325227,  0.10388593,  0.09563544,  0.0777276,   0.22081628,  0.08311531, 0.01382531,  0.09862897,  0.07814727, -0.01858262,  \n",
    "                     0.1000127,  -0.0161782, -0.05540514, -0.24410208,  0.88744782, -0.22541928]\n",
    "var_training_data =[9.03162317e-01, 9.72376713e-01, 9.85470169e-01, 9.20903471e-01, 1.18086523e+00, 9.23939872e-01, 4.17446987e-01, 9.71427032e-01, \n",
    "                    9.26047945e-01, 6.87868546e-01, 1.25019607e+00, 5.00231427e-01, 9.81261543e-05, 6.89525529e-05, 2.23673626e-04, 6.94256080e-01]"
   ]
  },
  {
   "cell_type": "markdown",
   "metadata": {},
   "source": [
    "## Create DataLoader"
   ]
  },
  {
   "cell_type": "code",
   "execution_count": 4,
   "metadata": {},
   "outputs": [
    {
     "name": "stdout",
     "output_type": "stream",
     "text": [
      "(173175, 22)\n"
     ]
    }
   ],
   "source": [
    "data_preperator = DataPreperatorPrediction(path=param['data']['path'], \n",
    "                                           ignored_features = param[\"data\"][\"droped_feature\"],\n",
    "                                           mean_training_data=mean_training_data, \n",
    "                                           var_training_data=var_training_data, \n",
    "                                           first_order_difference=False \n",
    "                                          )                                  \n",
    "preprocessed_data = data_preperator.prepare_data()\n",
    "print(preprocessed_data.shape)\n",
    "\n",
    "dataset = DataSet(preprocessed_data, \n",
    "                  timesteps=param[\"model\"][\"sequence_size\"])\n",
    "data_loader = DataLoader(dataset, \n",
    "                         batch_size=param['model']['batch_size'], \n",
    "                         num_workers=4, \n",
    "                         shuffle=False, \n",
    "                         drop_last=True)"
   ]
  },
  {
   "cell_type": "markdown",
   "metadata": {},
   "source": [
    "## Define Model and load Parameters of trained model"
   ]
  },
  {
   "cell_type": "code",
   "execution_count": 5,
   "metadata": {},
   "outputs": [
    {
     "data": {
      "text/plain": [
       "IncompatibleKeys(missing_keys=[], unexpected_keys=[])"
      ]
     },
     "execution_count": 5,
     "metadata": {},
     "output_type": "execute_result"
    }
   ],
   "source": [
    "model = LstmMse(batch_size=param['model']['batch_size'], \n",
    "                input_dim=param['model']['input_size'], \n",
    "                n_hidden_lstm=param['model']['n_hidden_lstm'], \n",
    "                n_hidden_fc=param['model']['n_hidden_fc'], \n",
    "                n_layers=param['model']['lstm_layer'], \n",
    "                dropout_rate= param['model']['dropout_rate'])\n",
    "\n",
    "checkpoint = torch.load(param[\"model\"][\"path\"])\n",
    "model.load_state_dict(checkpoint['model_state_dict'])"
   ]
  },
  {
   "cell_type": "markdown",
   "metadata": {},
   "source": [
    "## Define Loss Function"
   ]
  },
  {
   "cell_type": "code",
   "execution_count": 6,
   "metadata": {},
   "outputs": [],
   "source": [
    "criterion = LossModuleMse(param[\"model\"][\"input_size\"], param[\"model\"][\"batch_size\"])"
   ]
  },
  {
   "cell_type": "markdown",
   "metadata": {},
   "source": [
    "## Initialize Trainer"
   ]
  },
  {
   "cell_type": "code",
   "execution_count": 7,
   "metadata": {},
   "outputs": [],
   "source": [
    "predictor = Predictor(model=model,\n",
    "                      criterion=criterion,\n",
    "                      path_data=param[\"data\"][\"path\"],\n",
    "                      columns_to_ignore=param[\"data\"][\"droped_feature\"]\n",
    "                      )"
   ]
  },
  {
   "cell_type": "markdown",
   "metadata": {},
   "source": [
    "## Predict"
   ]
  },
  {
   "cell_type": "code",
   "execution_count": 8,
   "metadata": {},
   "outputs": [
    {
     "name": "stdout",
     "output_type": "stream",
     "text": [
      "Start predicting\n"
     ]
    },
    {
     "name": "stderr",
     "output_type": "stream",
     "text": [
      "/Users/carlovoss/jupyter_notebooks/masterarbeit/venv_pm/lib/python3.6/site-packages/torch/nn/functional.py:1374: UserWarning: nn.functional.tanh is deprecated. Use torch.tanh instead.\n",
      "  warnings.warn(\"nn.functional.tanh is deprecated. Use torch.tanh instead.\")\n"
     ]
    },
    {
     "name": "stdout",
     "output_type": "stream",
     "text": [
      "Finished predicting\n"
     ]
    },
    {
     "data": {
      "text/html": [
       "<div>\n",
       "<style scoped>\n",
       "    .dataframe tbody tr th:only-of-type {\n",
       "        vertical-align: middle;\n",
       "    }\n",
       "\n",
       "    .dataframe tbody tr th {\n",
       "        vertical-align: top;\n",
       "    }\n",
       "\n",
       "    .dataframe thead th {\n",
       "        text-align: right;\n",
       "    }\n",
       "</style>\n",
       "<table border=\"1\" class=\"dataframe\">\n",
       "  <thead>\n",
       "    <tr style=\"text-align: right;\">\n",
       "      <th></th>\n",
       "      <th>ID</th>\n",
       "      <th>IONGAUGEPRESSURE target</th>\n",
       "      <th>ETCHBEAMVOLTAGE target</th>\n",
       "      <th>ETCHBEAMCURRENT target</th>\n",
       "      <th>ETCHSUPPRESSORVOLTAGE target</th>\n",
       "      <th>ETCHSUPPRESSORCURRENT target</th>\n",
       "      <th>FLOWCOOLFLOWRATE target</th>\n",
       "      <th>FLOWCOOLPRESSURE target</th>\n",
       "      <th>ETCHGASCHANNEL1READBACK target</th>\n",
       "      <th>ETCHPBNGASREADBACK target</th>\n",
       "      <th>...</th>\n",
       "      <th>residual ACTUALROTATIONANGLE</th>\n",
       "      <th>residual ETCHSOURCEUSAGE</th>\n",
       "      <th>residual ETCHAUXSOURCETIMER</th>\n",
       "      <th>residual ETCHAUX2SOURCETIMER</th>\n",
       "      <th>residual ACTUALSTEPDURATION</th>\n",
       "      <th>residual FIXTURESHUTTERPOSITION_0.0</th>\n",
       "      <th>residual FIXTURESHUTTERPOSITION_1.0</th>\n",
       "      <th>residual FIXTURESHUTTERPOSITION_2.0</th>\n",
       "      <th>residual FIXTURESHUTTERPOSITION_3.0</th>\n",
       "      <th>residual FIXTURESHUTTERPOSITION_255.0</th>\n",
       "    </tr>\n",
       "  </thead>\n",
       "  <tbody>\n",
       "    <tr>\n",
       "      <th>0</th>\n",
       "      <td>21.0</td>\n",
       "      <td>-1.462142</td>\n",
       "      <td>-1.249669</td>\n",
       "      <td>-1.256844</td>\n",
       "      <td>-1.319489</td>\n",
       "      <td>-1.257602</td>\n",
       "      <td>-1.589453</td>\n",
       "      <td>-1.354189</td>\n",
       "      <td>-1.431369</td>\n",
       "      <td>-1.54163</td>\n",
       "      <td>...</td>\n",
       "      <td>-0.076503</td>\n",
       "      <td>-0.085030</td>\n",
       "      <td>-0.086418</td>\n",
       "      <td>-0.086121</td>\n",
       "      <td>0.072763</td>\n",
       "      <td>-0.720371</td>\n",
       "      <td>0.624691</td>\n",
       "      <td>0.300292</td>\n",
       "      <td>0.005070</td>\n",
       "      <td>0.000095</td>\n",
       "    </tr>\n",
       "    <tr>\n",
       "      <th>1</th>\n",
       "      <td>22.0</td>\n",
       "      <td>-1.463779</td>\n",
       "      <td>-1.249669</td>\n",
       "      <td>-1.257048</td>\n",
       "      <td>-1.319489</td>\n",
       "      <td>-1.257602</td>\n",
       "      <td>-1.589453</td>\n",
       "      <td>-1.355451</td>\n",
       "      <td>-1.431369</td>\n",
       "      <td>-1.54163</td>\n",
       "      <td>...</td>\n",
       "      <td>-0.076352</td>\n",
       "      <td>-0.084858</td>\n",
       "      <td>-0.086245</td>\n",
       "      <td>-0.085950</td>\n",
       "      <td>0.072304</td>\n",
       "      <td>-0.720456</td>\n",
       "      <td>0.624846</td>\n",
       "      <td>0.300073</td>\n",
       "      <td>0.005070</td>\n",
       "      <td>0.000095</td>\n",
       "    </tr>\n",
       "    <tr>\n",
       "      <th>2</th>\n",
       "      <td>23.0</td>\n",
       "      <td>-1.466921</td>\n",
       "      <td>-1.249669</td>\n",
       "      <td>-1.256300</td>\n",
       "      <td>-1.319489</td>\n",
       "      <td>-1.257602</td>\n",
       "      <td>-1.589453</td>\n",
       "      <td>-1.356710</td>\n",
       "      <td>-1.431369</td>\n",
       "      <td>-1.54163</td>\n",
       "      <td>...</td>\n",
       "      <td>-0.076239</td>\n",
       "      <td>-0.084734</td>\n",
       "      <td>-0.086121</td>\n",
       "      <td>-0.085827</td>\n",
       "      <td>0.071935</td>\n",
       "      <td>-0.720545</td>\n",
       "      <td>0.624982</td>\n",
       "      <td>0.299924</td>\n",
       "      <td>0.005067</td>\n",
       "      <td>0.000095</td>\n",
       "    </tr>\n",
       "    <tr>\n",
       "      <th>3</th>\n",
       "      <td>24.0</td>\n",
       "      <td>-1.468332</td>\n",
       "      <td>-1.249669</td>\n",
       "      <td>-1.256776</td>\n",
       "      <td>-1.319489</td>\n",
       "      <td>-1.257602</td>\n",
       "      <td>-1.589453</td>\n",
       "      <td>-1.357340</td>\n",
       "      <td>-1.431369</td>\n",
       "      <td>-1.54163</td>\n",
       "      <td>...</td>\n",
       "      <td>-0.076157</td>\n",
       "      <td>-0.084622</td>\n",
       "      <td>-0.086008</td>\n",
       "      <td>-0.085714</td>\n",
       "      <td>0.071599</td>\n",
       "      <td>-0.720621</td>\n",
       "      <td>0.625106</td>\n",
       "      <td>0.299775</td>\n",
       "      <td>0.005065</td>\n",
       "      <td>0.000095</td>\n",
       "    </tr>\n",
       "    <tr>\n",
       "      <th>4</th>\n",
       "      <td>25.0</td>\n",
       "      <td>-1.471196</td>\n",
       "      <td>-1.249669</td>\n",
       "      <td>-1.256776</td>\n",
       "      <td>-1.319489</td>\n",
       "      <td>-1.257602</td>\n",
       "      <td>-1.589453</td>\n",
       "      <td>-1.357972</td>\n",
       "      <td>-1.431369</td>\n",
       "      <td>-1.54163</td>\n",
       "      <td>...</td>\n",
       "      <td>-0.076080</td>\n",
       "      <td>-0.084531</td>\n",
       "      <td>-0.085917</td>\n",
       "      <td>-0.085624</td>\n",
       "      <td>0.071329</td>\n",
       "      <td>-0.720681</td>\n",
       "      <td>0.625203</td>\n",
       "      <td>0.299658</td>\n",
       "      <td>0.005062</td>\n",
       "      <td>0.000095</td>\n",
       "    </tr>\n",
       "  </tbody>\n",
       "</table>\n",
       "<p>5 rows × 86 columns</p>\n",
       "</div>"
      ],
      "text/plain": [
       "     ID  IONGAUGEPRESSURE target  ETCHBEAMVOLTAGE target  \\\n",
       "0  21.0                -1.462142               -1.249669   \n",
       "1  22.0                -1.463779               -1.249669   \n",
       "2  23.0                -1.466921               -1.249669   \n",
       "3  24.0                -1.468332               -1.249669   \n",
       "4  25.0                -1.471196               -1.249669   \n",
       "\n",
       "   ETCHBEAMCURRENT target  ETCHSUPPRESSORVOLTAGE target  \\\n",
       "0               -1.256844                     -1.319489   \n",
       "1               -1.257048                     -1.319489   \n",
       "2               -1.256300                     -1.319489   \n",
       "3               -1.256776                     -1.319489   \n",
       "4               -1.256776                     -1.319489   \n",
       "\n",
       "   ETCHSUPPRESSORCURRENT target  FLOWCOOLFLOWRATE target  \\\n",
       "0                     -1.257602                -1.589453   \n",
       "1                     -1.257602                -1.589453   \n",
       "2                     -1.257602                -1.589453   \n",
       "3                     -1.257602                -1.589453   \n",
       "4                     -1.257602                -1.589453   \n",
       "\n",
       "   FLOWCOOLPRESSURE target  ETCHGASCHANNEL1READBACK target  \\\n",
       "0                -1.354189                       -1.431369   \n",
       "1                -1.355451                       -1.431369   \n",
       "2                -1.356710                       -1.431369   \n",
       "3                -1.357340                       -1.431369   \n",
       "4                -1.357972                       -1.431369   \n",
       "\n",
       "   ETCHPBNGASREADBACK target  ...  residual ACTUALROTATIONANGLE  \\\n",
       "0                   -1.54163  ...                     -0.076503   \n",
       "1                   -1.54163  ...                     -0.076352   \n",
       "2                   -1.54163  ...                     -0.076239   \n",
       "3                   -1.54163  ...                     -0.076157   \n",
       "4                   -1.54163  ...                     -0.076080   \n",
       "\n",
       "   residual ETCHSOURCEUSAGE  residual ETCHAUXSOURCETIMER  \\\n",
       "0                 -0.085030                    -0.086418   \n",
       "1                 -0.084858                    -0.086245   \n",
       "2                 -0.084734                    -0.086121   \n",
       "3                 -0.084622                    -0.086008   \n",
       "4                 -0.084531                    -0.085917   \n",
       "\n",
       "   residual ETCHAUX2SOURCETIMER  residual ACTUALSTEPDURATION  \\\n",
       "0                     -0.086121                     0.072763   \n",
       "1                     -0.085950                     0.072304   \n",
       "2                     -0.085827                     0.071935   \n",
       "3                     -0.085714                     0.071599   \n",
       "4                     -0.085624                     0.071329   \n",
       "\n",
       "   residual FIXTURESHUTTERPOSITION_0.0  residual FIXTURESHUTTERPOSITION_1.0  \\\n",
       "0                            -0.720371                             0.624691   \n",
       "1                            -0.720456                             0.624846   \n",
       "2                            -0.720545                             0.624982   \n",
       "3                            -0.720621                             0.625106   \n",
       "4                            -0.720681                             0.625203   \n",
       "\n",
       "   residual FIXTURESHUTTERPOSITION_2.0  residual FIXTURESHUTTERPOSITION_3.0  \\\n",
       "0                             0.300292                             0.005070   \n",
       "1                             0.300073                             0.005070   \n",
       "2                             0.299924                             0.005067   \n",
       "3                             0.299775                             0.005065   \n",
       "4                             0.299658                             0.005062   \n",
       "\n",
       "   residual FIXTURESHUTTERPOSITION_255.0  \n",
       "0                               0.000095  \n",
       "1                               0.000095  \n",
       "2                               0.000095  \n",
       "3                               0.000095  \n",
       "4                               0.000095  \n",
       "\n",
       "[5 rows x 86 columns]"
      ]
     },
     "execution_count": 8,
     "metadata": {},
     "output_type": "execute_result"
    }
   ],
   "source": [
    "results = predictor.predict(data_loader)\n",
    "results.head(5)"
   ]
  },
  {
   "cell_type": "markdown",
   "metadata": {},
   "source": [
    "## Combine prediction data with data which was not consider for inference"
   ]
  },
  {
   "cell_type": "code",
   "execution_count": 9,
   "metadata": {},
   "outputs": [],
   "source": [
    "original_sensor_data = pd.read_csv(param[\"data\"][\"path\"])\n",
    "data_of_droped_feature = original_sensor_data.loc[:, param[\"data\"][\"droped_feature\"]+[\"ID\"]]\n",
    "complete_data = results.merge(right=data_of_droped_feature, how=\"inner\", on=\"ID\")"
   ]
  },
  {
   "cell_type": "markdown",
   "metadata": {},
   "source": [
    "## Save data to csv file"
   ]
  },
  {
   "cell_type": "code",
   "execution_count": 10,
   "metadata": {},
   "outputs": [],
   "source": [
    "complete_data.to_csv(param[\"results\"][\"path_prediction\"], sep=\";\", index=False)"
   ]
  },
  {
   "cell_type": "code",
   "execution_count": null,
   "metadata": {},
   "outputs": [],
   "source": []
  }
 ],
 "metadata": {
  "kernelspec": {
   "display_name": "masterarbeit",
   "language": "python",
   "name": "masterarbeit"
  },
  "language_info": {
   "codemirror_mode": {
    "name": "ipython",
    "version": 3
   },
   "file_extension": ".py",
   "mimetype": "text/x-python",
   "name": "python",
   "nbconvert_exporter": "python",
   "pygments_lexer": "ipython3",
   "version": "3.6.8"
  }
 },
 "nbformat": 4,
 "nbformat_minor": 2
}
