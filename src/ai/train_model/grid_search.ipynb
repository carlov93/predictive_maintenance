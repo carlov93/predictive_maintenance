{
 "cells": [
  {
   "cell_type": "code",
   "execution_count": 1,
   "metadata": {},
   "outputs": [],
   "source": [
    "import torch\n",
    "import torch.nn as nn\n",
    "from torch.nn.utils import clip_grad_norm_\n",
    "from torch.utils.data import DataLoader\n",
    "import torch.optim as optim\n",
    "import pandas as pd\n",
    "import numpy as np\n",
    "import matplotlib.pyplot as plt\n",
    "import seaborn as sns\n",
    "import time\n",
    "\n",
    "# own Modules \n",
    "from models import LstmMse\n",
    "from data_loader import DataPreperator, DataSet\n",
    "from trainer import Trainer\n",
    "from loss_module import LossModuleMse, LossModuleMle"
   ]
  },
  {
   "cell_type": "markdown",
   "metadata": {},
   "source": [
    "## Hyperparameters"
   ]
  },
  {
   "cell_type": "code",
   "execution_count": 2,
   "metadata": {},
   "outputs": [],
   "source": [
    "hyperparam = {\n",
    "    \"data\" : {\n",
    "        \"stake_training_data\" : 0.75, \n",
    "        \"path\" : '../../../data/artifical_signals/' \n",
    "    },\n",
    "    \"model\" : {\n",
    "        \"input_size\" : 8,\n",
    "        \"n_hidden\" : [20, 50, 75, 100, 150],\n",
    "        \"sequence_size\" : [20, 50, 80, 100, 150, 300],\n",
    "        \"batch_size\" : 8,\n",
    "        \"lstm_layer\" : [2, 3, 4]\n",
    "    },\n",
    "    \"cycling_lr\" : {\n",
    "        # step_size is the number of training iterations (total samples/batch_size) per half cycle. \n",
    "        # Authors suggest setting step_size 2-8 x training iterations in epoch.\n",
    "        \"step_size\" : [(2048/8)*2, (2048/8)*4, (2048/8)*6],\n",
    "        # Mode can be one of {triangular, triangular2, exp_range}\n",
    "        \"mode\" : \"triangular\",\n",
    "        \"gamma\" : 0.9995,\n",
    "        \"base_lr\" : 0.016, \n",
    "        \"max_lr\" :0.1\n",
    "    },\n",
    "    \"training\": {\n",
    "        \"n_epochs\" : 100,\n",
    "        \"patience\" : 10,\n",
    "    },\n",
    "    \"filed_location\": {\n",
    "        \"trained_model\" : \"../../../models/MSE_model/grid_search/best_model\",\n",
    "        \"history\" : \"../../visualisation/files/history_training/grid_search/history_MSE\"\n",
    "    }\n",
    "}"
   ]
  },
  {
   "cell_type": "markdown",
   "metadata": {},
   "source": [
    "## Split raw data into train and validation data and scale it"
   ]
  },
  {
   "cell_type": "code",
   "execution_count": 3,
   "metadata": {},
   "outputs": [],
   "source": [
    "train_loader = DataPreperator(path=hyperparam['data']['path']+'NewBlade_with_sine.csv')\n",
    "train_data, validation_data = train_loader.provide_data(stake_training_data=hyperparam['data']['stake_training_data'])\n"
   ]
  },
  {
   "cell_type": "markdown",
   "metadata": {},
   "source": [
    "## Grid Search\n",
    "An epoch consists of a learning cycle over all batches of training data and an evaluation of the most recent model with the testing data. "
   ]
  },
  {
   "cell_type": "code",
   "execution_count": 4,
   "metadata": {},
   "outputs": [
    {
     "name": "stdout",
     "output_type": "stream",
     "text": [
      "Start with new hyperparameters in grid search: \n",
      "Sequence_size: 20\n",
      "Number LSTM Layers: 2\n",
      "LSTM Number Hidden Dimensions: 20\n",
      "Step-size Cyclic Learner: 512.0\n"
     ]
    },
    {
     "name": "stderr",
     "output_type": "stream",
     "text": [
      "/Users/carlovoss/jupyter_notebooks/masterarbeit/venv_pm/lib/python3.6/site-packages/torch/nn/functional.py:1374: UserWarning: nn.functional.tanh is deprecated. Use torch.tanh instead.\n",
      "  warnings.warn(\"nn.functional.tanh is deprecated. Use torch.tanh instead.\")\n"
     ]
    },
    {
     "name": "stdout",
     "output_type": "stream",
     "text": [
      "-------- epoch_no. 0 finished with eval loss 1.1285811225573221--------\n",
      "Epoch 0: best model saved with loss: 1.1285811225573221\n",
      "-------- epoch_no. 1 finished with eval loss 0.9167485098044078--------\n",
      "Epoch 1: best model saved with loss: 0.9167485098044078\n",
      "-------- epoch_no. 2 finished with eval loss 0.7941856766740482--------\n",
      "Epoch 2: best model saved with loss: 0.7941856766740482\n",
      "-------- epoch_no. 3 finished with eval loss 0.7511802280942599--------\n",
      "Epoch 3: best model saved with loss: 0.7511802280942599\n",
      "-------- epoch_no. 4 finished with eval loss 0.7303362766901652--------\n",
      "Epoch 4: best model saved with loss: 0.7303362766901652\n",
      "-------- epoch_no. 5 finished with eval loss 0.7308248117566108--------\n",
      "-------- epoch_no. 6 finished with eval loss 0.7561924576759338--------\n",
      "-------- epoch_no. 7 finished with eval loss 0.7568425327539444--------\n",
      "-------- epoch_no. 8 finished with eval loss 0.7223372866710027--------\n",
      "Epoch 8: best model saved with loss: 0.7223372866710027\n",
      "-------- epoch_no. 9 finished with eval loss 0.7441639542579651--------\n",
      "-------- epoch_no. 10 finished with eval loss 0.728334541618824--------\n",
      "-------- epoch_no. 11 finished with eval loss 0.7320529624819756--------\n",
      "-------- epoch_no. 12 finished with eval loss 0.7674390668670337--------\n",
      "-------- epoch_no. 13 finished with eval loss 0.7703319688638052--------\n",
      "-------- epoch_no. 14 finished with eval loss 0.7348014165957769--------\n",
      "-------- epoch_no. 15 finished with eval loss 0.7581658204396565--------\n",
      "-------- epoch_no. 16 finished with eval loss 0.7768801172574361--------\n",
      "-------- epoch_no. 17 finished with eval loss 0.7539955725272497--------\n",
      "-------- epoch_no. 18 finished with eval loss 0.798918201526006--------\n",
      "Early stopping on epoch 18\n",
      "Start with new hyperparameters in grid search: \n",
      "Sequence_size: 20\n",
      "Number LSTM Layers: 2\n",
      "LSTM Number Hidden Dimensions: 20\n",
      "Step-size Cyclic Learner: 1024.0\n",
      "-------- epoch_no. 0 finished with eval loss 1.1826204280058543--------\n",
      "Epoch 0: best model saved with loss: 1.1826204280058543\n",
      "-------- epoch_no. 1 finished with eval loss 0.9757950176795324--------\n",
      "Epoch 1: best model saved with loss: 0.9757950176795324\n",
      "-------- epoch_no. 2 finished with eval loss 0.7970206474264463--------\n",
      "Epoch 2: best model saved with loss: 0.7970206474264463\n",
      "-------- epoch_no. 3 finished with eval loss 0.7835038448373477--------\n",
      "Epoch 3: best model saved with loss: 0.7835038448373477\n",
      "-------- epoch_no. 4 finished with eval loss 0.7152974799275398--------\n",
      "Epoch 4: best model saved with loss: 0.7152974799275398\n",
      "-------- epoch_no. 5 finished with eval loss 0.727946837246418--------\n",
      "-------- epoch_no. 6 finished with eval loss 0.7504168997208277--------\n",
      "-------- epoch_no. 7 finished with eval loss 0.7259141196807225--------\n",
      "-------- epoch_no. 8 finished with eval loss 0.7217527334888776--------\n",
      "-------- epoch_no. 9 finished with eval loss 0.6994654829303424--------\n",
      "Epoch 9: best model saved with loss: 0.6994654829303424\n",
      "-------- epoch_no. 10 finished with eval loss 0.7026268939177195--------\n",
      "-------- epoch_no. 11 finished with eval loss 0.6986617748936017--------\n",
      "Epoch 11: best model saved with loss: 0.6986617748936017\n"
     ]
    },
    {
     "ename": "KeyboardInterrupt",
     "evalue": "",
     "output_type": "error",
     "traceback": [
      "\u001b[0;31m---------------------------------------------------------------------------\u001b[0m",
      "\u001b[0;31mKeyboardInterrupt\u001b[0m                         Traceback (most recent call last)",
      "\u001b[0;32m<ipython-input-4-875ed76bd1ce>\u001b[0m in \u001b[0;36m<module>\u001b[0;34m\u001b[0m\n\u001b[1;32m     54\u001b[0m                 \u001b[0;32mfor\u001b[0m \u001b[0mepoch\u001b[0m \u001b[0;32min\u001b[0m \u001b[0mrange\u001b[0m\u001b[0;34m(\u001b[0m\u001b[0mhyperparam\u001b[0m\u001b[0;34m[\u001b[0m\u001b[0;34m'training'\u001b[0m\u001b[0;34m]\u001b[0m\u001b[0;34m[\u001b[0m\u001b[0;34m'n_epochs'\u001b[0m\u001b[0;34m]\u001b[0m\u001b[0;34m)\u001b[0m\u001b[0;34m:\u001b[0m\u001b[0;34m\u001b[0m\u001b[0;34m\u001b[0m\u001b[0m\n\u001b[1;32m     55\u001b[0m                     \u001b[0;31m# Train\u001b[0m\u001b[0;34m\u001b[0m\u001b[0;34m\u001b[0m\u001b[0;34m\u001b[0m\u001b[0m\n\u001b[0;32m---> 56\u001b[0;31m                     \u001b[0mmean_epoch_training_loss\u001b[0m \u001b[0;34m=\u001b[0m \u001b[0mtrainer\u001b[0m\u001b[0;34m.\u001b[0m\u001b[0mtrain\u001b[0m\u001b[0;34m(\u001b[0m\u001b[0mdata_loader_training\u001b[0m\u001b[0;34m)\u001b[0m\u001b[0;34m\u001b[0m\u001b[0;34m\u001b[0m\u001b[0m\n\u001b[0m\u001b[1;32m     57\u001b[0m \u001b[0;34m\u001b[0m\u001b[0m\n\u001b[1;32m     58\u001b[0m                     \u001b[0;31m# Evaluate\u001b[0m\u001b[0;34m\u001b[0m\u001b[0;34m\u001b[0m\u001b[0;34m\u001b[0m\u001b[0m\n",
      "\u001b[0;32m~/jupyter_notebooks/masterarbeit/src/ai/utils/trainer.py\u001b[0m in \u001b[0;36mtrain\u001b[0;34m(self, data_loader_training)\u001b[0m\n\u001b[1;32m     43\u001b[0m             \u001b[0;31m# Calculate loss\u001b[0m\u001b[0;34m\u001b[0m\u001b[0;34m\u001b[0m\u001b[0;34m\u001b[0m\u001b[0m\n\u001b[1;32m     44\u001b[0m             \u001b[0mloss\u001b[0m \u001b[0;34m=\u001b[0m \u001b[0mself\u001b[0m\u001b[0;34m.\u001b[0m\u001b[0mcriterion\u001b[0m\u001b[0;34m(\u001b[0m\u001b[0moutput\u001b[0m\u001b[0;34m,\u001b[0m \u001b[0mtarget_data\u001b[0m\u001b[0;34m)\u001b[0m\u001b[0;34m\u001b[0m\u001b[0;34m\u001b[0m\u001b[0m\n\u001b[0;32m---> 45\u001b[0;31m             \u001b[0mself\u001b[0m\u001b[0;34m.\u001b[0m\u001b[0mepoch_training_loss\u001b[0m\u001b[0;34m.\u001b[0m\u001b[0mappend\u001b[0m\u001b[0;34m(\u001b[0m\u001b[0mloss\u001b[0m\u001b[0;34m.\u001b[0m\u001b[0mitem\u001b[0m\u001b[0;34m(\u001b[0m\u001b[0;34m)\u001b[0m\u001b[0;34m)\u001b[0m\u001b[0;34m\u001b[0m\u001b[0;34m\u001b[0m\u001b[0m\n\u001b[0m\u001b[1;32m     46\u001b[0m \u001b[0;34m\u001b[0m\u001b[0m\n\u001b[1;32m     47\u001b[0m             \u001b[0;31m# Backward pass\u001b[0m\u001b[0;34m\u001b[0m\u001b[0;34m\u001b[0m\u001b[0;34m\u001b[0m\u001b[0m\n",
      "\u001b[0;31mKeyboardInterrupt\u001b[0m: "
     ]
    }
   ],
   "source": [
    "for sequenze_size in hyperparam[\"model\"][\"sequence_size\"]:\n",
    "    # Create roling dataset \n",
    "    dataset_train = DataSet(train_data, timesteps=sequenze_size)\n",
    "    dataset_validation = DataSet(validation_data, timesteps=sequenze_size)\n",
    "    \n",
    "    # Initialize DataLoader\n",
    "    data_loader_training = DataLoader(dataset_train, batch_size=hyperparam[\"model\"][\"batch_size\"], \n",
    "                                      num_workers=1, shuffle=True, drop_last=True)\n",
    "    data_loader_validation = DataLoader(dataset_validation, batch_size=hyperparam[\"model\"][\"batch_size\"], \n",
    "                                        num_workers=1, shuffle=True, drop_last=True)\n",
    "    \n",
    "    for n_lstm_layer in hyperparam[\"model\"][\"lstm_layer\"]:\n",
    "        for n_hidden in hyperparam[\"model\"][\"n_hidden\"]:\n",
    "            for step_size in hyperparam[\"cycling_lr\"][\"step_size\"]:\n",
    "                print(\"Start with new hyperparameters in grid search: \")\n",
    "                print(\"Sequence_size: {}\".format(sequenze_size))\n",
    "                print(\"Number LSTM Layers: {}\".format(n_lstm_layer))\n",
    "                print(\"LSTM Number Hidden Dimensions: {}\".format(n_hidden))\n",
    "                print(\"Step-size Cyclic Learner: {}\".format(step_size))\n",
    "\n",
    "                # Create lists to save training loss and validation loss of each epoch\n",
    "                hist_loss = []\n",
    "                torch.manual_seed(0)\n",
    "                model = LstmMse(batch_size=hyperparam['model']['batch_size'], \n",
    "                                input_dim=hyperparam['model']['input_size'], \n",
    "                                n_hidden=n_hidden, \n",
    "                                n_layers=n_lstm_layer\n",
    "                               )\n",
    "\n",
    "                optimizer = torch.optim.SGD(model.parameters(), lr=1.)  \n",
    "\n",
    "                criterion = LossModuleMse(hyperparam[\"model\"][\"input_size\"], hyperparam[\"model\"][\"batch_size\"])\n",
    "\n",
    "                scheduler = torch.optim.lr_scheduler.CyclicLR(optimizer=optimizer, \n",
    "                                                              base_lr=hyperparam['cycling_lr']['base_lr'], \n",
    "                                                              max_lr=hyperparam['cycling_lr']['max_lr'], \n",
    "                                                              step_size_up=step_size, \n",
    "                                                              mode=hyperparam['cycling_lr']['mode'],\n",
    "                                                              gamma=hyperparam['cycling_lr']['gamma']\n",
    "                                                             )\n",
    "\n",
    "                trainer = Trainer(model=model,\n",
    "                                  optimizer=optimizer,\n",
    "                                  scheduler=scheduler,\n",
    "                                  criterion=criterion, \n",
    "                                  location_model=hyperparam[\"filed_location\"][\"trained_model\"], \n",
    "                                  location_stats=hyperparam[\"filed_location\"][\"history\"], \n",
    "                                  patience=hyperparam['training']['patience']\n",
    "                                 )\n",
    "                \n",
    "                # Measure training time for current configuration\n",
    "                start = time.time()\n",
    "\n",
    "                for epoch in range(hyperparam['training']['n_epochs']):\n",
    "                    # Train\n",
    "                    mean_epoch_training_loss = trainer.train(data_loader_training)\n",
    "\n",
    "                    # Evaluate\n",
    "                    mean_epoch_validation_loss = trainer.evaluate(data_loader_validation, hist_loss, epoch)\n",
    "\n",
    "                    # Cache History\n",
    "                    trainer.cache_history(hist_loss, epoch, mean_epoch_training_loss, mean_epoch_validation_loss)\n",
    "\n",
    "                    # Save model if its the best one since the last change in configuration of hyperparameters\n",
    "                    status_ok = trainer.save_model(mean_epoch_validation_loss, epoch, sequenze_size, \n",
    "                                                   n_lstm_layer, n_hidden, step_size)\n",
    "                    if not status_ok:\n",
    "                        break\n",
    "\n",
    "                # Time in minutes\n",
    "                execution_time = (time.time() - start)/60\n",
    "                \n",
    "                # Save training statistics \n",
    "                trainer.save_statistic(hist_loss, sequenze_size, n_lstm_layer, n_hidden, step_size, execution_time)         "
   ]
  },
  {
   "cell_type": "code",
   "execution_count": null,
   "metadata": {},
   "outputs": [],
   "source": []
  }
 ],
 "metadata": {
  "kernelspec": {
   "display_name": "masterarbeit",
   "language": "python",
   "name": "masterarbeit"
  },
  "language_info": {
   "codemirror_mode": {
    "name": "ipython",
    "version": 3
   },
   "file_extension": ".py",
   "mimetype": "text/x-python",
   "name": "python",
   "nbconvert_exporter": "python",
   "pygments_lexer": "ipython3",
   "version": "3.6.8"
  }
 },
 "nbformat": 4,
 "nbformat_minor": 2
}
