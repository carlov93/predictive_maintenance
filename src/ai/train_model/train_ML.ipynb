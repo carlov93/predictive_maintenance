{
 "cells": [
  {
   "cell_type": "code",
   "execution_count": 14,
   "metadata": {},
   "outputs": [],
   "source": [
    "import torch\n",
    "import torch.nn as nn\n",
    "import torch.nn.functional as F\n",
    "from torch.nn.utils import clip_grad_norm_\n",
    "from torch.autograd import Variable\n",
    "import pandas as pd\n",
    "from torch.utils.data import Dataset, DataLoader\n",
    "import matplotlib.pyplot as plt\n",
    "import torch.optim as optim\n",
    "from sklearn.preprocessing import StandardScaler\n",
    "import pandas as pd\n",
    "\n",
    "import numpy as np\n",
    "import matplotlib.pyplot as plt\n",
    "from keras.preprocessing.sequence import TimeseriesGenerator"
   ]
  },
  {
   "cell_type": "markdown",
   "metadata": {},
   "source": [
    "# Hyperparameters"
   ]
  },
  {
   "cell_type": "code",
   "execution_count": 18,
   "metadata": {},
   "outputs": [],
   "source": [
    "hyperparam = {\n",
    "    \"data\" : {\n",
    "        \"stake_training_data\" : 0.75, \n",
    "        \"path\" : '../../../data/vega_shrinkwrapper_original/NewBlade/'\n",
    "    },\n",
    "    \"model\" : {\n",
    "        \"input_size\" : 7,\n",
    "        \"n_hidden\" : 150,\n",
    "        \"sequence_size\" : 50,\n",
    "        \"batch_size\" : 8,\n",
    "        \"lstm_layer\" : 3,\n",
    "        \"gaussian\" : 1\n",
    "    },\n",
    "    \"cycling_lr\" : {\n",
    "        # step_size is the number of training iterations (total samples/batch_size) per half cycle. \n",
    "        # Authors suggest setting step_size 2-8 x training iterations in epoch.\n",
    "        \"step_size\" : (2048/8)*2, \n",
    "        # Mode can be one of {triangular, triangular2, exp_range}\n",
    "        \"mode\" : \"triangular\", \n",
    "        \"gamma\" : 0.9995,\n",
    "        \"base_lr\" : 0.016, \n",
    "        \"max_lr\" :0.1\n",
    "    },\n",
    "    \"training\": {\n",
    "        \"n_epochs\" : 2,\n",
    "        \"patience\" : 50,\n",
    "    }\n",
    "}"
   ]
  },
  {
   "cell_type": "markdown",
   "metadata": {},
   "source": [
    "# Split train and test data"
   ]
  },
  {
   "cell_type": "code",
   "execution_count": 19,
   "metadata": {},
   "outputs": [],
   "source": [
    "class DataPreperator():\n",
    "    def __init__(self, path):\n",
    "        self.path = path\n",
    "        \n",
    "    def load_data(self):\n",
    "        return pd.read_csv(self.path)\n",
    "    \n",
    "    def preprocess_data(self, train_data, validation_data):\n",
    "        # Remove time feature\n",
    "        train_data = train_data.drop(labels=\"Timestamp\", axis=1)\n",
    "        validation_data = validation_data.drop(labels=\"Timestamp\", axis=1)\n",
    "        # Initialise standard scaler\n",
    "        scaler = StandardScaler()\n",
    "        scaler.fit(train_data)\n",
    "        # Transform data\n",
    "        train_scaled = scaler.transform(train_data)\n",
    "        validation_scaled = scaler.transform(validation_data)\n",
    "        return train_scaled, validation_scaled\n",
    "        \n",
    "    def provide_data(self, stake_training_data):\n",
    "        dataset = self.load_data()\n",
    "        amount_training_data = round(len(dataset)*stake_training_data)\n",
    "        train_data = dataset.iloc[0:amount_training_data,:]\n",
    "        validation_data = dataset.iloc[amount_training_data:,:]\n",
    "        train_preprocessed, validation_preporcessed = self.preprocess_data(train_data, validation_data)\n",
    "        \n",
    "        return train_preprocessed, validation_preporcessed"
   ]
  },
  {
   "cell_type": "code",
   "execution_count": 20,
   "metadata": {},
   "outputs": [],
   "source": [
    "train_loader = DataPreperator(path=hyperparam['data']['path']+'NewBlade001.csv')\n",
    "train_data, validation_data = train_loader.provide_data(stake_training_data=hyperparam['data']['stake_training_data'])\n"
   ]
  },
  {
   "cell_type": "markdown",
   "metadata": {},
   "source": [
    "# Datahandler \n",
    "Time series data must be transformed into a structure of samples with `input` and `target` components before it can be used to fit a supervised learning model. <br>\n",
    "For a time series interested in one-step predictions, the observations at prior time steps, so-called lag observations, are used as `input` and the `target` is the observation at the current time step.\n",
    "\n",
    "For example, a univariate series can be expressed as a supervised learning problem with three time steps for `input` and one step as `target`, as follows:\n",
    "\n",
    "|input|target|\n",
    "|-----|------|\n",
    "[1, 2, 3]|[4]\n",
    "[2, 3, 4]|[5]\n",
    "[3, 4, 5]|[6]\n",
    "\n",
    "The Keras deep learning library provides the `TimeseriesGenerator` to automatically transform both univariate and multivariate time series data into such a format. "
   ]
  },
  {
   "cell_type": "markdown",
   "metadata": {},
   "source": [
    "## Size of multivariate time series\n",
    "Actually the data has a other size than in the table above because of multivariate time series data and because of using batches. <br>\n",
    "__First dimension__: batch size --> Defines the number of samples that will be propagated through the network simultaneously. <br>\n",
    "__Second dimension:__ timesteps --> Number of sequence which is passed into the LSTM <br>\n",
    "__Third dimension:__ input_dim --> Is the number of features. In this case data from 7 sensors, collected at the same time. <br>\n",
    "\n",
    "![](../../knowledge/pictures/input_shape.png)"
   ]
  },
  {
   "cell_type": "code",
   "execution_count": 80,
   "metadata": {},
   "outputs": [],
   "source": [
    "class DataSet(Dataset):\n",
    "    def __init__(self, data, timesteps):\n",
    "        # Data as numpy array is provided\n",
    "        self.data = data\n",
    "        # Data generator is initialized, batch_size=1 is indipendent of neural network's batch_size \n",
    "        self.generator = TimeseriesGenerator(self.data, self.data, length=timesteps, batch_size=1)\n",
    "\n",
    "    def __getitem__(self, index):\n",
    "        x, y = self.generator[index]\n",
    "        x_torch = torch.from_numpy(x)\n",
    "        # Dimension 0 with size 1 (created by TimeseriesGenerator because of batch_size=1) gets removed \n",
    "        # because DataLoader will add a dimension 0 with size=batch_size as well\n",
    "        x_torch = torch.squeeze(x_torch) # torch.Size([1, timesteps, 7]) --> torch.Size([timesteps, 7])\n",
    "        y_torch = torch.from_numpy(y)\n",
    "        y_torch = torch.squeeze(y_torch)\n",
    "        return (x_torch.float(), y_torch.float()) \n",
    "\n",
    "    def __len__(self):\n",
    "        return len(self.generator)"
   ]
  },
  {
   "cell_type": "code",
   "execution_count": 81,
   "metadata": {},
   "outputs": [],
   "source": [
    "dataset_train = DataSet(train_data, timesteps=hyperparam[\"model\"][\"sequence_size\"])\n",
    "dataset_validation = DataSet(validation_data, timesteps=hyperparam[\"model\"][\"sequence_size\"])\n",
    "\n",
    "# Data is shuffled because each mini batch is indipendent from each other, but samples of a minibatch are in chronological order\n",
    "data_loader_training = DataLoader(dataset_train, batch_size=hyperparam[\"model\"][\"batch_size\"], \n",
    "                                  num_workers=1, shuffle=True, drop_last=True)\n",
    "data_loader_validation = DataLoader(dataset_validation, batch_size=hyperparam[\"model\"][\"batch_size\"], \n",
    "                                    num_workers=1, shuffle=True, drop_last=True)"
   ]
  },
  {
   "cell_type": "code",
   "execution_count": 82,
   "metadata": {},
   "outputs": [
    {
     "name": "stdout",
     "output_type": "stream",
     "text": [
      "Data of batch: 0\n",
      "Size of input data: torch.Size([8, 50, 7])\n",
      "Size of target data: torch.Size([8, 7])\n",
      "Data of batch: 1\n",
      "Size of input data: torch.Size([8, 50, 7])\n",
      "Size of target data: torch.Size([8, 7])\n"
     ]
    }
   ],
   "source": [
    "for batch_idx, data in enumerate(data_loader_training):\n",
    "    x,y = data\n",
    "    print('Data of batch: {}'.format(batch_idx))\n",
    "    print(\"Size of input data: {}\".format(x.size()))\n",
    "    print(\"Size of target data: {}\".format(y.size()))\n",
    "    if batch_idx >=1: break"
   ]
  },
  {
   "cell_type": "markdown",
   "metadata": {},
   "source": [
    "## Define Architecture of Neural Network\n",
    "__Parameters for LSTM Modul:__\n",
    "- input_size : The number of expected features in the input x\n",
    "- hidden_size :The number of features in the hidden state h\n",
    "- num_layers : Number of recurrent layers. E.g., setting num_layers=2 would mean stacking two LSTMs together to form a stacked LSTM, with the second LSTM taking in outputs of the first LSTM and computing the final results.\n",
    "- batch_first : If True, then the input __and output__ tensors are provided as (batch, seq, feature).\n",
    "- dropout – If non-zero, introduces a Dropout layer on the outputs of each LSTM layer except the last layer, with dropout probability equal to dropout. Default: 0"
   ]
  },
  {
   "cell_type": "markdown",
   "metadata": {},
   "source": [
    "## Model which contains 2 parallel full conected layer (y_hat and sigma seperatly)"
   ]
  },
  {
   "cell_type": "code",
   "execution_count": null,
   "metadata": {},
   "outputs": [],
   "source": [
    "class LSTM(nn.Module):\n",
    "    def __init__(self, batch_size, input_dim, n_hidden, n_layers):\n",
    "        super(LSTM, self).__init__()\n",
    "        # Attributes for LSTM Network\n",
    "        self.input_dim = input_dim\n",
    "        self.n_hidden = n_hidden\n",
    "        self.n_layers = n_layers\n",
    "        self.batch_size = batch_size\n",
    "        \n",
    "        # Definition of NN layer\n",
    "        # batch_first = True because dataloader creates batches and batch_size is 0. dimension\n",
    "        self.lstm = nn.LSTM(input_size = self.input_dim, hidden_size = self.n_hidden, num_layers = self.n_layers, batch_first = True)\n",
    "        self.fc_y_hat = nn.Linear(self.n_hidden, self.input_dim)\n",
    "        self.fc_tau = nn.Linear(self.n_hidden, self.input_dim)\n",
    "        \n",
    "    def forward(self, input_data, hidden):\n",
    "        # Forward propagate LSTM\n",
    "        # LSTM in Pytorch return two results the first one usually called output and the second one (hidden_state, cell_state). \n",
    "        # As output the LSTM returns all the hidden_states for all the timesteps (seq), in other words all of the hidden states throughout\n",
    "        # the sequence\n",
    "        # As hidden_state the LSTM returns just the most recent hidden state\n",
    "        lstm_out, (hidden_state, cell_state) = self.lstm(input_data, hidden)\n",
    "        # Length of input data can varry \n",
    "        length_seq = input_data.size()[1]\n",
    "        # Select the output from the last sequence \n",
    "        last_out = lstm_out[:,length_seq-1,:]\n",
    "        out_y_hat = self.fc_y_hat(last_out)\n",
    "        out_tau = self.fc_tau(last_out)\n",
    "        #σ = exp(τ) guarantees σ > 0 and provides numerical stability in the learning process\n",
    "        sigma = torch.exp(out_tau)\n",
    "        return out_y_hat, sigma\n",
    "    \n",
    "    def init_hidden(self):\n",
    "        # This method is for initializing hidden state as well as cell state\n",
    "        # We need to detach the hidden state to prevent exploding/vanishing gradients\n",
    "        # The axes semantics are (num_layers, minibatch_size, hidden_dim)\n",
    "        h0 = torch.zeros(self.n_layers, self.batch_size, self.n_hidden, requires_grad=False)\n",
    "        c0 = torch.zeros(self.n_layers, self.batch_size, self.n_hidden, requires_grad=False)\n",
    "        return [t for t in (h0, c0)]"
   ]
  },
  {
   "cell_type": "markdown",
   "metadata": {},
   "source": [
    "### Loss function Prof. Niggemann\n",
    "--> Energie wird betrachtet"
   ]
  },
  {
   "cell_type": "code",
   "execution_count": 84,
   "metadata": {},
   "outputs": [],
   "source": [
    "class LossModule(torch.nn.Module):\n",
    "    def __init__(self):\n",
    "        \"\"\"\n",
    "        In the constructor we instantiate the module and assign them as\n",
    "        member variables.\n",
    "        \"\"\"\n",
    "        super(LossModule, self).__init__()\n",
    "\n",
    "    def forward(self, output, target_data):\n",
    "        \"\"\"\n",
    "        In the forward function we accept a Tensor of input data and we must return\n",
    "        a Tensor of output data. \n",
    "        \"\"\"\n",
    "        # Compute loss\n",
    "        mean_loss = torch.sum((output - target_data)**2, dim=1) / hyperparam[\"model\"][\"input_size\"]\n",
    "        mean_loss = torch.sum(mean_loss) / hyperparam[\"model\"][\"batch_size\"]\n",
    "        return mean_loss"
   ]
  },
  {
   "cell_type": "code",
   "execution_count": 85,
   "metadata": {},
   "outputs": [],
   "source": [
    "def loss_function(output, target_data):\n",
    "    y_hat, sigma = output\n",
    "    # target_data.size(batch_size,1,7) because timestep = 1\n",
    "    # new target_data.size(batch_size,7)\n",
    "    target_data = torch.squeeze(target_data)\n",
    "    \n",
    "    term = ((target_data-y_hat)/sigma).pow(2) + 2*torch.log(sigma)\n",
    "    loss_batches = torch.sum(input=term, dim=1)\n",
    "    \n",
    "    # The value being returned by a loss function MUST BE a scalar value. Not a vector/tensor.\n",
    "    mean_loss = torch.sum(loss_batches)/hyperparam['model']['batch_size']\n",
    "    \n",
    "    # The value being returned must be a Variable. This is so that it can be used to update the parameters. \n",
    "    # A Variable is tracking the operations being done on it so that it can backpropagate to get the gradient.\n",
    "    return Variable(mean_loss, requires_grad=True)"
   ]
  },
  {
   "cell_type": "markdown",
   "metadata": {},
   "source": [
    "## Training Loop\n",
    "An epoch consists of a learning cycle over all batches of training data and an evaluation of the most recent model with the testing data. "
   ]
  },
  {
   "cell_type": "code",
   "execution_count": 87,
   "metadata": {},
   "outputs": [
    {
     "name": "stdout",
     "output_type": "stream",
     "text": [
      "Start model training\n",
      "-------- epoch_no. 0 finished with eval loss 1.0470433507049293--------\n",
      "Epoch 0: best model saved with loss: 1.0470433507049293\n",
      "-------- epoch_no. 1 finished with eval loss 0.7301198317293536--------\n",
      "Epoch 1: best model saved with loss: 0.7301198317293536\n",
      "   epoch  training  validation\n",
      "0      0  0.650653    1.047043\n",
      "1      1  0.272859    0.730120\n"
     ]
    }
   ],
   "source": [
    "# Initialize model\n",
    "torch.manual_seed(0)\n",
    "model = LSTM(batch_size=hyperparam['model']['batch_size'], input_dim=hyperparam['model']['input_size'], \n",
    "             n_hidden=hyperparam['model']['n_hidden'], n_layers=hyperparam['model']['lstm_layer'])\n",
    "\n",
    "\n",
    "# Initialize optimizer and Cyclic Learning Rate\n",
    "# lr=1. because of scheduler (1*learning_rate_schedular)\n",
    "optimizer = torch.optim.SGD(model.parameters(), lr=1.)  \n",
    "\n",
    "scheduler = torch.optim.lr_scheduler.CyclicLR(optimizer=optimizer, base_lr=hyperparam['cycling_lr']['base_lr'], \n",
    "                                              max_lr=hyperparam['cycling_lr']['max_lr'], step_size_up=hyperparam['cycling_lr']['step_size'], \n",
    "                                              mode=hyperparam['cycling_lr']['mode'], gamma=hyperparam['cycling_lr']['gamma'])\n",
    "\n",
    "print(\"Start model training\")\n",
    "# Create lists to save training loss and validation loss of each epoch\n",
    "hist_loss = []\n",
    "lr_find_lr = []\n",
    "\n",
    "# Set first comparative value\n",
    "lowest_loss = 99\n",
    "trails = 0\n",
    "\n",
    "for epoch in range(hyperparam['training']['n_epochs']):\n",
    "    # Empty list for recording performance \n",
    "    epoch_training_loss = []\n",
    "    epoch_validation_loss = []\n",
    "    \n",
    "    model.train()\n",
    "    \n",
    "    ##### Training #####\n",
    "    for batch_number, data in enumerate(data_loader_training):\n",
    "        # The LSTM has to be reinitialised, otherwise the LSTM will treat a new batch as a continuation of a sequence.\n",
    "        # When batches of data are independent sequences, then you should reinitialise the hidden state before each batch. \n",
    "        # But if your data is made up of really long sequences and you cut it up into batches making sure that each batch \n",
    "        # follows on from the previous batch, then in that case you wouldn’t reinitialise the hidden state before each batch.\n",
    "        # In the current workflow of class DataProvoider independent sequences are returned. \n",
    "        \n",
    "        input_data, target_data = data\n",
    "        \n",
    "        hidden = model.init_hidden()\n",
    "        \n",
    "        # Zero out gradient, else they will accumulate between minibatches\n",
    "        optimizer.zero_grad()\n",
    "        \n",
    "        # Forward propagation\n",
    "        output = model(input_data, hidden)\n",
    "         \n",
    "        # Calculate loss\n",
    "        criterion = LossModule()\n",
    "        loss = criterion(output, target_data)\n",
    "        epoch_training_loss.append(loss.item())\n",
    "    \n",
    "        # Backward pass\n",
    "        loss.backward()\n",
    "        \n",
    "        # Update parameters\n",
    "        optimizer.step()\n",
    "        \n",
    "        # Update LR\n",
    "        scheduler.step()\n",
    "        lr_step = optimizer.state_dict()[\"param_groups\"][0][\"lr\"]\n",
    "        lr_find_lr.append(lr_step)\n",
    "        \n",
    "    # Save mean of loss over all training iterations\n",
    "    mean_epoch_training_loss = sum(epoch_training_loss) / float(len(epoch_training_loss))\n",
    "    \n",
    "    ##### Evaluation #####\n",
    "    for batch_number, data in enumerate(data_loader_validation):\n",
    "        input_data, target_data = data\n",
    "        model.eval()\n",
    "        hidden = model.init_hidden()\n",
    "        \n",
    "        output = model(input_data, hidden)\n",
    "        \n",
    "        # Calculate loss\n",
    "        criterion = LossModule()\n",
    "        loss = criterion(output, target_data)\n",
    "        epoch_validation_loss.append(loss.item())\n",
    "    \n",
    "    # Save mean of loss over all validation iterations\n",
    "    mean_epoch_validation_loss = sum(epoch_validation_loss) / float(len(epoch_validation_loss))\n",
    "    \n",
    "    # Save training and validation loss to history\n",
    "    hist_loss.append({'epoch': epoch, \n",
    "                      'training': mean_epoch_training_loss, \n",
    "                      'validation': mean_epoch_validation_loss})\n",
    "    \n",
    "    print(\"-------- epoch_no. {} finished with eval loss {}--------\".format(epoch, mean_epoch_validation_loss))\n",
    "        \n",
    "    # Check after every evaluation whether the latest model is the best one or not\n",
    "    # If this is the case, set current score to best_score, reset trails and save the model.\n",
    "    if mean_epoch_validation_loss < lowest_loss:\n",
    "        trials = 0\n",
    "        lowest_loss = mean_epoch_validation_loss\n",
    "        torch.save({\n",
    "            'epoch': epoch,\n",
    "            'model_state_dict': model.state_dict(),\n",
    "            'optimizer_state_dict': optimizer.state_dict(),\n",
    "            'loss': mean_epoch_validation_loss\n",
    "        }, \"../../../models/ML_model/best_model.pt\")\n",
    "        print(\"Epoch {}: best model saved with loss: {}\".format(epoch, mean_epoch_validation_loss))\n",
    "    \n",
    "    # Else: Increase trails by one and start new epoch as long as not too many epochs \n",
    "    # were unsuccessful (controlled by patience)\n",
    "    else:\n",
    "        trials += 1\n",
    "        if trials >= hyperparam['training']['patience'] :\n",
    "            print(f'Early stopping on epoch {epoch}')\n",
    "            break  \n",
    "\n",
    "# Safe results to csv file\n",
    "df = pd.DataFrame(hist_loss)\n",
    "print(df)\n",
    "df.to_csv(\"../../../models/statistics/history_ML.csv\", sep=\";\", index=False)"
   ]
  },
  {
   "cell_type": "code",
   "execution_count": 68,
   "metadata": {},
   "outputs": [
    {
     "data": {
      "text/html": [
       "<div>\n",
       "<style scoped>\n",
       "    .dataframe tbody tr th:only-of-type {\n",
       "        vertical-align: middle;\n",
       "    }\n",
       "\n",
       "    .dataframe tbody tr th {\n",
       "        vertical-align: top;\n",
       "    }\n",
       "\n",
       "    .dataframe thead th {\n",
       "        text-align: right;\n",
       "    }\n",
       "</style>\n",
       "<table border=\"1\" class=\"dataframe\">\n",
       "  <thead>\n",
       "    <tr style=\"text-align: right;\">\n",
       "      <th></th>\n",
       "      <th>y</th>\n",
       "      <th>x</th>\n",
       "    </tr>\n",
       "  </thead>\n",
       "  <tbody>\n",
       "    <tr>\n",
       "      <th>0</th>\n",
       "      <td>0.016164</td>\n",
       "      <td>0</td>\n",
       "    </tr>\n",
       "    <tr>\n",
       "      <th>1</th>\n",
       "      <td>0.016328</td>\n",
       "      <td>1</td>\n",
       "    </tr>\n",
       "    <tr>\n",
       "      <th>2</th>\n",
       "      <td>0.016492</td>\n",
       "      <td>2</td>\n",
       "    </tr>\n",
       "    <tr>\n",
       "      <th>3</th>\n",
       "      <td>0.016656</td>\n",
       "      <td>3</td>\n",
       "    </tr>\n",
       "    <tr>\n",
       "      <th>4</th>\n",
       "      <td>0.016820</td>\n",
       "      <td>4</td>\n",
       "    </tr>\n",
       "  </tbody>\n",
       "</table>\n",
       "</div>"
      ],
      "text/plain": [
       "          y  x\n",
       "0  0.016164  0\n",
       "1  0.016328  1\n",
       "2  0.016492  2\n",
       "3  0.016656  3\n",
       "4  0.016820  4"
      ]
     },
     "execution_count": 68,
     "metadata": {},
     "output_type": "execute_result"
    }
   ],
   "source": [
    "import numpy as np\n",
    "import pandas as pd\n",
    "x = range(len(lr_find_lr))\n",
    "data = pd.DataFrame(data={'y': lr_find_lr, 'x': x})\n",
    "data.head()"
   ]
  },
  {
   "cell_type": "code",
   "execution_count": 69,
   "metadata": {},
   "outputs": [
    {
     "data": {
      "image/png": "[encoded data removed]",
      "text/plain": [
       "<Figure size 504x504 with 1 Axes>"
      ]
     },
     "metadata": {
      "needs_background": "light"
     },
     "output_type": "display_data"
    }
   ],
   "source": [
    "import seaborn as sns\n",
    "import matplotlib.pyplot as plt\n",
    "\n",
    "\n",
    "f, ax = plt.subplots(figsize=(7, 7))\n",
    "#ax.set(xscale=\"log\")\n",
    "sns.lineplot(x=data.x, y=data.y, ax=ax)\n",
    "plt.show()"
   ]
  },
  {
   "cell_type": "code",
   "execution_count": 74,
   "metadata": {},
   "outputs": [
    {
     "data": {
      "image/png": "[encoded data removed]",
      "text/plain": [
       "<Figure size 1080x1080 with 1 Axes>"
      ]
     },
     "metadata": {
      "needs_background": "light"
     },
     "output_type": "display_data"
    }
   ],
   "source": [
    "epoch_no_training = range(len(hist_training_loss))\n",
    "epoch_no_validation = range(len(hist_validation_loss))\n",
    "loss_training = pd.DataFrame(data={'y': hist_training_loss, 'x': epoch_no_training})\n",
    "loss_validation = pd.DataFrame(data={'y': hist_validation_loss, 'x': epoch_no_validation})\n",
    "f, ax = plt.subplots(figsize=(15, 15))\n",
    "sns.lineplot(x=loss_training.x, y=loss_training.y, ax=ax)\n",
    "sns.lineplot(x=loss_validation.x, y=loss_validation.y, ax=ax)\n",
    "plt.show()"
   ]
  },
  {
   "cell_type": "code",
   "execution_count": null,
   "metadata": {},
   "outputs": [],
   "source": []
  }
 ],
 "metadata": {
  "kernelspec": {
   "display_name": "masterarbeit",
   "language": "python",
   "name": "masterarbeit"
  },
  "language_info": {
   "codemirror_mode": {
    "name": "ipython",
    "version": 3
   },
   "file_extension": ".py",
   "mimetype": "text/x-python",
   "name": "python",
   "nbconvert_exporter": "python",
   "pygments_lexer": "ipython3",
   "version": "3.6.8"
  }
 },
 "nbformat": 4,
 "nbformat_minor": 2
}
