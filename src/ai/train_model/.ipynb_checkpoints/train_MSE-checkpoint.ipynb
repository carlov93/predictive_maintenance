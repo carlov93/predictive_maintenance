{
 "cells": [
  {
   "cell_type": "code",
   "execution_count": 2,
   "metadata": {},
   "outputs": [],
   "source": [
    "import torch\n",
    "import torch.nn as nn\n",
    "import torch.nn.functional as F\n",
    "from torch.nn.utils import clip_grad_norm_\n",
    "from torch.autograd import Variable\n",
    "from torchsummary import summary\n",
    "import pandas as pd\n",
    "from torch.utils.data import Dataset, DataLoader\n",
    "import matplotlib.pyplot as plt\n",
    "import torch.optim as optim\n",
    "\n",
    "import numpy as np\n",
    "import matplotlib.pyplot as plt\n",
    "from keras.preprocessing.sequence import TimeseriesGenerator"
   ]
  },
  {
   "cell_type": "markdown",
   "metadata": {},
   "source": [
    "# Hyperparameters"
   ]
  },
  {
   "cell_type": "code",
   "execution_count": 13,
   "metadata": {},
   "outputs": [],
   "source": [
    "hyperparameters = {\n",
    "    \"data\" : {\n",
    "        \"stake_traing_data\" : 0.75, \n",
    "        \"path_data\" : '../../data/vega_shrinkwrapper_original/'\n",
    "    },\n",
    "    \"model\" : {\n",
    "        \"input_size\" : 7,\n",
    "        \"n_hidden\" : 24,\n",
    "        \"sequence_size\" : 50,\n",
    "        \"batch_size\" : 8,\n",
    "        \"lstm_layer\" : 2,\n",
    "    },\n",
    "    \"cycling_lr\" : {\n",
    "        \"step_size\" : 4, \n",
    "        \"mode\" : \"triangular_decay\", \n",
    "        \"gamma\" : 0.95\n",
    "    },\n",
    "    \"training\": {\n",
    "        \"n_epochs\" : 200,\n",
    "        \"patience\" : 50,\n",
    "    }\n",
    "}"
   ]
  },
  {
   "cell_type": "markdown",
   "metadata": {},
   "source": [
    "# Split train and test data"
   ]
  },
  {
   "cell_type": "code",
   "execution_count": 3,
   "metadata": {},
   "outputs": [],
   "source": [
    "def split_data(stake_training_data, path):\n",
    "    dataset = pd.read_csv(path)\n",
    "    amount_training_data = round(len(dataset)*stake_training_data)\n",
    "    train_data = dataset.iloc[0:amount_training_data,:]\n",
    "    validation_data = dataset.iloc[amount_training_data:,:]\n",
    "    return train_data, validation_data"
   ]
  },
  {
   "cell_type": "code",
   "execution_count": 4,
   "metadata": {},
   "outputs": [],
   "source": [
    "def load_test_data(path):\n",
    "    dataset = pd.read_csv(path)\n",
    "    return dataset"
   ]
  },
  {
   "cell_type": "code",
   "execution_count": 5,
   "metadata": {},
   "outputs": [
    {
     "data": {
      "text/html": [
       "<div>\n",
       "<style scoped>\n",
       "    .dataframe tbody tr th:only-of-type {\n",
       "        vertical-align: middle;\n",
       "    }\n",
       "\n",
       "    .dataframe tbody tr th {\n",
       "        vertical-align: top;\n",
       "    }\n",
       "\n",
       "    .dataframe thead th {\n",
       "        text-align: right;\n",
       "    }\n",
       "</style>\n",
       "<table border=\"1\" class=\"dataframe\">\n",
       "  <thead>\n",
       "    <tr style=\"text-align: right;\">\n",
       "      <th></th>\n",
       "      <th>Timestamp</th>\n",
       "      <th>pCut Motor: Torque</th>\n",
       "      <th>pCut CTRL Position controller: Lag error</th>\n",
       "      <th>pCut CTRL Position controller: Actual position</th>\n",
       "      <th>pCut CTRL Position controller: Actual speed</th>\n",
       "      <th>pSvolFilm CTRL Position controller: Actual position</th>\n",
       "      <th>pSvolFilm CTRL Position controller: Actual speed</th>\n",
       "      <th>pSvolFilm CTRL Position controller: Lag error</th>\n",
       "    </tr>\n",
       "  </thead>\n",
       "  <tbody>\n",
       "    <tr>\n",
       "      <th>0</th>\n",
       "      <td>-0.188</td>\n",
       "      <td>-0.112131</td>\n",
       "      <td>-0.002490</td>\n",
       "      <td>-884606</td>\n",
       "      <td>0.000000</td>\n",
       "      <td>11128</td>\n",
       "      <td>2.504289</td>\n",
       "      <td>0.261085</td>\n",
       "    </tr>\n",
       "    <tr>\n",
       "      <th>1</th>\n",
       "      <td>-0.184</td>\n",
       "      <td>-0.088931</td>\n",
       "      <td>-0.003863</td>\n",
       "      <td>-884606</td>\n",
       "      <td>17.166138</td>\n",
       "      <td>11128</td>\n",
       "      <td>-2.504289</td>\n",
       "      <td>0.260083</td>\n",
       "    </tr>\n",
       "    <tr>\n",
       "      <th>2</th>\n",
       "      <td>-0.180</td>\n",
       "      <td>-0.115141</td>\n",
       "      <td>0.001630</td>\n",
       "      <td>-884606</td>\n",
       "      <td>-6.866455</td>\n",
       "      <td>11128</td>\n",
       "      <td>7.513016</td>\n",
       "      <td>0.259081</td>\n",
       "    </tr>\n",
       "    <tr>\n",
       "      <th>3</th>\n",
       "      <td>-0.176</td>\n",
       "      <td>-0.111815</td>\n",
       "      <td>0.003003</td>\n",
       "      <td>-884606</td>\n",
       "      <td>-13.732910</td>\n",
       "      <td>11128</td>\n",
       "      <td>-2.504289</td>\n",
       "      <td>0.260083</td>\n",
       "    </tr>\n",
       "    <tr>\n",
       "      <th>4</th>\n",
       "      <td>-0.172</td>\n",
       "      <td>-0.130970</td>\n",
       "      <td>0.004376</td>\n",
       "      <td>-884606</td>\n",
       "      <td>-6.866455</td>\n",
       "      <td>11128</td>\n",
       "      <td>0.000000</td>\n",
       "      <td>0.261085</td>\n",
       "    </tr>\n",
       "  </tbody>\n",
       "</table>\n",
       "</div>"
      ],
      "text/plain": [
       "   Timestamp  pCut Motor: Torque   pCut CTRL Position controller: Lag error  \\\n",
       "0     -0.188           -0.112131                                  -0.002490   \n",
       "1     -0.184           -0.088931                                  -0.003863   \n",
       "2     -0.180           -0.115141                                   0.001630   \n",
       "3     -0.176           -0.111815                                   0.003003   \n",
       "4     -0.172           -0.130970                                   0.004376   \n",
       "\n",
       "    pCut CTRL Position controller: Actual position  \\\n",
       "0                                          -884606   \n",
       "1                                          -884606   \n",
       "2                                          -884606   \n",
       "3                                          -884606   \n",
       "4                                          -884606   \n",
       "\n",
       "    pCut CTRL Position controller: Actual speed  \\\n",
       "0                                      0.000000   \n",
       "1                                     17.166138   \n",
       "2                                     -6.866455   \n",
       "3                                    -13.732910   \n",
       "4                                     -6.866455   \n",
       "\n",
       "    pSvolFilm CTRL Position controller: Actual position  \\\n",
       "0                                              11128      \n",
       "1                                              11128      \n",
       "2                                              11128      \n",
       "3                                              11128      \n",
       "4                                              11128      \n",
       "\n",
       "    pSvolFilm CTRL Position controller: Actual speed  \\\n",
       "0                                           2.504289   \n",
       "1                                          -2.504289   \n",
       "2                                           7.513016   \n",
       "3                                          -2.504289   \n",
       "4                                           0.000000   \n",
       "\n",
       "    pSvolFilm CTRL Position controller: Lag error  \n",
       "0                                        0.261085  \n",
       "1                                        0.260083  \n",
       "2                                        0.259081  \n",
       "3                                        0.260083  \n",
       "4                                        0.261085  "
      ]
     },
     "execution_count": 5,
     "metadata": {},
     "output_type": "execute_result"
    }
   ],
   "source": [
    "train_data, validation_data = split_data(stake_training_data=0.75, path='../../data/vega_shrinkwrapper_original/NewBlade001.csv')\n",
    "train_data.head()"
   ]
  },
  {
   "cell_type": "code",
   "execution_count": 8,
   "metadata": {},
   "outputs": [],
   "source": [
    "test_data = load_test_data(path='../../data/vega_shrinkwrapper_original/WornBlade001.csv')"
   ]
  },
  {
   "cell_type": "markdown",
   "metadata": {},
   "source": [
    "# Datahandler \n",
    "Time series data must be transformed into a structure of samples with `input` and `target` components before it can be used to fit a supervised learning model. <br>\n",
    "For a time series interested in one-step predictions, the observations at prior time steps, so-called lag observations, are used as `input` and the `target` is the observation at the current time step.\n",
    "\n",
    "For example, a univariate series can be expressed as a supervised learning problem with three time steps for `input` and one step as `target`, as follows:\n",
    "\n",
    "|input|target|\n",
    "|-----|------|\n",
    "[1, 2, 3]|[4]\n",
    "[2, 3, 4]|[5]\n",
    "[3, 4, 5]|[6]\n",
    "\n",
    "The Keras deep learning library provides the `TimeseriesGenerator` to automatically transform both univariate and multivariate time series data into such a format. "
   ]
  },
  {
   "cell_type": "markdown",
   "metadata": {},
   "source": [
    "## Size of multivariate time series\n",
    "Actually the data has a other size than in the table above because of multivariate time series data and because of using batches. <br>\n",
    "__First dimension__: batch size --> Defines the number of samples that will be propagated through the network simultaneously. <br>\n",
    "__Second dimension:__ timesteps --> Number of sequence which is passed into the LSTM <br>\n",
    "__Third dimension:__ input_dim --> Is the number of features. In this case data from 7 sensors, collected at the same time. <br>\n",
    "\n",
    "![](../pictures/input_shape.png)"
   ]
  },
  {
   "cell_type": "code",
   "execution_count": 9,
   "metadata": {},
   "outputs": [],
   "source": [
    "class CSVDataset(Dataset):\n",
    "    def __init__(self, data, timesteps):\n",
    "        # All data are loaded from csv file and converted to an numpy array\n",
    "        self.data = data.values\n",
    "        # Data generator is initialized \n",
    "        self.generator = TimeseriesGenerator(self.data, self.data, length=timesteps, batch_size=1)\n",
    "\n",
    "    def __getitem__(self, index):\n",
    "        x, y = self.generator[index]\n",
    "        x_torch = torch.from_numpy(x)\n",
    "        # Dimension 0 with size 1 (created by TimeseriesGenerator because of batch_size=1) gets removed \n",
    "        # because DataLoader will add a dimension 0 with size=batch_size as well\n",
    "        x_torch = torch.squeeze(x_torch) # torch.Size([1, timesteps, 7]) --> torch.Size([timesteps, 7])\n",
    "        y_torch = torch.from_numpy(y)\n",
    "        return (x_torch.float(), y_torch.float()) \n",
    "\n",
    "    def __len__(self):\n",
    "        return len(self.generator)"
   ]
  },
  {
   "cell_type": "code",
   "execution_count": 10,
   "metadata": {},
   "outputs": [],
   "source": [
    "dataset_train = CSVDataset(train_data, timesteps=3)\n",
    "dataset_validation = CSVDataset(validation_data, timesteps=3)\n",
    "dataset_test = CSVDataset(test_data, timesteps=3)\n",
    "\n",
    "data_loader_training = DataLoader(dataset_train, batch_size=2, num_workers=1, shuffle=False)\n",
    "data_loader_validation = DataLoader(dataset_validation, batch_size=1, num_workers=1, shuffle=False)\n",
    "data_loader_test = DataLoader(dataset_test, batch_size=1, num_workers=1, shuffle=False)"
   ]
  },
  {
   "cell_type": "code",
   "execution_count": 11,
   "metadata": {},
   "outputs": [
    {
     "name": "stdout",
     "output_type": "stream",
     "text": [
      "Data of batch: 0\n",
      "Size of input data: torch.Size([2, 3, 8])\n",
      "Size of target data: torch.Size([2, 1, 8])\n",
      "tensor([[[-1.8800e-01, -1.1213e-01, -2.4900e-03, -8.8461e+05,  0.0000e+00,\n",
      "           1.1128e+04,  2.5043e+00,  2.6108e-01],\n",
      "         [-1.8400e-01, -8.8931e-02, -3.8633e-03, -8.8461e+05,  1.7166e+01,\n",
      "           1.1128e+04, -2.5043e+00,  2.6008e-01],\n",
      "         [-1.8000e-01, -1.1514e-01,  1.6298e-03, -8.8461e+05, -6.8665e+00,\n",
      "           1.1128e+04,  7.5130e+00,  2.5908e-01]],\n",
      "\n",
      "        [[-1.8400e-01, -8.8931e-02, -3.8633e-03, -8.8461e+05,  1.7166e+01,\n",
      "           1.1128e+04, -2.5043e+00,  2.6008e-01],\n",
      "         [-1.8000e-01, -1.1514e-01,  1.6298e-03, -8.8461e+05, -6.8665e+00,\n",
      "           1.1128e+04,  7.5130e+00,  2.5908e-01],\n",
      "         [-1.7600e-01, -1.1182e-01,  3.0031e-03, -8.8461e+05, -1.3733e+01,\n",
      "           1.1128e+04, -2.5043e+00,  2.6008e-01]]], dtype=torch.float64)\n",
      "tensor([[[-1.7600e-01, -1.1182e-01,  3.0031e-03, -8.8461e+05, -1.3733e+01,\n",
      "           1.1128e+04, -2.5043e+00,  2.6008e-01]],\n",
      "\n",
      "        [[-1.7200e-01, -1.3097e-01,  4.3764e-03, -8.8461e+05, -6.8665e+00,\n",
      "           1.1128e+04,  0.0000e+00,  2.6108e-01]]], dtype=torch.float64)\n",
      "----------------------------------\n",
      "Data of batch: 1\n",
      "Size of input data: torch.Size([2, 3, 8])\n",
      "Size of target data: torch.Size([2, 1, 8])\n",
      "tensor([[[-1.8000e-01, -1.1514e-01,  1.6298e-03, -8.8461e+05, -6.8665e+00,\n",
      "           1.1128e+04,  7.5130e+00,  2.5908e-01],\n",
      "         [-1.7600e-01, -1.1182e-01,  3.0031e-03, -8.8461e+05, -1.3733e+01,\n",
      "           1.1128e+04, -2.5043e+00,  2.6008e-01],\n",
      "         [-1.7200e-01, -1.3097e-01,  4.3764e-03, -8.8461e+05, -6.8665e+00,\n",
      "           1.1128e+04,  0.0000e+00,  2.6108e-01]],\n",
      "\n",
      "        [[-1.7600e-01, -1.1182e-01,  3.0031e-03, -8.8461e+05, -1.3733e+01,\n",
      "           1.1128e+04, -2.5043e+00,  2.6008e-01],\n",
      "         [-1.7200e-01, -1.3097e-01,  4.3764e-03, -8.8461e+05, -6.8665e+00,\n",
      "           1.1128e+04,  0.0000e+00,  2.6108e-01],\n",
      "         [-1.6800e-01, -1.3072e-01,  4.3764e-03, -8.8461e+05,  0.0000e+00,\n",
      "           1.1128e+04,  0.0000e+00,  2.6108e-01]]], dtype=torch.float64)\n",
      "tensor([[[-1.6800e-01, -1.3072e-01,  4.3764e-03, -8.8461e+05,  0.0000e+00,\n",
      "           1.1128e+04,  0.0000e+00,  2.6108e-01]],\n",
      "\n",
      "        [[-1.6400e-01, -9.3035e-02, -2.4900e-03, -8.8461e+05,  0.0000e+00,\n",
      "           1.1128e+04, -2.5043e+00,  2.6008e-01]]], dtype=torch.float64)\n",
      "----------------------------------\n"
     ]
    }
   ],
   "source": [
    "for batch_idx, data in enumerate(data_loader_training):\n",
    "    x,y = data\n",
    "    print('Data of batch: {}'.format(batch_idx))\n",
    "    print(\"Size of input data: {}\".format(x.size()))\n",
    "    print(\"Size of target data: {}\".format(y.size()))\n",
    "    print(x)\n",
    "    print(y)\n",
    "    print(\"----------------------------------\")\n",
    "    if batch_idx >=1: break"
   ]
  },
  {
   "cell_type": "markdown",
   "metadata": {},
   "source": [
    "#### Simple Datahandler which does not produce target variables"
   ]
  },
  {
   "cell_type": "code",
   "execution_count": 84,
   "metadata": {},
   "outputs": [
    {
     "data": {
      "text/plain": [
       "\"\\nclass CSVDataset(Dataset):\\n    def __init__(self, path, timesteps, nb_samples):\\n        self.path = path\\n        self.chunksize = timesteps\\n        self.len = nb_samples / self.chunksize\\n\\n    def __getitem__(self, index):\\n        x = next(\\n            pd.read_csv(\\n                self.path,\\n                skiprows=index * self.chunksize + 1,  #+1, since we skip the header\\n                chunksize=self.chunksize))\\n        x = torch.from_numpy(x.values)\\n        return x\\n\\n    def __len__(self):\\n        return round(self.len)\\n\\n\\ndataset = CSVDataset('../../data/vega_shrinkwrapper/NewBlade001.csv', timesteps=2, nb_samples=nb_samples)\\nloader = DataLoader(dataset, batch_size=10, num_workers=1, shuffle=False)\\n\""
      ]
     },
     "execution_count": 84,
     "metadata": {},
     "output_type": "execute_result"
    }
   ],
   "source": [
    "\"\"\"\n",
    "class CSVDataset(Dataset):\n",
    "    def __init__(self, path, timesteps, nb_samples):\n",
    "        self.path = path\n",
    "        self.chunksize = timesteps\n",
    "        self.len = nb_samples / self.chunksize\n",
    "\n",
    "    def __getitem__(self, index):\n",
    "        x = next(\n",
    "            pd.read_csv(\n",
    "                self.path,\n",
    "                skiprows=index * self.chunksize + 1,  #+1, since we skip the header\n",
    "                chunksize=self.chunksize))\n",
    "        x = torch.from_numpy(x.values)\n",
    "        return x\n",
    "\n",
    "    def __len__(self):\n",
    "        return round(self.len)\n",
    "\n",
    "\n",
    "dataset = CSVDataset('../../data/vega_shrinkwrapper/NewBlade001.csv', timesteps=2, nb_samples=nb_samples)\n",
    "loader = DataLoader(dataset, batch_size=10, num_workers=1, shuffle=False)\n",
    "\"\"\""
   ]
  },
  {
   "cell_type": "markdown",
   "metadata": {},
   "source": [
    "## Cyclic Learning Rate\n",
    "CLR is used to enhance the way the learning rate is scheduled during training, to provide better convergence and help in regularizing deep learning models. It eliminates the need to experimentally find the best values for the global learning rate. Allowing the learning rate to cyclically vary between lower and upper boundary values. The idea is to divide the training process into cycles determined by a stepsize parameter, which defines the number of iterations in half a cycle.\n",
    "![](../pictures/scheduler.png)"
   ]
  },
  {
   "cell_type": "markdown",
   "metadata": {},
   "source": [
    "### 1. Find base_lr and max_lr\n",
    "Calculate the upper bound of the learning rate for your model. The way to do this is to:\n",
    "1. Define an initial learning rate, the lower boundary of the range you want to test (let’s say 1e-7)\n",
    "2. Define an upper boundary of the range (let’s say 0.1)\n",
    "3. Define an exponential scheme to run through this step by step: <br>\n",
    "```python\n",
    "lr_lambda = lambda x: math.exp(x * math.log(end_lr / start_lr) / (lr_find_epochs * len( data_loader[\"train\"])))\n",
    "scheduler = torch.optim.lr_scheduler.LambdaLR(optimizer, lr_lambda)\n",
    "```\n",
    "<br>\n",
    "__Script for this is in: __  <br>\n",
    "`find_base_and_max_lr.ipynb`"
   ]
  },
  {
   "cell_type": "markdown",
   "metadata": {},
   "source": [
    "- A good upper bound (max_lr) is not on the lowest point, but about a factor of 10 to the left. (In this case 3e-3)\n",
    "- A good lower bound (base_lr), according to the paper and other sources, is the upper bound, divided by a factor 6."
   ]
  },
  {
   "cell_type": "markdown",
   "metadata": {},
   "source": [
    "### 2. Implement cyclic learning rate with founded parameters"
   ]
  },
  {
   "cell_type": "code",
   "execution_count": 55,
   "metadata": {},
   "outputs": [],
   "source": [
    "def cyclical_lr(step_size, mode, gamma=1., base_lr=3e-3, max_lr=5e-3):\n",
    "    \"\"\"\n",
    "    step_size: Number of iterations to complete half of a cycle.\n",
    "    gamma: constant in 'exponential_decay' scaling function\n",
    "    \"\"\"\n",
    "    # Maximum learning rate (scaler) and frequence of decay (scale_mode) depends on mode \n",
    "    if mode == 'triangular':\n",
    "        scaler = lambda x: 1.    # no decay\n",
    "        scale_mode = 'cycle'\n",
    "    elif mode == 'triangular_decay':\n",
    "        scaler = lambda x: 1 / (2.**(x - 1))\n",
    "        scale_mode = 'cycle'\n",
    "    elif mode == 'exponential_decay':\n",
    "        scaler = lambda x: gamma ** x\n",
    "        scale_mode = 'iterations'\n",
    "        \n",
    "    def relative(iteration, step_size):\n",
    "        cycle = np.floor(1 + iteration / (2 * step_size))\n",
    "        x = abs(iteration / step_size - 2 * cycle +1)\n",
    "    \n",
    "        if scale_mode == 'cycle':\n",
    "            return max(0, (1 - x)) * scaler(cycle)\n",
    "        else:\n",
    "            return max(0, (1 - x)) * scaler(iteration)\n",
    "    \n",
    "    return lambda iteration: base_lr + (max_lr - base_lr) * relative(iteration, step_size)"
   ]
  },
  {
   "cell_type": "code",
   "execution_count": 56,
   "metadata": {},
   "outputs": [
    {
     "data": {
      "text/plain": [
       "[<matplotlib.lines.Line2D at 0x141086240>]"
      ]
     },
     "execution_count": 56,
     "metadata": {},
     "output_type": "execute_result"
    },
    {
     "data": {
      "image/png": "[encoded data removed]",
      "text/plain": [
       "<Figure size 432x288 with 1 Axes>"
      ]
     },
     "metadata": {
      "needs_background": "light"
     },
     "output_type": "display_data"
    }
   ],
   "source": [
    "n = 10\n",
    "scheduler = cyclical_lr(step_size=4, mode=\"triangular_decay\", gamma=0.95)\n",
    "lrs = [scheduler(t) for t in range(n*4)]\n",
    "plt.xlabel(\"\")\n",
    "plt.ylabel(\"learning rate\")\n",
    "plt.plot(lrs)"
   ]
  },
  {
   "cell_type": "code",
   "execution_count": null,
   "metadata": {},
   "outputs": [],
   "source": [
    "# Initialize optimizer\n",
    "# lr=1. because of scheduler (1*learning_rate_schedular?????\n",
    "optimizer = torch.optim.SGD(model.parameters(), lr=1.)  \n",
    "\n",
    "# step_size is the number of training iterations per\n",
    "# half cycle. Authors suggest setting step_size\n",
    "# 2-8 x training iterations in epoch.\n",
    "step_szie = 4 * len(data_loader)\n",
    "\n",
    "# Initialize function\n",
    "clr = cyclical_lr(step_size, min_lr= , max_lr)\n",
    "\n",
    "# PyTorch has a LambdaLR object which lets us pass the above lambda function as an argument\n",
    "scheduler = torch.optim.lr_scheduler.LambdaLR(optimizer=optimizer, lr_lambda=[clr])"
   ]
  },
  {
   "cell_type": "markdown",
   "metadata": {},
   "source": [
    "## Mixture Density Neural Network\n",
    "__Parameters for LSTM Modul:__\n",
    "- input_size : The number of expected features in the input x\n",
    "- hidden_size :The number of features in the hidden state h\n",
    "- num_layers : Number of recurrent layers. E.g., setting num_layers=2 would mean stacking two LSTMs together to form a stacked LSTM, with the second LSTM taking in outputs of the first LSTM and computing the final results.\n",
    "- batch_first : If True, then the input __and output__ tensors are provided as (batch, seq, feature).\n",
    "- dropout – If non-zero, introduces a Dropout layer on the outputs of each LSTM layer except the last layer, with dropout probability equal to dropout. Default: 0"
   ]
  },
  {
   "cell_type": "code",
   "execution_count": 39,
   "metadata": {},
   "outputs": [],
   "source": [
    "class LSTM(nn.Module):\n",
    "    def __init__(self, batch_size, input_dim, n_hidden=256, n_layers=1):\n",
    "        super(LSTM, self).__init__()\n",
    "        # Attributes for LSTM Network\n",
    "        self.input_dim = input_dim\n",
    "        self.n_hidden = n_hidden\n",
    "        self.n_layers = n_layers\n",
    "        self.batch_size = batch_size\n",
    "        \n",
    "        # Attribut for Gaussians\n",
    "        self.n_gaussians = 2\n",
    "        \n",
    "        # Definition of NN layer\n",
    "        # batch_first = True because dataloader creates batches and batch_size is 0. dimension\n",
    "        self.lstm = nn.LSTM(input_size = self.input_dim, hidden_size = self.n_hidden, num_layers = self.n_layers, batch_first = True)\n",
    "        self.fc1 = nn.Linear(input_size = self.n_hidden, output_size = self.n_gaussians * self.input_dim)\n",
    "        \n",
    "    def forward(self, input_data):\n",
    "        # Forward propagate LSTM\n",
    "        # LSTM in Pytorch return two results the first one usually called output and the second one (hidden_state, cell_state). \n",
    "        # As output the LSTM returns all the hidden_states for all the timesteps (seq), in other words all of the hidden states throughout\n",
    "        # the sequence\n",
    "        # As hidden_state the LSTM returns just the most recent hidden state\n",
    "        lstm_out, (hidden_state, cell_state) = self.lstm(input_data)\n",
    "        # Select the output from the last sequence \n",
    "        last_out = lstm_out[:,self.seq_len -1,:]\n",
    "        out = self.fc1(last_out)\n",
    "        # Reshape out to shape torch.Size(batch_size, n_features, 2)\n",
    "        raw_output = out.view(self.batch_size, self.input_dim, 2)\n",
    "        # y_hat and tau alternate, y_hat and tau are next to each other for each feature \n",
    "        y_hat = raw_output[:,:,0]\n",
    "        tau = raw_output[:,:,1]\n",
    "        #σ = exp(τ) guarantees σ > 0 and provides numerical stability in the learning process\n",
    "        sigma = torch.exp(tau)\n",
    "        \n",
    "        return y_hat, sigma\n",
    "    \n",
    "    def init_hidden(self):\n",
    "        # This is what we'll initialise our hidden state as well as our cell state\n",
    "        # The axes semantics are (num_layers, minibatch_size, hidden_dim)\n",
    "        h0 = torch.zeros(self.n_layers, self.batch_size, self.n_hidden)\n",
    "        c0 = torch.zeros(self.n_layers, self.batch_size, self.n_hidden)\n",
    "        return [t for t in (h0, c0)]"
   ]
  },
  {
   "cell_type": "markdown",
   "metadata": {},
   "source": [
    "## Loss function"
   ]
  },
  {
   "cell_type": "markdown",
   "metadata": {},
   "source": [
    "- torch.exp(input) --> Returns a new tensor with the exponential of the elements of the input tensor : $y_i = e^{x_i}$\n",
    "- normal_distribution = torch.distributions.Normal(loc=, scale=) --> Create a normal (Gaussian) distribution parameterized by loc (mean) and scale (standard deviation).\n",
    "- normal_distribution.log_prob(value) --> Returns the log of the probability density function (in this case of normal distribution) evaluated at value.\n",
    "- torch.sum(input=, dim=) --> Returns the sum of all elements in the input tensor; dim is the dimension to reduce \n",
    "\n"
   ]
  },
  {
   "cell_type": "code",
   "execution_count": 12,
   "metadata": {},
   "outputs": [],
   "source": [
    "def loss_function(output, target_data):\n",
    "    y_hat, sigma = output\n",
    "    # target_data.size(batch_size,1,7) because timestep = 1\n",
    "    # new target_data.size(batch_size,7)\n",
    "    target_data = torch.squeeze(target_data)\n",
    "    \n",
    "    term = ((target_data-y_hat)/sigma)**2 + 2*torch.log(sigma)\n",
    "    return torch.sum(input=term, dim=1)"
   ]
  },
  {
   "cell_type": "markdown",
   "metadata": {},
   "source": [
    "## Initialize Model and Optimizer"
   ]
  },
  {
   "cell_type": "code",
   "execution_count": null,
   "metadata": {},
   "outputs": [],
   "source": [
    "model = LSTM(batch_size=2, input_dim=7, n_hidden=50, n_layers=1)\n",
    "optimizer = optim.SGD(netz.parameters(), lr=0.01)"
   ]
  },
  {
   "cell_type": "markdown",
   "metadata": {},
   "source": [
    "## Training Loop\n",
    "An epoch consists of a learning cycle over all batches of training data and an evaluation of the most recent model with the testing data. "
   ]
  },
  {
   "cell_type": "code",
   "execution_count": null,
   "metadata": {},
   "outputs": [],
   "source": [
    "print(\"Start model training\")\n",
    "# Create lists to save training loss and validation loss of each epoch\n",
    "hist_training_loss = []\n",
    "hist_validation_loss = []\n",
    "\n",
    "for epoch in range(1, n_epochs +1):\n",
    "    # Empty list for recording performance \n",
    "    epoch_training_loss = []\n",
    "    epoch_validation_loss = []\n",
    "    \n",
    "    # Also, we need to clear out the hidden state of the LSTM,\n",
    "    # detaching it from its history on the last instance.\n",
    "    hidden = model.init_hidden()\n",
    "    \n",
    "    ##### Training #####\n",
    "    for batch_number, (input_data, target_data) in enumerate(data_loader_train):\n",
    "        # Set model to training mode before train the neural network.\n",
    "        model.train()\n",
    "        \n",
    "        # Zero out gradient, else they will accumulate between minibatches\n",
    "        optim.zero_grad()\n",
    "        \n",
    "        # We need to detach the hidden state to prevent exploding/vanishing gradients\n",
    "        hidden = [_.detach() for _ in hidden]\n",
    "        \n",
    "        # Forward propagation\n",
    "        output = model(input_data)\n",
    "        \n",
    "        # Calculate loss\n",
    "        iteration_loss = loss_function(output, target_data)\n",
    "        epoch_training_loss.append(iteration_loss.item())\n",
    "    \n",
    "        # Backward pass\n",
    "        loss.backward()\n",
    "        \n",
    "        # Update LR\n",
    "        scheduler.step()\n",
    "        \n",
    "        # Update parameters\n",
    "        optimizer.step()\n",
    "    \n",
    "    # Save mean of loss over all training iterations\n",
    "    mean_epoch_training_loss = sum(epoch_training_loss) / float(len(epoch_training_loss))\n",
    "    hist_training_loss.append(mean_epoch_training_loss)\n",
    "        \n",
    "    ##### Evaluation #######\n",
    "    for input_data, target_data in data_loader_validation:\n",
    "        # Change model to evaluation (prediction) mode\n",
    "        model.eval()\n",
    "        \n",
    "        # Predict \n",
    "        out = model(input_data)\n",
    "        \n",
    "         # Calculate loss\n",
    "        iteration_loss = loss_function(output, target_data)\n",
    "        epoch_validation_loss.append(iteration_loss.item())\n",
    "        \n",
    "    # Save mean of loss over all validation iterations to epoch history  \n",
    "    mean_epoch_validation_loss = sum(epoch_validation_loss) / float(len(epoch_validation_loss))\n",
    "    hist_validation_loss.append(mean_epoch_validation_loss)\n",
    "        \n",
    "    # Check after every evaluation whether the latest model is the best one or not\n",
    "    # If this is the case, set current score to best_score, reset trails and save the model.\n",
    "    if mean_epoch_validation_loss < lowest_loss:\n",
    "        trials = 0\n",
    "        lowest_loss = mean_epoch_validation_loss\n",
    "        torch.save({\n",
    "            'epoch': epoch,\n",
    "            'model_state_dict': model.state_dict(),\n",
    "            'optimizer_state_dict': optimizer.state_dict(),\n",
    "            'loss': mean_epoch_validation_loss\n",
    "        }, \"/best_model.pt\")\n",
    "        print(\"Epoch {}: best model saved with loss: {}\".format(epoch, mean_epoch_validation_loss))\n",
    "    \n",
    "    # Else: Increase trails by one and start new epoch as long as not too many epochs \n",
    "    # were unsuccessful (controlled by patience)\n",
    "    else:\n",
    "        trials += 1\n",
    "        if trials >= patience:\n",
    "            print(f'Early stopping on epoch {epoch}')\n",
    "            break  "
   ]
  },
  {
   "cell_type": "markdown",
   "metadata": {},
   "source": [
    "## Prediction with data of worn blades"
   ]
  },
  {
   "cell_type": "code",
   "execution_count": null,
   "metadata": {},
   "outputs": [],
   "source": [
    "model.load_state_dict(torch.load('best.pth'))\n",
    "model.eval()\n",
    "test = []\n",
    "print('Prediction of worn dataset')\n",
    "for input_data, target_data in data_loader_test:\n"
   ]
  },
  {
   "cell_type": "code",
   "execution_count": null,
   "metadata": {},
   "outputs": [],
   "source": []
  },
  {
   "cell_type": "code",
   "execution_count": null,
   "metadata": {},
   "outputs": [],
   "source": []
  },
  {
   "cell_type": "code",
   "execution_count": null,
   "metadata": {},
   "outputs": [],
   "source": []
  }
 ],
 "metadata": {
  "kernelspec": {
   "display_name": "masterarbeit",
   "language": "python",
   "name": "masterarbeit"
  },
  "language_info": {
   "codemirror_mode": {
    "name": "ipython",
    "version": 3
   },
   "file_extension": ".py",
   "mimetype": "text/x-python",
   "name": "python",
   "nbconvert_exporter": "python",
   "pygments_lexer": "ipython3",
   "version": "3.6.8"
  }
 },
 "nbformat": 4,
 "nbformat_minor": 2
}
