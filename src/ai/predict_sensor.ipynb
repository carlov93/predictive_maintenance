{
 "cells": [
  {
   "cell_type": "code",
   "execution_count": 34,
   "metadata": {},
   "outputs": [],
   "source": [
    "import torch\n",
    "import torch.nn as nn\n",
    "from torch.utils.data import DataLoader\n",
    "import torch.optim as optim\n",
    "import pandas as pd\n",
    "import numpy as np\n",
    "\n",
    "# own Modules \n",
    "from models_sub_net_ls import LstmMse_LatentSpace, LstmMle_LatentSpace, AnalysisLayer\n",
    "from models_mse import LstmMse\n",
    "from models_mle import LstmMle_1, LstmMle_2, LstmMle_3\n",
    "from data_preperator import DataPreperatorPrediction\n",
    "from data_set import DataSet\n",
    "from predictor import PredictorMse, PredictorMle, PredictorMseLatentSpaceAnalyser, PredictorMleLatentSpaceAnalyser, PredictorMleSpecial"
   ]
  },
  {
   "cell_type": "markdown",
   "metadata": {},
   "source": [
    "## Take care of these things before training:\n",
    "- Select correct path and define droped_features\n",
    "- Change parameter of model\n",
    "- Change filed_location"
   ]
  },
  {
   "cell_type": "markdown",
   "metadata": {},
   "source": [
    "## Parameters phm data"
   ]
  },
  {
   "cell_type": "code",
   "execution_count": 84,
   "metadata": {},
   "outputs": [],
   "source": [
    "param = {\n",
    "    \"data\" : {\n",
    "        \"path\" : '../../data/phm_data_challenge/01_M02_DC_training_50000.csv',\n",
    "        \"droped_feature\" : [\"stage\", \"Lot\", \"runnum\", \"recipe\", \"recipe_step\",\n",
    "                            \"up time\", \"ongoing time\", \n",
    "                            \"ETCHSOURCEUSAGE\", \"ETCHAUXSOURCETIMER\", \n",
    "                            \"ETCHAUX2SOURCETIMER\", \"FIXTURESHUTTERPOSITION\", \"ROTATIONSPEED\"\n",
    "                           ],\n",
    "        \"features_not_to_scale\": []\n",
    "    },\n",
    "    \"model\" : {\n",
    "        \"path\" : \"../../models/MLE_model/phm_data_M02Fold_xx_InputSize13_LayerLstm1_HiddenLstm15_HiddenFc75_Seq25.pt\",\n",
    "        \"input_size\" : 12,\n",
    "        \"n_hidden_lstm\" : 15,\n",
    "        \"n_hidden_fc_1\" : 75,\n",
    "        \"n_hidden_fc_2\" : 25,\n",
    "        \"sequence_size\" : 100,\n",
    "        \"batch_size\" : 50,\n",
    "        \"lstm_layer\" : 1,\n",
    "        \"dropout_rate_lstm\": 0.0,\n",
    "        \"dropout_rate_fc\": 0.2,\n",
    "        \"K\":1\n",
    "    },\n",
    "        \"anomaly_detection\" : {\n",
    "        \"threshold_anomaly\" : 0.3,\n",
    "        \"smooth_rate\" : 0.05,\n",
    "        \"no_standard_deviation\" : 2\n",
    "    },\n",
    "    \"results\": {\n",
    "        \"path\" : \"../visualisation/files/prediction/MLE/phm_M02_1.csv\",\n",
    "    }\n",
    "}"
   ]
  },
  {
   "cell_type": "markdown",
   "metadata": {},
   "source": [
    "## Parameters artifical data"
   ]
  },
  {
   "cell_type": "code",
   "execution_count": 5,
   "metadata": {},
   "outputs": [],
   "source": [
    "param = {\n",
    "    \"data\" : {\n",
    "        \"path\" : '../../data/artifical_signals/MLE_analysis/artifical_2_signals_errors.csv',\n",
    "        \"droped_feature\" : [\"anomaly\"\n",
    "                           ],\n",
    "        \"features_not_to_scale\": []\n",
    "    },\n",
    "    \"model\" : {\n",
    "        \"path\" : \"../../models/MLE_model/artifical_2_signalsFold xx_InputSize2_LayerLstm1_HiddenLstm15_HiddenFc75_Seq25.pt\",\n",
    "        \"input_size\" : 2,\n",
    "        \"n_hidden_lstm\" : 15,\n",
    "        \"n_hidden_fc_1\" : 75,\n",
    "        \"n_hidden_fc_2\" : 25,\n",
    "        \"sequence_size\" : 100,\n",
    "        \"batch_size\" : 50,\n",
    "        \"lstm_layer\" : 1,\n",
    "        \"dropout_rate_lstm\": 0.0,\n",
    "        \"dropout_rate_fc\": 0.2,\n",
    "        \"K\":1\n",
    "    },\n",
    "        \"anomaly_detection\" : {\n",
    "        \"threshold_anomaly\" : 0.3,\n",
    "        \"smooth_rate\" : 0.05,\n",
    "        \"no_standard_deviation\" : 2\n",
    "    },\n",
    "    \"results\": {\n",
    "        \"path\" : \"../visualisation/files/prediction/MLE_LS/artifical_2_signals.csv\",\n",
    "    }\n",
    "}"
   ]
  },
  {
   "cell_type": "markdown",
   "metadata": {},
   "source": [
    "## Parameters cpps data"
   ]
  },
  {
   "cell_type": "code",
   "execution_count": 2,
   "metadata": {},
   "outputs": [],
   "source": [
    "param = {\n",
    "    \"data\" : {\n",
    "        \"path\" : '../../data/cpps_data/cpps_data_predictive_maintenance.csv',\n",
    "        \"droped_feature\" : [\"status\"\n",
    "                           ],\n",
    "        \"features_not_to_scale\": []\n",
    "    },\n",
    "    \"model\" : {\n",
    "        \"path\" : \"../../models/MLE_model/cpps_dataFold xx_InputSize10_LayerLstm1_HiddenLstm15_HiddenFc75_Seq25.pt\",\n",
    "        \"input_size\" : 10,\n",
    "        \"n_hidden_lstm\" : 15,\n",
    "        \"n_hidden_fc_1\" : 75,\n",
    "        \"n_hidden_fc_2\" : 25,\n",
    "        \"sequence_size\" : 100,\n",
    "        \"batch_size\" : 50,\n",
    "        \"lstm_layer\" : 1,\n",
    "        \"dropout_rate_lstm\": 0.0,\n",
    "        \"dropout_rate_fc\": 0.2,\n",
    "        \"K\":1\n",
    "    },\n",
    "        \"anomaly_detection\" : {\n",
    "        \"threshold_anomaly\" : 0.3,\n",
    "        \"smooth_rate\" : 0.05,\n",
    "        \"no_standard_deviation\" : 2\n",
    "    },\n",
    "    \"results\": {\n",
    "        \"path\" : \"../visualisation/files/prediction/MLE_LS/cpps_data.csv\",\n",
    "    }\n",
    "}"
   ]
  },
  {
   "cell_type": "markdown",
   "metadata": {},
   "source": [
    "## Standarize Data\n",
    "First we have to apply normalisation to data. That is because the model works on the representation given by its input vectors. The scale of those numbers is part of the representation.\n",
    "We should apply the exact same scaling as for training data. That means storing the scale and offset used with your training data, and using that again. <br>\n",
    "__The mean and variance for each feature of the training data with which the model was trained (stake: 0.75):__"
   ]
  },
  {
   "cell_type": "markdown",
   "metadata": {},
   "source": [
    "### Mean and Variance from phm Dataset M01\n",
    "droped features=\"stage\", \"Lot\", \"runnum\", \"recipe\", \"recipe_step\",\n",
    "                            \"up time\", \"ongoing time\", \n",
    "                            \"ETCHSOURCEUSAGE\", \"ETCHAUXSOURCETIMER\", \n",
    "                            \"ETCHAUX2SOURCETIMER\", \"FIXTURESHUTTERPOSITION\""
   ]
  },
  {
   "cell_type": "code",
   "execution_count": 73,
   "metadata": {},
   "outputs": [],
   "source": [
    "mean_training_data =[ 0.21683119,  0.32121513,  0.31925213,  0.20097501,  0.45164471,  0.22914814, 0.11604865,  0.27421592,  0.24393222, -0.13974937, -0.09739598, -0.07313758, 0.18198089]\n",
    "var_training_data =[0.75261122, 0.90482986, 0.91105327, 0.75504036, 1.07026701, 0.76708319, 0.35172769, 0.83004988, 0.76964675, 0.57386915, 0.45912309, 0.2955709, 1.61493449]"
   ]
  },
  {
   "cell_type": "markdown",
   "metadata": {},
   "source": [
    "### Mean and Variance from phm Dataset M02\n",
    "droped features=\"stage\", \"Lot\", \"runnum\", \"recipe\", \"recipe_step\",\n",
    "                            \"up time\", \"ongoing time\", \n",
    "                            \"ETCHSOURCEUSAGE\", \"ETCHAUXSOURCETIMER\", \n",
    "                            \"ETCHAUX2SOURCETIMER\", \"FIXTURESHUTTERPOSITION\", \"Tool\""
   ]
  },
  {
   "cell_type": "code",
   "execution_count": 85,
   "metadata": {},
   "outputs": [],
   "source": [
    "mean_training_data =[ 0.00048908,  0.02424968,  0.03746501,  0.02320936,  0.04798253,  0.16690744, 0.00635931,  0.11491659,  0.16438863, -0.1371422, -0.1224534, -0.03445835]\n",
    "var_training_data =[4.71816879e-04, 9.91867997e-01, 1.01665728e+00, 9.90095853e-01, 1.09008254e+00, 5.49661581e-01, 2.40779532e-01, 8.64385070e-01, 5.58986809e-01, 5.68935150e-01, 1.05338930e-10, 9.83200120e-01]"
   ]
  },
  {
   "cell_type": "markdown",
   "metadata": {},
   "source": [
    "### Mean and Variance from artifical Dataset"
   ]
  },
  {
   "cell_type": "code",
   "execution_count": 6,
   "metadata": {},
   "outputs": [],
   "source": [
    "mean_training_data= [-0.00393712, -0.01294209]\n",
    "var_training_data = [49.18936568,  0.34270256]"
   ]
  },
  {
   "cell_type": "markdown",
   "metadata": {},
   "source": [
    "### Mean and Variance form cpps Dataset"
   ]
  },
  {
   "cell_type": "code",
   "execution_count": 3,
   "metadata": {},
   "outputs": [],
   "source": [
    "mean_training_data = [0.05330162, 0.03075699, -0.05636937, 0.0274802, 0.06536314, -0.04620979,-0.0745559, \n",
    "                      -0.08149049, -0.05318843, 0.11105582]\n",
    "var_training_data = [0.02905961, 0.04473883, 0.05254194, 0.05198144, 0.07337494, 0.0666981, 0.07593811, \n",
    "                     0.0393896, 0.08028017, 0.0594492]"
   ]
  },
  {
   "cell_type": "markdown",
   "metadata": {},
   "source": [
    "## Create DataLoader"
   ]
  },
  {
   "cell_type": "code",
   "execution_count": 86,
   "metadata": {},
   "outputs": [
    {
     "name": "stdout",
     "output_type": "stream",
     "text": [
      "(50000, 13)\n"
     ]
    }
   ],
   "source": [
    "data_preperator = DataPreperatorPrediction(path=param['data']['path'], \n",
    "                                           ignored_features = param[\"data\"][\"droped_feature\"],\n",
    "                                           mean_training_data=mean_training_data, \n",
    "                                           var_training_data=var_training_data, \n",
    "                                           first_order_difference=False \n",
    "                                          )                                  \n",
    "preprocessed_data = data_preperator.prepare_data()\n",
    "print(preprocessed_data.shape)\n",
    "\n",
    "dataset = DataSet(preprocessed_data, \n",
    "                  timesteps=param[\"model\"][\"sequence_size\"])\n",
    "data_loader = DataLoader(dataset, \n",
    "                         batch_size=param['model']['batch_size'], \n",
    "                         num_workers=0, \n",
    "                         shuffle=False, \n",
    "                         drop_last=True)"
   ]
  },
  {
   "cell_type": "code",
   "execution_count": 26,
   "metadata": {},
   "outputs": [
    {
     "name": "stdout",
     "output_type": "stream",
     "text": [
      "Data of batch: 0\n",
      "Size of input data: torch.Size([50, 100, 14])\n",
      "Size of target data: torch.Size([50, 14])\n",
      "Data of batch: 1\n",
      "Size of input data: torch.Size([50, 100, 14])\n",
      "Size of target data: torch.Size([50, 14])\n"
     ]
    }
   ],
   "source": [
    "for batch_idx, data in enumerate(data_loader):\n",
    "    x,y = data\n",
    "    print('Data of batch: {}'.format(batch_idx))\n",
    "    print(\"Size of input data: {}\".format(x.size()))\n",
    "    print(\"Size of target data: {}\".format(y.size()))\n",
    "    if batch_idx >=1: break"
   ]
  },
  {
   "cell_type": "markdown",
   "metadata": {},
   "source": [
    "## Define Model and load Parameters of trained model\n",
    "### Model for MSE "
   ]
  },
  {
   "cell_type": "code",
   "execution_count": null,
   "metadata": {},
   "outputs": [],
   "source": [
    "model = LstmMse(batch_size=param['model']['batch_size'], \n",
    "                input_dim=param['model']['input_size'], \n",
    "                n_hidden_lstm=param['model']['n_hidden_lstm'], \n",
    "                n_hidden_fc=param['model']['n_hidden_fc_1'], \n",
    "                n_layers=param['model']['lstm_layer'], \n",
    "                dropout_rate_lstm= param['model']['dropout_rate_lstm'],\n",
    "                dropout_rate_fc= param['model']['dropout_rate_fc']\n",
    "                )\n",
    "\n",
    "checkpoint = torch.load(param[\"model\"][\"path\"])\n",
    "model.load_state_dict(checkpoint['model_state_dict'])"
   ]
  },
  {
   "cell_type": "markdown",
   "metadata": {},
   "source": [
    "### Model for MLE"
   ]
  },
  {
   "cell_type": "code",
   "execution_count": 27,
   "metadata": {},
   "outputs": [
    {
     "data": {
      "text/plain": [
       "IncompatibleKeys(missing_keys=[], unexpected_keys=[])"
      ]
     },
     "execution_count": 27,
     "metadata": {},
     "output_type": "execute_result"
    }
   ],
   "source": [
    "model = LstmMle_1(batch_size=param['model']['batch_size'], \n",
    "                 input_dim=param['model']['input_size'], \n",
    "                 n_hidden_lstm=param['model']['n_hidden_lstm'], \n",
    "                 n_hidden_fc=param['model']['n_hidden_fc_1'], \n",
    "                 n_layers=param['model']['lstm_layer'], \n",
    "                 dropout_rate_lstm= param['model']['dropout_rate_lstm'],\n",
    "                 dropout_rate_fc= param['model']['dropout_rate_fc'],\n",
    "                 K = param['model']['K'])\n",
    "\n",
    "checkpoint = torch.load(param[\"model\"][\"path\"])\n",
    "model.load_state_dict(checkpoint['model_state_dict'])"
   ]
  },
  {
   "cell_type": "code",
   "execution_count": null,
   "metadata": {},
   "outputs": [],
   "source": [
    "model = LstmMle_3(batch_size=param['model']['batch_size'], \n",
    "                 input_dim=param['model']['input_size'], \n",
    "                 n_hidden_lstm=param['model']['n_hidden_lstm'], \n",
    "                 n_hidden_fc_1=param['model']['n_hidden_fc_1'], \n",
    "                 n_hidden_fc_2=param['model']['n_hidden_fc_2'],\n",
    "                 n_layers=param['model']['lstm_layer'], \n",
    "                 dropout_rate_lstm= param['model']['dropout_rate_lstm'],\n",
    "                 dropout_rate_fc= param['model']['dropout_rate_fc'],\n",
    "                 K = param['model']['K'])\n",
    "\n",
    "checkpoint = torch.load(param[\"model\"][\"path\"])\n",
    "model.load_state_dict(checkpoint['model_state_dict'])"
   ]
  },
  {
   "cell_type": "markdown",
   "metadata": {},
   "source": [
    "## Initialize Predictor\n",
    "### Predictor for MSE Model"
   ]
  },
  {
   "cell_type": "code",
   "execution_count": null,
   "metadata": {},
   "outputs": [],
   "source": [
    "predictor = PredictorMse(model=model,\n",
    "                         path_data=param[\"data\"][\"path\"],\n",
    "                         columns_to_ignore=param[\"data\"][\"droped_feature\"],\n",
    "                         threshold_anomaly=param[\"anomaly_detection\"][\"threshold_anomaly\"]\n",
    "                         )"
   ]
  },
  {
   "cell_type": "markdown",
   "metadata": {},
   "source": [
    "### Predictor for MLE Model"
   ]
  },
  {
   "cell_type": "code",
   "execution_count": 28,
   "metadata": {},
   "outputs": [],
   "source": [
    "predictor = PredictorMle(model=model,\n",
    "                         path_data=param[\"data\"][\"path\"],\n",
    "                         columns_to_ignore=param[\"data\"][\"droped_feature\"],\n",
    "                         threshold_anomaly=param[\"anomaly_detection\"][\"threshold_anomaly\"],\n",
    "                         no_standard_deviation=param[\"anomaly_detection\"][\"no_standard_deviation\"]\n",
    "                         )"
   ]
  },
  {
   "cell_type": "code",
   "execution_count": null,
   "metadata": {},
   "outputs": [],
   "source": [
    "predictor = PredictorMleSpecial(model=model,\n",
    "                                path_data=param[\"data\"][\"path\"],\n",
    "                                columns_to_ignore=param[\"data\"][\"droped_feature\"],\n",
    "                                threshold_anomaly=param[\"anomaly_detection\"][\"threshold_anomaly\"],\n",
    "                                no_standard_deviation=param[\"anomaly_detection\"][\"no_standard_deviation\"]\n",
    "                                )"
   ]
  },
  {
   "cell_type": "markdown",
   "metadata": {},
   "source": [
    "## Predict"
   ]
  },
  {
   "cell_type": "code",
   "execution_count": 29,
   "metadata": {},
   "outputs": [
    {
     "name": "stdout",
     "output_type": "stream",
     "text": [
      "Start predicting.\n",
      "Current status: 0 samples are predicted.\n",
      "Current status: 5000 samples are predicted.\n",
      "Current status: 10000 samples are predicted.\n",
      "Current status: 15000 samples are predicted.\n",
      "Current status: 20000 samples are predicted.\n",
      "Current status: 25000 samples are predicted.\n",
      "Current status: 30000 samples are predicted.\n",
      "Current status: 35000 samples are predicted.\n",
      "Current status: 40000 samples are predicted.\n",
      "Current status: 45000 samples are predicted.\n",
      "Current status: 50000 samples are predicted.\n",
      "Current status: 55000 samples are predicted.\n",
      "Current status: 60000 samples are predicted.\n",
      "Current status: 65000 samples are predicted.\n",
      "Current status: 70000 samples are predicted.\n",
      "Current status: 75000 samples are predicted.\n",
      "Current status: 80000 samples are predicted.\n",
      "Current status: 85000 samples are predicted.\n",
      "Current status: 90000 samples are predicted.\n",
      "Current status: 95000 samples are predicted.\n",
      "Current status: 100000 samples are predicted.\n",
      "Current status: 105000 samples are predicted.\n",
      "Current status: 110000 samples are predicted.\n",
      "Current status: 115000 samples are predicted.\n",
      "Current status: 120000 samples are predicted.\n",
      "Current status: 125000 samples are predicted.\n",
      "Current status: 130000 samples are predicted.\n",
      "Current status: 135000 samples are predicted.\n",
      "Current status: 140000 samples are predicted.\n",
      "Current status: 145000 samples are predicted.\n",
      "End of prediction.\n"
     ]
    }
   ],
   "source": [
    "print(\"Start predicting.\")\n",
    "# Write header\n",
    "with open(param[\"results\"][\"path\"], \"a+\") as file:\n",
    "            [file.write(column+\";\") for column in predictor.create_column_names_result()]\n",
    "            file.write(\"\\n\")\n",
    "\n",
    "for batch_number, (input_data, target_data) in enumerate(data_loader):\n",
    "    # Predict sensor values in mini-batches\n",
    "    batch_results = predictor.predict(input_data, target_data)\n",
    "    \n",
    "    # Write results to csv file\n",
    "    with open(param[\"results\"][\"path\"], \"a\") as file:\n",
    "        for batch in batch_results:\n",
    "            # Each result component of a singe prediction (ID, target, prediction, loss, latent space ...) is stored in lists\n",
    "            # thus we have to unpack the list and seperate values with ;\n",
    "            for value in batch:\n",
    "                file.write(str(value)+\";\")\n",
    "            file.write(\"\\n\")\n",
    "\n",
    "    # Print status \n",
    "    if (batch_number*param['model']['batch_size'])%5000 == 0:\n",
    "        print(\"Current status: \" + str(param['model']['batch_size']*batch_number) + \" samples are predicted.\")\n",
    "\n",
    "print(\"End of prediction.\")"
   ]
  },
  {
   "cell_type": "markdown",
   "metadata": {},
   "source": [
    "## Tag anomalous samples"
   ]
  },
  {
   "cell_type": "code",
   "execution_count": 30,
   "metadata": {},
   "outputs": [],
   "source": [
    "results_prediction = pd.read_csv(param[\"results\"][\"path\"], sep=\";\")\n",
    "# Values of column \"loss\" are exponentially smoothed and stored in a new column \"smoothed loss\"\n",
    "# New column \"anomaly\" is created and sample is taged with 1 if anomalous behaviour (if smoothed loss is over threshold)\n",
    "results = predictor.detect_anomaly(results_prediction, param[\"anomaly_detection\"][\"smooth_rate\"])"
   ]
  },
  {
   "cell_type": "code",
   "execution_count": 31,
   "metadata": {},
   "outputs": [
    {
     "data": {
      "text/html": [
       "<div>\n",
       "<style scoped>\n",
       "    .dataframe tbody tr th:only-of-type {\n",
       "        vertical-align: middle;\n",
       "    }\n",
       "\n",
       "    .dataframe tbody tr th {\n",
       "        vertical-align: top;\n",
       "    }\n",
       "\n",
       "    .dataframe thead th {\n",
       "        text-align: right;\n",
       "    }\n",
       "</style>\n",
       "<table border=\"1\" class=\"dataframe\">\n",
       "  <thead>\n",
       "    <tr style=\"text-align: right;\">\n",
       "      <th></th>\n",
       "      <th>ID</th>\n",
       "      <th>IONGAUGEPRESSURE target</th>\n",
       "      <th>ETCHBEAMVOLTAGE target</th>\n",
       "      <th>ETCHBEAMCURRENT target</th>\n",
       "      <th>ETCHSUPPRESSORVOLTAGE target</th>\n",
       "      <th>ETCHSUPPRESSORCURRENT target</th>\n",
       "      <th>FLOWCOOLFLOWRATE target</th>\n",
       "      <th>FLOWCOOLPRESSURE target</th>\n",
       "      <th>ETCHGASCHANNEL1READBACK target</th>\n",
       "      <th>ETCHPBNGASREADBACK target</th>\n",
       "      <th>...</th>\n",
       "      <th>Anomaly Sensor_4</th>\n",
       "      <th>Anomaly Sensor_5</th>\n",
       "      <th>Anomaly Sensor_6</th>\n",
       "      <th>Anomaly Sensor_7</th>\n",
       "      <th>Anomaly Sensor_8</th>\n",
       "      <th>Anomaly Sensor_9</th>\n",
       "      <th>Anomaly Sensor_10</th>\n",
       "      <th>Anomaly Sensor_11</th>\n",
       "      <th>Anomaly Sensor_12</th>\n",
       "      <th>Anomaly Sensor_13</th>\n",
       "    </tr>\n",
       "  </thead>\n",
       "  <tbody>\n",
       "    <tr>\n",
       "      <th>0</th>\n",
       "      <td>101.0</td>\n",
       "      <td>-0.038276</td>\n",
       "      <td>0.209989</td>\n",
       "      <td>0.201427</td>\n",
       "      <td>0.183502</td>\n",
       "      <td>0.098605</td>\n",
       "      <td>-0.608460</td>\n",
       "      <td>-0.373355</td>\n",
       "      <td>0.666783</td>\n",
       "      <td>0.259626</td>\n",
       "      <td>...</td>\n",
       "      <td>1</td>\n",
       "      <td>1</td>\n",
       "      <td>1</td>\n",
       "      <td>1</td>\n",
       "      <td>1</td>\n",
       "      <td>0</td>\n",
       "      <td>1</td>\n",
       "      <td>1</td>\n",
       "      <td>1</td>\n",
       "      <td>0</td>\n",
       "    </tr>\n",
       "    <tr>\n",
       "      <th>1</th>\n",
       "      <td>102.0</td>\n",
       "      <td>-0.038276</td>\n",
       "      <td>0.209817</td>\n",
       "      <td>0.202060</td>\n",
       "      <td>0.183409</td>\n",
       "      <td>0.101237</td>\n",
       "      <td>-0.613348</td>\n",
       "      <td>-0.373355</td>\n",
       "      <td>0.680515</td>\n",
       "      <td>0.259626</td>\n",
       "      <td>...</td>\n",
       "      <td>1</td>\n",
       "      <td>1</td>\n",
       "      <td>1</td>\n",
       "      <td>1</td>\n",
       "      <td>1</td>\n",
       "      <td>0</td>\n",
       "      <td>1</td>\n",
       "      <td>1</td>\n",
       "      <td>1</td>\n",
       "      <td>0</td>\n",
       "    </tr>\n",
       "    <tr>\n",
       "      <th>2</th>\n",
       "      <td>103.0</td>\n",
       "      <td>-0.038276</td>\n",
       "      <td>0.209817</td>\n",
       "      <td>0.205226</td>\n",
       "      <td>0.183455</td>\n",
       "      <td>0.112109</td>\n",
       "      <td>-0.613348</td>\n",
       "      <td>-0.373355</td>\n",
       "      <td>0.680515</td>\n",
       "      <td>0.259626</td>\n",
       "      <td>...</td>\n",
       "      <td>1</td>\n",
       "      <td>1</td>\n",
       "      <td>1</td>\n",
       "      <td>1</td>\n",
       "      <td>1</td>\n",
       "      <td>0</td>\n",
       "      <td>1</td>\n",
       "      <td>1</td>\n",
       "      <td>1</td>\n",
       "      <td>0</td>\n",
       "    </tr>\n",
       "    <tr>\n",
       "      <th>3</th>\n",
       "      <td>104.0</td>\n",
       "      <td>-0.038276</td>\n",
       "      <td>0.209874</td>\n",
       "      <td>0.203328</td>\n",
       "      <td>0.183548</td>\n",
       "      <td>0.101567</td>\n",
       "      <td>-0.602964</td>\n",
       "      <td>-0.373355</td>\n",
       "      <td>0.668401</td>\n",
       "      <td>0.262671</td>\n",
       "      <td>...</td>\n",
       "      <td>1</td>\n",
       "      <td>1</td>\n",
       "      <td>1</td>\n",
       "      <td>1</td>\n",
       "      <td>1</td>\n",
       "      <td>0</td>\n",
       "      <td>1</td>\n",
       "      <td>1</td>\n",
       "      <td>1</td>\n",
       "      <td>0</td>\n",
       "    </tr>\n",
       "    <tr>\n",
       "      <th>4</th>\n",
       "      <td>105.0</td>\n",
       "      <td>-0.038276</td>\n",
       "      <td>0.210104</td>\n",
       "      <td>0.206282</td>\n",
       "      <td>0.183641</td>\n",
       "      <td>0.110790</td>\n",
       "      <td>-0.602964</td>\n",
       "      <td>-0.373355</td>\n",
       "      <td>0.668401</td>\n",
       "      <td>0.262671</td>\n",
       "      <td>...</td>\n",
       "      <td>1</td>\n",
       "      <td>1</td>\n",
       "      <td>1</td>\n",
       "      <td>1</td>\n",
       "      <td>1</td>\n",
       "      <td>0</td>\n",
       "      <td>1</td>\n",
       "      <td>1</td>\n",
       "      <td>1</td>\n",
       "      <td>0</td>\n",
       "    </tr>\n",
       "  </tbody>\n",
       "</table>\n",
       "<p>5 rows × 67 columns</p>\n",
       "</div>"
      ],
      "text/plain": [
       "      ID  IONGAUGEPRESSURE target  ETCHBEAMVOLTAGE target  \\\n",
       "0  101.0                -0.038276                0.209989   \n",
       "1  102.0                -0.038276                0.209817   \n",
       "2  103.0                -0.038276                0.209817   \n",
       "3  104.0                -0.038276                0.209874   \n",
       "4  105.0                -0.038276                0.210104   \n",
       "\n",
       "   ETCHBEAMCURRENT target  ETCHSUPPRESSORVOLTAGE target  \\\n",
       "0                0.201427                      0.183502   \n",
       "1                0.202060                      0.183409   \n",
       "2                0.205226                      0.183455   \n",
       "3                0.203328                      0.183548   \n",
       "4                0.206282                      0.183641   \n",
       "\n",
       "   ETCHSUPPRESSORCURRENT target  FLOWCOOLFLOWRATE target  \\\n",
       "0                      0.098605                -0.608460   \n",
       "1                      0.101237                -0.613348   \n",
       "2                      0.112109                -0.613348   \n",
       "3                      0.101567                -0.602964   \n",
       "4                      0.110790                -0.602964   \n",
       "\n",
       "   FLOWCOOLPRESSURE target  ETCHGASCHANNEL1READBACK target  \\\n",
       "0                -0.373355                        0.666783   \n",
       "1                -0.373355                        0.680515   \n",
       "2                -0.373355                        0.680515   \n",
       "3                -0.373355                        0.668401   \n",
       "4                -0.373355                        0.668401   \n",
       "\n",
       "   ETCHPBNGASREADBACK target  ...  Anomaly Sensor_4  Anomaly Sensor_5  \\\n",
       "0                   0.259626  ...                 1                 1   \n",
       "1                   0.259626  ...                 1                 1   \n",
       "2                   0.259626  ...                 1                 1   \n",
       "3                   0.262671  ...                 1                 1   \n",
       "4                   0.262671  ...                 1                 1   \n",
       "\n",
       "   Anomaly Sensor_6  Anomaly Sensor_7  Anomaly Sensor_8  Anomaly Sensor_9  \\\n",
       "0                 1                 1                 1                 0   \n",
       "1                 1                 1                 1                 0   \n",
       "2                 1                 1                 1                 0   \n",
       "3                 1                 1                 1                 0   \n",
       "4                 1                 1                 1                 0   \n",
       "\n",
       "   Anomaly Sensor_10  Anomaly Sensor_11  Anomaly Sensor_12  Anomaly Sensor_13  \n",
       "0                  1                  1                  1                  0  \n",
       "1                  1                  1                  1                  0  \n",
       "2                  1                  1                  1                  0  \n",
       "3                  1                  1                  1                  0  \n",
       "4                  1                  1                  1                  0  \n",
       "\n",
       "[5 rows x 67 columns]"
      ]
     },
     "execution_count": 31,
     "metadata": {},
     "output_type": "execute_result"
    }
   ],
   "source": [
    "results.head()"
   ]
  },
  {
   "cell_type": "markdown",
   "metadata": {},
   "source": [
    "## Combine prediction data with data which was not consider for inference"
   ]
  },
  {
   "cell_type": "code",
   "execution_count": 32,
   "metadata": {},
   "outputs": [],
   "source": [
    "original_sensor_data = pd.read_csv(param[\"data\"][\"path\"])\n",
    "data_of_droped_feature = original_sensor_data.loc[:, param[\"data\"][\"droped_feature\"]+[\"ID\"]]\n",
    "complete_data = results.merge(right=data_of_droped_feature, how=\"inner\", on=\"ID\")"
   ]
  },
  {
   "cell_type": "markdown",
   "metadata": {},
   "source": [
    "## Save data to csv file"
   ]
  },
  {
   "cell_type": "code",
   "execution_count": 33,
   "metadata": {},
   "outputs": [],
   "source": [
    "complete_data.to_csv(param[\"results\"][\"path\"], sep=\";\", index=False)"
   ]
  },
  {
   "cell_type": "code",
   "execution_count": null,
   "metadata": {},
   "outputs": [],
   "source": []
  }
 ],
 "metadata": {
  "kernelspec": {
   "display_name": "masterarbeit",
   "language": "python",
   "name": "masterarbeit"
  },
  "language_info": {
   "codemirror_mode": {
    "name": "ipython",
    "version": 3
   },
   "file_extension": ".py",
   "mimetype": "text/x-python",
   "name": "python",
   "nbconvert_exporter": "python",
   "pygments_lexer": "ipython3",
   "version": "3.6.8"
  }
 },
 "nbformat": 4,
 "nbformat_minor": 2
}
