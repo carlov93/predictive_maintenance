{
 "cells": [
  {
   "cell_type": "code",
   "execution_count": 18,
   "metadata": {},
   "outputs": [],
   "source": [
    "import torch\n",
    "import torch.nn as nn\n",
    "from torch.utils.data import DataLoader\n",
    "import torch.optim as optim\n",
    "import pandas as pd\n",
    "import numpy as np\n",
    "\n",
    "# own Modules \n",
    "from anomaly_classifier import AnomalyClassifier"
   ]
  },
  {
   "cell_type": "markdown",
   "metadata": {},
   "source": [
    "# MLE Mode: "
   ]
  },
  {
   "cell_type": "code",
   "execution_count": 19,
   "metadata": {},
   "outputs": [],
   "source": [
    "mode = \"MLE\"\n",
    "threshold = \"2sigma\""
   ]
  },
  {
   "cell_type": "markdown",
   "metadata": {},
   "source": [
    "# MSE Mode:"
   ]
  },
  {
   "cell_type": "code",
   "execution_count": 62,
   "metadata": {},
   "outputs": [],
   "source": [
    "mode = \"MSE\"\n",
    "threshold = \"max_minus_{}\".format(\"60percent\")"
   ]
  },
  {
   "cell_type": "markdown",
   "metadata": {},
   "source": [
    "## Parameters phm data"
   ]
  },
  {
   "cell_type": "code",
   "execution_count": 63,
   "metadata": {},
   "outputs": [],
   "source": [
    "param = {\n",
    "    \"data\" : {\n",
    "        \"path\" : '../../data/phm_data_challenge/recipe/dataset_for_each_recipe/test/test_recipe_67_labeled.csv',\n",
    "        \"droped_feature\" : [\"stage\", \"Lot\", \"runnum\", \"recipe\", \"recipe_step\",\n",
    "                            \"up time\", \"ongoing time\", \n",
    "                            \"ETCHSOURCEUSAGE\", \"ETCHAUXSOURCETIMER\", \n",
    "                            \"ETCHAUX2SOURCETIMER\", \"FIXTURESHUTTERPOSITION\", \"ROTATIONSPEED\", \"status\"\n",
    "                           ],\n",
    "        \"features_not_to_scale\": []\n",
    "    },\n",
    "    \"model\" : {\n",
    "        \"input_size\" : 12,\n",
    "    },\n",
    "        \"anomaly_detection\" : {\n",
    "        \"threshold_quadratic_difference\" : 0.5,\n",
    "        \"threshold_q_d_each_sensor\" : [3.561851, 3.561851, 3.561851, 3.561851, \n",
    "                                      3.561851, 3.561851, 3.561851, 3.561851, \n",
    "                                       3.561851, 3.561851, 3.561851, 3.561851],\n",
    "        \"no_standard_deviation\" : 2\n",
    "    },\n",
    "    \"prediction_path\": \"../visualisation/files/prediction/{}/phm_67.csv\".format(mode),\n",
    "    \"classification_path\" : \"../visualisation/files/classification/{}/phm67_{}.csv\".format(mode, threshold)\n",
    "}"
   ]
  },
  {
   "cell_type": "markdown",
   "metadata": {},
   "source": [
    "## Parameters artifical data"
   ]
  },
  {
   "cell_type": "code",
   "execution_count": 39,
   "metadata": {},
   "outputs": [],
   "source": [
    "param = {\n",
    "    \"data\" : {\n",
    "        \"path\" : '../../data/artifical_signals/artifical_2_signals_errors.csv',\n",
    "        \"droped_feature\" : [\"anomaly\"\n",
    "                           ],\n",
    "        \"features_not_to_scale\": []\n",
    "    },\n",
    "    \"model\" : {\n",
    "        \"input_size\" : 2,\n",
    "    },\n",
    "        \"anomaly_detection\" : {\n",
    "        \"threshold_quadratic_difference\" : 0.5,\n",
    "        \"threshold_q_d_each_sensor\" : [0.7012361884117126, 3.1871493458747864], # [0.13679444326055645, 0.5441877437706729],\n",
    "        \"no_standard_deviation\" : 2\n",
    "    },\n",
    "    \"prediction_path\": \"../visualisation/files/prediction/{}/artfic.csv\".format(mode),\n",
    "    \"classification_path\" : \"../visualisation/files/classification/{}/artfic_{}.csv\".format(mode, threshold)\n",
    "}"
   ]
  },
  {
   "cell_type": "markdown",
   "metadata": {},
   "source": [
    "## Parameters cpps data"
   ]
  },
  {
   "cell_type": "code",
   "execution_count": 14,
   "metadata": {},
   "outputs": [],
   "source": [
    "param = {\n",
    "    \"data\" : {\n",
    "        \"path\" : '../../data/cpps_degradation_new/data_obs10/test/obs_space_error_sinusiod_preprocessed.csv',\n",
    "        \"droped_feature\" : [\"status\"\n",
    "                           ],\n",
    "        \"features_not_to_scale\": []\n",
    "    },\n",
    "    \"model\" : {\n",
    "        \"input_size\" : 10,\n",
    "    },\n",
    "        \"anomaly_detection\" : {\n",
    "        \"threshold_quadratic_difference\" : 0.5,\n",
    "        \"threshold_q_d_each_sensor\" : [0.24372421389777016, 0.24761591192911026, 0.32903928384871034, \n",
    "                                       0.18159441767379658, 0.27133063146032477, 0.23155811781422755, \n",
    "                                       0.149805263381253, 0.31187742832928145, 0.0716386888894709, 0.2080102174959789],\n",
    "        \"no_standard_deviation\" : 1\n",
    "    },\n",
    "    \"prediction_path\": \"../visualisation/files/prediction/{}/cpps.csv\".format(mode),\n",
    "    \"classification_path\" : \"../visualisation/files/classification/{}/cpps_{}.csv\".format(mode, threshold)\n",
    "}"
   ]
  },
  {
   "cell_type": "code",
   "execution_count": 48,
   "metadata": {},
   "outputs": [
    {
     "data": {
      "text/plain": [
       "50000"
      ]
     },
     "execution_count": 48,
     "metadata": {},
     "output_type": "execute_result"
    }
   ],
   "source": [
    "all_data = pd.read_csv(param[\"prediction_path\"], sep=\";\")\n",
    "training = all_data.iloc[:50000,:]\n",
    "training.shape[0]"
   ]
  },
  {
   "cell_type": "code",
   "execution_count": 49,
   "metadata": {},
   "outputs": [
    {
     "data": {
      "text/plain": [
       "ID                                               96186.000000\n",
       "IONGAUGEPRESSURE target                              1.026571\n",
       "ETCHBEAMVOLTAGE target                               1.347060\n",
       "ETCHBEAMCURRENT target                               2.693076\n",
       "ETCHSUPPRESSORVOLTAGE target                         1.499655\n",
       "ETCHSUPPRESSORCURRENT target                         3.716567\n",
       "FLOWCOOLFLOWRATE target                              1.080096\n",
       "FLOWCOOLPRESSURE target                              0.708334\n",
       "ETCHGASCHANNEL1READBACK target                       2.066042\n",
       "ETCHPBNGASREADBACK target                            1.226196\n",
       "FIXTURETILTANGLE target                              2.617388\n",
       "ACTUALROTATIONANGLE target                       18040.533203\n",
       "ACTUALSTEPDURATION target                            3.798495\n",
       "IONGAUGEPRESSURE predicted                           1.079630\n",
       "ETCHBEAMVOLTAGE predicted                            1.495523\n",
       "ETCHBEAMCURRENT predicted                            1.020044\n",
       "ETCHSUPPRESSORVOLTAGE predicted                      1.502018\n",
       "ETCHSUPPRESSORCURRENT predicted                      1.144340\n",
       "FLOWCOOLFLOWRATE predicted                           1.074064\n",
       "FLOWCOOLPRESSURE predicted                           0.975585\n",
       "ETCHGASCHANNEL1READBACK predicted                    1.194417\n",
       "ETCHPBNGASREADBACK predicted                         0.952590\n",
       "FIXTURETILTANGLE predicted                           3.257947\n",
       "ACTUALROTATIONANGLE predicted                        3.749779\n",
       "ACTUALSTEPDURATION predicted                         4.522798\n",
       "IONGAUGEPRESSURE reconstruction error                3.561851\n",
       "ETCHBEAMVOLTAGE reconstruction error                 2.419074\n",
       "ETCHBEAMCURRENT reconstruction error                 3.922586\n",
       "ETCHSUPPRESSORVOLTAGE reconstruction error           2.291881\n",
       "ETCHSUPPRESSORCURRENT reconstruction error           3.745262\n",
       "FLOWCOOLFLOWRATE reconstruction error                4.777074\n",
       "FLOWCOOLPRESSURE reconstruction error                5.707168\n",
       "ETCHGASCHANNEL1READBACK reconstruction error         3.591930\n",
       "ETCHPBNGASREADBACK reconstruction error              5.270401\n",
       "FIXTURETILTANGLE reconstruction error                3.365785\n",
       "ACTUALROTATIONANGLE reconstruction error         18039.523191\n",
       "ACTUALSTEPDURATION reconstruction error              4.579883\n",
       "Unnamed: 37                                               NaN\n",
       "dtype: float64"
      ]
     },
     "execution_count": 49,
     "metadata": {},
     "output_type": "execute_result"
    }
   ],
   "source": [
    "training.max()"
   ]
  },
  {
   "cell_type": "markdown",
   "metadata": {},
   "source": [
    "## Detect Anomaly\n",
    "### Euclidean Distance Metric for the Hole Machine (for MSE Loss Function)"
   ]
  },
  {
   "cell_type": "code",
   "execution_count": 34,
   "metadata": {},
   "outputs": [],
   "source": [
    "results_prediction = pd.read_csv(param[\"prediction_path\"], sep=\";\")\n",
    "anomaly_classifier = AnomalyClassifier()\n",
    "results = anomaly_classifier.apply_euclidean_distance_metric(results_prediction, \n",
    "                                                           param['model']['input_size'], \n",
    "                                                           param[\"anomaly_detection\"][\"threshold_quadratic_difference\"])"
   ]
  },
  {
   "cell_type": "markdown",
   "metadata": {},
   "source": [
    "### Euclidean Distance Difference Metric for Each Sensor (for MSE Loss Function)"
   ]
  },
  {
   "cell_type": "code",
   "execution_count": 64,
   "metadata": {},
   "outputs": [],
   "source": [
    "results_prediction = pd.read_csv(param[\"prediction_path\"], sep=\";\")\n",
    "anomaly_classifier = AnomalyClassifier()\n",
    "results = anomaly_classifier.apply_euclidean_distance_metric(results_prediction, \n",
    "                                                           param['model']['input_size'],\n",
    "                                                           param[\"anomaly_detection\"][\"threshold_quadratic_difference\"],\n",
    "                                                           percentage = 0.4,\n",
    "                                                           each_sensor=True, \n",
    "                                                           threshold_sensors=param[\"anomaly_detection\"][\"threshold_q_d_each_sensor\"])"
   ]
  },
  {
   "cell_type": "markdown",
   "metadata": {},
   "source": [
    "### Standard Deviation Metric (for MLE Loss Function)"
   ]
  },
  {
   "cell_type": "code",
   "execution_count": 22,
   "metadata": {},
   "outputs": [],
   "source": [
    "results_prediction = pd.read_csv(param[\"prediction_path\"], sep=\";\")\n",
    "anomaly_classifier = AnomalyClassifier()\n",
    "results = anomaly_classifier.apply_prediction_interval_metric(results_prediction, \n",
    "                                                            param['model']['input_size'],\n",
    "                                                            param[\"anomaly_detection\"][\"no_standard_deviation\"])"
   ]
  },
  {
   "cell_type": "code",
   "execution_count": 23,
   "metadata": {},
   "outputs": [
    {
     "data": {
      "text/html": [
       "<div>\n",
       "<style scoped>\n",
       "    .dataframe tbody tr th:only-of-type {\n",
       "        vertical-align: middle;\n",
       "    }\n",
       "\n",
       "    .dataframe tbody tr th {\n",
       "        vertical-align: top;\n",
       "    }\n",
       "\n",
       "    .dataframe thead th {\n",
       "        text-align: right;\n",
       "    }\n",
       "</style>\n",
       "<table border=\"1\" class=\"dataframe\">\n",
       "  <thead>\n",
       "    <tr style=\"text-align: right;\">\n",
       "      <th></th>\n",
       "      <th>ID</th>\n",
       "      <th>IONGAUGEPRESSURE target</th>\n",
       "      <th>ETCHBEAMVOLTAGE target</th>\n",
       "      <th>ETCHBEAMCURRENT target</th>\n",
       "      <th>ETCHSUPPRESSORVOLTAGE target</th>\n",
       "      <th>ETCHSUPPRESSORCURRENT target</th>\n",
       "      <th>FLOWCOOLFLOWRATE target</th>\n",
       "      <th>FLOWCOOLPRESSURE target</th>\n",
       "      <th>ETCHGASCHANNEL1READBACK target</th>\n",
       "      <th>ETCHPBNGASREADBACK target</th>\n",
       "      <th>...</th>\n",
       "      <th>Anomaly Sensor_3</th>\n",
       "      <th>Anomaly Sensor_4</th>\n",
       "      <th>Anomaly Sensor_5</th>\n",
       "      <th>Anomaly Sensor_6</th>\n",
       "      <th>Anomaly Sensor_7</th>\n",
       "      <th>Anomaly Sensor_8</th>\n",
       "      <th>Anomaly Sensor_9</th>\n",
       "      <th>Anomaly Sensor_10</th>\n",
       "      <th>Anomaly Sensor_11</th>\n",
       "      <th>Anomaly Sensor_12</th>\n",
       "    </tr>\n",
       "  </thead>\n",
       "  <tbody>\n",
       "    <tr>\n",
       "      <th>0</th>\n",
       "      <td>22.0</td>\n",
       "      <td>-4.295414</td>\n",
       "      <td>-1.581093</td>\n",
       "      <td>-1.587199</td>\n",
       "      <td>-1.583969</td>\n",
       "      <td>-1.480392</td>\n",
       "      <td>-0.553929</td>\n",
       "      <td>-0.536234</td>\n",
       "      <td>-2.374155</td>\n",
       "      <td>-4.994313</td>\n",
       "      <td>...</td>\n",
       "      <td>0</td>\n",
       "      <td>0</td>\n",
       "      <td>0</td>\n",
       "      <td>0</td>\n",
       "      <td>0</td>\n",
       "      <td>0</td>\n",
       "      <td>0</td>\n",
       "      <td>0</td>\n",
       "      <td>0</td>\n",
       "      <td>0</td>\n",
       "    </tr>\n",
       "    <tr>\n",
       "      <th>1</th>\n",
       "      <td>23.0</td>\n",
       "      <td>-4.295414</td>\n",
       "      <td>-1.581425</td>\n",
       "      <td>-1.587977</td>\n",
       "      <td>-1.584024</td>\n",
       "      <td>-1.480392</td>\n",
       "      <td>-0.552278</td>\n",
       "      <td>-0.513811</td>\n",
       "      <td>-2.374155</td>\n",
       "      <td>-4.994313</td>\n",
       "      <td>...</td>\n",
       "      <td>0</td>\n",
       "      <td>0</td>\n",
       "      <td>0</td>\n",
       "      <td>0</td>\n",
       "      <td>0</td>\n",
       "      <td>0</td>\n",
       "      <td>0</td>\n",
       "      <td>0</td>\n",
       "      <td>0</td>\n",
       "      <td>0</td>\n",
       "    </tr>\n",
       "    <tr>\n",
       "      <th>2</th>\n",
       "      <td>24.0</td>\n",
       "      <td>-4.296095</td>\n",
       "      <td>-1.581558</td>\n",
       "      <td>-1.588210</td>\n",
       "      <td>-1.584133</td>\n",
       "      <td>-1.480392</td>\n",
       "      <td>-0.552278</td>\n",
       "      <td>-0.500999</td>\n",
       "      <td>-2.374155</td>\n",
       "      <td>-4.992283</td>\n",
       "      <td>...</td>\n",
       "      <td>0</td>\n",
       "      <td>0</td>\n",
       "      <td>0</td>\n",
       "      <td>0</td>\n",
       "      <td>0</td>\n",
       "      <td>0</td>\n",
       "      <td>0</td>\n",
       "      <td>0</td>\n",
       "      <td>0</td>\n",
       "      <td>0</td>\n",
       "    </tr>\n",
       "    <tr>\n",
       "      <th>3</th>\n",
       "      <td>25.0</td>\n",
       "      <td>-4.296095</td>\n",
       "      <td>-1.581225</td>\n",
       "      <td>-1.587743</td>\n",
       "      <td>-1.584187</td>\n",
       "      <td>-1.480392</td>\n",
       "      <td>-0.552278</td>\n",
       "      <td>-0.481773</td>\n",
       "      <td>-2.372523</td>\n",
       "      <td>-4.992283</td>\n",
       "      <td>...</td>\n",
       "      <td>0</td>\n",
       "      <td>0</td>\n",
       "      <td>0</td>\n",
       "      <td>0</td>\n",
       "      <td>0</td>\n",
       "      <td>0</td>\n",
       "      <td>0</td>\n",
       "      <td>0</td>\n",
       "      <td>0</td>\n",
       "      <td>0</td>\n",
       "    </tr>\n",
       "    <tr>\n",
       "      <th>4</th>\n",
       "      <td>26.0</td>\n",
       "      <td>-4.296739</td>\n",
       "      <td>-1.581358</td>\n",
       "      <td>-1.587899</td>\n",
       "      <td>-1.584296</td>\n",
       "      <td>-1.480392</td>\n",
       "      <td>-0.558423</td>\n",
       "      <td>-0.449735</td>\n",
       "      <td>-2.372523</td>\n",
       "      <td>-4.992283</td>\n",
       "      <td>...</td>\n",
       "      <td>0</td>\n",
       "      <td>0</td>\n",
       "      <td>0</td>\n",
       "      <td>0</td>\n",
       "      <td>0</td>\n",
       "      <td>0</td>\n",
       "      <td>0</td>\n",
       "      <td>0</td>\n",
       "      <td>0</td>\n",
       "      <td>0</td>\n",
       "    </tr>\n",
       "  </tbody>\n",
       "</table>\n",
       "<p>5 rows × 62 columns</p>\n",
       "</div>"
      ],
      "text/plain": [
       "     ID  IONGAUGEPRESSURE target  ETCHBEAMVOLTAGE target  \\\n",
       "0  22.0                -4.295414               -1.581093   \n",
       "1  23.0                -4.295414               -1.581425   \n",
       "2  24.0                -4.296095               -1.581558   \n",
       "3  25.0                -4.296095               -1.581225   \n",
       "4  26.0                -4.296739               -1.581358   \n",
       "\n",
       "   ETCHBEAMCURRENT target  ETCHSUPPRESSORVOLTAGE target  \\\n",
       "0               -1.587199                     -1.583969   \n",
       "1               -1.587977                     -1.584024   \n",
       "2               -1.588210                     -1.584133   \n",
       "3               -1.587743                     -1.584187   \n",
       "4               -1.587899                     -1.584296   \n",
       "\n",
       "   ETCHSUPPRESSORCURRENT target  FLOWCOOLFLOWRATE target  \\\n",
       "0                     -1.480392                -0.553929   \n",
       "1                     -1.480392                -0.552278   \n",
       "2                     -1.480392                -0.552278   \n",
       "3                     -1.480392                -0.552278   \n",
       "4                     -1.480392                -0.558423   \n",
       "\n",
       "   FLOWCOOLPRESSURE target  ETCHGASCHANNEL1READBACK target  \\\n",
       "0                -0.536234                       -2.374155   \n",
       "1                -0.513811                       -2.374155   \n",
       "2                -0.500999                       -2.374155   \n",
       "3                -0.481773                       -2.372523   \n",
       "4                -0.449735                       -2.372523   \n",
       "\n",
       "   ETCHPBNGASREADBACK target  ...  Anomaly Sensor_3  Anomaly Sensor_4  \\\n",
       "0                  -4.994313  ...                 0                 0   \n",
       "1                  -4.994313  ...                 0                 0   \n",
       "2                  -4.992283  ...                 0                 0   \n",
       "3                  -4.992283  ...                 0                 0   \n",
       "4                  -4.992283  ...                 0                 0   \n",
       "\n",
       "   Anomaly Sensor_5  Anomaly Sensor_6  Anomaly Sensor_7  Anomaly Sensor_8  \\\n",
       "0                 0                 0                 0                 0   \n",
       "1                 0                 0                 0                 0   \n",
       "2                 0                 0                 0                 0   \n",
       "3                 0                 0                 0                 0   \n",
       "4                 0                 0                 0                 0   \n",
       "\n",
       "   Anomaly Sensor_9  Anomaly Sensor_10  Anomaly Sensor_11  Anomaly Sensor_12  \n",
       "0                 0                  0                  0                  0  \n",
       "1                 0                  0                  0                  0  \n",
       "2                 0                  0                  0                  0  \n",
       "3                 0                  0                  0                  0  \n",
       "4                 0                  0                  0                  0  \n",
       "\n",
       "[5 rows x 62 columns]"
      ]
     },
     "execution_count": 23,
     "metadata": {},
     "output_type": "execute_result"
    }
   ],
   "source": [
    "results.head()"
   ]
  },
  {
   "cell_type": "markdown",
   "metadata": {},
   "source": [
    "## Combine prediction data with data which was not consider for inference"
   ]
  },
  {
   "cell_type": "code",
   "execution_count": 65,
   "metadata": {},
   "outputs": [],
   "source": [
    "original_sensor_data = pd.read_csv(param[\"data\"][\"path\"])\n",
    "data_of_droped_feature = original_sensor_data.loc[:, param[\"data\"][\"droped_feature\"]+[\"ID\"]]\n",
    "complete_data = results.merge(right=data_of_droped_feature, how=\"inner\", on=\"ID\")"
   ]
  },
  {
   "cell_type": "markdown",
   "metadata": {},
   "source": [
    "## Save data to csv file"
   ]
  },
  {
   "cell_type": "code",
   "execution_count": 66,
   "metadata": {},
   "outputs": [],
   "source": [
    "complete_data.to_csv(param[\"classification_path\"], sep=\";\", index=False)"
   ]
  },
  {
   "cell_type": "code",
   "execution_count": null,
   "metadata": {},
   "outputs": [],
   "source": []
  }
 ],
 "metadata": {
  "kernelspec": {
   "display_name": "masterarbeit",
   "language": "python",
   "name": "masterarbeit"
  },
  "language_info": {
   "codemirror_mode": {
    "name": "ipython",
    "version": 3
   },
   "file_extension": ".py",
   "mimetype": "text/x-python",
   "name": "python",
   "nbconvert_exporter": "python",
   "pygments_lexer": "ipython3",
   "version": "3.6.8"
  }
 },
 "nbformat": 4,
 "nbformat_minor": 2
}
