{
 "cells": [
  {
   "cell_type": "code",
   "execution_count": 11,
   "metadata": {},
   "outputs": [],
   "source": [
    "import torch\n",
    "import torch.nn as nn\n",
    "from torch.utils.data import DataLoader\n",
    "import torch.optim as optim\n",
    "import pandas as pd\n",
    "import numpy as np\n",
    "\n",
    "# own Modules \n",
    "from anomaly_classifier import AnomalyClassifier"
   ]
  },
  {
   "cell_type": "markdown",
   "metadata": {},
   "source": [
    "# MLE Mode: "
   ]
  },
  {
   "cell_type": "code",
   "execution_count": 19,
   "metadata": {},
   "outputs": [],
   "source": [
    "mode = \"MLE\"\n",
    "threshold = \"2sigma\""
   ]
  },
  {
   "cell_type": "markdown",
   "metadata": {},
   "source": [
    "# MSE Mode:"
   ]
  },
  {
   "cell_type": "code",
   "execution_count": 18,
   "metadata": {},
   "outputs": [],
   "source": [
    "mode = \"MSE\"\n",
    "threshold = \"max_minus_{}\".format(\"60percent\")"
   ]
  },
  {
   "cell_type": "markdown",
   "metadata": {},
   "source": [
    "## Parameters phm data"
   ]
  },
  {
   "cell_type": "code",
   "execution_count": 28,
   "metadata": {},
   "outputs": [],
   "source": [
    "param = {\n",
    "    \"data\" : {\n",
    "        \"path\" : '../../data/phm_data_challenge/recipe/dataset_for_each_recipe/test/test_recipe_67_labeled_short.csv',\n",
    "        \"droped_feature\" : [\"stage\", \"Lot\", \"runnum\", \"recipe\", \"recipe_step\",\n",
    "                            \"up time\", \"ongoing time\", \n",
    "                            \"ETCHSOURCEUSAGE\", \"ETCHAUXSOURCETIMER\", \n",
    "                            \"ETCHAUX2SOURCETIMER\", \"FIXTURESHUTTERPOSITION\", \"ROTATIONSPEED\", \"status\"\n",
    "                           ],\n",
    "        \"features_not_to_scale\": []\n",
    "    },\n",
    "    \"model\" : {\n",
    "        \"input_size\" : 12,\n",
    "    },\n",
    "        \"anomaly_detection\" : {\n",
    "        \"threshold_quadratic_difference\" : 0.5,\n",
    "        \"threshold_q_d_each_sensor\" : [3.561851, 3.561851, 3.561851, 3.561851, \n",
    "                                      3.561851, 3.561851, 3.561851, 3.561851, \n",
    "                                       3.561851, 3.561851, 3.561851, 3.561851],\n",
    "        \"no_standard_deviation\" : 2\n",
    "    },\n",
    "    \"prediction_path\": \"../visualisation/files/prediction/{}/phm_67_SQ36.csv\".format(mode),\n",
    "    \"classification_path\" : \"../visualisation/files/classification/{}/phm_67_SQ36.csv\".format(mode, threshold)\n",
    "}"
   ]
  },
  {
   "cell_type": "markdown",
   "metadata": {},
   "source": [
    "## Parameters artifical data"
   ]
  },
  {
   "cell_type": "code",
   "execution_count": 39,
   "metadata": {},
   "outputs": [],
   "source": [
    "param = {\n",
    "    \"data\" : {\n",
    "        \"path\" : '../../data/artifical_signals/artifical_2_signals_errors.csv',\n",
    "        \"droped_feature\" : [\"anomaly\"\n",
    "                           ],\n",
    "        \"features_not_to_scale\": []\n",
    "    },\n",
    "    \"model\" : {\n",
    "        \"input_size\" : 2,\n",
    "    },\n",
    "        \"anomaly_detection\" : {\n",
    "        \"threshold_quadratic_difference\" : 0.5,\n",
    "        \"threshold_q_d_each_sensor\" : [0.7012361884117126, 3.1871493458747864], # [0.13679444326055645, 0.5441877437706729],\n",
    "        \"no_standard_deviation\" : 2\n",
    "    },\n",
    "    \"prediction_path\": \"../visualisation/files/prediction/{}/artfic.csv\".format(mode),\n",
    "    \"classification_path\" : \"../visualisation/files/classification/{}/artfic_{}.csv\".format(mode, threshold)\n",
    "}"
   ]
  },
  {
   "cell_type": "markdown",
   "metadata": {},
   "source": [
    "## Parameters cpps data"
   ]
  },
  {
   "cell_type": "code",
   "execution_count": 14,
   "metadata": {},
   "outputs": [],
   "source": [
    "param = {\n",
    "    \"data\" : {\n",
    "        \"path\" : '../../data/cpps_degradation_new/data_obs10/test/obs_space_error_sinusiod_preprocessed.csv',\n",
    "        \"droped_feature\" : [\"status\"\n",
    "                           ],\n",
    "        \"features_not_to_scale\": []\n",
    "    },\n",
    "    \"model\" : {\n",
    "        \"input_size\" : 10,\n",
    "    },\n",
    "        \"anomaly_detection\" : {\n",
    "        \"threshold_quadratic_difference\" : 0.5,\n",
    "        \"threshold_q_d_each_sensor\" : [0.24372421389777016, 0.24761591192911026, 0.32903928384871034, \n",
    "                                       0.18159441767379658, 0.27133063146032477, 0.23155811781422755, \n",
    "                                       0.149805263381253, 0.31187742832928145, 0.0716386888894709, 0.2080102174959789],\n",
    "        \"no_standard_deviation\" : 1\n",
    "    },\n",
    "    \"prediction_path\": \"../visualisation/files/prediction/{}/cpps.csv\".format(mode),\n",
    "    \"classification_path\" : \"../visualisation/files/classification/{}/cpps_{}.csv\".format(mode, threshold)\n",
    "}"
   ]
  },
  {
   "cell_type": "markdown",
   "metadata": {},
   "source": [
    "## Parameters ramming data"
   ]
  },
  {
   "cell_type": "code",
   "execution_count": 20,
   "metadata": {},
   "outputs": [],
   "source": [
    "param = {\n",
    "    \"data\" : {\n",
    "        \"path\" : '../../data/ramming_data/data_train_preprocessed.csv',\n",
    "        \"droped_feature\" : [\"status\"\n",
    "                           ],\n",
    "        \"features_not_to_scale\": []\n",
    "    },\n",
    "    \"model\" : {\n",
    "        \"input_size\" : 50,\n",
    "    },\n",
    "        \"anomaly_detection\" : {\n",
    "        \"threshold_quadratic_difference\" : 0.5,\n",
    "        \"threshold_q_d_each_sensor\" : [],\n",
    "        \"no_standard_deviation\" : 2\n",
    "    },\n",
    "    \"prediction_path\": \"../visualisation/files/prediction/{}/ramming_train.csv\".format(mode),\n",
    "    \"classification_path\" : \"../visualisation/files/classification/{}/ramming_train_{}.csv\".format(mode, threshold)\n",
    "}"
   ]
  },
  {
   "cell_type": "markdown",
   "metadata": {},
   "source": [
    "## Detect Anomaly\n",
    "### Euclidean Distance Metric for the Hole Machine (for MSE Loss Function)"
   ]
  },
  {
   "cell_type": "code",
   "execution_count": 34,
   "metadata": {},
   "outputs": [],
   "source": [
    "results_prediction = pd.read_csv(param[\"prediction_path\"], sep=\";\")\n",
    "anomaly_classifier = AnomalyClassifier()\n",
    "results = anomaly_classifier.apply_euclidean_distance_metric(results_prediction, \n",
    "                                                           param['model']['input_size'], \n",
    "                                                           param[\"anomaly_detection\"][\"threshold_quadratic_difference\"])"
   ]
  },
  {
   "cell_type": "markdown",
   "metadata": {},
   "source": [
    "### Euclidean Distance Difference Metric for Each Sensor (for MSE Loss Function)"
   ]
  },
  {
   "cell_type": "code",
   "execution_count": 64,
   "metadata": {},
   "outputs": [],
   "source": [
    "results_prediction = pd.read_csv(param[\"prediction_path\"], sep=\";\")\n",
    "anomaly_classifier = AnomalyClassifier()\n",
    "results = anomaly_classifier.apply_euclidean_distance_metric(results_prediction, \n",
    "                                                           param['model']['input_size'],\n",
    "                                                           param[\"anomaly_detection\"][\"threshold_quadratic_difference\"],\n",
    "                                                           percentage = 0.4,\n",
    "                                                           each_sensor=True, \n",
    "                                                           threshold_sensors=param[\"anomaly_detection\"][\"threshold_q_d_each_sensor\"])"
   ]
  },
  {
   "cell_type": "markdown",
   "metadata": {},
   "source": [
    "### Standard Deviation Metric (for MLE Loss Function)"
   ]
  },
  {
   "cell_type": "code",
   "execution_count": 21,
   "metadata": {},
   "outputs": [],
   "source": [
    "results_prediction = pd.read_csv(param[\"prediction_path\"], sep=\";\")\n",
    "anomaly_classifier = AnomalyClassifier()\n",
    "results = anomaly_classifier.apply_prediction_interval_metric(results_prediction, \n",
    "                                                            param['model']['input_size'],\n",
    "                                                            param[\"anomaly_detection\"][\"no_standard_deviation\"])"
   ]
  },
  {
   "cell_type": "code",
   "execution_count": 22,
   "metadata": {},
   "outputs": [
    {
     "data": {
      "text/html": [
       "<div>\n",
       "<style scoped>\n",
       "    .dataframe tbody tr th:only-of-type {\n",
       "        vertical-align: middle;\n",
       "    }\n",
       "\n",
       "    .dataframe tbody tr th {\n",
       "        vertical-align: top;\n",
       "    }\n",
       "\n",
       "    .dataframe thead th {\n",
       "        text-align: right;\n",
       "    }\n",
       "</style>\n",
       "<table border=\"1\" class=\"dataframe\">\n",
       "  <thead>\n",
       "    <tr style=\"text-align: right;\">\n",
       "      <th></th>\n",
       "      <th>ID</th>\n",
       "      <th>obs_1 target</th>\n",
       "      <th>obs_2 target</th>\n",
       "      <th>obs_3 target</th>\n",
       "      <th>obs_4 target</th>\n",
       "      <th>obs_5 target</th>\n",
       "      <th>obs_6 target</th>\n",
       "      <th>obs_7 target</th>\n",
       "      <th>obs_8 target</th>\n",
       "      <th>obs_9 target</th>\n",
       "      <th>...</th>\n",
       "      <th>Anomaly Sensor_41</th>\n",
       "      <th>Anomaly Sensor_42</th>\n",
       "      <th>Anomaly Sensor_43</th>\n",
       "      <th>Anomaly Sensor_44</th>\n",
       "      <th>Anomaly Sensor_45</th>\n",
       "      <th>Anomaly Sensor_46</th>\n",
       "      <th>Anomaly Sensor_47</th>\n",
       "      <th>Anomaly Sensor_48</th>\n",
       "      <th>Anomaly Sensor_49</th>\n",
       "      <th>Anomaly Sensor_50</th>\n",
       "    </tr>\n",
       "  </thead>\n",
       "  <tbody>\n",
       "    <tr>\n",
       "      <th>0</th>\n",
       "      <td>9.0</td>\n",
       "      <td>-0.579954</td>\n",
       "      <td>-1.082348</td>\n",
       "      <td>1.710099</td>\n",
       "      <td>1.208595</td>\n",
       "      <td>-1.094804</td>\n",
       "      <td>-1.857220</td>\n",
       "      <td>0.728437</td>\n",
       "      <td>-1.303208</td>\n",
       "      <td>-0.123162</td>\n",
       "      <td>...</td>\n",
       "      <td>0</td>\n",
       "      <td>0</td>\n",
       "      <td>0</td>\n",
       "      <td>0</td>\n",
       "      <td>0</td>\n",
       "      <td>0</td>\n",
       "      <td>0</td>\n",
       "      <td>0</td>\n",
       "      <td>0</td>\n",
       "      <td>0</td>\n",
       "    </tr>\n",
       "    <tr>\n",
       "      <th>1</th>\n",
       "      <td>10.0</td>\n",
       "      <td>-0.581526</td>\n",
       "      <td>-1.102224</td>\n",
       "      <td>1.699215</td>\n",
       "      <td>1.181358</td>\n",
       "      <td>-1.111566</td>\n",
       "      <td>-1.847425</td>\n",
       "      <td>0.740729</td>\n",
       "      <td>-1.339664</td>\n",
       "      <td>-0.181549</td>\n",
       "      <td>...</td>\n",
       "      <td>0</td>\n",
       "      <td>0</td>\n",
       "      <td>0</td>\n",
       "      <td>0</td>\n",
       "      <td>0</td>\n",
       "      <td>0</td>\n",
       "      <td>0</td>\n",
       "      <td>0</td>\n",
       "      <td>0</td>\n",
       "      <td>0</td>\n",
       "    </tr>\n",
       "    <tr>\n",
       "      <th>2</th>\n",
       "      <td>11.0</td>\n",
       "      <td>-0.589088</td>\n",
       "      <td>-1.125409</td>\n",
       "      <td>1.730382</td>\n",
       "      <td>1.195109</td>\n",
       "      <td>-1.082208</td>\n",
       "      <td>-1.873643</td>\n",
       "      <td>0.757127</td>\n",
       "      <td>-1.365868</td>\n",
       "      <td>-0.209144</td>\n",
       "      <td>...</td>\n",
       "      <td>0</td>\n",
       "      <td>0</td>\n",
       "      <td>0</td>\n",
       "      <td>0</td>\n",
       "      <td>0</td>\n",
       "      <td>0</td>\n",
       "      <td>0</td>\n",
       "      <td>0</td>\n",
       "      <td>0</td>\n",
       "      <td>0</td>\n",
       "    </tr>\n",
       "    <tr>\n",
       "      <th>3</th>\n",
       "      <td>12.0</td>\n",
       "      <td>-0.603368</td>\n",
       "      <td>-1.251806</td>\n",
       "      <td>1.807651</td>\n",
       "      <td>1.177841</td>\n",
       "      <td>-1.019877</td>\n",
       "      <td>-1.935482</td>\n",
       "      <td>0.845683</td>\n",
       "      <td>-1.525055</td>\n",
       "      <td>-0.418739</td>\n",
       "      <td>...</td>\n",
       "      <td>0</td>\n",
       "      <td>0</td>\n",
       "      <td>0</td>\n",
       "      <td>0</td>\n",
       "      <td>0</td>\n",
       "      <td>0</td>\n",
       "      <td>0</td>\n",
       "      <td>0</td>\n",
       "      <td>0</td>\n",
       "      <td>0</td>\n",
       "    </tr>\n",
       "    <tr>\n",
       "      <th>4</th>\n",
       "      <td>13.0</td>\n",
       "      <td>-0.599112</td>\n",
       "      <td>-1.077018</td>\n",
       "      <td>1.729705</td>\n",
       "      <td>1.214666</td>\n",
       "      <td>-1.045327</td>\n",
       "      <td>-1.885822</td>\n",
       "      <td>0.716193</td>\n",
       "      <td>-1.289662</td>\n",
       "      <td>-0.112665</td>\n",
       "      <td>...</td>\n",
       "      <td>0</td>\n",
       "      <td>0</td>\n",
       "      <td>0</td>\n",
       "      <td>0</td>\n",
       "      <td>0</td>\n",
       "      <td>0</td>\n",
       "      <td>0</td>\n",
       "      <td>0</td>\n",
       "      <td>0</td>\n",
       "      <td>0</td>\n",
       "    </tr>\n",
       "  </tbody>\n",
       "</table>\n",
       "<p>5 rows × 252 columns</p>\n",
       "</div>"
      ],
      "text/plain": [
       "     ID  obs_1 target  obs_2 target  obs_3 target  obs_4 target  obs_5 target  \\\n",
       "0   9.0     -0.579954     -1.082348      1.710099      1.208595     -1.094804   \n",
       "1  10.0     -0.581526     -1.102224      1.699215      1.181358     -1.111566   \n",
       "2  11.0     -0.589088     -1.125409      1.730382      1.195109     -1.082208   \n",
       "3  12.0     -0.603368     -1.251806      1.807651      1.177841     -1.019877   \n",
       "4  13.0     -0.599112     -1.077018      1.729705      1.214666     -1.045327   \n",
       "\n",
       "   obs_6 target  obs_7 target  obs_8 target  obs_9 target  ...  \\\n",
       "0     -1.857220      0.728437     -1.303208     -0.123162  ...   \n",
       "1     -1.847425      0.740729     -1.339664     -0.181549  ...   \n",
       "2     -1.873643      0.757127     -1.365868     -0.209144  ...   \n",
       "3     -1.935482      0.845683     -1.525055     -0.418739  ...   \n",
       "4     -1.885822      0.716193     -1.289662     -0.112665  ...   \n",
       "\n",
       "   Anomaly Sensor_41  Anomaly Sensor_42  Anomaly Sensor_43  Anomaly Sensor_44  \\\n",
       "0                  0                  0                  0                  0   \n",
       "1                  0                  0                  0                  0   \n",
       "2                  0                  0                  0                  0   \n",
       "3                  0                  0                  0                  0   \n",
       "4                  0                  0                  0                  0   \n",
       "\n",
       "   Anomaly Sensor_45  Anomaly Sensor_46  Anomaly Sensor_47  Anomaly Sensor_48  \\\n",
       "0                  0                  0                  0                  0   \n",
       "1                  0                  0                  0                  0   \n",
       "2                  0                  0                  0                  0   \n",
       "3                  0                  0                  0                  0   \n",
       "4                  0                  0                  0                  0   \n",
       "\n",
       "   Anomaly Sensor_49  Anomaly Sensor_50  \n",
       "0                  0                  0  \n",
       "1                  0                  0  \n",
       "2                  0                  0  \n",
       "3                  0                  0  \n",
       "4                  0                  0  \n",
       "\n",
       "[5 rows x 252 columns]"
      ]
     },
     "execution_count": 22,
     "metadata": {},
     "output_type": "execute_result"
    }
   ],
   "source": [
    "results.head()"
   ]
  },
  {
   "cell_type": "markdown",
   "metadata": {},
   "source": [
    "## Combine prediction data with data which was not consider for inference"
   ]
  },
  {
   "cell_type": "code",
   "execution_count": 23,
   "metadata": {},
   "outputs": [],
   "source": [
    "original_sensor_data = pd.read_csv(param[\"data\"][\"path\"])\n",
    "data_of_droped_feature = original_sensor_data.loc[:, param[\"data\"][\"droped_feature\"]+[\"ID\"]]\n",
    "complete_data = results.merge(right=data_of_droped_feature, how=\"inner\", on=\"ID\")"
   ]
  },
  {
   "cell_type": "markdown",
   "metadata": {},
   "source": [
    "## Save data to csv file"
   ]
  },
  {
   "cell_type": "code",
   "execution_count": 24,
   "metadata": {},
   "outputs": [],
   "source": [
    "complete_data.to_csv(param[\"classification_path\"], sep=\";\", index=False)"
   ]
  },
  {
   "cell_type": "code",
   "execution_count": null,
   "metadata": {},
   "outputs": [],
   "source": []
  }
 ],
 "metadata": {
  "kernelspec": {
   "display_name": "masterarbeit",
   "language": "python",
   "name": "masterarbeit"
  },
  "language_info": {
   "codemirror_mode": {
    "name": "ipython",
    "version": 3
   },
   "file_extension": ".py",
   "mimetype": "text/x-python",
   "name": "python",
   "nbconvert_exporter": "python",
   "pygments_lexer": "ipython3",
   "version": "3.6.8"
  }
 },
 "nbformat": 4,
 "nbformat_minor": 2
}
