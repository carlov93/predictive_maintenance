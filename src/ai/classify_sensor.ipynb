{
 "cells": [
  {
   "cell_type": "code",
   "execution_count": 10,
   "metadata": {},
   "outputs": [],
   "source": [
    "import torch\n",
    "import torch.nn as nn\n",
    "from torch.utils.data import DataLoader\n",
    "import torch.optim as optim\n",
    "import pandas as pd\n",
    "import numpy as np\n",
    "\n",
    "# own Modules \n",
    "from anomaly_classifier import AnomalyClassifier"
   ]
  },
  {
   "cell_type": "markdown",
   "metadata": {},
   "source": [
    "# MLE Mode: "
   ]
  },
  {
   "cell_type": "code",
   "execution_count": 11,
   "metadata": {},
   "outputs": [],
   "source": [
    "mode = \"MLE\"\n",
    "threshold = \"3sigma\""
   ]
  },
  {
   "cell_type": "markdown",
   "metadata": {},
   "source": [
    "# MSE Mode:"
   ]
  },
  {
   "cell_type": "code",
   "execution_count": 2,
   "metadata": {},
   "outputs": [],
   "source": [
    "mode = \"MSE\"\n",
    "threshold = \"max_minus_{}\".format(\"20percent\")"
   ]
  },
  {
   "cell_type": "markdown",
   "metadata": {},
   "source": [
    "## Parameters phm data"
   ]
  },
  {
   "cell_type": "code",
   "execution_count": 12,
   "metadata": {},
   "outputs": [],
   "source": [
    "param = {\n",
    "    \"data\" : {\n",
    "        \"path\" : '../../data/phm_data_challenge/recipe/dataset_for_each_recipe/test/test_recipe_67_labeled_short.csv',\n",
    "        \"droped_feature\" : [\"stage\", \"Lot\", \"runnum\", \"recipe\", \"recipe_step\",\n",
    "                            \"up time\", \"ongoing time\", \n",
    "                            \"ETCHSOURCEUSAGE\", \"ETCHAUXSOURCETIMER\", \n",
    "                            \"ETCHAUX2SOURCETIMER\", \"FIXTURESHUTTERPOSITION\", \"ROTATIONSPEED\", \"status\"\n",
    "                           ],\n",
    "        \"features_not_to_scale\": []\n",
    "    },\n",
    "    \"model\" : {\n",
    "        \"input_size\" : 12,\n",
    "    },\n",
    "        \"anomaly_detection\" : {\n",
    "        \"threshold_quadratic_difference\" : 0.5,\n",
    "        \"threshold_q_d_each_sensor\" : [3.561851, 3.561851, 3.561851, 3.561851, \n",
    "                                      3.561851, 3.561851, 3.561851, 3.561851, \n",
    "                                       3.561851, 3.561851, 3.561851, 3.561851],\n",
    "        \"no_standard_deviation\" : 3\n",
    "    },\n",
    "    \"prediction_path\": \"../visualisation/files/prediction/{}/phm_67_SQ36.csv\".format(mode),\n",
    "    \"classification_path\" : \"../visualisation/files/classification/{}/phm_67_SQ36_{}.csv\".format(mode, threshold)\n",
    "}"
   ]
  },
  {
   "cell_type": "markdown",
   "metadata": {},
   "source": [
    "## Parameters artifical data"
   ]
  },
  {
   "cell_type": "code",
   "execution_count": 3,
   "metadata": {},
   "outputs": [],
   "source": [
    "param = {\n",
    "    \"data\" : {\n",
    "        \"path\" : '../../data/artifical_signals/artifical_2_signals_errors.csv',\n",
    "        \"droped_feature\" : [\"anomaly\"\n",
    "                           ],\n",
    "        \"features_not_to_scale\": []\n",
    "    },\n",
    "    \"model\" : {\n",
    "        \"input_size\" : 2,\n",
    "    },\n",
    "        \"anomaly_detection\" : {\n",
    "        \"threshold_quadratic_difference\" : 0.5,\n",
    "        \"threshold_q_d_each_sensor\" : [0.7012361884117126, 3.1871493458747864], # [0.13679444326055645, 0.5441877437706729],\n",
    "        \"no_standard_deviation\" : 3\n",
    "    },\n",
    "    \"prediction_path\": \"../visualisation/files/prediction/{}/artfic.csv\".format(mode),\n",
    "    \"classification_path\" : \"../visualisation/files/classification/{}/artfic_{}.csv\".format(mode, threshold)\n",
    "}"
   ]
  },
  {
   "cell_type": "markdown",
   "metadata": {},
   "source": [
    "## Parameters cpps data"
   ]
  },
  {
   "cell_type": "code",
   "execution_count": 3,
   "metadata": {},
   "outputs": [],
   "source": [
    "param = {\n",
    "    \"data\" : {\n",
    "        \"path\" : '../../data/cpps_degradation_new/data_obs10/test/obs_space_error_sinusiod_preprocessed.csv',\n",
    "        \"droped_feature\" : [\"status\"\n",
    "                           ],\n",
    "        \"features_not_to_scale\": []\n",
    "    },\n",
    "    \"model\" : {\n",
    "        \"input_size\" : 10,\n",
    "    },\n",
    "        \"anomaly_detection\" : {\n",
    "        \"threshold_quadratic_difference\" : 0.5,\n",
    "        \"threshold_q_d_each_sensor\" : [0.24372421389777016, 0.24761591192911026, 0.32903928384871034, \n",
    "                                       0.18159441767379658, 0.27133063146032477, 0.23155811781422755, \n",
    "                                       0.149805263381253, 0.31187742832928145, 0.0716386888894709, 0.2080102174959789],\n",
    "        \"no_standard_deviation\" : 1\n",
    "    },\n",
    "    \"prediction_path\": \"../visualisation/files/prediction/{}/cpps.csv\".format(mode),\n",
    "    \"classification_path\" : \"../visualisation/files/classification/{}/cpps_{}.csv\".format(mode, threshold)\n",
    "}"
   ]
  },
  {
   "cell_type": "markdown",
   "metadata": {},
   "source": [
    "## Parameters ramming data"
   ]
  },
  {
   "cell_type": "code",
   "execution_count": 20,
   "metadata": {},
   "outputs": [],
   "source": [
    "param = {\n",
    "    \"data\" : {\n",
    "        \"path\" : '../../data/ramming_data/data_train_preprocessed.csv',\n",
    "        \"droped_feature\" : [\"status\"\n",
    "                           ],\n",
    "        \"features_not_to_scale\": []\n",
    "    },\n",
    "    \"model\" : {\n",
    "        \"input_size\" : 50,\n",
    "    },\n",
    "        \"anomaly_detection\" : {\n",
    "        \"threshold_quadratic_difference\" : 0.5,\n",
    "        \"threshold_q_d_each_sensor\" : [],\n",
    "        \"no_standard_deviation\" : 2\n",
    "    },\n",
    "    \"prediction_path\": \"../visualisation/files/prediction/{}/ramming_train.csv\".format(mode),\n",
    "    \"classification_path\" : \"../visualisation/files/classification/{}/ramming_train_{}.csv\".format(mode, threshold)\n",
    "}"
   ]
  },
  {
   "cell_type": "markdown",
   "metadata": {},
   "source": [
    "## Parameters variance data"
   ]
  },
  {
   "cell_type": "code",
   "execution_count": 11,
   "metadata": {},
   "outputs": [],
   "source": [
    "param = {\n",
    "    \"data\" : {\n",
    "        \"path\" : '../../data/variation_in_variance/dataset_increasing_variance.csv',\n",
    "        \"droped_feature\" : [\"time\", \"mu\", \"sigma\" \n",
    "                           ],\n",
    "        \"features_not_to_scale\": []\n",
    "    },\n",
    "    \"model\" : {\n",
    "        \"input_size\" : 1,\n",
    "    },\n",
    "        \"anomaly_detection\" : {\n",
    "        \"threshold_quadratic_difference\" : 0.5,\n",
    "        \"threshold_q_d_each_sensor\" : [],\n",
    "        \"no_standard_deviation\" : 1\n",
    "    },\n",
    "    \"prediction_path\": \"../visualisation/files/prediction/{}/variance_data_new.csv\".format(mode),\n",
    "    \"classification_path\" : \"../visualisation/files/classification/{}/variance_data_new_{}.csv\".format(mode, threshold)\n",
    "}"
   ]
  },
  {
   "cell_type": "markdown",
   "metadata": {},
   "source": [
    "## Detect Anomaly\n",
    "### Euclidean Distance Metric for the Hole Machine (for MSE Loss Function)"
   ]
  },
  {
   "cell_type": "code",
   "execution_count": 34,
   "metadata": {},
   "outputs": [],
   "source": [
    "results_prediction = pd.read_csv(param[\"prediction_path\"], sep=\";\")\n",
    "anomaly_classifier = AnomalyClassifier()\n",
    "results = anomaly_classifier.apply_euclidean_distance_metric(results_prediction, \n",
    "                                                           param['model']['input_size'], \n",
    "                                                           param[\"anomaly_detection\"][\"threshold_quadratic_difference\"])"
   ]
  },
  {
   "cell_type": "markdown",
   "metadata": {},
   "source": [
    "### Euclidean Distance Difference Metric for Each Sensor (for MSE Loss Function)"
   ]
  },
  {
   "cell_type": "code",
   "execution_count": 4,
   "metadata": {},
   "outputs": [],
   "source": [
    "results_prediction = pd.read_csv(param[\"prediction_path\"], sep=\";\")\n",
    "anomaly_classifier = AnomalyClassifier()\n",
    "results = anomaly_classifier.apply_euclidean_distance_metric(results_prediction, \n",
    "                                                           param['model']['input_size'],\n",
    "                                                           param[\"anomaly_detection\"][\"threshold_quadratic_difference\"],\n",
    "                                                           percentage = 0.8,\n",
    "                                                           each_sensor=True, \n",
    "                                                           threshold_sensors=param[\"anomaly_detection\"][\"threshold_q_d_each_sensor\"])"
   ]
  },
  {
   "cell_type": "markdown",
   "metadata": {},
   "source": [
    "### Standard Deviation Metric (for MLE Loss Function)"
   ]
  },
  {
   "cell_type": "code",
   "execution_count": 13,
   "metadata": {},
   "outputs": [],
   "source": [
    "results_prediction = pd.read_csv(param[\"prediction_path\"], sep=\";\")\n",
    "anomaly_classifier = AnomalyClassifier()\n",
    "results = anomaly_classifier.apply_prediction_interval_metric(results_prediction, \n",
    "                                                            param['model']['input_size'],\n",
    "                                                            param[\"anomaly_detection\"][\"no_standard_deviation\"])"
   ]
  },
  {
   "cell_type": "code",
   "execution_count": 14,
   "metadata": {},
   "outputs": [
    {
     "data": {
      "text/html": [
       "<div>\n",
       "<style scoped>\n",
       "    .dataframe tbody tr th:only-of-type {\n",
       "        vertical-align: middle;\n",
       "    }\n",
       "\n",
       "    .dataframe tbody tr th {\n",
       "        vertical-align: top;\n",
       "    }\n",
       "\n",
       "    .dataframe thead th {\n",
       "        text-align: right;\n",
       "    }\n",
       "</style>\n",
       "<table border=\"1\" class=\"dataframe\">\n",
       "  <thead>\n",
       "    <tr style=\"text-align: right;\">\n",
       "      <th></th>\n",
       "      <th>ID</th>\n",
       "      <th>IONGAUGEPRESSURE target</th>\n",
       "      <th>ETCHBEAMVOLTAGE target</th>\n",
       "      <th>ETCHBEAMCURRENT target</th>\n",
       "      <th>ETCHSUPPRESSORVOLTAGE target</th>\n",
       "      <th>ETCHSUPPRESSORCURRENT target</th>\n",
       "      <th>FLOWCOOLFLOWRATE target</th>\n",
       "      <th>FLOWCOOLPRESSURE target</th>\n",
       "      <th>ETCHGASCHANNEL1READBACK target</th>\n",
       "      <th>ETCHPBNGASREADBACK target</th>\n",
       "      <th>...</th>\n",
       "      <th>Anomaly Sensor_3</th>\n",
       "      <th>Anomaly Sensor_4</th>\n",
       "      <th>Anomaly Sensor_5</th>\n",
       "      <th>Anomaly Sensor_6</th>\n",
       "      <th>Anomaly Sensor_7</th>\n",
       "      <th>Anomaly Sensor_8</th>\n",
       "      <th>Anomaly Sensor_9</th>\n",
       "      <th>Anomaly Sensor_10</th>\n",
       "      <th>Anomaly Sensor_11</th>\n",
       "      <th>Anomaly Sensor_12</th>\n",
       "    </tr>\n",
       "  </thead>\n",
       "  <tbody>\n",
       "    <tr>\n",
       "      <th>0</th>\n",
       "      <td>9.0</td>\n",
       "      <td>-4.299274</td>\n",
       "      <td>-1.580827</td>\n",
       "      <td>-1.587354</td>\n",
       "      <td>-1.584514</td>\n",
       "      <td>-1.480392</td>\n",
       "      <td>-4.541032</td>\n",
       "      <td>-5.725448</td>\n",
       "      <td>-2.370619</td>\n",
       "      <td>-4.992283</td>\n",
       "      <td>...</td>\n",
       "      <td>1</td>\n",
       "      <td>0</td>\n",
       "      <td>1</td>\n",
       "      <td>1</td>\n",
       "      <td>1</td>\n",
       "      <td>1</td>\n",
       "      <td>1</td>\n",
       "      <td>0</td>\n",
       "      <td>1</td>\n",
       "      <td>1</td>\n",
       "    </tr>\n",
       "    <tr>\n",
       "      <th>1</th>\n",
       "      <td>10.0</td>\n",
       "      <td>-4.299274</td>\n",
       "      <td>-1.581093</td>\n",
       "      <td>-1.587743</td>\n",
       "      <td>-1.584514</td>\n",
       "      <td>-1.480392</td>\n",
       "      <td>-4.541032</td>\n",
       "      <td>-5.725448</td>\n",
       "      <td>-2.370619</td>\n",
       "      <td>-4.998083</td>\n",
       "      <td>...</td>\n",
       "      <td>1</td>\n",
       "      <td>0</td>\n",
       "      <td>1</td>\n",
       "      <td>1</td>\n",
       "      <td>1</td>\n",
       "      <td>1</td>\n",
       "      <td>1</td>\n",
       "      <td>0</td>\n",
       "      <td>1</td>\n",
       "      <td>1</td>\n",
       "    </tr>\n",
       "    <tr>\n",
       "      <th>2</th>\n",
       "      <td>11.0</td>\n",
       "      <td>-4.299274</td>\n",
       "      <td>-1.581093</td>\n",
       "      <td>-1.587588</td>\n",
       "      <td>-1.584569</td>\n",
       "      <td>-1.480392</td>\n",
       "      <td>-4.548361</td>\n",
       "      <td>-5.725448</td>\n",
       "      <td>-2.370619</td>\n",
       "      <td>-4.998083</td>\n",
       "      <td>...</td>\n",
       "      <td>1</td>\n",
       "      <td>0</td>\n",
       "      <td>1</td>\n",
       "      <td>1</td>\n",
       "      <td>1</td>\n",
       "      <td>1</td>\n",
       "      <td>1</td>\n",
       "      <td>0</td>\n",
       "      <td>1</td>\n",
       "      <td>1</td>\n",
       "    </tr>\n",
       "    <tr>\n",
       "      <th>3</th>\n",
       "      <td>12.0</td>\n",
       "      <td>-4.298829</td>\n",
       "      <td>-1.580960</td>\n",
       "      <td>-1.587665</td>\n",
       "      <td>-1.584733</td>\n",
       "      <td>-1.480392</td>\n",
       "      <td>-4.541032</td>\n",
       "      <td>-5.379991</td>\n",
       "      <td>-2.367084</td>\n",
       "      <td>-4.998083</td>\n",
       "      <td>...</td>\n",
       "      <td>1</td>\n",
       "      <td>0</td>\n",
       "      <td>1</td>\n",
       "      <td>1</td>\n",
       "      <td>1</td>\n",
       "      <td>1</td>\n",
       "      <td>1</td>\n",
       "      <td>0</td>\n",
       "      <td>1</td>\n",
       "      <td>1</td>\n",
       "    </tr>\n",
       "    <tr>\n",
       "      <th>4</th>\n",
       "      <td>13.0</td>\n",
       "      <td>-4.296029</td>\n",
       "      <td>-1.581624</td>\n",
       "      <td>-1.587977</td>\n",
       "      <td>-1.584242</td>\n",
       "      <td>-1.480392</td>\n",
       "      <td>-0.572374</td>\n",
       "      <td>-1.932981</td>\n",
       "      <td>-2.367084</td>\n",
       "      <td>-4.990543</td>\n",
       "      <td>...</td>\n",
       "      <td>1</td>\n",
       "      <td>0</td>\n",
       "      <td>1</td>\n",
       "      <td>0</td>\n",
       "      <td>1</td>\n",
       "      <td>1</td>\n",
       "      <td>1</td>\n",
       "      <td>0</td>\n",
       "      <td>1</td>\n",
       "      <td>1</td>\n",
       "    </tr>\n",
       "  </tbody>\n",
       "</table>\n",
       "<p>5 rows × 62 columns</p>\n",
       "</div>"
      ],
      "text/plain": [
       "     ID  IONGAUGEPRESSURE target  ETCHBEAMVOLTAGE target  \\\n",
       "0   9.0                -4.299274               -1.580827   \n",
       "1  10.0                -4.299274               -1.581093   \n",
       "2  11.0                -4.299274               -1.581093   \n",
       "3  12.0                -4.298829               -1.580960   \n",
       "4  13.0                -4.296029               -1.581624   \n",
       "\n",
       "   ETCHBEAMCURRENT target  ETCHSUPPRESSORVOLTAGE target  \\\n",
       "0               -1.587354                     -1.584514   \n",
       "1               -1.587743                     -1.584514   \n",
       "2               -1.587588                     -1.584569   \n",
       "3               -1.587665                     -1.584733   \n",
       "4               -1.587977                     -1.584242   \n",
       "\n",
       "   ETCHSUPPRESSORCURRENT target  FLOWCOOLFLOWRATE target  \\\n",
       "0                     -1.480392                -4.541032   \n",
       "1                     -1.480392                -4.541032   \n",
       "2                     -1.480392                -4.548361   \n",
       "3                     -1.480392                -4.541032   \n",
       "4                     -1.480392                -0.572374   \n",
       "\n",
       "   FLOWCOOLPRESSURE target  ETCHGASCHANNEL1READBACK target  \\\n",
       "0                -5.725448                       -2.370619   \n",
       "1                -5.725448                       -2.370619   \n",
       "2                -5.725448                       -2.370619   \n",
       "3                -5.379991                       -2.367084   \n",
       "4                -1.932981                       -2.367084   \n",
       "\n",
       "   ETCHPBNGASREADBACK target  ...  Anomaly Sensor_3  Anomaly Sensor_4  \\\n",
       "0                  -4.992283  ...                 1                 0   \n",
       "1                  -4.998083  ...                 1                 0   \n",
       "2                  -4.998083  ...                 1                 0   \n",
       "3                  -4.998083  ...                 1                 0   \n",
       "4                  -4.990543  ...                 1                 0   \n",
       "\n",
       "   Anomaly Sensor_5  Anomaly Sensor_6  Anomaly Sensor_7  Anomaly Sensor_8  \\\n",
       "0                 1                 1                 1                 1   \n",
       "1                 1                 1                 1                 1   \n",
       "2                 1                 1                 1                 1   \n",
       "3                 1                 1                 1                 1   \n",
       "4                 1                 0                 1                 1   \n",
       "\n",
       "   Anomaly Sensor_9  Anomaly Sensor_10  Anomaly Sensor_11  Anomaly Sensor_12  \n",
       "0                 1                  0                  1                  1  \n",
       "1                 1                  0                  1                  1  \n",
       "2                 1                  0                  1                  1  \n",
       "3                 1                  0                  1                  1  \n",
       "4                 1                  0                  1                  1  \n",
       "\n",
       "[5 rows x 62 columns]"
      ]
     },
     "execution_count": 14,
     "metadata": {},
     "output_type": "execute_result"
    }
   ],
   "source": [
    "results.head()"
   ]
  },
  {
   "cell_type": "markdown",
   "metadata": {},
   "source": [
    "## Combine prediction data with data which was not consider for inference"
   ]
  },
  {
   "cell_type": "code",
   "execution_count": 15,
   "metadata": {},
   "outputs": [],
   "source": [
    "original_sensor_data = pd.read_csv(param[\"data\"][\"path\"])\n",
    "data_of_droped_feature = original_sensor_data.loc[:, param[\"data\"][\"droped_feature\"]+[\"ID\"]]\n",
    "complete_data = results.merge(right=data_of_droped_feature, how=\"inner\", on=\"ID\")"
   ]
  },
  {
   "cell_type": "markdown",
   "metadata": {},
   "source": [
    "## Save data to csv file"
   ]
  },
  {
   "cell_type": "code",
   "execution_count": 16,
   "metadata": {},
   "outputs": [],
   "source": [
    "complete_data.to_csv(param[\"classification_path\"], sep=\";\", index=False)"
   ]
  },
  {
   "cell_type": "code",
   "execution_count": null,
   "metadata": {},
   "outputs": [],
   "source": []
  }
 ],
 "metadata": {
  "kernelspec": {
   "display_name": "masterarbeit",
   "language": "python",
   "name": "masterarbeit"
  },
  "language_info": {
   "codemirror_mode": {
    "name": "ipython",
    "version": 3
   },
   "file_extension": ".py",
   "mimetype": "text/x-python",
   "name": "python",
   "nbconvert_exporter": "python",
   "pygments_lexer": "ipython3",
   "version": "3.6.8"
  }
 },
 "nbformat": 4,
 "nbformat_minor": 2
}
