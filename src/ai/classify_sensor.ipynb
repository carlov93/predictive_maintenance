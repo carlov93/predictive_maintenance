{
 "cells": [
  {
   "cell_type": "code",
   "execution_count": 1,
   "metadata": {},
   "outputs": [],
   "source": [
    "import torch\n",
    "import torch.nn as nn\n",
    "from torch.utils.data import DataLoader\n",
    "import torch.optim as optim\n",
    "import pandas as pd\n",
    "import numpy as np\n",
    "\n",
    "# own Modules \n",
    "from anomaly_classifier import AnomalyClassifier"
   ]
  },
  {
   "cell_type": "markdown",
   "metadata": {},
   "source": [
    "# MLE Mode: "
   ]
  },
  {
   "cell_type": "code",
   "execution_count": 2,
   "metadata": {},
   "outputs": [],
   "source": [
    "mode = \"MLE\"\n",
    "threshold = \"2sigma\""
   ]
  },
  {
   "cell_type": "markdown",
   "metadata": {},
   "source": [
    "# MSE Mode:"
   ]
  },
  {
   "cell_type": "code",
   "execution_count": 91,
   "metadata": {},
   "outputs": [],
   "source": [
    "mode = \"MSE\"\n",
    "threshold = \"mean_plus_{}\".format(\"60percent\")"
   ]
  },
  {
   "cell_type": "markdown",
   "metadata": {},
   "source": [
    "## Parameters phm data"
   ]
  },
  {
   "cell_type": "code",
   "execution_count": 92,
   "metadata": {},
   "outputs": [],
   "source": [
    "param = {\n",
    "    \"data\" : {\n",
    "        \"path\" : '../../data/phm_data_challenge/recipe/dataset_for_each_recipe/test/test_recipe_67.csv',\n",
    "        \"droped_feature\" : [\"stage\", \"Lot\", \"runnum\", \"recipe\", \"recipe_step\",\n",
    "                            \"up time\", \"ongoing time\", \n",
    "                            \"ETCHSOURCEUSAGE\", \"ETCHAUXSOURCETIMER\", \n",
    "                            \"ETCHAUX2SOURCETIMER\", \"FIXTURESHUTTERPOSITION\", \"ROTATIONSPEED\"\n",
    "                           ],\n",
    "        \"features_not_to_scale\": []\n",
    "    },\n",
    "    \"model\" : {\n",
    "        \"input_size\" : 12,\n",
    "    },\n",
    "        \"anomaly_detection\" : {\n",
    "        \"threshold_quadratic_difference\" : 0.5,\n",
    "        \"threshold_q_d_each_sensor\" : [0.1010492374011701, 0.11756227450933948, 0.07937848364476605, 0.10853243510317657, \n",
    "                                       0.10570055771211723, 0.0857727231192026, 0.07568253576225717, 0.09385799791533005, \n",
    "                                       0.13053110110886396, 0.07788286969806985, 0.07917948961852328, 0.06592829119438347],\n",
    "        \"no_standard_deviation\" : 2\n",
    "    },\n",
    "    \"prediction_path\": \"../visualisation/files/prediction/{}/phm_67.csv\".format(mode),\n",
    "    \"classification_path\" : \"../visualisation/files/classification/{}/phm67_{}.csv\".format(mode, threshold)\n",
    "}"
   ]
  },
  {
   "cell_type": "markdown",
   "metadata": {},
   "source": [
    "## Parameters artifical data"
   ]
  },
  {
   "cell_type": "code",
   "execution_count": 75,
   "metadata": {},
   "outputs": [],
   "source": [
    "param = {\n",
    "    \"data\" : {\n",
    "        \"path\" : '../../data/artifical_signals/artifical_2_signals_errors.csv',\n",
    "        \"droped_feature\" : [\"anomaly\"\n",
    "                           ],\n",
    "        \"features_not_to_scale\": []\n",
    "    },\n",
    "    \"model\" : {\n",
    "        \"input_size\" : 2,\n",
    "    },\n",
    "        \"anomaly_detection\" : {\n",
    "        \"threshold_quadratic_difference\" : 0.5,\n",
    "        \"threshold_q_d_each_sensor\" : [0.13679444326055645, 0.5441877437706729],\n",
    "        \"no_standard_deviation\" : 2\n",
    "    },\n",
    "    \"prediction_path\": \"../visualisation/files/prediction/{}/artfic.csv\".format(mode),\n",
    "    \"classification_path\" : \"../visualisation/files/classification/{}/artfic_{}.csv\".format(mode, threshold)\n",
    "}"
   ]
  },
  {
   "cell_type": "markdown",
   "metadata": {},
   "source": [
    "## Parameters cpps data"
   ]
  },
  {
   "cell_type": "code",
   "execution_count": 70,
   "metadata": {},
   "outputs": [],
   "source": [
    "param = {\n",
    "    \"data\" : {\n",
    "        \"path\" : '../../data/cpps_degradation_new/data_obs10/test/obs_space_error_sinusiod_preprocessed.csv',\n",
    "        \"droped_feature\" : [\"status\"\n",
    "                           ],\n",
    "        \"features_not_to_scale\": []\n",
    "    },\n",
    "    \"model\" : {\n",
    "        \"input_size\" : 10,\n",
    "    },\n",
    "        \"anomaly_detection\" : {\n",
    "        \"threshold_quadratic_difference\" : 0.5,\n",
    "        \"threshold_q_d_each_sensor\" : [0.24372421389777016, 0.24761591192911026, 0.32903928384871034, \n",
    "                                       0.18159441767379658, 0.27133063146032477, 0.23155811781422755, \n",
    "                                       0.149805263381253, 0.31187742832928145, 0.0716386888894709, 0.2080102174959789],\n",
    "        \"no_standard_deviation\" : 2\n",
    "    },\n",
    "    \"prediction_path\": \"../visualisation/files/prediction/{}/cpps.csv\".format(mode),\n",
    "    \"classification_path\" : \"../visualisation/files/classification/{}/cpps_{}.csv\".format(mode, threshold)\n",
    "}"
   ]
  },
  {
   "cell_type": "markdown",
   "metadata": {},
   "source": [
    "## Detect Anomaly\n",
    "### Euclidean Distance Metric for the Hole Machine (for MSE Loss Function)"
   ]
  },
  {
   "cell_type": "code",
   "execution_count": 34,
   "metadata": {},
   "outputs": [],
   "source": [
    "results_prediction = pd.read_csv(param[\"prediction_path\"], sep=\";\")\n",
    "anomaly_classifier = AnomalyClassifier()\n",
    "results = anomaly_classifier.apply_euclidean_distance_metric(results_prediction, \n",
    "                                                           param['model']['input_size'], \n",
    "                                                           param[\"anomaly_detection\"][\"threshold_quadratic_difference\"])"
   ]
  },
  {
   "cell_type": "markdown",
   "metadata": {},
   "source": [
    "### Euclidean Distance Difference Metric for Each Sensor (for MSE Loss Function)"
   ]
  },
  {
   "cell_type": "code",
   "execution_count": 93,
   "metadata": {},
   "outputs": [],
   "source": [
    "results_prediction = pd.read_csv(param[\"prediction_path\"], sep=\";\")\n",
    "anomaly_classifier = AnomalyClassifier()\n",
    "results = anomaly_classifier.apply_euclidean_distance_metric(results_prediction, \n",
    "                                                           param['model']['input_size'],\n",
    "                                                           param[\"anomaly_detection\"][\"threshold_quadratic_difference\"],\n",
    "                                                           percentage = 1.6,\n",
    "                                                           each_sensor=True, \n",
    "                                                           threshold_sensors=param[\"anomaly_detection\"][\"threshold_q_d_each_sensor\"])"
   ]
  },
  {
   "cell_type": "markdown",
   "metadata": {},
   "source": [
    "### Standard Deviation Metric (for MLE Loss Function)"
   ]
  },
  {
   "cell_type": "code",
   "execution_count": null,
   "metadata": {},
   "outputs": [],
   "source": [
    "results_prediction = pd.read_csv(param[\"prediction_path\"], sep=\";\")\n",
    "anomaly_classifier = AnomalyClassifier()\n",
    "results = anomaly_classifier.apply_prediction_interval_metric(results_prediction, \n",
    "                                                            param['model']['input_size'],\n",
    "                                                            param[\"anomaly_detection\"][\"no_standard_deviation\"])"
   ]
  },
  {
   "cell_type": "code",
   "execution_count": 37,
   "metadata": {},
   "outputs": [
    {
     "data": {
      "text/html": [
       "<div>\n",
       "<style scoped>\n",
       "    .dataframe tbody tr th:only-of-type {\n",
       "        vertical-align: middle;\n",
       "    }\n",
       "\n",
       "    .dataframe tbody tr th {\n",
       "        vertical-align: top;\n",
       "    }\n",
       "\n",
       "    .dataframe thead th {\n",
       "        text-align: right;\n",
       "    }\n",
       "</style>\n",
       "<table border=\"1\" class=\"dataframe\">\n",
       "  <thead>\n",
       "    <tr style=\"text-align: right;\">\n",
       "      <th></th>\n",
       "      <th>ID</th>\n",
       "      <th>sine_signal target</th>\n",
       "      <th>sawtooth_signal target</th>\n",
       "      <th>sine_signal predicted</th>\n",
       "      <th>sawtooth_signal predicted</th>\n",
       "      <th>sine_signal reconstruction error</th>\n",
       "      <th>sawtooth_signal reconstruction error</th>\n",
       "      <th>Anomaly Sensor_1</th>\n",
       "      <th>Anomaly Sensor_2</th>\n",
       "    </tr>\n",
       "  </thead>\n",
       "  <tbody>\n",
       "    <tr>\n",
       "      <th>0</th>\n",
       "      <td>8.0</td>\n",
       "      <td>1.253286</td>\n",
       "      <td>-0.986644</td>\n",
       "      <td>1.237256</td>\n",
       "      <td>-0.277459</td>\n",
       "      <td>0.016029</td>\n",
       "      <td>0.709186</td>\n",
       "      <td>0</td>\n",
       "      <td>1</td>\n",
       "    </tr>\n",
       "    <tr>\n",
       "      <th>1</th>\n",
       "      <td>9.0</td>\n",
       "      <td>1.313607</td>\n",
       "      <td>-0.618104</td>\n",
       "      <td>1.304106</td>\n",
       "      <td>-0.529158</td>\n",
       "      <td>0.009501</td>\n",
       "      <td>0.088946</td>\n",
       "      <td>0</td>\n",
       "      <td>0</td>\n",
       "    </tr>\n",
       "    <tr>\n",
       "      <th>2</th>\n",
       "      <td>10.0</td>\n",
       "      <td>1.429184</td>\n",
       "      <td>-0.357066</td>\n",
       "      <td>1.316485</td>\n",
       "      <td>-0.459979</td>\n",
       "      <td>0.112699</td>\n",
       "      <td>0.102914</td>\n",
       "      <td>0</td>\n",
       "      <td>0</td>\n",
       "    </tr>\n",
       "    <tr>\n",
       "      <th>3</th>\n",
       "      <td>11.0</td>\n",
       "      <td>1.376550</td>\n",
       "      <td>0.055021</td>\n",
       "      <td>1.388720</td>\n",
       "      <td>-0.267551</td>\n",
       "      <td>0.012169</td>\n",
       "      <td>0.322571</td>\n",
       "      <td>0</td>\n",
       "      <td>0</td>\n",
       "    </tr>\n",
       "    <tr>\n",
       "      <th>4</th>\n",
       "      <td>12.0</td>\n",
       "      <td>1.164972</td>\n",
       "      <td>0.153692</td>\n",
       "      <td>1.383462</td>\n",
       "      <td>0.145293</td>\n",
       "      <td>0.218489</td>\n",
       "      <td>0.008399</td>\n",
       "      <td>1</td>\n",
       "      <td>0</td>\n",
       "    </tr>\n",
       "  </tbody>\n",
       "</table>\n",
       "</div>"
      ],
      "text/plain": [
       "     ID  sine_signal target  sawtooth_signal target  sine_signal predicted  \\\n",
       "0   8.0            1.253286               -0.986644               1.237256   \n",
       "1   9.0            1.313607               -0.618104               1.304106   \n",
       "2  10.0            1.429184               -0.357066               1.316485   \n",
       "3  11.0            1.376550                0.055021               1.388720   \n",
       "4  12.0            1.164972                0.153692               1.383462   \n",
       "\n",
       "   sawtooth_signal predicted  sine_signal reconstruction error   \\\n",
       "0                  -0.277459                           0.016029   \n",
       "1                  -0.529158                           0.009501   \n",
       "2                  -0.459979                           0.112699   \n",
       "3                  -0.267551                           0.012169   \n",
       "4                   0.145293                           0.218489   \n",
       "\n",
       "   sawtooth_signal reconstruction error   Anomaly Sensor_1  Anomaly Sensor_2  \n",
       "0                               0.709186                 0                 1  \n",
       "1                               0.088946                 0                 0  \n",
       "2                               0.102914                 0                 0  \n",
       "3                               0.322571                 0                 0  \n",
       "4                               0.008399                 1                 0  "
      ]
     },
     "execution_count": 37,
     "metadata": {},
     "output_type": "execute_result"
    }
   ],
   "source": [
    "results.head()"
   ]
  },
  {
   "cell_type": "markdown",
   "metadata": {},
   "source": [
    "## Combine prediction data with data which was not consider for inference"
   ]
  },
  {
   "cell_type": "code",
   "execution_count": 94,
   "metadata": {},
   "outputs": [],
   "source": [
    "original_sensor_data = pd.read_csv(param[\"data\"][\"path\"])\n",
    "data_of_droped_feature = original_sensor_data.loc[:, param[\"data\"][\"droped_feature\"]+[\"ID\"]]\n",
    "complete_data = results.merge(right=data_of_droped_feature, how=\"inner\", on=\"ID\")"
   ]
  },
  {
   "cell_type": "markdown",
   "metadata": {},
   "source": [
    "## Save data to csv file"
   ]
  },
  {
   "cell_type": "code",
   "execution_count": null,
   "metadata": {},
   "outputs": [],
   "source": [
    "complete_data.to_csv(param[\"classification_path\"], sep=\";\", index=False)"
   ]
  },
  {
   "cell_type": "code",
   "execution_count": null,
   "metadata": {},
   "outputs": [],
   "source": []
  }
 ],
 "metadata": {
  "kernelspec": {
   "display_name": "masterarbeit",
   "language": "python",
   "name": "masterarbeit"
  },
  "language_info": {
   "codemirror_mode": {
    "name": "ipython",
    "version": 3
   },
   "file_extension": ".py",
   "mimetype": "text/x-python",
   "name": "python",
   "nbconvert_exporter": "python",
   "pygments_lexer": "ipython3",
   "version": "3.6.8"
  }
 },
 "nbformat": 4,
 "nbformat_minor": 2
}
