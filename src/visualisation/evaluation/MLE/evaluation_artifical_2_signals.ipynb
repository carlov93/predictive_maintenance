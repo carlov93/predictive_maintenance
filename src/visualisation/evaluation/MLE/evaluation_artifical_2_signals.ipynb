{
 "cells": [
  {
   "cell_type": "code",
   "execution_count": 1,
   "metadata": {},
   "outputs": [],
   "source": [
    "import pandas as pd\n",
    "import matplotlib.pyplot as plt\n",
    "import seaborn as sns\n",
    "import numpy as np\n",
    "from statsmodels.graphics.tsaplots import plot_pacf\n",
    "from statsmodels.graphics.tsaplots import plot_acf\n",
    "from matplotlib.pyplot import figure\n",
    "from sklearn.metrics import f1_score, confusion_matrix, roc_auc_score, recall_score, precision_score"
   ]
  },
  {
   "cell_type": "code",
   "execution_count": 2,
   "metadata": {},
   "outputs": [],
   "source": [
    "def calculate_score(data_frame, score_type, no_sensors):\n",
    "    \"\"\"\n",
    "    :param data_frame: Complete Dataframe\n",
    "    :param no_sensors: Number of Sensors in Dataframe\n",
    "    :param start_time: Start point. Value from time column\n",
    "    :param max_delta: Number of samples. max_time = (no_samples * (time between two samples))\n",
    "    :param step_size: It is the number of samples added to current time_delta to get next time_delta\n",
    "    :return:\n",
    "    \"\"\"\n",
    "    labels_pred = data_frame.iloc[:, (4 * no_sensors) + 2:(5 * no_sensors) + 2]\n",
    "    labels_true = data_frame.iloc[:, (5 * no_sensors) + 2].values\n",
    "    \n",
    "    result_score = np.zeros((no_sensors))\n",
    "\n",
    "    for sensor in range(no_sensors):\n",
    "        anomaly_pred = labels_pred.iloc[:, sensor].values\n",
    "        if score_type == \"f1_score\":\n",
    "            result = f1_score(labels_true, anomaly_pred, average=\"binary\")\n",
    "            index_names = [\"f1 sensor_\" + str(i) for i in range(no_sensors)]\n",
    "        elif score_type == \"precision_score\":\n",
    "            result = precision_score(labels_true, anomaly_pred, average=\"binary\")\n",
    "            index_names = [\"precision sensor_\" + str(i) for i in range(no_sensors)]\n",
    "        elif score_type == \"recall_score\":\n",
    "            result = recall_score(labels_true, anomaly_pred, average=\"binary\")\n",
    "            index_names = [\"recall sensor_\" + str(i) for i in range(no_sensors)]   \n",
    "        else:\n",
    "            result = 0\n",
    "            index_names = [\"error\" for i in range(no_sensors)]\n",
    "            \n",
    "        result_score[sensor] = result\n",
    "\n",
    "    score_df = pd.Series(data=result_score, index=index_names)\n",
    "    return score_df"
   ]
  },
  {
   "cell_type": "code",
   "execution_count": 3,
   "metadata": {},
   "outputs": [],
   "source": [
    "def get_confusion_matrix(data_frame, no_sensors, specific_sensor):\n",
    "    labels_pred = data_frame.iloc[:, (4 * no_sensors) + 2:(5 * no_sensors) + 2]\n",
    "    labels_true = data_frame.iloc[:, (5 * no_sensors) + 2].values\n",
    "    \n",
    "    # No errors are on sawtooth signal (labels_true in dataframe is regarding sine wave)\n",
    "    if specific_sensor == 1:\n",
    "        labels_true = np.full((data_frame.shape[0]), 0)\n",
    "    \n",
    "    anomaly_pred = labels_pred.iloc[:, specific_sensor].values\n",
    "    return confusion_matrix(labels_true, anomaly_pred).ravel()"
   ]
  },
  {
   "cell_type": "code",
   "execution_count": 4,
   "metadata": {},
   "outputs": [],
   "source": [
    "def visualise_metric_per_sensor(results, title):\n",
    "    fig, axes = plt.subplots(results.shape[1]-1, 1, figsize=(10,20),constrained_layout=False)\n",
    "    ax = axes.ravel()\n",
    "    t = results.loc[:,\"delta_t\"]\n",
    "    columns = results.columns\n",
    "    for i in range(results.shape[1]-1): \n",
    "        sns.lineplot(data=results, \n",
    "                     x=t, \n",
    "                     y=columns[i], \n",
    "                     ax=ax[i],\n",
    "                     linewidth=1,\n",
    "                     color=\"black\")\n",
    "        ax[i].set_xlabel(\"delta t [in samples]\")\n",
    "    plt.tight_layout()\n",
    "    plt.subplots_adjust(top=0.95)\n",
    "    plt.suptitle(title, fontsize=16)"
   ]
  },
  {
   "cell_type": "code",
   "execution_count": 5,
   "metadata": {},
   "outputs": [],
   "source": [
    "def visualise_metric_machine(results, score_type, phase):\n",
    "    t = results.loc[:,\"delta_t\"]\n",
    "    complete_title = \"CPPS Data - Beginning of Phase '{}''\".format(phase)\n",
    "    \n",
    "    # Caluculate Metric for hole machine (sum over sensors and devide by no_sensors)\n",
    "    labels = results.drop(columns=\"delta_t\", axis=0)\n",
    "    result_machine = labels.sum(axis=1) / results.shape[1]\n",
    "    \n",
    "    # Visualise Results\n",
    "    sns.lineplot(x=t, \n",
    "                 y=result_machine, \n",
    "                 linewidth=1,\n",
    "                 color=\"black\")\n",
    "    plt.xlabel(\"delta t [in samples]\")\n",
    "    plt.ylabel(\"{} over all dim\".format(score_type))\n",
    "    #plt.tight_layout()\n",
    "    plt.title(complete_title, fontsize=16, y=1.12)"
   ]
  },
  {
   "cell_type": "markdown",
   "metadata": {},
   "source": [
    "# Evaluation of Prediction Interval Metric\n",
    "## Setup"
   ]
  },
  {
   "cell_type": "code",
   "execution_count": 7,
   "metadata": {},
   "outputs": [],
   "source": [
    "all_data = pd.read_csv(\"../../files/classification/MLE/artfic_3sigma.csv\", sep=\";\")"
   ]
  },
  {
   "cell_type": "code",
   "execution_count": 8,
   "metadata": {},
   "outputs": [
    {
     "data": {
      "text/html": [
       "<div>\n",
       "<style scoped>\n",
       "    .dataframe tbody tr th:only-of-type {\n",
       "        vertical-align: middle;\n",
       "    }\n",
       "\n",
       "    .dataframe tbody tr th {\n",
       "        vertical-align: top;\n",
       "    }\n",
       "\n",
       "    .dataframe thead th {\n",
       "        text-align: right;\n",
       "    }\n",
       "</style>\n",
       "<table border=\"1\" class=\"dataframe\">\n",
       "  <thead>\n",
       "    <tr style=\"text-align: right;\">\n",
       "      <th></th>\n",
       "      <th>ID</th>\n",
       "      <th>sine_signal target</th>\n",
       "      <th>sawtooth_signal target</th>\n",
       "      <th>sine_signal mu predicted</th>\n",
       "      <th>sawtooth_signal mu predicted</th>\n",
       "      <th>sine_signal sigma predicted</th>\n",
       "      <th>sawtooth_signal sigma predicted</th>\n",
       "      <th>mean normalised residual</th>\n",
       "      <th>sine_signal normalised residual</th>\n",
       "      <th>sawtooth_signal normalised residual</th>\n",
       "      <th>Anomaly Sensor_1</th>\n",
       "      <th>Anomaly Sensor_2</th>\n",
       "      <th>anomaly</th>\n",
       "    </tr>\n",
       "  </thead>\n",
       "  <tbody>\n",
       "    <tr>\n",
       "      <th>0</th>\n",
       "      <td>21.0</td>\n",
       "      <td>0.537549</td>\n",
       "      <td>-2.124137</td>\n",
       "      <td>0.602129</td>\n",
       "      <td>-0.993502</td>\n",
       "      <td>0.122289</td>\n",
       "      <td>0.768085</td>\n",
       "      <td>-1.000056</td>\n",
       "      <td>-0.528093</td>\n",
       "      <td>-1.472018</td>\n",
       "      <td>0</td>\n",
       "      <td>0</td>\n",
       "      <td>0</td>\n",
       "    </tr>\n",
       "    <tr>\n",
       "      <th>1</th>\n",
       "      <td>22.0</td>\n",
       "      <td>0.579476</td>\n",
       "      <td>-1.477146</td>\n",
       "      <td>0.403997</td>\n",
       "      <td>-1.119213</td>\n",
       "      <td>0.123176</td>\n",
       "      <td>0.603125</td>\n",
       "      <td>0.415578</td>\n",
       "      <td>1.424619</td>\n",
       "      <td>-0.593464</td>\n",
       "      <td>0</td>\n",
       "      <td>0</td>\n",
       "      <td>0</td>\n",
       "    </tr>\n",
       "    <tr>\n",
       "      <th>2</th>\n",
       "      <td>23.0</td>\n",
       "      <td>0.208268</td>\n",
       "      <td>-0.559378</td>\n",
       "      <td>0.321282</td>\n",
       "      <td>-1.010299</td>\n",
       "      <td>0.122544</td>\n",
       "      <td>0.561210</td>\n",
       "      <td>-0.059375</td>\n",
       "      <td>-0.922231</td>\n",
       "      <td>0.803481</td>\n",
       "      <td>0</td>\n",
       "      <td>0</td>\n",
       "      <td>0</td>\n",
       "    </tr>\n",
       "    <tr>\n",
       "      <th>3</th>\n",
       "      <td>24.0</td>\n",
       "      <td>0.088735</td>\n",
       "      <td>-1.062486</td>\n",
       "      <td>0.103274</td>\n",
       "      <td>-0.803296</td>\n",
       "      <td>0.122567</td>\n",
       "      <td>0.543723</td>\n",
       "      <td>-0.297658</td>\n",
       "      <td>-0.118621</td>\n",
       "      <td>-0.476695</td>\n",
       "      <td>0</td>\n",
       "      <td>0</td>\n",
       "      <td>0</td>\n",
       "    </tr>\n",
       "    <tr>\n",
       "      <th>4</th>\n",
       "      <td>25.0</td>\n",
       "      <td>-0.024003</td>\n",
       "      <td>-0.312885</td>\n",
       "      <td>-0.072047</td>\n",
       "      <td>-0.578098</td>\n",
       "      <td>0.123433</td>\n",
       "      <td>0.513684</td>\n",
       "      <td>0.452768</td>\n",
       "      <td>0.389238</td>\n",
       "      <td>0.516297</td>\n",
       "      <td>0</td>\n",
       "      <td>0</td>\n",
       "      <td>0</td>\n",
       "    </tr>\n",
       "  </tbody>\n",
       "</table>\n",
       "</div>"
      ],
      "text/plain": [
       "     ID  sine_signal target  sawtooth_signal target  sine_signal mu predicted  \\\n",
       "0  21.0            0.537549               -2.124137                  0.602129   \n",
       "1  22.0            0.579476               -1.477146                  0.403997   \n",
       "2  23.0            0.208268               -0.559378                  0.321282   \n",
       "3  24.0            0.088735               -1.062486                  0.103274   \n",
       "4  25.0           -0.024003               -0.312885                 -0.072047   \n",
       "\n",
       "   sawtooth_signal mu predicted  sine_signal sigma predicted  \\\n",
       "0                     -0.993502                     0.122289   \n",
       "1                     -1.119213                     0.123176   \n",
       "2                     -1.010299                     0.122544   \n",
       "3                     -0.803296                     0.122567   \n",
       "4                     -0.578098                     0.123433   \n",
       "\n",
       "   sawtooth_signal sigma predicted  mean normalised residual  \\\n",
       "0                         0.768085                 -1.000056   \n",
       "1                         0.603125                  0.415578   \n",
       "2                         0.561210                 -0.059375   \n",
       "3                         0.543723                 -0.297658   \n",
       "4                         0.513684                  0.452768   \n",
       "\n",
       "   sine_signal normalised residual  sawtooth_signal normalised residual  \\\n",
       "0                        -0.528093                            -1.472018   \n",
       "1                         1.424619                            -0.593464   \n",
       "2                        -0.922231                             0.803481   \n",
       "3                        -0.118621                            -0.476695   \n",
       "4                         0.389238                             0.516297   \n",
       "\n",
       "   Anomaly Sensor_1  Anomaly Sensor_2  anomaly  \n",
       "0                 0                 0        0  \n",
       "1                 0                 0        0  \n",
       "2                 0                 0        0  \n",
       "3                 0                 0        0  \n",
       "4                 0                 0        0  "
      ]
     },
     "execution_count": 8,
     "metadata": {},
     "output_type": "execute_result"
    }
   ],
   "source": [
    "all_data.head()"
   ]
  },
  {
   "cell_type": "markdown",
   "metadata": {},
   "source": [
    "# Evaluation Metrics\n",
    "## F1-score"
   ]
  },
  {
   "cell_type": "code",
   "execution_count": 9,
   "metadata": {},
   "outputs": [
    {
     "name": "stdout",
     "output_type": "stream",
     "text": [
      "F1 score: 0.42282749675745784\n"
     ]
    }
   ],
   "source": [
    "f1_score = calculate_score(all_data, \"f1_score\", 2)\n",
    "print(\"F1 score: {}\".format(f1_score[0]))"
   ]
  },
  {
   "cell_type": "code",
   "execution_count": 10,
   "metadata": {},
   "outputs": [
    {
     "name": "stdout",
     "output_type": "stream",
     "text": [
      "f1 sensor_0    0.422827\n",
      "f1 sensor_1    0.000000\n",
      "dtype: float64\n"
     ]
    }
   ],
   "source": [
    "print(f1_score)"
   ]
  },
  {
   "cell_type": "markdown",
   "metadata": {},
   "source": [
    "## Confusion Matrix\n",
    "### Sine signal"
   ]
  },
  {
   "cell_type": "code",
   "execution_count": 13,
   "metadata": {},
   "outputs": [
    {
     "name": "stdout",
     "output_type": "stream",
     "text": [
      "Positive --> Anomaly\n",
      "Negative --> Normal Behaviour\n",
      "------------------------------\n",
      "Sensor No. 1:\n",
      "True negative: 11342\n",
      "False positive: 8\n",
      "False negative: 437\n",
      "True positive: 163\n"
     ]
    }
   ],
   "source": [
    "print(\"Positive --> Anomaly\")\n",
    "print(\"Negative --> Normal Behaviour\")\n",
    "print(\"--\"*15)\n",
    "tn, fp, fn, tp = get_confusion_matrix(all_data, 2, 0)\n",
    "print(\"Sensor No. {}:\".format(1))\n",
    "print(\"True negative: {}\".format(tn))\n",
    "print(\"False positive: {}\".format(fp))\n",
    "print(\"False negative: {}\".format(fn))\n",
    "print(\"True positive: {}\".format(tp))"
   ]
  },
  {
   "cell_type": "markdown",
   "metadata": {},
   "source": [
    "## Sensetivity"
   ]
  },
  {
   "cell_type": "code",
   "execution_count": 15,
   "metadata": {},
   "outputs": [
    {
     "name": "stdout",
     "output_type": "stream",
     "text": [
      "0.999295154185022\n"
     ]
    }
   ],
   "source": [
    "print(tn/ (tn + fp))"
   ]
  },
  {
   "cell_type": "markdown",
   "metadata": {},
   "source": [
    "### Sawtooth signal"
   ]
  },
  {
   "cell_type": "code",
   "execution_count": 16,
   "metadata": {},
   "outputs": [
    {
     "name": "stdout",
     "output_type": "stream",
     "text": [
      "Positive --> Anomaly\n",
      "Negative --> Normal Behaviour\n",
      "------------------------------\n",
      "Sensor No. 2:\n",
      "True negative: 11925\n",
      "False positive: 25\n",
      "False negative: 0\n",
      "True positive: 0\n"
     ]
    }
   ],
   "source": [
    "print(\"Positive --> Anomaly\")\n",
    "print(\"Negative --> Normal Behaviour\")\n",
    "print(\"--\"*15)\n",
    "tn, fp, fn, tp = get_confusion_matrix(all_data, 2, 1)\n",
    "print(\"Sensor No. {}:\".format(2))\n",
    "print(\"True negative: {}\".format(tn))\n",
    "print(\"False positive: {}\".format(fp))\n",
    "print(\"False negative: {}\".format(fn))\n",
    "print(\"True positive: {}\".format(tp))"
   ]
  },
  {
   "cell_type": "markdown",
   "metadata": {},
   "source": [
    "## Sensetivity"
   ]
  },
  {
   "cell_type": "code",
   "execution_count": 17,
   "metadata": {},
   "outputs": [
    {
     "name": "stdout",
     "output_type": "stream",
     "text": [
      "0.997907949790795\n"
     ]
    }
   ],
   "source": [
    "print(tn/ (tn + fp))"
   ]
  },
  {
   "cell_type": "code",
   "execution_count": null,
   "metadata": {},
   "outputs": [],
   "source": []
  },
  {
   "cell_type": "code",
   "execution_count": null,
   "metadata": {},
   "outputs": [],
   "source": []
  }
 ],
 "metadata": {
  "kernelspec": {
   "display_name": "masterarbeit",
   "language": "python",
   "name": "masterarbeit"
  },
  "language_info": {
   "codemirror_mode": {
    "name": "ipython",
    "version": 3
   },
   "file_extension": ".py",
   "mimetype": "text/x-python",
   "name": "python",
   "nbconvert_exporter": "python",
   "pygments_lexer": "ipython3",
   "version": "3.6.8"
  }
 },
 "nbformat": 4,
 "nbformat_minor": 2
}
