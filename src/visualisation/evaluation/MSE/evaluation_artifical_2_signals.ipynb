{
 "cells": [
  {
   "cell_type": "code",
   "execution_count": 123,
   "metadata": {},
   "outputs": [],
   "source": [
    "import pandas as pd\n",
    "import matplotlib.pyplot as plt\n",
    "import seaborn as sns\n",
    "import numpy as np\n",
    "from statsmodels.graphics.tsaplots import plot_pacf\n",
    "from statsmodels.graphics.tsaplots import plot_acf\n",
    "from matplotlib.pyplot import figure\n",
    "from sklearn.metrics import f1_score, confusion_matrix, roc_auc_score, recall_score, precision_score"
   ]
  },
  {
   "cell_type": "code",
   "execution_count": 124,
   "metadata": {},
   "outputs": [],
   "source": [
    "def calculate_score(data_frame, score_type, no_sensors):\n",
    "    \"\"\"\n",
    "    :param data_frame: Complete Dataframe\n",
    "    :param no_sensors: Number of Sensors in Dataframe\n",
    "    :param start_time: Start point. Value from time column\n",
    "    :param max_delta: Number of samples. max_time = (no_samples * (time between two samples))\n",
    "    :param step_size: It is the number of samples added to current time_delta to get next time_delta\n",
    "    :return:\n",
    "    \"\"\"\n",
    "    labels_pred = data_frame.iloc[:, (3 * no_sensors) + 1:(4 * no_sensors) + 1]\n",
    "    labels_true = data_frame.iloc[:, (4 * no_sensors) + 1].values\n",
    "    \n",
    "    result_score = np.zeros((no_sensors))\n",
    "\n",
    "    for sensor in range(no_sensors):\n",
    "        anomaly_pred = labels_pred.iloc[:, sensor].values\n",
    "        if score_type == \"f1_score\":\n",
    "            result = f1_score(labels_true, anomaly_pred, average=\"binary\")\n",
    "            index_names = [\"f1 sensor_\" + str(i) for i in range(no_sensors)]\n",
    "        elif score_type == \"precision_score\":\n",
    "            result = precision_score(labels_true, anomaly_pred, average=\"binary\")\n",
    "            index_names = [\"precision sensor_\" + str(i) for i in range(no_sensors)]\n",
    "        elif score_type == \"recall_score\":\n",
    "            result = recall_score(labels_true, anomaly_pred, average=\"binary\")\n",
    "            index_names = [\"recall sensor_\" + str(i) for i in range(no_sensors)]   \n",
    "        else:\n",
    "            result = 0\n",
    "            index_names = [\"error\" for i in range(no_sensors)]\n",
    "            \n",
    "        result_score[sensor] = result\n",
    "\n",
    "    score_df = pd.Series(data=result_score, index=index_names)\n",
    "    return score_df"
   ]
  },
  {
   "cell_type": "code",
   "execution_count": 125,
   "metadata": {},
   "outputs": [],
   "source": [
    "def get_confusion_matrix(data_frame, no_sensors, specific_sensor):\n",
    "    labels_pred = data_frame.iloc[:, (3 * no_sensors) + 1:(4 * no_sensors) + 1]\n",
    "    labels_true = data_frame.iloc[:, (4 * no_sensors) + 1].values\n",
    "    \n",
    "    # No errors are on sawtooth signal (labels_true in dataframe is regarding sine wave)\n",
    "    if specific_sensor == 1:\n",
    "        labels_true = np.full((data_frame.shape[0]), 0)\n",
    "    \n",
    "    anomaly_pred = labels_pred.iloc[:, specific_sensor].values\n",
    "    return confusion_matrix(labels_true, anomaly_pred).ravel()"
   ]
  },
  {
   "cell_type": "code",
   "execution_count": 126,
   "metadata": {},
   "outputs": [],
   "source": [
    "def visualise_metric_per_sensor(results, title):\n",
    "    fig, axes = plt.subplots(results.shape[1]-1, 1, figsize=(10,20),constrained_layout=False)\n",
    "    ax = axes.ravel()\n",
    "    t = results.loc[:,\"delta_t\"]\n",
    "    columns = results.columns\n",
    "    for i in range(results.shape[1]-1): \n",
    "        sns.lineplot(data=results, \n",
    "                     x=t, \n",
    "                     y=columns[i], \n",
    "                     ax=ax[i],\n",
    "                     linewidth=1,\n",
    "                     color=\"black\")\n",
    "        ax[i].set_xlabel(\"delta t [in samples]\")\n",
    "    plt.tight_layout()\n",
    "    plt.subplots_adjust(top=0.95)\n",
    "    plt.suptitle(title, fontsize=16)"
   ]
  },
  {
   "cell_type": "code",
   "execution_count": 127,
   "metadata": {},
   "outputs": [],
   "source": [
    "def visualise_metric_machine(results, score_type, phase):\n",
    "    t = results.loc[:,\"delta_t\"]\n",
    "    complete_title = \"CPPS Data - Beginning of Phase '{}''\".format(phase)\n",
    "    \n",
    "    # Caluculate Metric for hole machine (sum over sensors and devide by no_sensors)\n",
    "    labels = results.drop(columns=\"delta_t\", axis=0)\n",
    "    result_machine = labels.sum(axis=1) / results.shape[1]\n",
    "    \n",
    "    # Visualise Results\n",
    "    sns.lineplot(x=t, \n",
    "                 y=result_machine, \n",
    "                 linewidth=1,\n",
    "                 color=\"black\")\n",
    "    plt.xlabel(\"delta t [in samples]\")\n",
    "    plt.ylabel(\"{} over all dim\".format(score_type))\n",
    "    #plt.tight_layout()\n",
    "    plt.title(complete_title, fontsize=16, y=1.12)"
   ]
  },
  {
   "cell_type": "markdown",
   "metadata": {},
   "source": [
    "# Evaluation of Euclidian Distance Metric\n",
    "## Setup"
   ]
  },
  {
   "cell_type": "code",
   "execution_count": 128,
   "metadata": {},
   "outputs": [],
   "source": [
    "all_data = pd.read_csv(\"../../files/classification/MSE/artfic_max_minus_60percent.csv\", sep=\";\")"
   ]
  },
  {
   "cell_type": "code",
   "execution_count": 129,
   "metadata": {},
   "outputs": [
    {
     "data": {
      "text/html": [
       "<div>\n",
       "<style scoped>\n",
       "    .dataframe tbody tr th:only-of-type {\n",
       "        vertical-align: middle;\n",
       "    }\n",
       "\n",
       "    .dataframe tbody tr th {\n",
       "        vertical-align: top;\n",
       "    }\n",
       "\n",
       "    .dataframe thead th {\n",
       "        text-align: right;\n",
       "    }\n",
       "</style>\n",
       "<table border=\"1\" class=\"dataframe\">\n",
       "  <thead>\n",
       "    <tr style=\"text-align: right;\">\n",
       "      <th></th>\n",
       "      <th>ID</th>\n",
       "      <th>sine_signal target</th>\n",
       "      <th>sawtooth_signal target</th>\n",
       "      <th>sine_signal predicted</th>\n",
       "      <th>sawtooth_signal predicted</th>\n",
       "      <th>sine_signal reconstruction error</th>\n",
       "      <th>sawtooth_signal reconstruction error</th>\n",
       "      <th>Anomaly Sensor_1</th>\n",
       "      <th>Anomaly Sensor_2</th>\n",
       "      <th>anomaly</th>\n",
       "    </tr>\n",
       "  </thead>\n",
       "  <tbody>\n",
       "    <tr>\n",
       "      <th>0</th>\n",
       "      <td>8.0</td>\n",
       "      <td>1.253286</td>\n",
       "      <td>-0.986644</td>\n",
       "      <td>1.237256</td>\n",
       "      <td>-0.277459</td>\n",
       "      <td>0.016029</td>\n",
       "      <td>0.709186</td>\n",
       "      <td>0</td>\n",
       "      <td>0</td>\n",
       "      <td>0</td>\n",
       "    </tr>\n",
       "    <tr>\n",
       "      <th>1</th>\n",
       "      <td>9.0</td>\n",
       "      <td>1.313607</td>\n",
       "      <td>-0.618104</td>\n",
       "      <td>1.304106</td>\n",
       "      <td>-0.529158</td>\n",
       "      <td>0.009501</td>\n",
       "      <td>0.088946</td>\n",
       "      <td>0</td>\n",
       "      <td>0</td>\n",
       "      <td>0</td>\n",
       "    </tr>\n",
       "    <tr>\n",
       "      <th>2</th>\n",
       "      <td>10.0</td>\n",
       "      <td>1.429184</td>\n",
       "      <td>-0.357066</td>\n",
       "      <td>1.316485</td>\n",
       "      <td>-0.459979</td>\n",
       "      <td>0.112699</td>\n",
       "      <td>0.102914</td>\n",
       "      <td>0</td>\n",
       "      <td>0</td>\n",
       "      <td>0</td>\n",
       "    </tr>\n",
       "    <tr>\n",
       "      <th>3</th>\n",
       "      <td>11.0</td>\n",
       "      <td>1.376550</td>\n",
       "      <td>0.055021</td>\n",
       "      <td>1.388720</td>\n",
       "      <td>-0.267551</td>\n",
       "      <td>0.012169</td>\n",
       "      <td>0.322571</td>\n",
       "      <td>0</td>\n",
       "      <td>0</td>\n",
       "      <td>0</td>\n",
       "    </tr>\n",
       "    <tr>\n",
       "      <th>4</th>\n",
       "      <td>12.0</td>\n",
       "      <td>1.164972</td>\n",
       "      <td>0.153692</td>\n",
       "      <td>1.383462</td>\n",
       "      <td>0.145293</td>\n",
       "      <td>0.218489</td>\n",
       "      <td>0.008399</td>\n",
       "      <td>0</td>\n",
       "      <td>0</td>\n",
       "      <td>0</td>\n",
       "    </tr>\n",
       "  </tbody>\n",
       "</table>\n",
       "</div>"
      ],
      "text/plain": [
       "     ID  sine_signal target  sawtooth_signal target  sine_signal predicted  \\\n",
       "0   8.0            1.253286               -0.986644               1.237256   \n",
       "1   9.0            1.313607               -0.618104               1.304106   \n",
       "2  10.0            1.429184               -0.357066               1.316485   \n",
       "3  11.0            1.376550                0.055021               1.388720   \n",
       "4  12.0            1.164972                0.153692               1.383462   \n",
       "\n",
       "   sawtooth_signal predicted  sine_signal reconstruction error   \\\n",
       "0                  -0.277459                           0.016029   \n",
       "1                  -0.529158                           0.009501   \n",
       "2                  -0.459979                           0.112699   \n",
       "3                  -0.267551                           0.012169   \n",
       "4                   0.145293                           0.218489   \n",
       "\n",
       "   sawtooth_signal reconstruction error   Anomaly Sensor_1  Anomaly Sensor_2  \\\n",
       "0                               0.709186                 0                 0   \n",
       "1                               0.088946                 0                 0   \n",
       "2                               0.102914                 0                 0   \n",
       "3                               0.322571                 0                 0   \n",
       "4                               0.008399                 0                 0   \n",
       "\n",
       "   anomaly  \n",
       "0        0  \n",
       "1        0  \n",
       "2        0  \n",
       "3        0  \n",
       "4        0  "
      ]
     },
     "execution_count": 129,
     "metadata": {},
     "output_type": "execute_result"
    }
   ],
   "source": [
    "all_data.head()"
   ]
  },
  {
   "cell_type": "markdown",
   "metadata": {},
   "source": [
    "# Evaluation Metrics\n",
    "## F1-score"
   ]
  },
  {
   "cell_type": "code",
   "execution_count": 130,
   "metadata": {},
   "outputs": [
    {
     "name": "stdout",
     "output_type": "stream",
     "text": [
      "F1 score: 0.12703583061889248\n"
     ]
    }
   ],
   "source": [
    "f1_score = calculate_score(all_data, \"f1_score\", 2)\n",
    "print(\"F1 score: {}\".format(f1_score[0]))"
   ]
  },
  {
   "cell_type": "markdown",
   "metadata": {},
   "source": [
    "## Precision Score"
   ]
  },
  {
   "cell_type": "code",
   "execution_count": 131,
   "metadata": {},
   "outputs": [
    {
     "name": "stdout",
     "output_type": "stream",
     "text": [
      "Precision score: 0.09420289855072464\n"
     ]
    }
   ],
   "source": [
    "precision_score = calculate_score(all_data, \"precision_score\", 2)\n",
    "print(\"Precision score: {}\".format(precision_score[0]))"
   ]
  },
  {
   "cell_type": "code",
   "execution_count": 118,
   "metadata": {},
   "outputs": [
    {
     "name": "stdout",
     "output_type": "stream",
     "text": [
      "precision sensor_0    0.094203\n",
      "precision sensor_1    0.047856\n",
      "dtype: float64\n"
     ]
    }
   ],
   "source": [
    "print(precision_score)"
   ]
  },
  {
   "cell_type": "markdown",
   "metadata": {},
   "source": [
    "## Recall Score"
   ]
  },
  {
   "cell_type": "code",
   "execution_count": 119,
   "metadata": {},
   "outputs": [
    {
     "name": "stdout",
     "output_type": "stream",
     "text": [
      "Recall score: 0.195\n"
     ]
    }
   ],
   "source": [
    "recall_score = calculate_score(all_data, \"recall_score\", 2)\n",
    "print(\"Recall score: {}\".format(recall_score[0]))"
   ]
  },
  {
   "cell_type": "code",
   "execution_count": 120,
   "metadata": {},
   "outputs": [
    {
     "name": "stdout",
     "output_type": "stream",
     "text": [
      "recall sensor_0    0.195\n",
      "recall sensor_1    0.080\n",
      "dtype: float64\n"
     ]
    }
   ],
   "source": [
    "print(recall_score)"
   ]
  },
  {
   "cell_type": "markdown",
   "metadata": {},
   "source": [
    "## Confusion Matrix\n",
    "### Sensor with errors"
   ]
  },
  {
   "cell_type": "code",
   "execution_count": 121,
   "metadata": {},
   "outputs": [
    {
     "name": "stdout",
     "output_type": "stream",
     "text": [
      "Positive --> Anomaly\n",
      "Negative --> Normal Behaviour\n",
      "------------------------------\n",
      "Sensor No. 1:\n",
      "True negative: 10225\n",
      "False positive: 1125\n",
      "False negative: 483\n",
      "True positive: 117\n"
     ]
    }
   ],
   "source": [
    "print(\"Positive --> Anomaly\")\n",
    "print(\"Negative --> Normal Behaviour\")\n",
    "print(\"--\"*15)\n",
    "tn, fp, fn, tp = get_confusion_matrix(all_data, 2, 0)\n",
    "print(\"Sensor No. {}:\".format(1))\n",
    "print(\"True negative: {}\".format(tn))\n",
    "print(\"False positive: {}\".format(fp))\n",
    "print(\"False negative: {}\".format(fn))\n",
    "print(\"True positive: {}\".format(tp))"
   ]
  },
  {
   "cell_type": "markdown",
   "metadata": {},
   "source": [
    "### Sensor without errors"
   ]
  },
  {
   "cell_type": "code",
   "execution_count": 122,
   "metadata": {},
   "outputs": [
    {
     "name": "stdout",
     "output_type": "stream",
     "text": [
      "Positive --> Anomaly\n",
      "Negative --> Normal Behaviour\n",
      "------------------------------\n",
      "Sensor No. 2:\n",
      "True negative: 10947\n",
      "False positive: 1003\n",
      "False negative: 0\n",
      "True positive: 0\n"
     ]
    }
   ],
   "source": [
    "print(\"Positive --> Anomaly\")\n",
    "print(\"Negative --> Normal Behaviour\")\n",
    "print(\"--\"*15)\n",
    "tn, fp, fn, tp = get_confusion_matrix(all_data, 2, 1)\n",
    "print(\"Sensor No. {}:\".format(2))\n",
    "print(\"True negative: {}\".format(tn))\n",
    "print(\"False positive: {}\".format(fp))\n",
    "print(\"False negative: {}\".format(fn))\n",
    "print(\"True positive: {}\".format(tp))"
   ]
  },
  {
   "cell_type": "code",
   "execution_count": null,
   "metadata": {},
   "outputs": [],
   "source": []
  },
  {
   "cell_type": "code",
   "execution_count": null,
   "metadata": {},
   "outputs": [],
   "source": []
  }
 ],
 "metadata": {
  "kernelspec": {
   "display_name": "masterarbeit",
   "language": "python",
   "name": "masterarbeit"
  },
  "language_info": {
   "codemirror_mode": {
    "name": "ipython",
    "version": 3
   },
   "file_extension": ".py",
   "mimetype": "text/x-python",
   "name": "python",
   "nbconvert_exporter": "python",
   "pygments_lexer": "ipython3",
   "version": "3.6.8"
  }
 },
 "nbformat": 4,
 "nbformat_minor": 2
}
