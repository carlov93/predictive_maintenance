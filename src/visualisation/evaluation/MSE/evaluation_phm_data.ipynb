{
 "cells": [
  {
   "cell_type": "code",
   "execution_count": 2,
   "metadata": {},
   "outputs": [],
   "source": [
    "import pandas as pd\n",
    "import matplotlib.pyplot as plt\n",
    "import seaborn as sns\n",
    "import numpy as np\n",
    "from statsmodels.graphics.tsaplots import plot_pacf\n",
    "from statsmodels.graphics.tsaplots import plot_acf\n",
    "from matplotlib.pyplot import figure"
   ]
  },
  {
   "cell_type": "code",
   "execution_count": null,
   "metadata": {},
   "outputs": [],
   "source": [
    "def vis_anomaly_detection(dataframe, no_features, first_feature, last_feature, failures, line, training):\n",
    "    fig, axes = plt.subplots(no_features, 1, figsize=(30,40))\n",
    "    ax = axes.ravel()\n",
    "    columns = dataframe.columns\n",
    "    t = dataframe[\"up time\"]\n",
    "    for i in range(first_feature, last_feature):\n",
    "        sns.lineplot(data=dataframe, \n",
    "                     x=t, \n",
    "                     y=dataframe.iloc[:, i+3*no_features].cumsum(),\n",
    "                     ax=ax[i-first_feature],\n",
    "                     color=\"blue\",)\n",
    "        \n",
    "        # Plot line for last training sample\n",
    "        if training:\n",
    "            ax[i-1].axvspan(3283834,3523830, alpha=0.2, color='green')\n",
    "        \n",
    "        # Plot line for failure points\n",
    "        if line:\n",
    "            for failure in failures:\n",
    "                ax[i-first_feature].axvline(failure, 0,2, color=\"r\", linestyle =\"--\", linewidth=2)\n",
    "        \n",
    "        # Set y-limit\n",
    "        ax[i-first_feature].set_ylim(0,15000)"
   ]
  },
  {
   "cell_type": "code",
   "execution_count": 6,
   "metadata": {},
   "outputs": [],
   "source": [
    "# Name of Sensors\n",
    "name_of_sensor = [\"IONGAUGEPRESSURE\",\n",
    "                  \"ETCHBEAMVOLTAGE\",\n",
    "                  \"ETCHBEAMCURRENT\",\n",
    "                  \"ETCHSUPPRESSORVOLTAGE\",\n",
    "                  \"ETCHSUPPRESSORCURRENT\",\n",
    "                  \"FLOWCOOLFLOWRATE\",\n",
    "                  \"FLOWCOOLPRESSURE\",\n",
    "                  \"ETCHGASCHANNEL1READBACK\",\n",
    "                  \"ETCHPBNGASREADBACK\",\n",
    "                  \"FIXTURETILTANGLE\",\n",
    "                  \"ACTUALROTATIONANGLE\",\n",
    "                  \"ACTUALSTEPDURATION\"]"
   ]
  },
  {
   "cell_type": "markdown",
   "metadata": {},
   "source": [
    "# Evaluation"
   ]
  },
  {
   "cell_type": "markdown",
   "metadata": {},
   "source": [
    "### Cumulative Sum of Anomaly, labeld by LSTM-Model"
   ]
  },
  {
   "cell_type": "code",
   "execution_count": null,
   "metadata": {},
   "outputs": [],
   "source": [
    "subset_1 = artifical_data.iloc[0:75000,:]\n",
    "failures_67_subset1 =[3807966., 3814610., 3815890., 3816362., 3856686., 3860122., 3865202., 3867646., 3868170., 3870094.]\n",
    "vis_anomaly_detection(subset_1, 12, 1, 13, failures_67_subset1, line=True, training=True)\n",
    "plt.show()"
   ]
  },
  {
   "cell_type": "code",
   "execution_count": null,
   "metadata": {},
   "outputs": [],
   "source": [
    "subset_2 = artifical_data.iloc[90000:150000,:]\n",
    "vis_anomaly_detection(subset_2, 12, 1, 13, failures_67_subset1, line=False, training=False)\n",
    "plt.show()"
   ]
  },
  {
   "cell_type": "code",
   "execution_count": null,
   "metadata": {},
   "outputs": [],
   "source": [
    "subset_5 = artifical_data.iloc[380000:425000,:]\n",
    "failures_67_subset5 =[6539522., 6549554., 6572426., 6573162., 6574566., 6575118., 6575566., 6577254., 6582502., 6586022.]\n",
    "vis_anomaly_detection(subset_5, 12, 1, 13, failures_67_subset5, line=True, training=False)\n",
    "plt.show()"
   ]
  }
 ],
 "metadata": {
  "kernelspec": {
   "display_name": "masterarbeit",
   "language": "python",
   "name": "masterarbeit"
  },
  "language_info": {
   "codemirror_mode": {
    "name": "ipython",
    "version": 3
   },
   "file_extension": ".py",
   "mimetype": "text/x-python",
   "name": "python",
   "nbconvert_exporter": "python",
   "pygments_lexer": "ipython3",
   "version": "3.6.8"
  }
 },
 "nbformat": 4,
 "nbformat_minor": 2
}
