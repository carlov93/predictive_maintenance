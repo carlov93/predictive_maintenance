{
 "cells": [
  {
   "cell_type": "code",
   "execution_count": 14,
   "metadata": {},
   "outputs": [],
   "source": [
    "import pandas as pd\n",
    "import matplotlib.pyplot as plt\n",
    "import seaborn as sns\n",
    "import numpy as np\n",
    "from statsmodels.graphics.tsaplots import plot_pacf\n",
    "from statsmodels.graphics.tsaplots import plot_acf\n",
    "from matplotlib.pyplot import figure\n",
    "from sklearn.metrics import f1_score, confusion_matrix, roc_auc_score, recall_score, precision_score"
   ]
  },
  {
   "cell_type": "code",
   "execution_count": 2,
   "metadata": {},
   "outputs": [],
   "source": [
    "def calculate_score(data_frame, score_type, no_sensors):\n",
    "    \"\"\"\n",
    "    :param data_frame: Complete Dataframe\n",
    "    :param no_sensors: Number of Sensors in Dataframe\n",
    "    :param start_time: Start point. Value from time column\n",
    "    :param max_delta: Number of samples. max_time = (no_samples * (time between two samples))\n",
    "    :param step_size: It is the number of samples added to current time_delta to get next time_delta\n",
    "    :return:\n",
    "    \"\"\"\n",
    "    labels_pred = data_frame.iloc[:, (4 * no_sensors) + 2:(5 * no_sensors) + 2]\n",
    "    labels_true = data_frame.iloc[:, (5 * no_sensors) + 2].values\n",
    "    \n",
    "    result_score = np.zeros((no_sensors))\n",
    "\n",
    "    for sensor in range(no_sensors):\n",
    "        anomaly_pred = labels_pred.iloc[:, sensor].values\n",
    "        if score_type == \"f1_score\":\n",
    "            result = f1_score(labels_true, anomaly_pred, average=\"binary\")\n",
    "            index_names = [\"f1 sensor_\" + str(i) for i in range(no_sensors)]\n",
    "        elif score_type == \"precision_score\":\n",
    "            result = precision_score(labels_true, anomaly_pred, average=\"binary\")\n",
    "            index_names = [\"precision sensor_\" + str(i) for i in range(no_sensors)]\n",
    "        elif score_type == \"recall_score\":\n",
    "            result = recall_score(labels_true, anomaly_pred, average=\"binary\")\n",
    "            index_names = [\"recall sensor_\" + str(i) for i in range(no_sensors)]   \n",
    "        else:\n",
    "            result = 0\n",
    "            index_names = [\"error\" for i in range(no_sensors)]\n",
    "            \n",
    "        result_score[sensor] = result\n",
    "\n",
    "    score_df = pd.Series(data=result_score, index=index_names)\n",
    "    return score_df"
   ]
  },
  {
   "cell_type": "code",
   "execution_count": 56,
   "metadata": {},
   "outputs": [],
   "source": [
    "def get_confusion_matrix(data_frame, no_sensors, specific_sensor):\n",
    "    labels_pred = data_frame.iloc[:, (4 * no_sensors) + 2:(5 * no_sensors) + 2]\n",
    "    labels_true = data_frame.iloc[:, (5 * no_sensors) + 2].values\n",
    "    \n",
    "    # No errors are on sawtooth signal (labels_true in dataframe is regarding sine wave)\n",
    "    if specific_sensor == 1:\n",
    "        labels_true = np.full((data_frame.shape[0]), 0)\n",
    "    \n",
    "    anomaly_pred = labels_pred.iloc[:, specific_sensor].values\n",
    "    return confusion_matrix(labels_true, anomaly_pred).ravel()"
   ]
  },
  {
   "cell_type": "code",
   "execution_count": 21,
   "metadata": {},
   "outputs": [],
   "source": [
    "def visualise_metric_per_sensor(results, title):\n",
    "    fig, axes = plt.subplots(results.shape[1]-1, 1, figsize=(10,20),constrained_layout=False)\n",
    "    ax = axes.ravel()\n",
    "    t = results.loc[:,\"delta_t\"]\n",
    "    columns = results.columns\n",
    "    for i in range(results.shape[1]-1): \n",
    "        sns.lineplot(data=results, \n",
    "                     x=t, \n",
    "                     y=columns[i], \n",
    "                     ax=ax[i],\n",
    "                     linewidth=1,\n",
    "                     color=\"black\")\n",
    "        ax[i].set_xlabel(\"delta t [in samples]\")\n",
    "    plt.tight_layout()\n",
    "    plt.subplots_adjust(top=0.95)\n",
    "    plt.suptitle(title, fontsize=16)"
   ]
  },
  {
   "cell_type": "code",
   "execution_count": 4,
   "metadata": {},
   "outputs": [],
   "source": [
    "def visualise_metric_machine(results, score_type, phase):\n",
    "    t = results.loc[:,\"delta_t\"]\n",
    "    complete_title = \"CPPS Data - Beginning of Phase '{}''\".format(phase)\n",
    "    \n",
    "    # Caluculate Metric for hole machine (sum over sensors and devide by no_sensors)\n",
    "    labels = results.drop(columns=\"delta_t\", axis=0)\n",
    "    result_machine = labels.sum(axis=1) / results.shape[1]\n",
    "    \n",
    "    # Visualise Results\n",
    "    sns.lineplot(x=t, \n",
    "                 y=result_machine, \n",
    "                 linewidth=1,\n",
    "                 color=\"black\")\n",
    "    plt.xlabel(\"delta t [in samples]\")\n",
    "    plt.ylabel(\"{} over all dim\".format(score_type))\n",
    "    #plt.tight_layout()\n",
    "    plt.title(complete_title, fontsize=16, y=1.12)"
   ]
  },
  {
   "cell_type": "markdown",
   "metadata": {},
   "source": [
    "# Evaluation of Prediction Interval Metric\n",
    "## Setup"
   ]
  },
  {
   "cell_type": "code",
   "execution_count": 7,
   "metadata": {},
   "outputs": [],
   "source": [
    "all_data = pd.read_csv(\"../../files/prediction/MLE/artifical_2_signals.csv\", sep=\";\")"
   ]
  },
  {
   "cell_type": "code",
   "execution_count": 8,
   "metadata": {},
   "outputs": [
    {
     "data": {
      "text/html": [
       "<div>\n",
       "<style scoped>\n",
       "    .dataframe tbody tr th:only-of-type {\n",
       "        vertical-align: middle;\n",
       "    }\n",
       "\n",
       "    .dataframe tbody tr th {\n",
       "        vertical-align: top;\n",
       "    }\n",
       "\n",
       "    .dataframe thead th {\n",
       "        text-align: right;\n",
       "    }\n",
       "</style>\n",
       "<table border=\"1\" class=\"dataframe\">\n",
       "  <thead>\n",
       "    <tr style=\"text-align: right;\">\n",
       "      <th></th>\n",
       "      <th>ID</th>\n",
       "      <th>sine_signal target</th>\n",
       "      <th>sawtooth_signal target</th>\n",
       "      <th>sine_signal mu predicted</th>\n",
       "      <th>sawtooth_signal mu predicted</th>\n",
       "      <th>sine_signal sigma predicted</th>\n",
       "      <th>sawtooth_signal sigma predicted</th>\n",
       "      <th>mean normalised residual</th>\n",
       "      <th>sine_signal normalised residual</th>\n",
       "      <th>sawtooth_signal normalised residual</th>\n",
       "      <th>Anomaly Sensor_1</th>\n",
       "      <th>Anomaly Sensor_2</th>\n",
       "      <th>anomaly</th>\n",
       "    </tr>\n",
       "  </thead>\n",
       "  <tbody>\n",
       "    <tr>\n",
       "      <th>0</th>\n",
       "      <td>100.0</td>\n",
       "      <td>0.094079</td>\n",
       "      <td>-1.559943</td>\n",
       "      <td>0.042451</td>\n",
       "      <td>0.508776</td>\n",
       "      <td>0.122669</td>\n",
       "      <td>1.103673</td>\n",
       "      <td>-0.726763</td>\n",
       "      <td>0.420870</td>\n",
       "      <td>-1.874395</td>\n",
       "      <td>0</td>\n",
       "      <td>0</td>\n",
       "      <td>0</td>\n",
       "    </tr>\n",
       "    <tr>\n",
       "      <th>1</th>\n",
       "      <td>101.0</td>\n",
       "      <td>0.213996</td>\n",
       "      <td>-1.146374</td>\n",
       "      <td>0.158888</td>\n",
       "      <td>-0.624207</td>\n",
       "      <td>0.116932</td>\n",
       "      <td>0.750029</td>\n",
       "      <td>-0.112455</td>\n",
       "      <td>0.471285</td>\n",
       "      <td>-0.696196</td>\n",
       "      <td>0</td>\n",
       "      <td>0</td>\n",
       "      <td>0</td>\n",
       "    </tr>\n",
       "    <tr>\n",
       "      <th>2</th>\n",
       "      <td>102.0</td>\n",
       "      <td>0.350721</td>\n",
       "      <td>-1.672505</td>\n",
       "      <td>0.346661</td>\n",
       "      <td>-0.944065</td>\n",
       "      <td>0.117273</td>\n",
       "      <td>0.630579</td>\n",
       "      <td>-0.560284</td>\n",
       "      <td>0.034625</td>\n",
       "      <td>-1.155193</td>\n",
       "      <td>0</td>\n",
       "      <td>0</td>\n",
       "      <td>0</td>\n",
       "    </tr>\n",
       "    <tr>\n",
       "      <th>3</th>\n",
       "      <td>103.0</td>\n",
       "      <td>0.564450</td>\n",
       "      <td>-0.276615</td>\n",
       "      <td>0.533433</td>\n",
       "      <td>-0.875655</td>\n",
       "      <td>0.118977</td>\n",
       "      <td>0.530954</td>\n",
       "      <td>0.694465</td>\n",
       "      <td>0.260696</td>\n",
       "      <td>1.128233</td>\n",
       "      <td>0</td>\n",
       "      <td>0</td>\n",
       "      <td>0</td>\n",
       "    </tr>\n",
       "    <tr>\n",
       "      <th>4</th>\n",
       "      <td>104.0</td>\n",
       "      <td>0.692688</td>\n",
       "      <td>-0.955894</td>\n",
       "      <td>0.720765</td>\n",
       "      <td>-0.810976</td>\n",
       "      <td>0.120779</td>\n",
       "      <td>0.521465</td>\n",
       "      <td>-0.255184</td>\n",
       "      <td>-0.232465</td>\n",
       "      <td>-0.277904</td>\n",
       "      <td>0</td>\n",
       "      <td>0</td>\n",
       "      <td>0</td>\n",
       "    </tr>\n",
       "  </tbody>\n",
       "</table>\n",
       "</div>"
      ],
      "text/plain": [
       "      ID  sine_signal target  sawtooth_signal target  \\\n",
       "0  100.0            0.094079               -1.559943   \n",
       "1  101.0            0.213996               -1.146374   \n",
       "2  102.0            0.350721               -1.672505   \n",
       "3  103.0            0.564450               -0.276615   \n",
       "4  104.0            0.692688               -0.955894   \n",
       "\n",
       "   sine_signal mu predicted  sawtooth_signal mu predicted  \\\n",
       "0                  0.042451                      0.508776   \n",
       "1                  0.158888                     -0.624207   \n",
       "2                  0.346661                     -0.944065   \n",
       "3                  0.533433                     -0.875655   \n",
       "4                  0.720765                     -0.810976   \n",
       "\n",
       "   sine_signal sigma predicted  sawtooth_signal sigma predicted  \\\n",
       "0                     0.122669                         1.103673   \n",
       "1                     0.116932                         0.750029   \n",
       "2                     0.117273                         0.630579   \n",
       "3                     0.118977                         0.530954   \n",
       "4                     0.120779                         0.521465   \n",
       "\n",
       "   mean normalised residual  sine_signal normalised residual  \\\n",
       "0                 -0.726763                         0.420870   \n",
       "1                 -0.112455                         0.471285   \n",
       "2                 -0.560284                         0.034625   \n",
       "3                  0.694465                         0.260696   \n",
       "4                 -0.255184                        -0.232465   \n",
       "\n",
       "   sawtooth_signal normalised residual  Anomaly Sensor_1  Anomaly Sensor_2  \\\n",
       "0                            -1.874395                 0                 0   \n",
       "1                            -0.696196                 0                 0   \n",
       "2                            -1.155193                 0                 0   \n",
       "3                             1.128233                 0                 0   \n",
       "4                            -0.277904                 0                 0   \n",
       "\n",
       "   anomaly  \n",
       "0        0  \n",
       "1        0  \n",
       "2        0  \n",
       "3        0  \n",
       "4        0  "
      ]
     },
     "execution_count": 8,
     "metadata": {},
     "output_type": "execute_result"
    }
   ],
   "source": [
    "all_data.head()"
   ]
  },
  {
   "cell_type": "markdown",
   "metadata": {},
   "source": [
    "# Evaluation Metrics\n",
    "## F1-score"
   ]
  },
  {
   "cell_type": "code",
   "execution_count": 11,
   "metadata": {},
   "outputs": [
    {
     "name": "stdout",
     "output_type": "stream",
     "text": [
      "F1 score: 0.3038645570587786\n"
     ]
    }
   ],
   "source": [
    "f1_score = calculate_score(all_data, \"f1_score\", 2)\n",
    "print(\"F1 score: {}\".format(f1_score.sum()/2))"
   ]
  },
  {
   "cell_type": "markdown",
   "metadata": {},
   "source": [
    "## Precision Score"
   ]
  },
  {
   "cell_type": "code",
   "execution_count": 15,
   "metadata": {},
   "outputs": [
    {
     "name": "stdout",
     "output_type": "stream",
     "text": [
      "Precision score: 0.3011042735042735\n"
     ]
    }
   ],
   "source": [
    "precision_score = calculate_score(all_data, \"precision_score\", 2)\n",
    "print(\"Precision score: {}\".format(precision_score.sum()/2))"
   ]
  },
  {
   "cell_type": "markdown",
   "metadata": {},
   "source": [
    "## Recall Score"
   ]
  },
  {
   "cell_type": "code",
   "execution_count": 16,
   "metadata": {},
   "outputs": [
    {
     "name": "stdout",
     "output_type": "stream",
     "text": [
      "Recall score: 0.3075\n"
     ]
    }
   ],
   "source": [
    "recall_score = calculate_score(all_data, \"recall_score\", 2)\n",
    "print(\"Recall score: {}\".format(recall_score.sum()/2))"
   ]
  },
  {
   "cell_type": "markdown",
   "metadata": {},
   "source": [
    "## Confusion Matrix\n",
    "### Sensor with errors"
   ]
  },
  {
   "cell_type": "code",
   "execution_count": 53,
   "metadata": {},
   "outputs": [
    {
     "name": "stdout",
     "output_type": "stream",
     "text": [
      "Positive --> Anomaly\n",
      "Negative --> Normal Behaviour\n",
      "------------------------------\n",
      "11022\n",
      "Sensor No. 1:\n",
      "True negative: 11022\n",
      "False positive: 278\n",
      "False negative: 253\n",
      "True positive: 347\n"
     ]
    }
   ],
   "source": [
    "print(\"Positive --> Anomaly\")\n",
    "print(\"Negative --> Normal Behaviour\")\n",
    "print(\"--\"*15)\n",
    "tn, fp, fn, tp = get_confusion_matrix(all_data, 2, 0)\n",
    "print(\"Sensor No. {}:\".format(1))\n",
    "print(\"True negative: {}\".format(tn))\n",
    "print(\"False positive: {}\".format(fp))\n",
    "print(\"False negative: {}\".format(fn))\n",
    "print(\"True positive: {}\".format(tp))"
   ]
  },
  {
   "cell_type": "markdown",
   "metadata": {},
   "source": [
    "### Sensor without errors"
   ]
  },
  {
   "cell_type": "code",
   "execution_count": 57,
   "metadata": {},
   "outputs": [
    {
     "name": "stdout",
     "output_type": "stream",
     "text": [
      "Positive --> Anomaly\n",
      "Negative --> Normal Behaviour\n",
      "------------------------------\n",
      "Sensor No. 2:\n",
      "True negative: 11432\n",
      "False positive: 468\n",
      "False negative: 0\n",
      "True positive: 0\n"
     ]
    }
   ],
   "source": [
    "print(\"Positive --> Anomaly\")\n",
    "print(\"Negative --> Normal Behaviour\")\n",
    "print(\"--\"*15)\n",
    "tn, fp, fn, tp = get_confusion_matrix(all_data, 2, 1)\n",
    "print(\"Sensor No. {}:\".format(2))\n",
    "print(\"True negative: {}\".format(tn))\n",
    "print(\"False positive: {}\".format(fp))\n",
    "print(\"False negative: {}\".format(fn))\n",
    "print(\"True positive: {}\".format(tp))"
   ]
  },
  {
   "cell_type": "code",
   "execution_count": null,
   "metadata": {},
   "outputs": [],
   "source": []
  },
  {
   "cell_type": "code",
   "execution_count": null,
   "metadata": {},
   "outputs": [],
   "source": []
  }
 ],
 "metadata": {
  "kernelspec": {
   "display_name": "masterarbeit",
   "language": "python",
   "name": "masterarbeit"
  },
  "language_info": {
   "codemirror_mode": {
    "name": "ipython",
    "version": 3
   },
   "file_extension": ".py",
   "mimetype": "text/x-python",
   "name": "python",
   "nbconvert_exporter": "python",
   "pygments_lexer": "ipython3",
   "version": "3.6.8"
  }
 },
 "nbformat": 4,
 "nbformat_minor": 2
}
