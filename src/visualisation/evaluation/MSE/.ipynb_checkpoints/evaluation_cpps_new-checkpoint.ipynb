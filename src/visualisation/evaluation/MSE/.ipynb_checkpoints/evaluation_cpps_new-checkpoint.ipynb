{
 "cells": [
  {
   "cell_type": "code",
   "execution_count": 3,
   "metadata": {},
   "outputs": [],
   "source": [
    "import pandas as pd\n",
    "import matplotlib.pyplot as plt\n",
    "import seaborn as sns\n",
    "import numpy as np\n",
    "from statsmodels.graphics.tsaplots import plot_pacf\n",
    "from statsmodels.graphics.tsaplots import plot_acf\n",
    "from matplotlib.pyplot import figure\n",
    "from sklearn.metrics import f1_score, confusion_matrix, roc_auc_score, recall_score, precision_score\n",
    "import numpy as np"
   ]
  },
  {
   "cell_type": "code",
   "execution_count": 4,
   "metadata": {},
   "outputs": [],
   "source": [
    "def calculate_score_delta_t(data_frame, score_type, no_sensors, start_time, max_delta, step_size):\n",
    "    \"\"\"\n",
    "    :param data_frame: Complete Dataframe\n",
    "    :param no_sensors: Number of Sensors in Dataframe\n",
    "    :param start_time: Start point. Value from time column\n",
    "    :param max_delta: Number of samples. max_time = (no_samples * (time between two samples))\n",
    "    :param step_size: It is the number of samples added to current time_delta to get next time_delta\n",
    "    :return:\n",
    "    \"\"\"\n",
    "    global column_names\n",
    "    index_start = data_frame.index[data_frame['ID'] == float(start_time)].to_list()[0]\n",
    "    subset = data_frame.loc[index_start:(index_start + max_delta), :]\n",
    "    labels_pred = subset.iloc[:, (4 * no_sensors) + 2:(5 * no_sensors) + 2]\n",
    "    labels_true = subset.iloc[:, (5 * no_sensors) + 2]\n",
    "\n",
    "    number_evalutation_sequences = round(max_delta / step_size)\n",
    "    result_score = np.zeros((number_evalutation_sequences, no_sensors + 1))\n",
    "\n",
    "    for sensor in range(no_sensors):\n",
    "        for iteration in range(1, number_evalutation_sequences - 1):\n",
    "            anomaly_true = labels_true.iloc[0: (iteration * step_size)].values\n",
    "            anomaly_pred = labels_pred.iloc[0: (iteration * step_size), sensor].values\n",
    "            if score_type == \"true_positive_rate\":\n",
    "                TP = confusion_matrix(anomaly_true, anomaly_pred)[1][1]\n",
    "                FN = confusion_matrix(anomaly_true, anomaly_pred)[1][0]\n",
    "                result = TP / (TP + FN)\n",
    "                column_names = [\"TPR_Sensor_\" + str(i) for i in range(no_sensors)]\n",
    "            else:\n",
    "                result = 0\n",
    "                column_names = [\"error\" for i in range(no_sensors)]\n",
    "\n",
    "            result_score[iteration - 1, sensor] = result\n",
    "            result_score[iteration - 1, no_sensors] = iteration * step_size\n",
    "\n",
    "    score_df = pd.DataFrame(data=result_score, columns=column_names + [\"delta_t\"])\n",
    "    return score_df"
   ]
  },
  {
   "cell_type": "code",
   "execution_count": 5,
   "metadata": {},
   "outputs": [],
   "source": [
    "def calculate_score(data_frame, score_type, no_sensors):\n",
    "    \"\"\"\n",
    "    :param data_frame: Complete Dataframe\n",
    "    :param no_sensors: Number of Sensors in Dataframe\n",
    "    :param start_time: Start point. Value from time column\n",
    "    :param max_delta: Number of samples. max_time = (no_samples * (time between two samples))\n",
    "    :param step_size: It is the number of samples added to current time_delta to get next time_delta\n",
    "    :return:\n",
    "    \"\"\"\n",
    "    labels_pred = data_frame.iloc[:, (4 * no_sensors) + 2:(5 * no_sensors) + 2]\n",
    "    labels_true = data_frame.iloc[:, (5 * no_sensors) + 2].values\n",
    "    \n",
    "    result_score = np.zeros((no_sensors))\n",
    "\n",
    "    for sensor in range(no_sensors):\n",
    "        anomaly_pred = labels_pred.iloc[:, sensor].values\n",
    "        if score_type == \"f1_score\":\n",
    "            result = f1_score(labels_true, anomaly_pred, average=\"binary\")\n",
    "            index_names = [\"f1 sensor_\" + str(i) for i in range(no_sensors)]\n",
    "        elif score_type == \"precision_score\":\n",
    "            result = precision_score(labels_true, anomaly_pred, average=\"binary\")\n",
    "            index_names = [\"precision sensor_\" + str(i) for i in range(no_sensors)]\n",
    "        elif score_type == \"recall_score\":\n",
    "            result = recall_score(labels_true, anomaly_pred, average=\"binary\")\n",
    "            index_names = [\"recall sensor_\" + str(i) for i in range(no_sensors)]\n",
    "        else:\n",
    "            result = 0\n",
    "            index_names = [\"error\" for i in range(no_sensors)]\n",
    "            \n",
    "        result_score[sensor] = result\n",
    "\n",
    "    score_df = pd.Series(data=result_score, index=index_names)\n",
    "    return score_df"
   ]
  },
  {
   "cell_type": "code",
   "execution_count": 6,
   "metadata": {},
   "outputs": [],
   "source": [
    "def visualise_metric_per_sensor(results, title):\n",
    "    fig, axes = plt.subplots(results.shape[1]-1, 1, figsize=(10,20),constrained_layout=False)\n",
    "    ax = axes.ravel()\n",
    "    t = results.loc[:,\"delta_t\"]\n",
    "    columns = results.columns\n",
    "    for i in range(results.shape[1]-1): \n",
    "        sns.lineplot(data=results, \n",
    "                     x=t, \n",
    "                     y=columns[i], \n",
    "                     ax=ax[i],\n",
    "                     linewidth=1,\n",
    "                     color=\"black\")\n",
    "        ax[i].set_xlabel(\"delta t [in samples]\")\n",
    "    plt.tight_layout()\n",
    "    plt.subplots_adjust(top=0.95)\n",
    "    plt.suptitle(title, fontsize=16)"
   ]
  },
  {
   "cell_type": "code",
   "execution_count": 7,
   "metadata": {},
   "outputs": [],
   "source": [
    "def visualise_metric_machine(results, score_type, phase):\n",
    "    t = results.loc[:,\"delta_t\"]\n",
    "    complete_title = \"CPPS Data - Beginning of Phase '{}''\".format(phase)\n",
    "    \n",
    "    # Caluculate Metric for hole machine (sum over sensors and devide by no_sensors)\n",
    "    labels = score_result.drop(columns=\"delta_t\", axis=0)\n",
    "    results_machine = labels.sum(axis=1) / results.shape[1]\n",
    "    \n",
    "    # Visualise Results\n",
    "    sns.lineplot(x=t, \n",
    "                 y=results_machine, \n",
    "                 linewidth=1,\n",
    "                 color=\"black\")\n",
    "    plt.xlabel(\"delta t [in samples]\")\n",
    "    plt.ylabel(\"{} over all dim\".format(score_type))\n",
    "    #plt.tight_layout()\n",
    "    plt.title(complete_title, fontsize=16, y=1.12)"
   ]
  },
  {
   "cell_type": "markdown",
   "metadata": {},
   "source": [
    "## Setup"
   ]
  },
  {
   "cell_type": "code",
   "execution_count": 8,
   "metadata": {},
   "outputs": [],
   "source": [
    "start_phase_1 = 24683.0\n",
    "start_phase_2 = 38966.0"
   ]
  },
  {
   "cell_type": "code",
   "execution_count": 9,
   "metadata": {},
   "outputs": [],
   "source": [
    "all_data = pd.read_csv(\"../../files/prediction/MLE/cpps_new_2sigma.csv\", sep=\";\")\n",
    "phase_0 = all_data.loc[all_data[\"ID\"]<=start_phase_1]\n",
    "phase_1 = all_data.loc[all_data[\"ID\"]>=start_phase_1]\n",
    "phase_2 = all_data.loc[all_data[\"ID\"]>=start_phase_2]\n",
    "phase_0_and_1 = all_data.loc[all_data[\"ID\"]<start_phase_2]\n",
    "phase_0_and_2 = pd.concat([phase_0, phase_2], ignore_index=True)"
   ]
  },
  {
   "cell_type": "code",
   "execution_count": 44,
   "metadata": {},
   "outputs": [
    {
     "data": {
      "text/html": [
       "<div>\n",
       "<style scoped>\n",
       "    .dataframe tbody tr th:only-of-type {\n",
       "        vertical-align: middle;\n",
       "    }\n",
       "\n",
       "    .dataframe tbody tr th {\n",
       "        vertical-align: top;\n",
       "    }\n",
       "\n",
       "    .dataframe thead th {\n",
       "        text-align: right;\n",
       "    }\n",
       "</style>\n",
       "<table border=\"1\" class=\"dataframe\">\n",
       "  <thead>\n",
       "    <tr style=\"text-align: right;\">\n",
       "      <th></th>\n",
       "      <th>ID</th>\n",
       "      <th>sensor_2 target</th>\n",
       "      <th>sensor_3 target</th>\n",
       "      <th>sensor_4 target</th>\n",
       "      <th>sensor_5 target</th>\n",
       "      <th>sensor_6 target</th>\n",
       "      <th>sensor_7 target</th>\n",
       "      <th>sensor_8 target</th>\n",
       "      <th>sensor_9 target</th>\n",
       "      <th>sensor_10 target</th>\n",
       "      <th>...</th>\n",
       "      <th>Anomaly Sensor_2</th>\n",
       "      <th>Anomaly Sensor_3</th>\n",
       "      <th>Anomaly Sensor_4</th>\n",
       "      <th>Anomaly Sensor_5</th>\n",
       "      <th>Anomaly Sensor_6</th>\n",
       "      <th>Anomaly Sensor_7</th>\n",
       "      <th>Anomaly Sensor_8</th>\n",
       "      <th>Anomaly Sensor_9</th>\n",
       "      <th>Anomaly Sensor_10</th>\n",
       "      <th>status</th>\n",
       "    </tr>\n",
       "  </thead>\n",
       "  <tbody>\n",
       "    <tr>\n",
       "      <th>0</th>\n",
       "      <td>101.0</td>\n",
       "      <td>1.050311</td>\n",
       "      <td>-0.288966</td>\n",
       "      <td>2.622169</td>\n",
       "      <td>0.629691</td>\n",
       "      <td>0.535125</td>\n",
       "      <td>1.007001</td>\n",
       "      <td>0.806292</td>\n",
       "      <td>0.385174</td>\n",
       "      <td>0.239332</td>\n",
       "      <td>...</td>\n",
       "      <td>0</td>\n",
       "      <td>0</td>\n",
       "      <td>0</td>\n",
       "      <td>0</td>\n",
       "      <td>0</td>\n",
       "      <td>0</td>\n",
       "      <td>0</td>\n",
       "      <td>0</td>\n",
       "      <td>0</td>\n",
       "      <td>0</td>\n",
       "    </tr>\n",
       "    <tr>\n",
       "      <th>1</th>\n",
       "      <td>102.0</td>\n",
       "      <td>0.855389</td>\n",
       "      <td>-0.674310</td>\n",
       "      <td>2.841940</td>\n",
       "      <td>0.695511</td>\n",
       "      <td>0.426513</td>\n",
       "      <td>0.928420</td>\n",
       "      <td>0.546533</td>\n",
       "      <td>-0.049421</td>\n",
       "      <td>0.198970</td>\n",
       "      <td>...</td>\n",
       "      <td>0</td>\n",
       "      <td>0</td>\n",
       "      <td>0</td>\n",
       "      <td>0</td>\n",
       "      <td>0</td>\n",
       "      <td>0</td>\n",
       "      <td>0</td>\n",
       "      <td>0</td>\n",
       "      <td>0</td>\n",
       "      <td>0</td>\n",
       "    </tr>\n",
       "    <tr>\n",
       "      <th>2</th>\n",
       "      <td>103.0</td>\n",
       "      <td>0.793249</td>\n",
       "      <td>-0.813778</td>\n",
       "      <td>2.819760</td>\n",
       "      <td>0.621487</td>\n",
       "      <td>0.297168</td>\n",
       "      <td>0.913767</td>\n",
       "      <td>0.448677</td>\n",
       "      <td>-0.116216</td>\n",
       "      <td>0.132105</td>\n",
       "      <td>...</td>\n",
       "      <td>0</td>\n",
       "      <td>0</td>\n",
       "      <td>0</td>\n",
       "      <td>0</td>\n",
       "      <td>0</td>\n",
       "      <td>0</td>\n",
       "      <td>0</td>\n",
       "      <td>0</td>\n",
       "      <td>0</td>\n",
       "      <td>0</td>\n",
       "    </tr>\n",
       "    <tr>\n",
       "      <th>3</th>\n",
       "      <td>104.0</td>\n",
       "      <td>0.637474</td>\n",
       "      <td>-0.629878</td>\n",
       "      <td>2.566342</td>\n",
       "      <td>0.770167</td>\n",
       "      <td>0.584095</td>\n",
       "      <td>0.727841</td>\n",
       "      <td>0.484710</td>\n",
       "      <td>-0.065061</td>\n",
       "      <td>0.211005</td>\n",
       "      <td>...</td>\n",
       "      <td>0</td>\n",
       "      <td>0</td>\n",
       "      <td>0</td>\n",
       "      <td>0</td>\n",
       "      <td>0</td>\n",
       "      <td>0</td>\n",
       "      <td>0</td>\n",
       "      <td>0</td>\n",
       "      <td>0</td>\n",
       "      <td>0</td>\n",
       "    </tr>\n",
       "    <tr>\n",
       "      <th>4</th>\n",
       "      <td>105.0</td>\n",
       "      <td>0.792423</td>\n",
       "      <td>-0.809434</td>\n",
       "      <td>2.800128</td>\n",
       "      <td>0.610295</td>\n",
       "      <td>0.289290</td>\n",
       "      <td>0.913107</td>\n",
       "      <td>0.449387</td>\n",
       "      <td>-0.101638</td>\n",
       "      <td>0.126802</td>\n",
       "      <td>...</td>\n",
       "      <td>0</td>\n",
       "      <td>0</td>\n",
       "      <td>0</td>\n",
       "      <td>0</td>\n",
       "      <td>0</td>\n",
       "      <td>0</td>\n",
       "      <td>0</td>\n",
       "      <td>0</td>\n",
       "      <td>0</td>\n",
       "      <td>0</td>\n",
       "    </tr>\n",
       "  </tbody>\n",
       "</table>\n",
       "<p>5 rows × 53 columns</p>\n",
       "</div>"
      ],
      "text/plain": [
       "      ID  sensor_2 target  sensor_3 target  sensor_4 target  sensor_5 target  \\\n",
       "0  101.0         1.050311        -0.288966         2.622169         0.629691   \n",
       "1  102.0         0.855389        -0.674310         2.841940         0.695511   \n",
       "2  103.0         0.793249        -0.813778         2.819760         0.621487   \n",
       "3  104.0         0.637474        -0.629878         2.566342         0.770167   \n",
       "4  105.0         0.792423        -0.809434         2.800128         0.610295   \n",
       "\n",
       "   sensor_6 target  sensor_7 target  sensor_8 target  sensor_9 target  \\\n",
       "0         0.535125         1.007001         0.806292         0.385174   \n",
       "1         0.426513         0.928420         0.546533        -0.049421   \n",
       "2         0.297168         0.913767         0.448677        -0.116216   \n",
       "3         0.584095         0.727841         0.484710        -0.065061   \n",
       "4         0.289290         0.913107         0.449387        -0.101638   \n",
       "\n",
       "   sensor_10 target  ...  Anomaly Sensor_2  Anomaly Sensor_3  \\\n",
       "0          0.239332  ...                 0                 0   \n",
       "1          0.198970  ...                 0                 0   \n",
       "2          0.132105  ...                 0                 0   \n",
       "3          0.211005  ...                 0                 0   \n",
       "4          0.126802  ...                 0                 0   \n",
       "\n",
       "   Anomaly Sensor_4  Anomaly Sensor_5  Anomaly Sensor_6  Anomaly Sensor_7  \\\n",
       "0                 0                 0                 0                 0   \n",
       "1                 0                 0                 0                 0   \n",
       "2                 0                 0                 0                 0   \n",
       "3                 0                 0                 0                 0   \n",
       "4                 0                 0                 0                 0   \n",
       "\n",
       "   Anomaly Sensor_8  Anomaly Sensor_9  Anomaly Sensor_10  status  \n",
       "0                 0                 0                  0       0  \n",
       "1                 0                 0                  0       0  \n",
       "2                 0                 0                  0       0  \n",
       "3                 0                 0                  0       0  \n",
       "4                 0                 0                  0       0  \n",
       "\n",
       "[5 rows x 53 columns]"
      ]
     },
     "execution_count": 44,
     "metadata": {},
     "output_type": "execute_result"
    }
   ],
   "source": [
    "phase_0_and_2.head()"
   ]
  },
  {
   "cell_type": "markdown",
   "metadata": {},
   "source": [
    "# Model Evaluation - Phases\n",
    "## Phase 0 + Phase 1\n",
    "### F1 Score "
   ]
  },
  {
   "cell_type": "code",
   "execution_count": 54,
   "metadata": {},
   "outputs": [
    {
     "name": "stdout",
     "output_type": "stream",
     "text": [
      "0.1750917151180948\n"
     ]
    }
   ],
   "source": [
    "score = calculate_score(phase_0_and_1, \"f1_score\", 10)\n",
    "print(score.sum()/10)"
   ]
  },
  {
   "cell_type": "markdown",
   "metadata": {},
   "source": [
    "### ROC-AUC Score"
   ]
  },
  {
   "cell_type": "code",
   "execution_count": 53,
   "metadata": {},
   "outputs": [
    {
     "name": "stdout",
     "output_type": "stream",
     "text": [
      "0.1750917151180948\n"
     ]
    }
   ],
   "source": [
    "\"\"\"\n",
    "score_result = calculate_score(phase_0_and_1, \"roc_auc_score\", 10)\n",
    "print(score.sum()/10)\n",
    "\"\"\""
   ]
  },
  {
   "cell_type": "markdown",
   "metadata": {},
   "source": [
    "## Phase 0 + Phase 2\n",
    "### F1 Score "
   ]
  },
  {
   "cell_type": "code",
   "execution_count": 55,
   "metadata": {},
   "outputs": [
    {
     "name": "stdout",
     "output_type": "stream",
     "text": [
      "0.4912359148581955\n"
     ]
    }
   ],
   "source": [
    "score = calculate_score(Phase_0_and_2, \"f1_score\", 10)\n",
    "print(score.sum()/10)"
   ]
  },
  {
   "cell_type": "markdown",
   "metadata": {},
   "source": [
    "### ROC-AUC Score"
   ]
  },
  {
   "cell_type": "code",
   "execution_count": 49,
   "metadata": {},
   "outputs": [
    {
     "name": "stdout",
     "output_type": "stream",
     "text": [
      "f1 sensor_0    0.495578\n",
      "f1 sensor_1    0.524419\n",
      "f1 sensor_2    0.471366\n",
      "f1 sensor_3    0.485411\n",
      "f1 sensor_4    0.504577\n",
      "f1 sensor_5    0.450248\n",
      "f1 sensor_6    0.526130\n",
      "f1 sensor_7    0.412032\n",
      "f1 sensor_8    0.527896\n",
      "f1 sensor_9    0.514701\n",
      "dtype: float64\n"
     ]
    }
   ],
   "source": [
    "\"\"\"\n",
    "score_result = calculate_score(phase_0_and_2, \"roc_auc_score\", 10)\n",
    "print(score.sum()/10)\n",
    "\"\"\""
   ]
  },
  {
   "cell_type": "markdown",
   "metadata": {},
   "source": [
    "# Model Evaluation - Delta t"
   ]
  },
  {
   "cell_type": "code",
   "execution_count": 13,
   "metadata": {},
   "outputs": [],
   "source": [
    "score_result = calculate_score_delta_t(data_frame=all_data, \n",
    "                                       score_type=\"true_positive_rate\", \n",
    "                                       no_sensors=10, \n",
    "                                       start_time=start_phase_2, \n",
    "                                       max_delta=500, \n",
    "                                       step_size=10)"
   ]
  },
  {
   "cell_type": "code",
   "execution_count": 14,
   "metadata": {},
   "outputs": [
    {
     "data": {
      "text/html": [
       "<div>\n",
       "<style scoped>\n",
       "    .dataframe tbody tr th:only-of-type {\n",
       "        vertical-align: middle;\n",
       "    }\n",
       "\n",
       "    .dataframe tbody tr th {\n",
       "        vertical-align: top;\n",
       "    }\n",
       "\n",
       "    .dataframe thead th {\n",
       "        text-align: right;\n",
       "    }\n",
       "</style>\n",
       "<table border=\"1\" class=\"dataframe\">\n",
       "  <thead>\n",
       "    <tr style=\"text-align: right;\">\n",
       "      <th></th>\n",
       "      <th>TPR_Sensor_0</th>\n",
       "      <th>TPR_Sensor_1</th>\n",
       "      <th>TPR_Sensor_2</th>\n",
       "      <th>TPR_Sensor_3</th>\n",
       "      <th>TPR_Sensor_4</th>\n",
       "      <th>TPR_Sensor_5</th>\n",
       "      <th>TPR_Sensor_6</th>\n",
       "      <th>TPR_Sensor_7</th>\n",
       "      <th>TPR_Sensor_8</th>\n",
       "      <th>TPR_Sensor_9</th>\n",
       "      <th>delta_t</th>\n",
       "    </tr>\n",
       "  </thead>\n",
       "  <tbody>\n",
       "    <tr>\n",
       "      <th>0</th>\n",
       "      <td>0.40</td>\n",
       "      <td>0.300000</td>\n",
       "      <td>0.600</td>\n",
       "      <td>0.500000</td>\n",
       "      <td>0.500000</td>\n",
       "      <td>0.400000</td>\n",
       "      <td>0.20</td>\n",
       "      <td>0.200000</td>\n",
       "      <td>0.300000</td>\n",
       "      <td>0.400</td>\n",
       "      <td>10.0</td>\n",
       "    </tr>\n",
       "    <tr>\n",
       "      <th>1</th>\n",
       "      <td>0.45</td>\n",
       "      <td>0.400000</td>\n",
       "      <td>0.400</td>\n",
       "      <td>0.250000</td>\n",
       "      <td>0.300000</td>\n",
       "      <td>0.400000</td>\n",
       "      <td>0.40</td>\n",
       "      <td>0.300000</td>\n",
       "      <td>0.250000</td>\n",
       "      <td>0.450</td>\n",
       "      <td>20.0</td>\n",
       "    </tr>\n",
       "    <tr>\n",
       "      <th>2</th>\n",
       "      <td>0.40</td>\n",
       "      <td>0.333333</td>\n",
       "      <td>0.400</td>\n",
       "      <td>0.233333</td>\n",
       "      <td>0.233333</td>\n",
       "      <td>0.366667</td>\n",
       "      <td>0.40</td>\n",
       "      <td>0.366667</td>\n",
       "      <td>0.233333</td>\n",
       "      <td>0.500</td>\n",
       "      <td>30.0</td>\n",
       "    </tr>\n",
       "    <tr>\n",
       "      <th>3</th>\n",
       "      <td>0.30</td>\n",
       "      <td>0.300000</td>\n",
       "      <td>0.325</td>\n",
       "      <td>0.300000</td>\n",
       "      <td>0.275000</td>\n",
       "      <td>0.275000</td>\n",
       "      <td>0.35</td>\n",
       "      <td>0.300000</td>\n",
       "      <td>0.300000</td>\n",
       "      <td>0.425</td>\n",
       "      <td>40.0</td>\n",
       "    </tr>\n",
       "    <tr>\n",
       "      <th>4</th>\n",
       "      <td>0.32</td>\n",
       "      <td>0.360000</td>\n",
       "      <td>0.320</td>\n",
       "      <td>0.240000</td>\n",
       "      <td>0.240000</td>\n",
       "      <td>0.260000</td>\n",
       "      <td>0.42</td>\n",
       "      <td>0.320000</td>\n",
       "      <td>0.280000</td>\n",
       "      <td>0.460</td>\n",
       "      <td>50.0</td>\n",
       "    </tr>\n",
       "  </tbody>\n",
       "</table>\n",
       "</div>"
      ],
      "text/plain": [
       "   TPR_Sensor_0  TPR_Sensor_1  TPR_Sensor_2  TPR_Sensor_3  TPR_Sensor_4  \\\n",
       "0          0.40      0.300000         0.600      0.500000      0.500000   \n",
       "1          0.45      0.400000         0.400      0.250000      0.300000   \n",
       "2          0.40      0.333333         0.400      0.233333      0.233333   \n",
       "3          0.30      0.300000         0.325      0.300000      0.275000   \n",
       "4          0.32      0.360000         0.320      0.240000      0.240000   \n",
       "\n",
       "   TPR_Sensor_5  TPR_Sensor_6  TPR_Sensor_7  TPR_Sensor_8  TPR_Sensor_9  \\\n",
       "0      0.400000          0.20      0.200000      0.300000         0.400   \n",
       "1      0.400000          0.40      0.300000      0.250000         0.450   \n",
       "2      0.366667          0.40      0.366667      0.233333         0.500   \n",
       "3      0.275000          0.35      0.300000      0.300000         0.425   \n",
       "4      0.260000          0.42      0.320000      0.280000         0.460   \n",
       "\n",
       "   delta_t  \n",
       "0     10.0  \n",
       "1     20.0  \n",
       "2     30.0  \n",
       "3     40.0  \n",
       "4     50.0  "
      ]
     },
     "execution_count": 14,
     "metadata": {},
     "output_type": "execute_result"
    }
   ],
   "source": [
    "score_result.head()"
   ]
  },
  {
   "cell_type": "code",
   "execution_count": 15,
   "metadata": {},
   "outputs": [
    {
     "data": {
      "image/png": "[encoded data removed]",
      "text/plain": [
       "<Figure size 432x288 with 1 Axes>"
      ]
     },
     "metadata": {
      "needs_background": "light"
     },
     "output_type": "display_data"
    }
   ],
   "source": [
    "visualise_metric_machine(score_result, \"True Positive Rate\", \"Large Error\")\n",
    "#plt.savefig(\"./f1_score_cpps_data.png\")\n",
    "plt.show()"
   ]
  },
  {
   "cell_type": "code",
   "execution_count": null,
   "metadata": {},
   "outputs": [],
   "source": []
  },
  {
   "cell_type": "code",
   "execution_count": null,
   "metadata": {},
   "outputs": [],
   "source": []
  }
 ],
 "metadata": {
  "kernelspec": {
   "display_name": "masterarbeit",
   "language": "python",
   "name": "masterarbeit"
  },
  "language_info": {
   "codemirror_mode": {
    "name": "ipython",
    "version": 3
   },
   "file_extension": ".py",
   "mimetype": "text/x-python",
   "name": "python",
   "nbconvert_exporter": "python",
   "pygments_lexer": "ipython3",
   "version": "3.6.8"
  }
 },
 "nbformat": 4,
 "nbformat_minor": 2
}
