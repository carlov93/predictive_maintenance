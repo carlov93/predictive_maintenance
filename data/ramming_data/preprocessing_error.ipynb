{
 "cells": [
  {
   "cell_type": "code",
   "execution_count": 31,
   "metadata": {},
   "outputs": [],
   "source": [
    "import pandas as pd"
   ]
  },
  {
   "cell_type": "code",
   "execution_count": 32,
   "metadata": {},
   "outputs": [],
   "source": [
    "#original = pd.read_csv(\"./data_error.csv\", sep=\",\")\n",
    "original = pd.read_csv(\"./data_train.csv\", sep=\",\")"
   ]
  },
  {
   "cell_type": "code",
   "execution_count": 33,
   "metadata": {},
   "outputs": [],
   "source": [
    "preprocessed = original.drop([\"chain_num\",\"latent_input_1\",\"latent_input_2\",\"latent_output_1\"], axis=1)"
   ]
  },
  {
   "cell_type": "code",
   "execution_count": 34,
   "metadata": {},
   "outputs": [],
   "source": [
    "start=0\n",
    "id_= []\n",
    "for i in range(preprocessed.shape[0]):\n",
    "    id_.append(start+1)\n",
    "    start +=1"
   ]
  },
  {
   "cell_type": "code",
   "execution_count": 35,
   "metadata": {},
   "outputs": [],
   "source": [
    "preprocessed[\"ID\"]=id_"
   ]
  },
  {
   "cell_type": "code",
   "execution_count": 36,
   "metadata": {},
   "outputs": [
    {
     "data": {
      "text/plain": [
       "Index(['obs_1', 'obs_2', 'obs_3', 'obs_4', 'obs_5', 'obs_6', 'obs_7', 'obs_8',\n",
       "       'obs_9', 'obs_10', 'obs_11', 'obs_12', 'obs_13', 'obs_14', 'obs_15',\n",
       "       'obs_16', 'obs_17', 'obs_18', 'obs_19', 'obs_20', 'obs_21', 'obs_22',\n",
       "       'obs_23', 'obs_24', 'obs_25', 'obs_26', 'obs_27', 'obs_28', 'obs_29',\n",
       "       'obs_30', 'obs_31', 'obs_32', 'obs_33', 'obs_34', 'obs_35', 'obs_36',\n",
       "       'obs_37', 'obs_38', 'obs_39', 'obs_40', 'obs_41', 'obs_42', 'obs_43',\n",
       "       'obs_44', 'obs_45', 'obs_46', 'obs_47', 'obs_48', 'obs_49', 'obs_50',\n",
       "       'ID'],\n",
       "      dtype='object')"
      ]
     },
     "execution_count": 36,
     "metadata": {},
     "output_type": "execute_result"
    }
   ],
   "source": [
    "preprocessed.columns"
   ]
  },
  {
   "cell_type": "code",
   "execution_count": 37,
   "metadata": {},
   "outputs": [],
   "source": [
    "names= ['ID', 'obs_1', 'obs_2', 'obs_3', 'obs_4', 'obs_5', 'obs_6', 'obs_7', 'obs_8',\n",
    "       'obs_9', 'obs_10', 'obs_11', 'obs_12', 'obs_13', 'obs_14', 'obs_15',\n",
    "       'obs_16', 'obs_17', 'obs_18', 'obs_19', 'obs_20', 'obs_21', 'obs_22',\n",
    "       'obs_23', 'obs_24', 'obs_25', 'obs_26', 'obs_27', 'obs_28', 'obs_29',\n",
    "       'obs_30', 'obs_31', 'obs_32', 'obs_33', 'obs_34', 'obs_35', 'obs_36',\n",
    "       'obs_37', 'obs_38', 'obs_39', 'obs_40', 'obs_41', 'obs_42', 'obs_43',\n",
    "       'obs_44', 'obs_45', 'obs_46', 'obs_47', 'obs_48', 'obs_49', 'obs_50',]\n",
    "preprocessed = preprocessed.reindex(columns=names)"
   ]
  },
  {
   "cell_type": "markdown",
   "metadata": {},
   "source": [
    "### Add label of status"
   ]
  },
  {
   "cell_type": "code",
   "execution_count": 38,
   "metadata": {},
   "outputs": [],
   "source": [
    "preprocessed[\"status\"] = 0"
   ]
  },
  {
   "cell_type": "code",
   "execution_count": 39,
   "metadata": {},
   "outputs": [
    {
     "data": {
      "text/html": [
       "<div>\n",
       "<style scoped>\n",
       "    .dataframe tbody tr th:only-of-type {\n",
       "        vertical-align: middle;\n",
       "    }\n",
       "\n",
       "    .dataframe tbody tr th {\n",
       "        vertical-align: top;\n",
       "    }\n",
       "\n",
       "    .dataframe thead th {\n",
       "        text-align: right;\n",
       "    }\n",
       "</style>\n",
       "<table border=\"1\" class=\"dataframe\">\n",
       "  <thead>\n",
       "    <tr style=\"text-align: right;\">\n",
       "      <th></th>\n",
       "      <th>ID</th>\n",
       "      <th>obs_1</th>\n",
       "      <th>obs_2</th>\n",
       "      <th>obs_3</th>\n",
       "      <th>obs_4</th>\n",
       "      <th>obs_5</th>\n",
       "      <th>obs_6</th>\n",
       "      <th>obs_7</th>\n",
       "      <th>obs_8</th>\n",
       "      <th>obs_9</th>\n",
       "      <th>...</th>\n",
       "      <th>obs_42</th>\n",
       "      <th>obs_43</th>\n",
       "      <th>obs_44</th>\n",
       "      <th>obs_45</th>\n",
       "      <th>obs_46</th>\n",
       "      <th>obs_47</th>\n",
       "      <th>obs_48</th>\n",
       "      <th>obs_49</th>\n",
       "      <th>obs_50</th>\n",
       "      <th>status</th>\n",
       "    </tr>\n",
       "  </thead>\n",
       "  <tbody>\n",
       "    <tr>\n",
       "      <th>0</th>\n",
       "      <td>1</td>\n",
       "      <td>11.72460</td>\n",
       "      <td>6.84370</td>\n",
       "      <td>-6.16546</td>\n",
       "      <td>7.32371</td>\n",
       "      <td>8.12540</td>\n",
       "      <td>8.51484</td>\n",
       "      <td>-10.67250</td>\n",
       "      <td>11.45160</td>\n",
       "      <td>-2.871550</td>\n",
       "      <td>...</td>\n",
       "      <td>3.843580</td>\n",
       "      <td>11.60930</td>\n",
       "      <td>-9.01797</td>\n",
       "      <td>-9.51101</td>\n",
       "      <td>0.628847</td>\n",
       "      <td>-1.27003</td>\n",
       "      <td>-8.647210</td>\n",
       "      <td>8.23113</td>\n",
       "      <td>10.896800</td>\n",
       "      <td>0</td>\n",
       "    </tr>\n",
       "    <tr>\n",
       "      <th>1</th>\n",
       "      <td>2</td>\n",
       "      <td>-1.24318</td>\n",
       "      <td>-3.12578</td>\n",
       "      <td>7.37683</td>\n",
       "      <td>4.43522</td>\n",
       "      <td>-2.30168</td>\n",
       "      <td>-5.34081</td>\n",
       "      <td>2.84995</td>\n",
       "      <td>-6.50697</td>\n",
       "      <td>-1.308750</td>\n",
       "      <td>...</td>\n",
       "      <td>-0.219740</td>\n",
       "      <td>1.58602</td>\n",
       "      <td>5.61341</td>\n",
       "      <td>7.88271</td>\n",
       "      <td>2.597970</td>\n",
       "      <td>4.02012</td>\n",
       "      <td>-0.465965</td>\n",
       "      <td>7.17608</td>\n",
       "      <td>-0.748389</td>\n",
       "      <td>0</td>\n",
       "    </tr>\n",
       "    <tr>\n",
       "      <th>2</th>\n",
       "      <td>3</td>\n",
       "      <td>-1.23470</td>\n",
       "      <td>-3.01683</td>\n",
       "      <td>7.22351</td>\n",
       "      <td>4.40578</td>\n",
       "      <td>-2.43740</td>\n",
       "      <td>-5.25240</td>\n",
       "      <td>2.76146</td>\n",
       "      <td>-6.38127</td>\n",
       "      <td>-1.238430</td>\n",
       "      <td>...</td>\n",
       "      <td>-0.210998</td>\n",
       "      <td>1.52489</td>\n",
       "      <td>5.50085</td>\n",
       "      <td>7.64518</td>\n",
       "      <td>2.569910</td>\n",
       "      <td>3.96685</td>\n",
       "      <td>-0.376675</td>\n",
       "      <td>7.01248</td>\n",
       "      <td>-0.860346</td>\n",
       "      <td>0</td>\n",
       "    </tr>\n",
       "    <tr>\n",
       "      <th>3</th>\n",
       "      <td>4</td>\n",
       "      <td>-1.22580</td>\n",
       "      <td>-2.64015</td>\n",
       "      <td>7.06893</td>\n",
       "      <td>4.52620</td>\n",
       "      <td>-2.46531</td>\n",
       "      <td>-5.18322</td>\n",
       "      <td>2.45454</td>\n",
       "      <td>-5.74103</td>\n",
       "      <td>-0.810456</td>\n",
       "      <td>...</td>\n",
       "      <td>0.064941</td>\n",
       "      <td>1.34598</td>\n",
       "      <td>5.38240</td>\n",
       "      <td>7.10200</td>\n",
       "      <td>2.615980</td>\n",
       "      <td>3.65062</td>\n",
       "      <td>-0.058385</td>\n",
       "      <td>6.73682</td>\n",
       "      <td>-1.184970</td>\n",
       "      <td>0</td>\n",
       "    </tr>\n",
       "    <tr>\n",
       "      <th>4</th>\n",
       "      <td>5</td>\n",
       "      <td>-1.25419</td>\n",
       "      <td>-2.39536</td>\n",
       "      <td>6.88117</td>\n",
       "      <td>4.49926</td>\n",
       "      <td>-2.45386</td>\n",
       "      <td>-5.12561</td>\n",
       "      <td>2.22625</td>\n",
       "      <td>-5.35451</td>\n",
       "      <td>-0.604970</td>\n",
       "      <td>...</td>\n",
       "      <td>0.181912</td>\n",
       "      <td>1.25476</td>\n",
       "      <td>5.21952</td>\n",
       "      <td>6.71270</td>\n",
       "      <td>2.595310</td>\n",
       "      <td>3.44541</td>\n",
       "      <td>0.086474</td>\n",
       "      <td>6.47247</td>\n",
       "      <td>-1.338340</td>\n",
       "      <td>0</td>\n",
       "    </tr>\n",
       "  </tbody>\n",
       "</table>\n",
       "<p>5 rows × 52 columns</p>\n",
       "</div>"
      ],
      "text/plain": [
       "   ID     obs_1    obs_2    obs_3    obs_4    obs_5    obs_6     obs_7  \\\n",
       "0   1  11.72460  6.84370 -6.16546  7.32371  8.12540  8.51484 -10.67250   \n",
       "1   2  -1.24318 -3.12578  7.37683  4.43522 -2.30168 -5.34081   2.84995   \n",
       "2   3  -1.23470 -3.01683  7.22351  4.40578 -2.43740 -5.25240   2.76146   \n",
       "3   4  -1.22580 -2.64015  7.06893  4.52620 -2.46531 -5.18322   2.45454   \n",
       "4   5  -1.25419 -2.39536  6.88117  4.49926 -2.45386 -5.12561   2.22625   \n",
       "\n",
       "      obs_8     obs_9  ...    obs_42    obs_43   obs_44   obs_45    obs_46  \\\n",
       "0  11.45160 -2.871550  ...  3.843580  11.60930 -9.01797 -9.51101  0.628847   \n",
       "1  -6.50697 -1.308750  ... -0.219740   1.58602  5.61341  7.88271  2.597970   \n",
       "2  -6.38127 -1.238430  ... -0.210998   1.52489  5.50085  7.64518  2.569910   \n",
       "3  -5.74103 -0.810456  ...  0.064941   1.34598  5.38240  7.10200  2.615980   \n",
       "4  -5.35451 -0.604970  ...  0.181912   1.25476  5.21952  6.71270  2.595310   \n",
       "\n",
       "    obs_47    obs_48   obs_49     obs_50  status  \n",
       "0 -1.27003 -8.647210  8.23113  10.896800       0  \n",
       "1  4.02012 -0.465965  7.17608  -0.748389       0  \n",
       "2  3.96685 -0.376675  7.01248  -0.860346       0  \n",
       "3  3.65062 -0.058385  6.73682  -1.184970       0  \n",
       "4  3.44541  0.086474  6.47247  -1.338340       0  \n",
       "\n",
       "[5 rows x 52 columns]"
      ]
     },
     "execution_count": 39,
     "metadata": {},
     "output_type": "execute_result"
    }
   ],
   "source": [
    "preprocessed.head()"
   ]
  },
  {
   "cell_type": "code",
   "execution_count": 40,
   "metadata": {},
   "outputs": [],
   "source": [
    "preprocessed.to_csv(\"./data_train_preprocessed.csv\", sep=\",\", index=False)"
   ]
  },
  {
   "cell_type": "code",
   "execution_count": null,
   "metadata": {},
   "outputs": [],
   "source": []
  }
 ],
 "metadata": {
  "kernelspec": {
   "display_name": "masterarbeit",
   "language": "python",
   "name": "masterarbeit"
  },
  "language_info": {
   "codemirror_mode": {
    "name": "ipython",
    "version": 3
   },
   "file_extension": ".py",
   "mimetype": "text/x-python",
   "name": "python",
   "nbconvert_exporter": "python",
   "pygments_lexer": "ipython3",
   "version": "3.6.8"
  }
 },
 "nbformat": 4,
 "nbformat_minor": 2
}
