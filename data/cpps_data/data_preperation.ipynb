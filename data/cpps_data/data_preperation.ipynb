{
 "cells": [
  {
   "cell_type": "code",
   "execution_count": 5,
   "metadata": {},
   "outputs": [],
   "source": [
    "import numpy as np\n",
    "import matplotlib.pyplot as plt\n",
    "import seaborn as sns\n",
    "import pandas as pd"
   ]
  },
  {
   "cell_type": "code",
   "execution_count": 6,
   "metadata": {},
   "outputs": [],
   "source": [
    "path_original = \"./samples_obs_space_sinusoid_20190829071225.csv\"\n",
    "df_original_1 = pd.read_csv(path_original, sep=\";\")"
   ]
  },
  {
   "cell_type": "code",
   "execution_count": 7,
   "metadata": {},
   "outputs": [],
   "source": [
    "path_original = \"./samples_obs_space_small_error_sinusoid_20190829071225.csv\"\n",
    "df_original_2 = pd.read_csv(path_original, sep=\";\")"
   ]
  },
  {
   "cell_type": "code",
   "execution_count": 8,
   "metadata": {},
   "outputs": [],
   "source": [
    "path_original = \"./samples_obs_space_large_error_sinusoid_20190829071225.csv\"\n",
    "df_original_3 = pd.read_csv(path_original, sep=\";\")"
   ]
  },
  {
   "cell_type": "code",
   "execution_count": 9,
   "metadata": {},
   "outputs": [],
   "source": [
    "total = pd.concat([df_original_1, df_original_2, df_original_3], axis = 0, ignore_index=True)"
   ]
  },
  {
   "cell_type": "markdown",
   "metadata": {},
   "source": [
    "## Add ID to dataset"
   ]
  },
  {
   "cell_type": "code",
   "execution_count": 11,
   "metadata": {},
   "outputs": [],
   "source": [
    "start=0\n",
    "id_= []\n",
    "for i in range(total.shape[0]):\n",
    "    id_.append(start+1)\n",
    "    start +=1"
   ]
  },
  {
   "cell_type": "code",
   "execution_count": 12,
   "metadata": {},
   "outputs": [],
   "source": [
    "total[\"ID\"]=id_"
   ]
  },
  {
   "cell_type": "code",
   "execution_count": 13,
   "metadata": {},
   "outputs": [
    {
     "data": {
      "text/plain": [
       "Index(['signal_1', 'signal_2', 'signal_3', 'signal_4', 'signal_5', 'signal_6',\n",
       "       'signal_7', 'signal_8', 'signal_9', 'signal_10', 'ID'],\n",
       "      dtype='object')"
      ]
     },
     "execution_count": 13,
     "metadata": {},
     "output_type": "execute_result"
    }
   ],
   "source": [
    "total.columns"
   ]
  },
  {
   "cell_type": "code",
   "execution_count": 14,
   "metadata": {},
   "outputs": [],
   "source": [
    "names= ['ID','signal_1', 'signal_2', 'signal_3', 'signal_4', 'signal_5', 'signal_6',\n",
    "       'signal_7', 'signal_8', 'signal_9', 'signal_10']\n",
    "total = total.reindex(columns=names)"
   ]
  },
  {
   "cell_type": "code",
   "execution_count": 15,
   "metadata": {},
   "outputs": [],
   "source": [
    "total.to_csv(\"./cpps_data_predictive_maintenance.csv\", index=False, sep=\",\")"
   ]
  },
  {
   "cell_type": "markdown",
   "metadata": {},
   "source": [
    "### Create small dataset for training"
   ]
  },
  {
   "cell_type": "code",
   "execution_count": 16,
   "metadata": {},
   "outputs": [
    {
     "data": {
      "text/html": [
       "<div>\n",
       "<style scoped>\n",
       "    .dataframe tbody tr th:only-of-type {\n",
       "        vertical-align: middle;\n",
       "    }\n",
       "\n",
       "    .dataframe tbody tr th {\n",
       "        vertical-align: top;\n",
       "    }\n",
       "\n",
       "    .dataframe thead th {\n",
       "        text-align: right;\n",
       "    }\n",
       "</style>\n",
       "<table border=\"1\" class=\"dataframe\">\n",
       "  <thead>\n",
       "    <tr style=\"text-align: right;\">\n",
       "      <th></th>\n",
       "      <th>ID</th>\n",
       "      <th>signal_1</th>\n",
       "      <th>signal_2</th>\n",
       "      <th>signal_3</th>\n",
       "      <th>signal_4</th>\n",
       "      <th>signal_5</th>\n",
       "      <th>signal_6</th>\n",
       "      <th>signal_7</th>\n",
       "      <th>signal_8</th>\n",
       "      <th>signal_9</th>\n",
       "      <th>signal_10</th>\n",
       "    </tr>\n",
       "  </thead>\n",
       "  <tbody>\n",
       "    <tr>\n",
       "      <th>0</th>\n",
       "      <td>1</td>\n",
       "      <td>-0.133537</td>\n",
       "      <td>-0.348652</td>\n",
       "      <td>-0.131775</td>\n",
       "      <td>-0.140008</td>\n",
       "      <td>-0.377212</td>\n",
       "      <td>-0.262275</td>\n",
       "      <td>0.038038</td>\n",
       "      <td>0.053400</td>\n",
       "      <td>-0.064616</td>\n",
       "      <td>-0.407199</td>\n",
       "    </tr>\n",
       "    <tr>\n",
       "      <th>1</th>\n",
       "      <td>2</td>\n",
       "      <td>-0.155411</td>\n",
       "      <td>-0.273711</td>\n",
       "      <td>-0.249487</td>\n",
       "      <td>-0.086255</td>\n",
       "      <td>-0.532110</td>\n",
       "      <td>-0.240545</td>\n",
       "      <td>-0.083370</td>\n",
       "      <td>-0.014786</td>\n",
       "      <td>-0.142512</td>\n",
       "      <td>-0.496644</td>\n",
       "    </tr>\n",
       "    <tr>\n",
       "      <th>2</th>\n",
       "      <td>3</td>\n",
       "      <td>-0.164128</td>\n",
       "      <td>-0.245190</td>\n",
       "      <td>-0.311053</td>\n",
       "      <td>-0.051599</td>\n",
       "      <td>-0.599518</td>\n",
       "      <td>-0.244503</td>\n",
       "      <td>-0.131433</td>\n",
       "      <td>-0.043521</td>\n",
       "      <td>-0.167690</td>\n",
       "      <td>-0.529729</td>\n",
       "    </tr>\n",
       "    <tr>\n",
       "      <th>3</th>\n",
       "      <td>4</td>\n",
       "      <td>-0.155856</td>\n",
       "      <td>-0.276078</td>\n",
       "      <td>-0.302743</td>\n",
       "      <td>-0.039183</td>\n",
       "      <td>-0.556007</td>\n",
       "      <td>-0.282804</td>\n",
       "      <td>-0.085378</td>\n",
       "      <td>-0.021630</td>\n",
       "      <td>-0.124478</td>\n",
       "      <td>-0.490359</td>\n",
       "    </tr>\n",
       "    <tr>\n",
       "      <th>4</th>\n",
       "      <td>5</td>\n",
       "      <td>-0.133593</td>\n",
       "      <td>-0.356358</td>\n",
       "      <td>-0.234585</td>\n",
       "      <td>-0.047221</td>\n",
       "      <td>-0.419392</td>\n",
       "      <td>-0.348340</td>\n",
       "      <td>0.038684</td>\n",
       "      <td>0.042230</td>\n",
       "      <td>-0.025258</td>\n",
       "      <td>-0.391078</td>\n",
       "    </tr>\n",
       "  </tbody>\n",
       "</table>\n",
       "</div>"
      ],
      "text/plain": [
       "   ID  signal_1  signal_2  signal_3  signal_4  signal_5  signal_6  signal_7  \\\n",
       "0   1 -0.133537 -0.348652 -0.131775 -0.140008 -0.377212 -0.262275  0.038038   \n",
       "1   2 -0.155411 -0.273711 -0.249487 -0.086255 -0.532110 -0.240545 -0.083370   \n",
       "2   3 -0.164128 -0.245190 -0.311053 -0.051599 -0.599518 -0.244503 -0.131433   \n",
       "3   4 -0.155856 -0.276078 -0.302743 -0.039183 -0.556007 -0.282804 -0.085378   \n",
       "4   5 -0.133593 -0.356358 -0.234585 -0.047221 -0.419392 -0.348340  0.038684   \n",
       "\n",
       "   signal_8  signal_9  signal_10  \n",
       "0  0.053400 -0.064616  -0.407199  \n",
       "1 -0.014786 -0.142512  -0.496644  \n",
       "2 -0.043521 -0.167690  -0.529729  \n",
       "3 -0.021630 -0.124478  -0.490359  \n",
       "4  0.042230 -0.025258  -0.391078  "
      ]
     },
     "execution_count": 16,
     "metadata": {},
     "output_type": "execute_result"
    }
   ],
   "source": [
    "training = total.iloc[:50000,:]\n",
    "training.head()"
   ]
  },
  {
   "cell_type": "code",
   "execution_count": 17,
   "metadata": {},
   "outputs": [],
   "source": [
    "training.to_csv(\"./cpps_data_predictive_maintenance_training.csv\", index=False, sep=\",\")"
   ]
  },
  {
   "cell_type": "markdown",
   "metadata": {},
   "source": [
    "### Add label of status"
   ]
  },
  {
   "cell_type": "code",
   "execution_count": 19,
   "metadata": {},
   "outputs": [
    {
     "data": {
      "text/html": [
       "<div>\n",
       "<style scoped>\n",
       "    .dataframe tbody tr th:only-of-type {\n",
       "        vertical-align: middle;\n",
       "    }\n",
       "\n",
       "    .dataframe tbody tr th {\n",
       "        vertical-align: top;\n",
       "    }\n",
       "\n",
       "    .dataframe thead th {\n",
       "        text-align: right;\n",
       "    }\n",
       "</style>\n",
       "<table border=\"1\" class=\"dataframe\">\n",
       "  <thead>\n",
       "    <tr style=\"text-align: right;\">\n",
       "      <th></th>\n",
       "      <th>ID</th>\n",
       "      <th>signal_1</th>\n",
       "      <th>signal_2</th>\n",
       "      <th>signal_3</th>\n",
       "      <th>signal_4</th>\n",
       "      <th>signal_5</th>\n",
       "      <th>signal_6</th>\n",
       "      <th>signal_7</th>\n",
       "      <th>signal_8</th>\n",
       "      <th>signal_9</th>\n",
       "      <th>signal_10</th>\n",
       "      <th>status</th>\n",
       "    </tr>\n",
       "  </thead>\n",
       "  <tbody>\n",
       "    <tr>\n",
       "      <th>0</th>\n",
       "      <td>1</td>\n",
       "      <td>-0.133537</td>\n",
       "      <td>-0.348652</td>\n",
       "      <td>-0.131775</td>\n",
       "      <td>-0.140008</td>\n",
       "      <td>-0.377212</td>\n",
       "      <td>-0.262275</td>\n",
       "      <td>0.038038</td>\n",
       "      <td>0.053400</td>\n",
       "      <td>-0.064616</td>\n",
       "      <td>-0.407199</td>\n",
       "      <td>0</td>\n",
       "    </tr>\n",
       "    <tr>\n",
       "      <th>1</th>\n",
       "      <td>2</td>\n",
       "      <td>-0.155411</td>\n",
       "      <td>-0.273711</td>\n",
       "      <td>-0.249487</td>\n",
       "      <td>-0.086255</td>\n",
       "      <td>-0.532110</td>\n",
       "      <td>-0.240545</td>\n",
       "      <td>-0.083370</td>\n",
       "      <td>-0.014786</td>\n",
       "      <td>-0.142512</td>\n",
       "      <td>-0.496644</td>\n",
       "      <td>0</td>\n",
       "    </tr>\n",
       "    <tr>\n",
       "      <th>2</th>\n",
       "      <td>3</td>\n",
       "      <td>-0.164128</td>\n",
       "      <td>-0.245190</td>\n",
       "      <td>-0.311053</td>\n",
       "      <td>-0.051599</td>\n",
       "      <td>-0.599518</td>\n",
       "      <td>-0.244503</td>\n",
       "      <td>-0.131433</td>\n",
       "      <td>-0.043521</td>\n",
       "      <td>-0.167690</td>\n",
       "      <td>-0.529729</td>\n",
       "      <td>0</td>\n",
       "    </tr>\n",
       "    <tr>\n",
       "      <th>3</th>\n",
       "      <td>4</td>\n",
       "      <td>-0.155856</td>\n",
       "      <td>-0.276078</td>\n",
       "      <td>-0.302743</td>\n",
       "      <td>-0.039183</td>\n",
       "      <td>-0.556007</td>\n",
       "      <td>-0.282804</td>\n",
       "      <td>-0.085378</td>\n",
       "      <td>-0.021630</td>\n",
       "      <td>-0.124478</td>\n",
       "      <td>-0.490359</td>\n",
       "      <td>0</td>\n",
       "    </tr>\n",
       "    <tr>\n",
       "      <th>4</th>\n",
       "      <td>5</td>\n",
       "      <td>-0.133593</td>\n",
       "      <td>-0.356358</td>\n",
       "      <td>-0.234585</td>\n",
       "      <td>-0.047221</td>\n",
       "      <td>-0.419392</td>\n",
       "      <td>-0.348340</td>\n",
       "      <td>0.038684</td>\n",
       "      <td>0.042230</td>\n",
       "      <td>-0.025258</td>\n",
       "      <td>-0.391078</td>\n",
       "      <td>0</td>\n",
       "    </tr>\n",
       "  </tbody>\n",
       "</table>\n",
       "</div>"
      ],
      "text/plain": [
       "   ID  signal_1  signal_2  signal_3  signal_4  signal_5  signal_6  signal_7  \\\n",
       "0   1 -0.133537 -0.348652 -0.131775 -0.140008 -0.377212 -0.262275  0.038038   \n",
       "1   2 -0.155411 -0.273711 -0.249487 -0.086255 -0.532110 -0.240545 -0.083370   \n",
       "2   3 -0.164128 -0.245190 -0.311053 -0.051599 -0.599518 -0.244503 -0.131433   \n",
       "3   4 -0.155856 -0.276078 -0.302743 -0.039183 -0.556007 -0.282804 -0.085378   \n",
       "4   5 -0.133593 -0.356358 -0.234585 -0.047221 -0.419392 -0.348340  0.038684   \n",
       "\n",
       "   signal_8  signal_9  signal_10  status  \n",
       "0  0.053400 -0.064616  -0.407199       0  \n",
       "1 -0.014786 -0.142512  -0.496644       0  \n",
       "2 -0.043521 -0.167690  -0.529729       0  \n",
       "3 -0.021630 -0.124478  -0.490359       0  \n",
       "4  0.042230 -0.025258  -0.391078       0  "
      ]
     },
     "execution_count": 19,
     "metadata": {},
     "output_type": "execute_result"
    }
   ],
   "source": [
    "phase1= [0]*50000\n",
    "phase2 = [1]*50000\n",
    "phase3 = [2]*50000\n",
    "phases = phase1+phase2+phase3\n",
    "total[\"status\"]= phases\n",
    "total.head()"
   ]
  },
  {
   "cell_type": "code",
   "execution_count": 20,
   "metadata": {},
   "outputs": [],
   "source": [
    "total.to_csv(\"./cpps_data_predictive_maintenance.csv\", index=False, sep=\",\")"
   ]
  },
  {
   "cell_type": "code",
   "execution_count": null,
   "metadata": {},
   "outputs": [],
   "source": []
  }
 ],
 "metadata": {
  "kernelspec": {
   "display_name": "masterarbeit",
   "language": "python",
   "name": "masterarbeit"
  },
  "language_info": {
   "codemirror_mode": {
    "name": "ipython",
    "version": 3
   },
   "file_extension": ".py",
   "mimetype": "text/x-python",
   "name": "python",
   "nbconvert_exporter": "python",
   "pygments_lexer": "ipython3",
   "version": "3.6.8"
  }
 },
 "nbformat": 4,
 "nbformat_minor": 2
}
