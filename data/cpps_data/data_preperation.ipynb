{
 "cells": [
  {
   "cell_type": "code",
   "execution_count": 4,
   "metadata": {},
   "outputs": [],
   "source": [
    "import numpy as np\n",
    "import matplotlib.pyplot as plt\n",
    "import seaborn as sns\n",
    "import pandas as pd"
   ]
  },
  {
   "cell_type": "code",
   "execution_count": 5,
   "metadata": {},
   "outputs": [
    {
     "data": {
      "text/html": [
       "<div>\n",
       "<style scoped>\n",
       "    .dataframe tbody tr th:only-of-type {\n",
       "        vertical-align: middle;\n",
       "    }\n",
       "\n",
       "    .dataframe tbody tr th {\n",
       "        vertical-align: top;\n",
       "    }\n",
       "\n",
       "    .dataframe thead th {\n",
       "        text-align: right;\n",
       "    }\n",
       "</style>\n",
       "<table border=\"1\" class=\"dataframe\">\n",
       "  <thead>\n",
       "    <tr style=\"text-align: right;\">\n",
       "      <th></th>\n",
       "      <th>feature_1</th>\n",
       "      <th>feature_2</th>\n",
       "      <th>feature_3</th>\n",
       "      <th>feature_4</th>\n",
       "      <th>feature_5</th>\n",
       "      <th>feature_6</th>\n",
       "      <th>feature_7</th>\n",
       "      <th>feature_8</th>\n",
       "      <th>feature_9</th>\n",
       "      <th>feature_10</th>\n",
       "    </tr>\n",
       "  </thead>\n",
       "  <tbody>\n",
       "    <tr>\n",
       "      <th>0</th>\n",
       "      <td>0.494576</td>\n",
       "      <td>0.347100</td>\n",
       "      <td>0.473339</td>\n",
       "      <td>0.324278</td>\n",
       "      <td>0.418120</td>\n",
       "      <td>0.492362</td>\n",
       "      <td>0.362985</td>\n",
       "      <td>0.378010</td>\n",
       "      <td>0.420207</td>\n",
       "      <td>0.584482</td>\n",
       "    </tr>\n",
       "    <tr>\n",
       "      <th>1</th>\n",
       "      <td>0.456478</td>\n",
       "      <td>0.326583</td>\n",
       "      <td>0.457429</td>\n",
       "      <td>0.412444</td>\n",
       "      <td>0.458723</td>\n",
       "      <td>0.503751</td>\n",
       "      <td>0.286235</td>\n",
       "      <td>0.353630</td>\n",
       "      <td>0.427131</td>\n",
       "      <td>0.524308</td>\n",
       "    </tr>\n",
       "    <tr>\n",
       "      <th>2</th>\n",
       "      <td>0.470024</td>\n",
       "      <td>0.318676</td>\n",
       "      <td>0.460808</td>\n",
       "      <td>0.369919</td>\n",
       "      <td>0.443505</td>\n",
       "      <td>0.500449</td>\n",
       "      <td>0.296267</td>\n",
       "      <td>0.347587</td>\n",
       "      <td>0.416764</td>\n",
       "      <td>0.553657</td>\n",
       "    </tr>\n",
       "    <tr>\n",
       "      <th>3</th>\n",
       "      <td>0.483171</td>\n",
       "      <td>0.377457</td>\n",
       "      <td>0.494283</td>\n",
       "      <td>0.488931</td>\n",
       "      <td>0.506345</td>\n",
       "      <td>0.545058</td>\n",
       "      <td>0.324104</td>\n",
       "      <td>0.404843</td>\n",
       "      <td>0.478427</td>\n",
       "      <td>0.535272</td>\n",
       "    </tr>\n",
       "    <tr>\n",
       "      <th>4</th>\n",
       "      <td>0.462173</td>\n",
       "      <td>0.372855</td>\n",
       "      <td>0.466094</td>\n",
       "      <td>0.420378</td>\n",
       "      <td>0.443782</td>\n",
       "      <td>0.497745</td>\n",
       "      <td>0.352782</td>\n",
       "      <td>0.402831</td>\n",
       "      <td>0.448269</td>\n",
       "      <td>0.512720</td>\n",
       "    </tr>\n",
       "  </tbody>\n",
       "</table>\n",
       "</div>"
      ],
      "text/plain": [
       "   feature_1  feature_2  feature_3  feature_4  feature_5  feature_6  \\\n",
       "0   0.494576   0.347100   0.473339   0.324278   0.418120   0.492362   \n",
       "1   0.456478   0.326583   0.457429   0.412444   0.458723   0.503751   \n",
       "2   0.470024   0.318676   0.460808   0.369919   0.443505   0.500449   \n",
       "3   0.483171   0.377457   0.494283   0.488931   0.506345   0.545058   \n",
       "4   0.462173   0.372855   0.466094   0.420378   0.443782   0.497745   \n",
       "\n",
       "   feature_7  feature_8  feature_9  feature_10  \n",
       "0   0.362985   0.378010   0.420207    0.584482  \n",
       "1   0.286235   0.353630   0.427131    0.524308  \n",
       "2   0.296267   0.347587   0.416764    0.553657  \n",
       "3   0.324104   0.404843   0.478427    0.535272  \n",
       "4   0.352782   0.402831   0.448269    0.512720  "
      ]
     },
     "execution_count": 5,
     "metadata": {},
     "output_type": "execute_result"
    }
   ],
   "source": [
    "df_original = pd.read_csv(\"./samples_obs_space_sinusoid_20190624091401.csv\", header=0, sep=\";\")\n",
    "df_original.head()"
   ]
  },
  {
   "cell_type": "markdown",
   "metadata": {},
   "source": [
    "## Add ID to dataset"
   ]
  },
  {
   "cell_type": "code",
   "execution_count": 2,
   "metadata": {},
   "outputs": [],
   "source": [
    "df_original = pd.read_csv(\"./01_M01_DC_preprocessed_training.csv\", header=0)"
   ]
  },
  {
   "cell_type": "code",
   "execution_count": 3,
   "metadata": {},
   "outputs": [],
   "source": [
    "start=0\n",
    "id_= []\n",
    "for i in range(df_original.shape[0]):\n",
    "    id_.append(start+1)\n",
    "    start +=1"
   ]
  },
  {
   "cell_type": "code",
   "execution_count": 4,
   "metadata": {},
   "outputs": [],
   "source": [
    "df_original[\"ID\"]=id_"
   ]
  },
  {
   "cell_type": "code",
   "execution_count": 5,
   "metadata": {},
   "outputs": [
    {
     "data": {
      "text/plain": [
       "Index(['ongoing time', 'up time', 'RLU', 'runnum', 'IONGAUGEPRESSURE',\n",
       "       'ETCHBEAMVOLTAGE', 'ETCHBEAMCURRENT', 'ETCHSUPPRESSORVOLTAGE',\n",
       "       'ETCHSUPPRESSORCURRENT', 'FLOWCOOLFLOWRATE', 'FLOWCOOLPRESSURE',\n",
       "       'ETCHGASCHANNEL1READBACK', 'ETCHPBNGASREADBACK', 'FIXTURETILTANGLE',\n",
       "       'ROTATIONSPEED', 'ACTUALROTATIONANGLE', 'ETCHSOURCEUSAGE',\n",
       "       'ETCHAUXSOURCETIMER', 'ETCHAUX2SOURCETIMER', 'ACTUALSTEPDURATION',\n",
       "       'FIXTURESHUTTERPOSITION_0.0', 'FIXTURESHUTTERPOSITION_1.0',\n",
       "       'FIXTURESHUTTERPOSITION_2.0', 'FIXTURESHUTTERPOSITION_3.0',\n",
       "       'FIXTURESHUTTERPOSITION_255.0', 'ID'],\n",
       "      dtype='object')"
      ]
     },
     "execution_count": 5,
     "metadata": {},
     "output_type": "execute_result"
    }
   ],
   "source": [
    "df_original.columns"
   ]
  },
  {
   "cell_type": "code",
   "execution_count": 6,
   "metadata": {},
   "outputs": [],
   "source": [
    "names= ['ID', 'ongoing time', 'up time', 'RLU', 'runnum', 'IONGAUGEPRESSURE',\n",
    "       'ETCHBEAMVOLTAGE', 'ETCHBEAMCURRENT', 'ETCHSUPPRESSORVOLTAGE',\n",
    "       'ETCHSUPPRESSORCURRENT', 'FLOWCOOLFLOWRATE', 'FLOWCOOLPRESSURE',\n",
    "       'ETCHGASCHANNEL1READBACK', 'ETCHPBNGASREADBACK', 'FIXTURETILTANGLE',\n",
    "       'ROTATIONSPEED', 'ACTUALROTATIONANGLE', 'ETCHSOURCEUSAGE',\n",
    "       'ETCHAUXSOURCETIMER', 'ETCHAUX2SOURCETIMER', 'ACTUALSTEPDURATION',\n",
    "       'FIXTURESHUTTERPOSITION_0.0', 'FIXTURESHUTTERPOSITION_1.0',\n",
    "       'FIXTURESHUTTERPOSITION_2.0', 'FIXTURESHUTTERPOSITION_3.0',\n",
    "       'FIXTURESHUTTERPOSITION_255.0']\n",
    "df_original = df_original.reindex(columns=names)"
   ]
  },
  {
   "cell_type": "code",
   "execution_count": 7,
   "metadata": {},
   "outputs": [],
   "source": [
    "df_original.to_csv(\"./01_M01_DC_preprocessed_training.csv\", index=False, sep=\",\")"
   ]
  },
  {
   "cell_type": "markdown",
   "metadata": {},
   "source": [
    "### Create small dataset for grid search"
   ]
  },
  {
   "cell_type": "code",
   "execution_count": 1,
   "metadata": {},
   "outputs": [],
   "source": [
    "df_original = pd.read_csv(\"./01_M01_DC_preprocessed.csv\", header=0)"
   ]
  },
  {
   "cell_type": "code",
   "execution_count": 2,
   "metadata": {},
   "outputs": [
    {
     "ename": "NameError",
     "evalue": "name 'df_original' is not defined",
     "output_type": "error",
     "traceback": [
      "\u001b[0;31m---------------------------------------------------------------------------\u001b[0m",
      "\u001b[0;31mNameError\u001b[0m                                 Traceback (most recent call last)",
      "\u001b[0;32m<ipython-input-2-a136567f8f8d>\u001b[0m in \u001b[0;36m<module>\u001b[0;34m\u001b[0m\n\u001b[0;32m----> 1\u001b[0;31m \u001b[0mdf_original\u001b[0m\u001b[0;34m.\u001b[0m\u001b[0mloc\u001b[0m\u001b[0;34m[\u001b[0m\u001b[0mdf_original\u001b[0m\u001b[0;34m.\u001b[0m\u001b[0mRLU\u001b[0m\u001b[0;34m>\u001b[0m\u001b[0;36m172800\u001b[0m\u001b[0;34m,\u001b[0m \u001b[0;34m'status'\u001b[0m\u001b[0;34m]\u001b[0m \u001b[0;34m=\u001b[0m \u001b[0;36m0\u001b[0m\u001b[0;34m\u001b[0m\u001b[0;34m\u001b[0m\u001b[0m\n\u001b[0m\u001b[1;32m      2\u001b[0m \u001b[0mdf_original\u001b[0m\u001b[0;34m.\u001b[0m\u001b[0mloc\u001b[0m\u001b[0;34m[\u001b[0m\u001b[0;36m172800\u001b[0m\u001b[0;34m<=\u001b[0m\u001b[0mdf_original\u001b[0m\u001b[0;34m.\u001b[0m\u001b[0mRLU\u001b[0m\u001b[0;34m>=\u001b[0m\u001b[0;36m7200\u001b[0m\u001b[0;34m,\u001b[0m \u001b[0;34m'status'\u001b[0m\u001b[0;34m]\u001b[0m \u001b[0;34m=\u001b[0m \u001b[0;36m1\u001b[0m\u001b[0;34m\u001b[0m\u001b[0;34m\u001b[0m\u001b[0m\n\u001b[1;32m      3\u001b[0m \u001b[0mdf_original\u001b[0m\u001b[0;34m.\u001b[0m\u001b[0mloc\u001b[0m\u001b[0;34m[\u001b[0m\u001b[0mdf_original\u001b[0m\u001b[0;34m.\u001b[0m\u001b[0mRLU\u001b[0m\u001b[0;34m<\u001b[0m\u001b[0;36m7200\u001b[0m\u001b[0;34m,\u001b[0m \u001b[0;34m'status'\u001b[0m\u001b[0;34m]\u001b[0m \u001b[0;34m=\u001b[0m \u001b[0;36m2\u001b[0m\u001b[0;34m\u001b[0m\u001b[0;34m\u001b[0m\u001b[0m\n\u001b[1;32m      4\u001b[0m \u001b[0mdf_original\u001b[0m\u001b[0;34m.\u001b[0m\u001b[0mhead\u001b[0m\u001b[0;34m(\u001b[0m\u001b[0;34m)\u001b[0m\u001b[0;34m\u001b[0m\u001b[0;34m\u001b[0m\u001b[0m\n",
      "\u001b[0;31mNameError\u001b[0m: name 'df_original' is not defined"
     ]
    }
   ],
   "source": [
    "df_original = df_original.loc[df_original['up time']<=25000]\n",
    "df_original.head()"
   ]
  },
  {
   "cell_type": "code",
   "execution_count": 3,
   "metadata": {},
   "outputs": [],
   "source": [
    "df_original.to_csv(\"./01_M01_DC_preprocessed_grid_search.csv\", index=False, sep=\",\")"
   ]
  },
  {
   "cell_type": "markdown",
   "metadata": {},
   "source": [
    "### Add label of status"
   ]
  },
  {
   "cell_type": "code",
   "execution_count": 3,
   "metadata": {},
   "outputs": [],
   "source": [
    "df_original = pd.read_csv(\"./01_M01_DC_preprocessed_multi_task_learning.csv\", header=0)"
   ]
  },
  {
   "cell_type": "code",
   "execution_count": 6,
   "metadata": {},
   "outputs": [
    {
     "data": {
      "text/html": [
       "<div>\n",
       "<style scoped>\n",
       "    .dataframe tbody tr th:only-of-type {\n",
       "        vertical-align: middle;\n",
       "    }\n",
       "\n",
       "    .dataframe tbody tr th {\n",
       "        vertical-align: top;\n",
       "    }\n",
       "\n",
       "    .dataframe thead th {\n",
       "        text-align: right;\n",
       "    }\n",
       "</style>\n",
       "<table border=\"1\" class=\"dataframe\">\n",
       "  <thead>\n",
       "    <tr style=\"text-align: right;\">\n",
       "      <th></th>\n",
       "      <th>ID</th>\n",
       "      <th>ongoing time</th>\n",
       "      <th>up time</th>\n",
       "      <th>RLU</th>\n",
       "      <th>runnum</th>\n",
       "      <th>IONGAUGEPRESSURE</th>\n",
       "      <th>ETCHBEAMVOLTAGE</th>\n",
       "      <th>ETCHBEAMCURRENT</th>\n",
       "      <th>ETCHSUPPRESSORVOLTAGE</th>\n",
       "      <th>ETCHSUPPRESSORCURRENT</th>\n",
       "      <th>...</th>\n",
       "      <th>ETCHSOURCEUSAGE</th>\n",
       "      <th>ETCHAUXSOURCETIMER</th>\n",
       "      <th>ETCHAUX2SOURCETIMER</th>\n",
       "      <th>ACTUALSTEPDURATION</th>\n",
       "      <th>FIXTURESHUTTERPOSITION_0.0</th>\n",
       "      <th>FIXTURESHUTTERPOSITION_1.0</th>\n",
       "      <th>FIXTURESHUTTERPOSITION_2.0</th>\n",
       "      <th>FIXTURESHUTTERPOSITION_3.0</th>\n",
       "      <th>FIXTURESHUTTERPOSITION_255.0</th>\n",
       "      <th>status</th>\n",
       "    </tr>\n",
       "  </thead>\n",
       "  <tbody>\n",
       "    <tr>\n",
       "      <th>0</th>\n",
       "      <td>1</td>\n",
       "      <td>0</td>\n",
       "      <td>0</td>\n",
       "      <td>692696</td>\n",
       "      <td>0</td>\n",
       "      <td>0.745235</td>\n",
       "      <td>1.085043</td>\n",
       "      <td>-1.151842</td>\n",
       "      <td>0.496681</td>\n",
       "      <td>-1.086037</td>\n",
       "      <td>...</td>\n",
       "      <td>-0.071733</td>\n",
       "      <td>-0.257798</td>\n",
       "      <td>0.862781</td>\n",
       "      <td>-0.200587</td>\n",
       "      <td>1</td>\n",
       "      <td>0</td>\n",
       "      <td>0</td>\n",
       "      <td>0</td>\n",
       "      <td>0</td>\n",
       "      <td>0.0</td>\n",
       "    </tr>\n",
       "    <tr>\n",
       "      <th>1</th>\n",
       "      <td>2</td>\n",
       "      <td>4</td>\n",
       "      <td>4</td>\n",
       "      <td>692692</td>\n",
       "      <td>0</td>\n",
       "      <td>-0.037024</td>\n",
       "      <td>-0.932286</td>\n",
       "      <td>-1.152112</td>\n",
       "      <td>-0.928112</td>\n",
       "      <td>-1.145790</td>\n",
       "      <td>...</td>\n",
       "      <td>-0.071733</td>\n",
       "      <td>-0.257798</td>\n",
       "      <td>0.862781</td>\n",
       "      <td>-0.200587</td>\n",
       "      <td>1</td>\n",
       "      <td>0</td>\n",
       "      <td>0</td>\n",
       "      <td>0</td>\n",
       "      <td>0</td>\n",
       "      <td>0.0</td>\n",
       "    </tr>\n",
       "    <tr>\n",
       "      <th>2</th>\n",
       "      <td>3</td>\n",
       "      <td>8</td>\n",
       "      <td>8</td>\n",
       "      <td>692688</td>\n",
       "      <td>0</td>\n",
       "      <td>-0.507875</td>\n",
       "      <td>-1.106610</td>\n",
       "      <td>-1.151909</td>\n",
       "      <td>-1.124562</td>\n",
       "      <td>-1.145790</td>\n",
       "      <td>...</td>\n",
       "      <td>-0.071733</td>\n",
       "      <td>-0.257798</td>\n",
       "      <td>0.862781</td>\n",
       "      <td>-0.200587</td>\n",
       "      <td>1</td>\n",
       "      <td>0</td>\n",
       "      <td>0</td>\n",
       "      <td>0</td>\n",
       "      <td>0</td>\n",
       "      <td>0.0</td>\n",
       "    </tr>\n",
       "    <tr>\n",
       "      <th>3</th>\n",
       "      <td>4</td>\n",
       "      <td>12</td>\n",
       "      <td>12</td>\n",
       "      <td>692684</td>\n",
       "      <td>0</td>\n",
       "      <td>-0.793893</td>\n",
       "      <td>-1.128402</td>\n",
       "      <td>-1.151977</td>\n",
       "      <td>-1.174503</td>\n",
       "      <td>-1.145790</td>\n",
       "      <td>...</td>\n",
       "      <td>-0.071733</td>\n",
       "      <td>-0.257798</td>\n",
       "      <td>0.862781</td>\n",
       "      <td>-0.200587</td>\n",
       "      <td>1</td>\n",
       "      <td>0</td>\n",
       "      <td>0</td>\n",
       "      <td>0</td>\n",
       "      <td>0</td>\n",
       "      <td>0.0</td>\n",
       "    </tr>\n",
       "    <tr>\n",
       "      <th>4</th>\n",
       "      <td>5</td>\n",
       "      <td>16</td>\n",
       "      <td>16</td>\n",
       "      <td>692680</td>\n",
       "      <td>0</td>\n",
       "      <td>-0.977717</td>\n",
       "      <td>-1.128402</td>\n",
       "      <td>-1.151706</td>\n",
       "      <td>-1.184062</td>\n",
       "      <td>-1.145790</td>\n",
       "      <td>...</td>\n",
       "      <td>-0.071733</td>\n",
       "      <td>-0.257798</td>\n",
       "      <td>0.862781</td>\n",
       "      <td>-0.200587</td>\n",
       "      <td>1</td>\n",
       "      <td>0</td>\n",
       "      <td>0</td>\n",
       "      <td>0</td>\n",
       "      <td>0</td>\n",
       "      <td>0.0</td>\n",
       "    </tr>\n",
       "  </tbody>\n",
       "</table>\n",
       "<p>5 rows × 27 columns</p>\n",
       "</div>"
      ],
      "text/plain": [
       "   ID  ongoing time  up time     RLU  runnum  IONGAUGEPRESSURE  \\\n",
       "0   1             0        0  692696       0          0.745235   \n",
       "1   2             4        4  692692       0         -0.037024   \n",
       "2   3             8        8  692688       0         -0.507875   \n",
       "3   4            12       12  692684       0         -0.793893   \n",
       "4   5            16       16  692680       0         -0.977717   \n",
       "\n",
       "   ETCHBEAMVOLTAGE  ETCHBEAMCURRENT  ETCHSUPPRESSORVOLTAGE  \\\n",
       "0         1.085043        -1.151842               0.496681   \n",
       "1        -0.932286        -1.152112              -0.928112   \n",
       "2        -1.106610        -1.151909              -1.124562   \n",
       "3        -1.128402        -1.151977              -1.174503   \n",
       "4        -1.128402        -1.151706              -1.184062   \n",
       "\n",
       "   ETCHSUPPRESSORCURRENT  ...  ETCHSOURCEUSAGE  ETCHAUXSOURCETIMER  \\\n",
       "0              -1.086037  ...        -0.071733           -0.257798   \n",
       "1              -1.145790  ...        -0.071733           -0.257798   \n",
       "2              -1.145790  ...        -0.071733           -0.257798   \n",
       "3              -1.145790  ...        -0.071733           -0.257798   \n",
       "4              -1.145790  ...        -0.071733           -0.257798   \n",
       "\n",
       "   ETCHAUX2SOURCETIMER  ACTUALSTEPDURATION  FIXTURESHUTTERPOSITION_0.0  \\\n",
       "0             0.862781           -0.200587                           1   \n",
       "1             0.862781           -0.200587                           1   \n",
       "2             0.862781           -0.200587                           1   \n",
       "3             0.862781           -0.200587                           1   \n",
       "4             0.862781           -0.200587                           1   \n",
       "\n",
       "   FIXTURESHUTTERPOSITION_1.0  FIXTURESHUTTERPOSITION_2.0  \\\n",
       "0                           0                           0   \n",
       "1                           0                           0   \n",
       "2                           0                           0   \n",
       "3                           0                           0   \n",
       "4                           0                           0   \n",
       "\n",
       "   FIXTURESHUTTERPOSITION_3.0  FIXTURESHUTTERPOSITION_255.0  status  \n",
       "0                           0                             0     0.0  \n",
       "1                           0                             0     0.0  \n",
       "2                           0                             0     0.0  \n",
       "3                           0                             0     0.0  \n",
       "4                           0                             0     0.0  \n",
       "\n",
       "[5 rows x 27 columns]"
      ]
     },
     "execution_count": 6,
     "metadata": {},
     "output_type": "execute_result"
    }
   ],
   "source": [
    "df_original.loc[df_original.RLU>172800, 'status'] = 0\n",
    "df_original.loc[(df_original.RLU>=7200) & (df_original.RLU<=172800), 'status'] = 1\n",
    "df_original.loc[df_original.RLU<7200, 'status'] = 2\n",
    "df_original.head()"
   ]
  },
  {
   "cell_type": "code",
   "execution_count": 7,
   "metadata": {},
   "outputs": [],
   "source": [
    "df_original.to_csv(\"./01_M01_DC_preprocessed_multi_task_learning.csv\", index=False, sep=\",\")"
   ]
  },
  {
   "cell_type": "markdown",
   "metadata": {},
   "source": [
    "## Create Dataset for prediction"
   ]
  },
  {
   "cell_type": "code",
   "execution_count": 2,
   "metadata": {},
   "outputs": [],
   "source": [
    "df_original = pd.read_csv(\"./original/01_M01_DC_train.csv\", header=0)"
   ]
  },
  {
   "cell_type": "code",
   "execution_count": 4,
   "metadata": {},
   "outputs": [],
   "source": [
    "df_original = df_original.loc[df_original[\"time\"]<20176000]"
   ]
  },
  {
   "cell_type": "code",
   "execution_count": 5,
   "metadata": {},
   "outputs": [],
   "source": [
    "start=-4\n",
    "up_time= []\n",
    "for i in range(df_original.shape[0]):\n",
    "    up_time.append(start+4)\n",
    "    start +=4"
   ]
  },
  {
   "cell_type": "code",
   "execution_count": 6,
   "metadata": {},
   "outputs": [],
   "source": [
    "df_original[\"up time\"]=up_time"
   ]
  },
  {
   "cell_type": "code",
   "execution_count": 7,
   "metadata": {},
   "outputs": [],
   "source": [
    "df_original[\"ongoing time\"]=df_original[\"time\"]"
   ]
  },
  {
   "cell_type": "code",
   "execution_count": 8,
   "metadata": {},
   "outputs": [],
   "source": [
    "df_original = df_original.drop(labels=[\"Tool\", \"time\"], axis=1)"
   ]
  },
  {
   "cell_type": "code",
   "execution_count": 9,
   "metadata": {},
   "outputs": [],
   "source": [
    "start=0\n",
    "id_= []\n",
    "for i in range(df_original.shape[0]):\n",
    "    id_.append(start+1)\n",
    "    start +=1"
   ]
  },
  {
   "cell_type": "code",
   "execution_count": 10,
   "metadata": {},
   "outputs": [],
   "source": [
    "df_original[\"ID\"]=id_"
   ]
  },
  {
   "cell_type": "code",
   "execution_count": 11,
   "metadata": {},
   "outputs": [
    {
     "data": {
      "text/plain": [
       "Index(['stage', 'Lot', 'runnum', 'recipe', 'recipe_step', 'IONGAUGEPRESSURE',\n",
       "       'ETCHBEAMVOLTAGE', 'ETCHBEAMCURRENT', 'ETCHSUPPRESSORVOLTAGE',\n",
       "       'ETCHSUPPRESSORCURRENT', 'FLOWCOOLFLOWRATE', 'FLOWCOOLPRESSURE',\n",
       "       'ETCHGASCHANNEL1READBACK', 'ETCHPBNGASREADBACK', 'FIXTURETILTANGLE',\n",
       "       'ROTATIONSPEED', 'ACTUALROTATIONANGLE', 'FIXTURESHUTTERPOSITION',\n",
       "       'ETCHSOURCEUSAGE', 'ETCHAUXSOURCETIMER', 'ETCHAUX2SOURCETIMER',\n",
       "       'ACTUALSTEPDURATION', 'up time', 'ongoing time', 'ID'],\n",
       "      dtype='object')"
      ]
     },
     "execution_count": 11,
     "metadata": {},
     "output_type": "execute_result"
    }
   ],
   "source": [
    "df_original.columns"
   ]
  },
  {
   "cell_type": "code",
   "execution_count": 12,
   "metadata": {},
   "outputs": [],
   "source": [
    "names= ['ID', 'stage', 'Lot', 'runnum', 'recipe', 'recipe_step', 'IONGAUGEPRESSURE',\n",
    "       'ETCHBEAMVOLTAGE', 'ETCHBEAMCURRENT', 'ETCHSUPPRESSORVOLTAGE',\n",
    "       'ETCHSUPPRESSORCURRENT', 'FLOWCOOLFLOWRATE', 'FLOWCOOLPRESSURE',\n",
    "       'ETCHGASCHANNEL1READBACK', 'ETCHPBNGASREADBACK', 'FIXTURETILTANGLE',\n",
    "       'ROTATIONSPEED', 'ACTUALROTATIONANGLE', 'FIXTURESHUTTERPOSITION',\n",
    "       'ETCHSOURCEUSAGE', 'ETCHAUXSOURCETIMER', 'ETCHAUX2SOURCETIMER',\n",
    "       'ACTUALSTEPDURATION', 'up time', 'ongoing time']\n",
    "df_original = df_original.reindex(columns=names)"
   ]
  },
  {
   "cell_type": "code",
   "execution_count": 13,
   "metadata": {},
   "outputs": [],
   "source": [
    "df_original.to_csv(\"./01_M01_DC_prediction.csv\", index=False, sep=\",\")"
   ]
  },
  {
   "cell_type": "markdown",
   "metadata": {},
   "source": [
    "## Create smaler csv files for prediction"
   ]
  },
  {
   "cell_type": "code",
   "execution_count": 2,
   "metadata": {},
   "outputs": [],
   "source": [
    "df_original = pd.read_csv(\"./01_M01_DC_prediction.csv\", header=0)"
   ]
  },
  {
   "cell_type": "code",
   "execution_count": 3,
   "metadata": {},
   "outputs": [],
   "source": [
    "grid_search = df_original.iloc[0:8000,:]"
   ]
  },
  {
   "cell_type": "code",
   "execution_count": 4,
   "metadata": {},
   "outputs": [],
   "source": [
    "grid_search.to_csv(\"./01_M01_DC_grid_search.csv\", index=False, sep=\",\")"
   ]
  },
  {
   "cell_type": "code",
   "execution_count": 3,
   "metadata": {},
   "outputs": [],
   "source": [
    "file_1 = df_original.iloc[0:100000,:]"
   ]
  },
  {
   "cell_type": "code",
   "execution_count": 4,
   "metadata": {},
   "outputs": [],
   "source": [
    "file_1.to_csv(\"./01_M01_DC_prediction_1.csv\", index=False, sep=\",\")"
   ]
  },
  {
   "cell_type": "code",
   "execution_count": 5,
   "metadata": {},
   "outputs": [],
   "source": [
    "file_2 = df_original.iloc[100000:200000,:]"
   ]
  },
  {
   "cell_type": "code",
   "execution_count": 6,
   "metadata": {},
   "outputs": [],
   "source": [
    "file_2.to_csv(\"./01_M01_DC_prediction_2.csv\", index=False, sep=\",\")"
   ]
  },
  {
   "cell_type": "code",
   "execution_count": 7,
   "metadata": {},
   "outputs": [],
   "source": [
    "file_3 = df_original.iloc[200000:300000,:]"
   ]
  },
  {
   "cell_type": "code",
   "execution_count": 8,
   "metadata": {},
   "outputs": [],
   "source": [
    "file_3.to_csv(\"./01_M01_DC_prediction_3.csv\", index=False, sep=\",\")"
   ]
  },
  {
   "cell_type": "code",
   "execution_count": 9,
   "metadata": {},
   "outputs": [],
   "source": [
    "file_4 = df_original.iloc[300000:400000,:]"
   ]
  },
  {
   "cell_type": "code",
   "execution_count": 10,
   "metadata": {},
   "outputs": [],
   "source": [
    "file_4.to_csv(\"./01_M01_DC_prediction_4.csv\", index=False, sep=\",\")"
   ]
  },
  {
   "cell_type": "code",
   "execution_count": 11,
   "metadata": {},
   "outputs": [],
   "source": [
    "file_5 = df_original.iloc[400000:500000,:]"
   ]
  },
  {
   "cell_type": "code",
   "execution_count": 12,
   "metadata": {},
   "outputs": [],
   "source": [
    "file_5.to_csv(\"./01_M01_DC_prediction_5.csv\", index=False, sep=\",\")"
   ]
  },
  {
   "cell_type": "code",
   "execution_count": 13,
   "metadata": {},
   "outputs": [],
   "source": [
    "file_6 = df_original.iloc[685000:785000,:]"
   ]
  },
  {
   "cell_type": "code",
   "execution_count": 14,
   "metadata": {},
   "outputs": [],
   "source": [
    "file_6.to_csv(\"./01_M01_DC_prediction_6.csv\", index=False, sep=\",\")"
   ]
  },
  {
   "cell_type": "code",
   "execution_count": null,
   "metadata": {},
   "outputs": [],
   "source": []
  }
 ],
 "metadata": {
  "kernelspec": {
   "display_name": "masterarbeit",
   "language": "python",
   "name": "masterarbeit"
  },
  "language_info": {
   "codemirror_mode": {
    "name": "ipython",
    "version": 3
   },
   "file_extension": ".py",
   "mimetype": "text/x-python",
   "name": "python",
   "nbconvert_exporter": "python",
   "pygments_lexer": "ipython3",
   "version": "3.6.8"
  }
 },
 "nbformat": 4,
 "nbformat_minor": 2
}
